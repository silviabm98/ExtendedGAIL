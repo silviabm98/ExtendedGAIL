{
 "cells": [
  {
   "cell_type": "markdown",
   "metadata": {},
   "source": [
    "# CREACIÓN DE .CSV DE TRAYECTORIAS EXPERTAS PARA CADA EDIFICIO "
   ]
  },
  {
   "cell_type": "code",
   "execution_count": 9,
   "metadata": {},
   "outputs": [],
   "source": [
    "#########################################################################\n",
    "# LIBRERIAS NECESARIAS\n",
    "#########################################################################\n",
    "import gymnasium as gym\n",
    "from sinergym.utils.wrappers import LoggerWrapper\n",
    "from stable_baselines3 import PPO\n",
    "import csv"
   ]
  },
  {
   "cell_type": "code",
   "execution_count": 1,
   "metadata": {},
   "outputs": [],
   "source": [
    "TOTAL_TIMESTEPS=25000 # TIMESTEP DE PREENTRENAMIENTO DE PPO \n",
    "EPISODE=1     # 1 episodio almaceda datos de 2 años del edificio "
   ]
  },
  {
   "cell_type": "markdown",
   "metadata": {},
   "source": [
    "# Office "
   ]
  },
  {
   "cell_type": "code",
   "execution_count": 10,
   "metadata": {},
   "outputs": [
    {
     "name": "stdout",
     "output_type": "stream",
     "text": [
      "[2023-11-06 09:57:09,911] EPLUS_ENV_office-hot-discrete-v1_MainThread_ROOT INFO:Updating Building model ExternalInterface object if it is not present...\n",
      "[2023-11-06 09:57:09,911] EPLUS_ENV_office-hot-discrete-v1_MainThread_ROOT INFO:Updating Building model ExternalInterface object if it is not present...\n",
      "[2023-11-06 09:57:09,911] EPLUS_ENV_office-hot-discrete-v1_MainThread_ROOT INFO:Updating Building model ExternalInterface object if it is not present...\n",
      "[2023-11-06 09:57:09,913] EPLUS_ENV_office-hot-discrete-v1_MainThread_ROOT INFO:Updating Building model Site:Location and SizingPeriod:DesignDay(s) to weather and ddy file...\n",
      "[2023-11-06 09:57:09,913] EPLUS_ENV_office-hot-discrete-v1_MainThread_ROOT INFO:Updating Building model Site:Location and SizingPeriod:DesignDay(s) to weather and ddy file...\n",
      "[2023-11-06 09:57:09,913] EPLUS_ENV_office-hot-discrete-v1_MainThread_ROOT INFO:Updating Building model Site:Location and SizingPeriod:DesignDay(s) to weather and ddy file...\n",
      "[2023-11-06 09:57:09,915] EPLUS_ENV_office-hot-discrete-v1_MainThread_ROOT INFO:Updating building model OutPut:Variable and variables XML tree model for BVCTB connection.\n",
      "[2023-11-06 09:57:09,915] EPLUS_ENV_office-hot-discrete-v1_MainThread_ROOT INFO:Updating building model OutPut:Variable and variables XML tree model for BVCTB connection.\n",
      "[2023-11-06 09:57:09,915] EPLUS_ENV_office-hot-discrete-v1_MainThread_ROOT INFO:Updating building model OutPut:Variable and variables XML tree model for BVCTB connection.\n",
      "[2023-11-06 09:57:09,916] EPLUS_ENV_office-hot-discrete-v1_MainThread_ROOT INFO:Setting up extra configuration in building model if exists...\n",
      "[2023-11-06 09:57:09,916] EPLUS_ENV_office-hot-discrete-v1_MainThread_ROOT INFO:Setting up extra configuration in building model if exists...\n",
      "[2023-11-06 09:57:09,916] EPLUS_ENV_office-hot-discrete-v1_MainThread_ROOT INFO:Setting up extra configuration in building model if exists...\n",
      "[2023-11-06 09:57:09,917] EPLUS_ENV_office-hot-discrete-v1_MainThread_ROOT INFO:Setting up action definition in building model if exists...\n",
      "[2023-11-06 09:57:09,917] EPLUS_ENV_office-hot-discrete-v1_MainThread_ROOT INFO:Setting up action definition in building model if exists...\n",
      "[2023-11-06 09:57:09,917] EPLUS_ENV_office-hot-discrete-v1_MainThread_ROOT INFO:Setting up action definition in building model if exists...\n",
      "[2023-11-06 09:57:09,921] EPLUS_ENV_office-hot-discrete-v1_MainThread_ROOT INFO:Creating new EnergyPlus simulation episode...\n",
      "[2023-11-06 09:57:09,921] EPLUS_ENV_office-hot-discrete-v1_MainThread_ROOT INFO:Creating new EnergyPlus simulation episode...\n",
      "[2023-11-06 09:57:09,921] EPLUS_ENV_office-hot-discrete-v1_MainThread_ROOT INFO:Creating new EnergyPlus simulation episode...\n",
      "[2023-11-06 09:57:10,008] EPLUS_ENV_office-hot-discrete-v1_MainThread_ROOT INFO:EnergyPlus working directory is in /workspaces/sinergym/Eplus-env-office-hot-discrete-v1-res114/Eplus-env-sub_run1\n",
      "[2023-11-06 09:57:10,008] EPLUS_ENV_office-hot-discrete-v1_MainThread_ROOT INFO:EnergyPlus working directory is in /workspaces/sinergym/Eplus-env-office-hot-discrete-v1-res114/Eplus-env-sub_run1\n",
      "[2023-11-06 09:57:10,008] EPLUS_ENV_office-hot-discrete-v1_MainThread_ROOT INFO:EnergyPlus working directory is in /workspaces/sinergym/Eplus-env-office-hot-discrete-v1-res114/Eplus-env-sub_run1\n"
     ]
    },
    {
     "name": "stderr",
     "output_type": "stream",
     "text": [
      "/usr/local/lib/python3.10/dist-packages/gymnasium/core.py:311: UserWarning: \u001b[33mWARN: env.variables to get variables from other wrappers is deprecated and will be removed in v1.0, to get this variable you can do `env.unwrapped.variables` for environment variables or `env.get_wrapper_attr('variables')` that will search the reminding wrappers.\u001b[0m\n",
      "  logger.warn(\n",
      "/usr/local/lib/python3.10/dist-packages/gymnasium/core.py:311: UserWarning: \u001b[33mWARN: env.simulator to get variables from other wrappers is deprecated and will be removed in v1.0, to get this variable you can do `env.unwrapped.simulator` for environment variables or `env.get_wrapper_attr('simulator')` that will search the reminding wrappers.\u001b[0m\n",
      "  logger.warn(\n",
      "/usr/local/lib/python3.10/dist-packages/opyplus/weather_data/weather_data.py:493: FutureWarning: the 'line_terminator'' keyword is deprecated, use 'lineterminator' instead.\n",
      "  epw_content = self._headers_to_epw(use_datetimes=use_datetimes) + df.to_csv(\n"
     ]
    },
    {
     "name": "stdout",
     "output_type": "stream",
     "text": [
      "[2023-11-06 09:57:49,186] EPLUS_ENV_office-hot-discrete-v1_MainThread_ROOT INFO:EnergyPlus episode completed successfully. \n",
      "[2023-11-06 09:57:49,186] EPLUS_ENV_office-hot-discrete-v1_MainThread_ROOT INFO:EnergyPlus episode completed successfully. \n",
      "[2023-11-06 09:57:49,186] EPLUS_ENV_office-hot-discrete-v1_MainThread_ROOT INFO:EnergyPlus episode completed successfully. \n",
      "[2023-11-06 09:57:49,188] EPLUS_ENV_office-hot-discrete-v1_MainThread_ROOT INFO:Creating new EnergyPlus simulation episode...\n",
      "[2023-11-06 09:57:49,188] EPLUS_ENV_office-hot-discrete-v1_MainThread_ROOT INFO:Creating new EnergyPlus simulation episode...\n",
      "[2023-11-06 09:57:49,188] EPLUS_ENV_office-hot-discrete-v1_MainThread_ROOT INFO:Creating new EnergyPlus simulation episode...\n",
      "[2023-11-06 09:57:49,274] EPLUS_ENV_office-hot-discrete-v1_MainThread_ROOT INFO:EnergyPlus working directory is in /workspaces/sinergym/Eplus-env-office-hot-discrete-v1-res114/Eplus-env-sub_run2\n",
      "[2023-11-06 09:57:49,274] EPLUS_ENV_office-hot-discrete-v1_MainThread_ROOT INFO:EnergyPlus working directory is in /workspaces/sinergym/Eplus-env-office-hot-discrete-v1-res114/Eplus-env-sub_run2\n",
      "[2023-11-06 09:57:49,274] EPLUS_ENV_office-hot-discrete-v1_MainThread_ROOT INFO:EnergyPlus working directory is in /workspaces/sinergym/Eplus-env-office-hot-discrete-v1-res114/Eplus-env-sub_run2\n",
      "[2023-11-06 09:58:25,675] EPLUS_ENV_office-hot-discrete-v1_MainThread_ROOT INFO:EnergyPlus simulation closed successfully. \n",
      "[2023-11-06 09:58:25,675] EPLUS_ENV_office-hot-discrete-v1_MainThread_ROOT INFO:EnergyPlus simulation closed successfully. \n",
      "[2023-11-06 09:58:25,675] EPLUS_ENV_office-hot-discrete-v1_MainThread_ROOT INFO:EnergyPlus simulation closed successfully. \n"
     ]
    }
   ],
   "source": [
    "expert_observations=[]\n",
    "expert_actions=[]\n",
    "expert_next_observations=[]\n",
    "expert_rewards=[]\n",
    "\n",
    "env = gym.make('Eplus-office-hot-discrete-v1')\n",
    "env = LoggerWrapper(env)\n",
    "\n",
    "ppo=PPO(policy=\"MlpPolicy\", env=env, verbose=0)\n",
    "ppo.learn(total_timesteps=TOTAL_TIMESTEPS)  \n",
    "\n",
    "expert_observations = 'observations_Office.csv'\n",
    "expert_actions = 'actions_Office.csv'\n",
    "expert_next_observations='next_observations_Office.csv'\n",
    "expert_rewards='rewards_Office.csv'\n",
    "\n",
    "with open(expert_observations, 'w', newline='') as expert_observations_csv:\n",
    "    # Crear el escritor CSV\n",
    "    escritor_csv_obs=csv.writer(expert_observations_csv)\n",
    "    with open(expert_actions, 'w', newline='') as expert_actions_csv:\n",
    "        escritor_csv_act=csv.writer(expert_actions_csv)\n",
    "        with open(expert_next_observations, 'w', newline='') as expert_next_observations_csv:\n",
    "            escritor_csv_next_obs=csv.writer(expert_next_observations_csv)\n",
    "            with open(expert_rewards, 'w', newline='') as expert_rewards_csv:\n",
    "                escritor_csv_reward=csv.writer(expert_rewards_csv)\n",
    "\n",
    "                for i in range(EPISODE): \n",
    "                    obs, info = env.reset()\n",
    "                    terminated = False\n",
    "                    truncated=False\n",
    "                    while not terminated and not truncated:\n",
    "                        a, _ = ppo.predict(obs)\n",
    "                        obs2, reward, terminated, truncated, info = env.step(a)\n",
    "                    \n",
    "                        escritor_csv_obs.writerow(obs)\n",
    "\n",
    "                        escritor_csv_act.writerow([a])\n",
    "                        escritor_csv_next_obs.writerow(obs2)\n",
    "                        escritor_csv_reward.writerow([reward])\n",
    "                        obs=obs2\n",
    "       \n",
    "env.close() "
   ]
  },
  {
   "cell_type": "markdown",
   "metadata": {},
   "source": [
    "# Datacenter"
   ]
  },
  {
   "cell_type": "code",
   "execution_count": 11,
   "metadata": {},
   "outputs": [
    {
     "name": "stdout",
     "output_type": "stream",
     "text": [
      "[2023-11-06 10:11:28,508] EPLUS_ENV_datacenter-hot-discrete-v1_MainThread_ROOT INFO:Updating Building model ExternalInterface object if it is not present...\n",
      "[2023-11-06 10:11:28,508] EPLUS_ENV_datacenter-hot-discrete-v1_MainThread_ROOT INFO:Updating Building model Site:Location and SizingPeriod:DesignDay(s) to weather and ddy file...\n",
      "[2023-11-06 10:11:28,510] EPLUS_ENV_datacenter-hot-discrete-v1_MainThread_ROOT INFO:Updating building model OutPut:Variable and variables XML tree model for BVCTB connection.\n",
      "[2023-11-06 10:11:28,510] EPLUS_ENV_datacenter-hot-discrete-v1_MainThread_ROOT INFO:Setting up extra configuration in building model if exists...\n",
      "[2023-11-06 10:11:28,511] EPLUS_ENV_datacenter-hot-discrete-v1_MainThread_ROOT INFO:Setting up action definition in building model if exists...\n",
      "[2023-11-06 10:11:28,514] EPLUS_ENV_datacenter-hot-discrete-v1_MainThread_ROOT INFO:Creating new EnergyPlus simulation episode...\n",
      "[2023-11-06 10:11:28,616] EPLUS_ENV_datacenter-hot-discrete-v1_MainThread_ROOT INFO:EnergyPlus working directory is in /workspaces/sinergym/Eplus-env-datacenter-hot-discrete-v1-res145/Eplus-env-sub_run1\n"
     ]
    },
    {
     "name": "stderr",
     "output_type": "stream",
     "text": [
      "/usr/local/lib/python3.10/dist-packages/gymnasium/core.py:311: UserWarning: \u001b[33mWARN: env.variables to get variables from other wrappers is deprecated and will be removed in v1.0, to get this variable you can do `env.unwrapped.variables` for environment variables or `env.get_wrapper_attr('variables')` that will search the reminding wrappers.\u001b[0m\n",
      "  logger.warn(\n",
      "/usr/local/lib/python3.10/dist-packages/gymnasium/core.py:311: UserWarning: \u001b[33mWARN: env.simulator to get variables from other wrappers is deprecated and will be removed in v1.0, to get this variable you can do `env.unwrapped.simulator` for environment variables or `env.get_wrapper_attr('simulator')` that will search the reminding wrappers.\u001b[0m\n",
      "  logger.warn(\n",
      "/usr/local/lib/python3.10/dist-packages/opyplus/weather_data/weather_data.py:493: FutureWarning: the 'line_terminator'' keyword is deprecated, use 'lineterminator' instead.\n",
      "  epw_content = self._headers_to_epw(use_datetimes=use_datetimes) + df.to_csv(\n"
     ]
    },
    {
     "name": "stdout",
     "output_type": "stream",
     "text": [
      "[2023-11-06 10:13:04,898] EPLUS_ENV_datacenter-hot-discrete-v1_MainThread_ROOT INFO:EnergyPlus episode completed successfully. \n",
      "[2023-11-06 10:13:04,899] EPLUS_ENV_datacenter-hot-discrete-v1_MainThread_ROOT INFO:Creating new EnergyPlus simulation episode...\n",
      "[2023-11-06 10:13:04,979] EPLUS_ENV_datacenter-hot-discrete-v1_MainThread_ROOT INFO:EnergyPlus working directory is in /workspaces/sinergym/Eplus-env-datacenter-hot-discrete-v1-res145/Eplus-env-sub_run2\n",
      "[2023-11-06 10:14:00,952] EPLUS_ENV_datacenter-hot-discrete-v1_MainThread_ROOT INFO:EnergyPlus simulation closed successfully. \n"
     ]
    }
   ],
   "source": [
    "expert_observations=[]\n",
    "expert_actions=[]\n",
    "expert_next_observations=[]\n",
    "expert_rewards=[]\n",
    "\n",
    "# Obtenemos observaciones y acciones expertas:\n",
    "env = gym.make('Eplus-datacenter-hot-discrete-v1')\n",
    "env = LoggerWrapper(env)\n",
    "\n",
    "ppo=PPO(policy=\"MlpPolicy\", env=env, verbose=0)\n",
    "ppo.learn(total_timesteps=TOTAL_TIMESTEPS)  \n",
    "\n",
    "expert_observations = 'observations_Datacenter.csv'\n",
    "expert_actions = 'actions_Datacenter.csv'\n",
    "expert_next_observations='next_observations_Datacenter.csv'\n",
    "expert_rewards='rewards_Datacenter.csv'\n",
    "\n",
    "with open(expert_observations, 'w', newline='') as expert_observations_csv:\n",
    "    # Crear el escritor CSV\n",
    "    escritor_csv_obs=csv.writer(expert_observations_csv)\n",
    "    with open(expert_actions, 'w', newline='') as expert_actions_csv:\n",
    "        escritor_csv_act=csv.writer(expert_actions_csv)\n",
    "        with open(expert_next_observations, 'w', newline='') as expert_next_observations_csv:\n",
    "            escritor_csv_next_obs=csv.writer(expert_next_observations_csv)\n",
    "            with open(expert_rewards, 'w', newline='') as expert_rewards_csv:\n",
    "                escritor_csv_reward=csv.writer(expert_rewards_csv)\n",
    "\n",
    "                for i in range(EPISODE):\n",
    "                    obs, info = env.reset()\n",
    "                    terminated = False\n",
    "                    truncated=False\n",
    "                    while not terminated and not truncated:\n",
    "                        a, _ = ppo.predict(obs)\n",
    "                        obs2, reward, terminated, truncated, info = env.step(a)\n",
    "                    \n",
    "                        escritor_csv_obs.writerow(obs)\n",
    "\n",
    "                        escritor_csv_act.writerow([a])\n",
    "                        escritor_csv_next_obs.writerow(obs2)\n",
    "                        escritor_csv_reward.writerow([reward])\n",
    "                        obs=obs2\n",
    "       \n",
    "env.close()"
   ]
  },
  {
   "cell_type": "markdown",
   "metadata": {},
   "source": [
    "# Warehouse"
   ]
  },
  {
   "cell_type": "code",
   "execution_count": 12,
   "metadata": {},
   "outputs": [
    {
     "name": "stdout",
     "output_type": "stream",
     "text": [
      "[2023-11-06 12:49:11,105] EPLUS_ENV_warehouse-hot-discrete-v1_MainThread_ROOT INFO:Updating Building model ExternalInterface object if it is not present...\n",
      "[2023-11-06 12:49:11,106] EPLUS_ENV_warehouse-hot-discrete-v1_MainThread_ROOT INFO:Updating Building model Site:Location and SizingPeriod:DesignDay(s) to weather and ddy file...\n",
      "[2023-11-06 12:49:11,107] EPLUS_ENV_warehouse-hot-discrete-v1_MainThread_ROOT INFO:Updating building model OutPut:Variable and variables XML tree model for BVCTB connection.\n",
      "[2023-11-06 12:49:11,108] EPLUS_ENV_warehouse-hot-discrete-v1_MainThread_ROOT INFO:Setting up extra configuration in building model if exists...\n",
      "[2023-11-06 12:49:11,108] EPLUS_ENV_warehouse-hot-discrete-v1_MainThread_ROOT INFO:Setting up action definition in building model if exists...\n",
      "[2023-11-06 12:49:11,115] EPLUS_ENV_warehouse-hot-discrete-v1_MainThread_ROOT INFO:Creating new EnergyPlus simulation episode...\n",
      "[2023-11-06 12:49:11,203] EPLUS_ENV_warehouse-hot-discrete-v1_MainThread_ROOT INFO:EnergyPlus working directory is in /workspaces/sinergym/Eplus-env-warehouse-hot-discrete-v1-res126/Eplus-env-sub_run1\n"
     ]
    },
    {
     "name": "stderr",
     "output_type": "stream",
     "text": [
      "/usr/local/lib/python3.10/dist-packages/gymnasium/core.py:311: UserWarning: \u001b[33mWARN: env.variables to get variables from other wrappers is deprecated and will be removed in v1.0, to get this variable you can do `env.unwrapped.variables` for environment variables or `env.get_wrapper_attr('variables')` that will search the reminding wrappers.\u001b[0m\n",
      "  logger.warn(\n",
      "/usr/local/lib/python3.10/dist-packages/gymnasium/core.py:311: UserWarning: \u001b[33mWARN: env.simulator to get variables from other wrappers is deprecated and will be removed in v1.0, to get this variable you can do `env.unwrapped.simulator` for environment variables or `env.get_wrapper_attr('simulator')` that will search the reminding wrappers.\u001b[0m\n",
      "  logger.warn(\n",
      "/usr/local/lib/python3.10/dist-packages/opyplus/weather_data/weather_data.py:493: FutureWarning: the 'line_terminator'' keyword is deprecated, use 'lineterminator' instead.\n",
      "  epw_content = self._headers_to_epw(use_datetimes=use_datetimes) + df.to_csv(\n"
     ]
    },
    {
     "name": "stdout",
     "output_type": "stream",
     "text": [
      "[2023-11-06 12:50:05,717] EPLUS_ENV_warehouse-hot-discrete-v1_MainThread_ROOT INFO:EnergyPlus episode completed successfully. \n",
      "[2023-11-06 12:50:05,719] EPLUS_ENV_warehouse-hot-discrete-v1_MainThread_ROOT INFO:Creating new EnergyPlus simulation episode...\n",
      "[2023-11-06 12:50:05,807] EPLUS_ENV_warehouse-hot-discrete-v1_MainThread_ROOT INFO:EnergyPlus working directory is in /workspaces/sinergym/Eplus-env-warehouse-hot-discrete-v1-res126/Eplus-env-sub_run2\n",
      "[2023-11-06 12:50:47,977] EPLUS_ENV_warehouse-hot-discrete-v1_MainThread_ROOT INFO:EnergyPlus simulation closed successfully. \n"
     ]
    }
   ],
   "source": [
    "expert_observations=[]\n",
    "expert_actions=[]\n",
    "expert_next_observations=[]\n",
    "expert_rewards=[]\n",
    "\n",
    "# Obtenemos observaciones y acciones expertas:\n",
    "env = gym.make('Eplus-warehouse-hot-discrete-v1')\n",
    "env = LoggerWrapper(env)\n",
    "\n",
    "ppo=PPO(policy=\"MlpPolicy\", env=env, verbose=0)\n",
    "ppo.learn(total_timesteps=TOTAL_TIMESTEPS)  \n",
    "\n",
    "expert_observations = 'observations_Warehouse.csv'\n",
    "expert_actions = 'actions_Warehouse.csv'\n",
    "expert_next_observations='next_observations_Warehouse.csv'\n",
    "expert_rewards='rewards_Warehouse.csv'\n",
    "\n",
    "with open(expert_observations, 'w', newline='') as expert_observations_csv:\n",
    "    # Crear el escritor CSV\n",
    "    escritor_csv_obs=csv.writer(expert_observations_csv)\n",
    "    with open(expert_actions, 'w', newline='') as expert_actions_csv:\n",
    "        escritor_csv_act=csv.writer(expert_actions_csv)\n",
    "        with open(expert_next_observations, 'w', newline='') as expert_next_observations_csv:\n",
    "            escritor_csv_next_obs=csv.writer(expert_next_observations_csv)\n",
    "            with open(expert_rewards, 'w', newline='') as expert_rewards_csv:\n",
    "                escritor_csv_reward=csv.writer(expert_rewards_csv)\n",
    "\n",
    "                for i in range(EPISODE): # ALMACENAMOS DATOS DE 2 AÑOS\n",
    "                    obs, info = env.reset()\n",
    "                    terminated = False\n",
    "                    truncated=False\n",
    "                    while not terminated and not truncated:\n",
    "                        a, _ = ppo.predict(obs)\n",
    "                        obs2, reward, terminated, truncated, info = env.step(a)\n",
    "                    \n",
    "                        escritor_csv_obs.writerow(obs)\n",
    "\n",
    "                        escritor_csv_act.writerow([a])\n",
    "                        escritor_csv_next_obs.writerow(obs2)\n",
    "                        escritor_csv_reward.writerow([reward])\n",
    "                        obs=obs2\n",
    "       \n",
    "env.close()"
   ]
  },
  {
   "cell_type": "markdown",
   "metadata": {},
   "source": [
    "# 5Zone"
   ]
  },
  {
   "cell_type": "code",
   "execution_count": 13,
   "metadata": {},
   "outputs": [
    {
     "name": "stdout",
     "output_type": "stream",
     "text": [
      "[2023-11-06 13:07:52,547] EPLUS_ENV_5Zone-hot-discrete-v1_MainThread_ROOT INFO:Updating Building model ExternalInterface object if it is not present...\n",
      "[2023-11-06 13:07:52,548] EPLUS_ENV_5Zone-hot-discrete-v1_MainThread_ROOT INFO:Updating Building model Site:Location and SizingPeriod:DesignDay(s) to weather and ddy file...\n",
      "[2023-11-06 13:07:52,549] EPLUS_ENV_5Zone-hot-discrete-v1_MainThread_ROOT INFO:Updating building model OutPut:Variable and variables XML tree model for BVCTB connection.\n",
      "[2023-11-06 13:07:52,549] EPLUS_ENV_5Zone-hot-discrete-v1_MainThread_ROOT INFO:Setting up extra configuration in building model if exists...\n",
      "[2023-11-06 13:07:52,550] EPLUS_ENV_5Zone-hot-discrete-v1_MainThread_ROOT INFO:Setting up action definition in building model if exists...\n",
      "[2023-11-06 13:07:52,553] EPLUS_ENV_5Zone-hot-discrete-v1_MainThread_ROOT INFO:Creating new EnergyPlus simulation episode...\n",
      "[2023-11-06 13:07:52,652] EPLUS_ENV_5Zone-hot-discrete-v1_MainThread_ROOT INFO:EnergyPlus working directory is in /workspaces/sinergym/Eplus-env-5Zone-hot-discrete-v1-res237/Eplus-env-sub_run1\n"
     ]
    },
    {
     "name": "stderr",
     "output_type": "stream",
     "text": [
      "/usr/local/lib/python3.10/dist-packages/gymnasium/core.py:311: UserWarning: \u001b[33mWARN: env.variables to get variables from other wrappers is deprecated and will be removed in v1.0, to get this variable you can do `env.unwrapped.variables` for environment variables or `env.get_wrapper_attr('variables')` that will search the reminding wrappers.\u001b[0m\n",
      "  logger.warn(\n",
      "/usr/local/lib/python3.10/dist-packages/gymnasium/core.py:311: UserWarning: \u001b[33mWARN: env.simulator to get variables from other wrappers is deprecated and will be removed in v1.0, to get this variable you can do `env.unwrapped.simulator` for environment variables or `env.get_wrapper_attr('simulator')` that will search the reminding wrappers.\u001b[0m\n",
      "  logger.warn(\n",
      "/usr/local/lib/python3.10/dist-packages/opyplus/weather_data/weather_data.py:493: FutureWarning: the 'line_terminator'' keyword is deprecated, use 'lineterminator' instead.\n",
      "  epw_content = self._headers_to_epw(use_datetimes=use_datetimes) + df.to_csv(\n"
     ]
    },
    {
     "name": "stdout",
     "output_type": "stream",
     "text": [
      "[2023-11-06 13:08:35,478] EPLUS_ENV_5Zone-hot-discrete-v1_MainThread_ROOT INFO:EnergyPlus episode completed successfully. \n",
      "[2023-11-06 13:08:35,479] EPLUS_ENV_5Zone-hot-discrete-v1_MainThread_ROOT INFO:Creating new EnergyPlus simulation episode...\n",
      "[2023-11-06 13:08:35,571] EPLUS_ENV_5Zone-hot-discrete-v1_MainThread_ROOT INFO:EnergyPlus working directory is in /workspaces/sinergym/Eplus-env-5Zone-hot-discrete-v1-res237/Eplus-env-sub_run2\n",
      "[2023-11-06 13:08:58,552] EPLUS_ENV_5Zone-hot-discrete-v1_MainThread_ROOT INFO:EnergyPlus simulation closed successfully. \n"
     ]
    }
   ],
   "source": [
    "\n",
    "expert_observations=[]\n",
    "expert_actions=[]\n",
    "expert_next_observations=[]\n",
    "expert_rewards=[]\n",
    "\n",
    "# Obtenemos observaciones y acciones expertas:\n",
    "env = gym.make('Eplus-5Zone-hot-discrete-v1')\n",
    "env = LoggerWrapper(env)\n",
    "\n",
    "ppo=PPO(policy=\"MlpPolicy\", env=env, verbose=0)\n",
    "ppo.learn(total_timesteps=TOTAL_TIMESTEPS)  \n",
    "\n",
    "expert_observations = 'observations_5Zone.csv'\n",
    "expert_actions = 'actions_5Zone.csv'\n",
    "expert_next_observations='next_observations_5Zone.csv'\n",
    "expert_rewards='rewards_5Zone.csv'\n",
    "\n",
    "with open(expert_observations, 'w', newline='') as expert_observations_csv:\n",
    "    # Crear el escritor CSV\n",
    "    escritor_csv_obs=csv.writer(expert_observations_csv)\n",
    "    with open(expert_actions, 'w', newline='') as expert_actions_csv:\n",
    "        escritor_csv_act=csv.writer(expert_actions_csv)\n",
    "        with open(expert_next_observations, 'w', newline='') as expert_next_observations_csv:\n",
    "            escritor_csv_next_obs=csv.writer(expert_next_observations_csv)\n",
    "            with open(expert_rewards, 'w', newline='') as expert_rewards_csv:\n",
    "                escritor_csv_reward=csv.writer(expert_rewards_csv)\n",
    "\n",
    "                for i in range(EPISODE): \n",
    "                    obs, info = env.reset()\n",
    "                    terminated = False\n",
    "                    truncated=False\n",
    "                    while not terminated and not truncated:\n",
    "                        a, _ = ppo.predict(obs)\n",
    "                        obs2, reward, terminated, truncated, info = env.step(a)\n",
    "                    \n",
    "                        escritor_csv_obs.writerow(obs)\n",
    "\n",
    "                        escritor_csv_act.writerow([a])\n",
    "                        escritor_csv_next_obs.writerow(obs2)\n",
    "                        escritor_csv_reward.writerow([reward])\n",
    "                        obs=obs2\n",
    "       \n",
    "env.close()"
   ]
  }
 ],
 "metadata": {
  "kernelspec": {
   "display_name": "Python 3",
   "language": "python",
   "name": "python3"
  },
  "language_info": {
   "codemirror_mode": {
    "name": "ipython",
    "version": 3
   },
   "file_extension": ".py",
   "mimetype": "text/x-python",
   "name": "python",
   "nbconvert_exporter": "python",
   "pygments_lexer": "ipython3",
   "version": "3.10.12"
  }
 },
 "nbformat": 4,
 "nbformat_minor": 2
}
