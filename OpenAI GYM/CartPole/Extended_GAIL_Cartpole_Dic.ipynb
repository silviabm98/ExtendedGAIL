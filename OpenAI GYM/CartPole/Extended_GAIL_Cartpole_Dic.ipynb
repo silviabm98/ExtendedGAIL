{
 "cells": [
  {
   "cell_type": "code",
   "execution_count": 1,
   "metadata": {},
   "outputs": [
    {
     "name": "stdout",
     "output_type": "stream",
     "text": [
      "Sat Dec 30 16:45:06 2023       \n",
      "+-----------------------------------------------------------------------------+\n",
      "| NVIDIA-SMI 525.147.05   Driver Version: 525.147.05   CUDA Version: 12.0     |\n",
      "|-------------------------------+----------------------+----------------------+\n",
      "| GPU  Name        Persistence-M| Bus-Id        Disp.A | Volatile Uncorr. ECC |\n",
      "| Fan  Temp  Perf  Pwr:Usage/Cap|         Memory-Usage | GPU-Util  Compute M. |\n",
      "|                               |                      |               MIG M. |\n",
      "|===============================+======================+======================|\n",
      "|   0  NVIDIA GeForce ...  Off  | 00000000:01:00.0  On |                  N/A |\n",
      "| N/A   39C    P8    18W / 100W |     54MiB /  6144MiB |     12%      Default |\n",
      "|                               |                      |                  N/A |\n",
      "+-------------------------------+----------------------+----------------------+\n",
      "                                                                               \n",
      "+-----------------------------------------------------------------------------+\n",
      "| Processes:                                                                  |\n",
      "|  GPU   GI   CI        PID   Type   Process name                  GPU Memory |\n",
      "|        ID   ID                                                   Usage      |\n",
      "|=============================================================================|\n",
      "|    0   N/A  N/A      2285      G   /usr/lib/xorg/Xorg                 53MiB |\n",
      "+-----------------------------------------------------------------------------+\n"
     ]
    }
   ],
   "source": [
    "#########################################################################\n",
    "## COMPROBAR GPU ASIGNADA EN COLABORATORY\n",
    "#########################################################################\n",
    "gpu_info = !nvidia-smi\n",
    "gpu_info = '\\n'.join(gpu_info)\n",
    "if gpu_info.find('failed') >= 0:\n",
    "  print('Not connected to a GPU')\n",
    "else:\n",
    "  print(gpu_info)"
   ]
  },
  {
   "cell_type": "code",
   "execution_count": 2,
   "metadata": {},
   "outputs": [
    {
     "name": "stdout",
     "output_type": "stream",
     "text": [
      "Defaulting to user installation because normal site-packages is not writeable\n",
      "Requirement already satisfied: gymnasium in /home/usuario/.local/lib/python3.10/site-packages (0.28.1)\n",
      "Requirement already satisfied: jax-jumpy>=1.0.0 in /home/usuario/.local/lib/python3.10/site-packages (from gymnasium) (1.0.0)\n",
      "Requirement already satisfied: numpy>=1.21.0 in /home/usuario/.local/lib/python3.10/site-packages (from gymnasium) (1.24.3)\n",
      "Requirement already satisfied: farama-notifications>=0.0.1 in /home/usuario/.local/lib/python3.10/site-packages (from gymnasium) (0.0.4)\n",
      "Requirement already satisfied: typing-extensions>=4.3.0 in /home/usuario/.local/lib/python3.10/site-packages (from gymnasium) (4.5.0)\n",
      "Requirement already satisfied: cloudpickle>=1.2.0 in /home/usuario/.local/lib/python3.10/site-packages (from gymnasium) (2.2.1)\n"
     ]
    }
   ],
   "source": [
    "!pip install gymnasium"
   ]
  },
  {
   "cell_type": "code",
   "execution_count": 3,
   "metadata": {},
   "outputs": [
    {
     "name": "stdout",
     "output_type": "stream",
     "text": [
      "Defaulting to user installation because normal site-packages is not writeable\n",
      "Requirement already satisfied: stable_baselines3 in /home/usuario/.local/lib/python3.10/site-packages (2.0.0)\n",
      "Requirement already satisfied: torch>=1.11 in /home/usuario/.local/lib/python3.10/site-packages (from stable_baselines3) (2.0.1)\n",
      "Requirement already satisfied: numpy>=1.20 in /home/usuario/.local/lib/python3.10/site-packages (from stable_baselines3) (1.24.3)\n",
      "Requirement already satisfied: matplotlib in /home/usuario/.local/lib/python3.10/site-packages (from stable_baselines3) (3.7.2)\n",
      "Requirement already satisfied: gymnasium==0.28.1 in /home/usuario/.local/lib/python3.10/site-packages (from stable_baselines3) (0.28.1)\n",
      "Requirement already satisfied: cloudpickle in /home/usuario/.local/lib/python3.10/site-packages (from stable_baselines3) (2.2.1)\n",
      "Requirement already satisfied: pandas in /home/usuario/.local/lib/python3.10/site-packages (from stable_baselines3) (1.5.3)\n",
      "Requirement already satisfied: typing-extensions>=4.3.0 in /home/usuario/.local/lib/python3.10/site-packages (from gymnasium==0.28.1->stable_baselines3) (4.5.0)\n",
      "Requirement already satisfied: farama-notifications>=0.0.1 in /home/usuario/.local/lib/python3.10/site-packages (from gymnasium==0.28.1->stable_baselines3) (0.0.4)\n",
      "Requirement already satisfied: jax-jumpy>=1.0.0 in /home/usuario/.local/lib/python3.10/site-packages (from gymnasium==0.28.1->stable_baselines3) (1.0.0)\n",
      "Requirement already satisfied: nvidia-cuda-cupti-cu11==11.7.101 in /home/usuario/.local/lib/python3.10/site-packages (from torch>=1.11->stable_baselines3) (11.7.101)\n",
      "Requirement already satisfied: sympy in /home/usuario/.local/lib/python3.10/site-packages (from torch>=1.11->stable_baselines3) (1.12)\n",
      "Requirement already satisfied: nvidia-curand-cu11==10.2.10.91 in /home/usuario/.local/lib/python3.10/site-packages (from torch>=1.11->stable_baselines3) (10.2.10.91)\n",
      "Requirement already satisfied: filelock in /home/usuario/.local/lib/python3.10/site-packages (from torch>=1.11->stable_baselines3) (3.12.2)\n",
      "Requirement already satisfied: nvidia-cusolver-cu11==11.4.0.1 in /home/usuario/.local/lib/python3.10/site-packages (from torch>=1.11->stable_baselines3) (11.4.0.1)\n",
      "Requirement already satisfied: nvidia-nccl-cu11==2.14.3 in /home/usuario/.local/lib/python3.10/site-packages (from torch>=1.11->stable_baselines3) (2.14.3)\n",
      "Requirement already satisfied: nvidia-cuda-nvrtc-cu11==11.7.99 in /home/usuario/.local/lib/python3.10/site-packages (from torch>=1.11->stable_baselines3) (11.7.99)\n",
      "Requirement already satisfied: jinja2 in /home/usuario/.local/lib/python3.10/site-packages (from torch>=1.11->stable_baselines3) (3.1.2)\n",
      "Requirement already satisfied: nvidia-cuda-runtime-cu11==11.7.99 in /home/usuario/.local/lib/python3.10/site-packages (from torch>=1.11->stable_baselines3) (11.7.99)\n",
      "Requirement already satisfied: nvidia-cudnn-cu11==8.5.0.96 in /home/usuario/.local/lib/python3.10/site-packages (from torch>=1.11->stable_baselines3) (8.5.0.96)\n",
      "Requirement already satisfied: nvidia-cufft-cu11==10.9.0.58 in /home/usuario/.local/lib/python3.10/site-packages (from torch>=1.11->stable_baselines3) (10.9.0.58)\n",
      "Requirement already satisfied: nvidia-cusparse-cu11==11.7.4.91 in /home/usuario/.local/lib/python3.10/site-packages (from torch>=1.11->stable_baselines3) (11.7.4.91)\n",
      "Requirement already satisfied: triton==2.0.0 in /home/usuario/.local/lib/python3.10/site-packages (from torch>=1.11->stable_baselines3) (2.0.0)\n",
      "Requirement already satisfied: nvidia-cublas-cu11==11.10.3.66 in /home/usuario/.local/lib/python3.10/site-packages (from torch>=1.11->stable_baselines3) (11.10.3.66)\n",
      "Requirement already satisfied: networkx in /home/usuario/.local/lib/python3.10/site-packages (from torch>=1.11->stable_baselines3) (3.1)\n",
      "Requirement already satisfied: nvidia-nvtx-cu11==11.7.91 in /home/usuario/.local/lib/python3.10/site-packages (from torch>=1.11->stable_baselines3) (11.7.91)\n",
      "Requirement already satisfied: wheel in /usr/lib/python3/dist-packages (from nvidia-cublas-cu11==11.10.3.66->torch>=1.11->stable_baselines3) (0.37.1)\n",
      "Requirement already satisfied: setuptools in /usr/lib/python3/dist-packages (from nvidia-cublas-cu11==11.10.3.66->torch>=1.11->stable_baselines3) (59.6.0)\n",
      "Requirement already satisfied: cmake in /home/usuario/.local/lib/python3.10/site-packages (from triton==2.0.0->torch>=1.11->stable_baselines3) (3.26.4)\n",
      "Requirement already satisfied: lit in /home/usuario/.local/lib/python3.10/site-packages (from triton==2.0.0->torch>=1.11->stable_baselines3) (16.0.6)\n",
      "Requirement already satisfied: contourpy>=1.0.1 in /home/usuario/.local/lib/python3.10/site-packages (from matplotlib->stable_baselines3) (1.1.0)\n",
      "Requirement already satisfied: kiwisolver>=1.0.1 in /home/usuario/.local/lib/python3.10/site-packages (from matplotlib->stable_baselines3) (1.4.4)\n",
      "Requirement already satisfied: cycler>=0.10 in /home/usuario/.local/lib/python3.10/site-packages (from matplotlib->stable_baselines3) (0.11.0)\n",
      "Requirement already satisfied: pillow>=6.2.0 in /usr/lib/python3/dist-packages (from matplotlib->stable_baselines3) (9.0.1)\n",
      "Requirement already satisfied: pyparsing<3.1,>=2.3.1 in /usr/lib/python3/dist-packages (from matplotlib->stable_baselines3) (2.4.7)\n",
      "Requirement already satisfied: packaging>=20.0 in /home/usuario/.local/lib/python3.10/site-packages (from matplotlib->stable_baselines3) (23.1)\n",
      "Requirement already satisfied: python-dateutil>=2.7 in /home/usuario/.local/lib/python3.10/site-packages (from matplotlib->stable_baselines3) (2.8.2)\n",
      "Requirement already satisfied: fonttools>=4.22.0 in /home/usuario/.local/lib/python3.10/site-packages (from matplotlib->stable_baselines3) (4.40.0)\n",
      "Requirement already satisfied: pytz>=2020.1 in /usr/lib/python3/dist-packages (from pandas->stable_baselines3) (2022.1)\n",
      "Requirement already satisfied: six>=1.5 in /usr/lib/python3/dist-packages (from python-dateutil>=2.7->matplotlib->stable_baselines3) (1.16.0)\n",
      "Requirement already satisfied: MarkupSafe>=2.0 in /home/usuario/.local/lib/python3.10/site-packages (from jinja2->torch>=1.11->stable_baselines3) (2.1.3)\n",
      "Requirement already satisfied: mpmath>=0.19 in /home/usuario/.local/lib/python3.10/site-packages (from sympy->torch>=1.11->stable_baselines3) (1.3.0)\n"
     ]
    }
   ],
   "source": [
    "!pip install stable_baselines3"
   ]
  },
  {
   "cell_type": "code",
   "execution_count": 4,
   "metadata": {},
   "outputs": [
    {
     "name": "stderr",
     "output_type": "stream",
     "text": [
      "2023-12-30 16:45:13.559822: I tensorflow/core/util/port.cc:110] oneDNN custom operations are on. You may see slightly different numerical results due to floating-point round-off errors from different computation orders. To turn them off, set the environment variable `TF_ENABLE_ONEDNN_OPTS=0`.\n",
      "2023-12-30 16:45:13.560922: I tensorflow/tsl/cuda/cudart_stub.cc:28] Could not find cuda drivers on your machine, GPU will not be used.\n",
      "2023-12-30 16:45:13.584738: I tensorflow/tsl/cuda/cudart_stub.cc:28] Could not find cuda drivers on your machine, GPU will not be used.\n",
      "2023-12-30 16:45:13.585375: I tensorflow/core/platform/cpu_feature_guard.cc:182] This TensorFlow binary is optimized to use available CPU instructions in performance-critical operations.\n",
      "To enable the following instructions: AVX2 AVX_VNNI FMA, in other operations, rebuild TensorFlow with the appropriate compiler flags.\n",
      "2023-12-30 16:45:14.101191: W tensorflow/compiler/tf2tensorrt/utils/py_utils.cc:38] TF-TRT Warning: Could not find TensorRT\n"
     ]
    }
   ],
   "source": [
    "#########################################################################\n",
    "## LIBRERIAS NECESARIAS\n",
    "#########################################################################\n",
    "import tensorflow as tf\n",
    "import gymnasium as gym\n",
    "from stable_baselines3 import PPO\n",
    "from tensorflow.keras.layers import concatenate\n",
    "import numpy as np\n",
    "import keras\n",
    "import matplotlib.pyplot as plt\n",
    "from keras import layers\n",
    "import copy\n",
    "import torch\n",
    "from sklearn.model_selection import train_test_split\n",
    "\n",
    "import sys\n",
    "\n",
    "import os\n",
    "from stable_baselines3.common.vec_env import DummyVecEnv\n"
   ]
  },
  {
   "cell_type": "code",
   "execution_count": 5,
   "metadata": {},
   "outputs": [],
   "source": [
    "############################################################################\n",
    "## Variables globales (hiperparámetros)\n",
    "###########################################################################\n",
    "EPOCHS=1\n",
    "\n",
    "EPISODES=10\n",
    "EPISODES_EVALUATE_G=50\n",
    "\n",
    "TOTAL_TIMESTEPS_PPO_GENERATOR=250\n",
    "LEARNING_RATE=0.001"
   ]
  },
  {
   "cell_type": "markdown",
   "metadata": {},
   "source": [
    "# Gym CartPole-v1\n",
    "\n",
    "Un péndulo está unido mediante una articulación no accionada a un carro que se desplaza a lo largo de una pista sin fricción. El péndulo se coloca verticalmente sobre el carro y el objetivo es equilibrar el poste aplicando fuerzas en dirección izquierda y derecha sobre el carro.\n",
    "\n",
    "**Espacio de Acciones**: Espacio discreto de tamaño (2)\n",
    "\n",
    "* Acción 0: Empujar el carro hacia la izquierda\n",
    "* Acción 1: Empujar el carro hacia la derecha\n",
    "\n",
    "**Espacio de Observaciones**: Espacio continuuo de tamaño (4,)\n",
    "\n",
    "* La observación es un ndarray con forma (4,) con los valores correspondientes a las siguientes posiciones y velocidades:\n",
    "    * Num     |     Observación |     Min |    Max\n",
    "\n",
    "    * 0    Posición del Carro                 - 4.8                            4.8\n",
    "\n",
    "    *  1    Velocidad del Carro                 -Inf                            Inf\n",
    "\n",
    "    * 2    Ángulo del Poste              ~ -0.418 rad (-24°)          ~ 0.418 rad (24°)\n",
    "\n",
    "    * 3    Velocidad Angular del Poste         -Inf                            Inf\n",
    "\n",
    "\n",
    "\n"
   ]
  },
  {
   "cell_type": "code",
   "execution_count": 6,
   "metadata": {},
   "outputs": [
    {
     "name": "stdout",
     "output_type": "stream",
     "text": [
      "2\n",
      "4\n"
     ]
    }
   ],
   "source": [
    "# Definimos el entorno\n",
    "env= gym.make('CartPole-v1')\n",
    "\n",
    "# Obtenemos el espacio de estados y acciones del entorno\n",
    "ob_space=env.observation_space\n",
    "ac_space=env.action_space\n",
    "\n",
    "# Mostramos el número de acciones del entorno\n",
    "print(env.action_space.n)\n",
    "# Mostramos el número de observaciones del entorno\n",
    "print(ob_space.shape[0])"
   ]
  },
  {
   "cell_type": "markdown",
   "metadata": {},
   "source": [
    "# Discriminador"
   ]
  },
  {
   "cell_type": "markdown",
   "metadata": {},
   "source": [
    "## Red neuronal del Discriminador"
   ]
  },
  {
   "cell_type": "code",
   "execution_count": 7,
   "metadata": {},
   "outputs": [
    {
     "name": "stdout",
     "output_type": "stream",
     "text": [
      "Model: \"discriminator_net\"\n",
      "_________________________________________________________________\n",
      " Layer (type)                Output Shape              Param #   \n",
      "=================================================================\n",
      " layer1 (Dense)              (None, None, 4)           48        \n",
      "                                                                 \n",
      " layer2 (Dense)              (None, None, 4)           20        \n",
      "                                                                 \n",
      " layer3 (Dense)              (None, None, 4)           20        \n",
      "                                                                 \n",
      " prob (Dense)                (None, None, 1)           5         \n",
      "                                                                 \n",
      "=================================================================\n",
      "Total params: 93 (372.00 Byte)\n",
      "Trainable params: 93 (372.00 Byte)\n",
      "Non-trainable params: 0 (0.00 Byte)\n",
      "_________________________________________________________________\n"
     ]
    },
    {
     "name": "stderr",
     "output_type": "stream",
     "text": [
      "2023-12-30 16:45:22.078363: I tensorflow/compiler/xla/stream_executor/cuda/cuda_gpu_executor.cc:995] successful NUMA node read from SysFS had negative value (-1), but there must be at least one NUMA node, so returning NUMA node zero. See more at https://github.com/torvalds/linux/blob/v6.0/Documentation/ABI/testing/sysfs-bus-pci#L344-L355\n",
      "2023-12-30 16:45:22.078644: W tensorflow/core/common_runtime/gpu/gpu_device.cc:1960] Cannot dlopen some GPU libraries. Please make sure the missing libraries mentioned above are installed properly if you would like to use GPU. Follow the guide at https://www.tensorflow.org/install/gpu for how to download and setup the required libraries for your platform.\n",
      "Skipping registering GPU devices...\n"
     ]
    }
   ],
   "source": [
    "################################################################################################################################################\n",
    "# Red neuronal del Discriminador\n",
    "################################################################################################################################################\n",
    "\n",
    "# Input: secuencias [s,a,s',r] reales o sintéticas, de longitud 2*ob_space.shape[0] + ac_space.n+1.\n",
    "# Output: probabilidad de que la secuencia sea real, valor perteneciente al intervalo [0,1]\n",
    "discriminator_net=keras.Sequential(\n",
    "    [\n",
    "        keras.Input(shape=(None, 2*ob_space.shape[0] + ac_space.n+1)),\n",
    "        layers.Dense(units=4,activation=tf.nn.relu, name='layer1'),\n",
    "        layers.Dense(units=4,activation=tf.nn.relu, name='layer2'),\n",
    "        layers.Dense(units=4, activation=tf.nn.relu, name='layer3'),\n",
    "        layers.Dense(units=1, activation=tf.sigmoid, name='prob'),\n",
    "\n",
    "    ],\n",
    "    name=\"discriminator_net\"\n",
    "\n",
    ")\n",
    "discriminator_net.summary()"
   ]
  },
  {
   "cell_type": "markdown",
   "metadata": {},
   "source": [
    "## Función de pérdida del Discriminador"
   ]
  },
  {
   "cell_type": "code",
   "execution_count": 8,
   "metadata": {},
   "outputs": [],
   "source": [
    "#########################################################################################################\n",
    "# Función de pérdida del Discriminador\n",
    "#########################################################################################################\n",
    "\n",
    "# prob1=> output de la red neuronal del Discriminador cuando recibe como entrada una secuencia REAL [s,a, s', r] de la base de datos\n",
    "# prob2=> output de la red neuronal del Discriminador cuando recibe como entrada una secuencia FALSA [s,a, s', r]\n",
    "def loss_fn_D(prob1, prob2):\n",
    "\n",
    "    # Esperanza del logaritmo de la D(x)=salida de la red neuronal cuando x=entrada REAL\n",
    "    loss_expert = tf.reduce_mean(tf.math.log(tf.clip_by_value(prob1, 0.01, 1)))\n",
    "\n",
    "    # Esperanza del logaritmo de 1-D(x) donde D(x)=salida de la red neuronal cuando x=entrada FALSA\n",
    "    loss_agent = tf.reduce_mean(tf.math.log(tf.clip_by_value(1 - prob2, 0.01,1)))\n",
    "\n",
    "    loss_expert = tf.cast(loss_expert, dtype=tf.float32)\n",
    "    loss_agent = tf.cast(loss_agent, dtype=tf.float32)\n",
    "\n",
    "    loss = loss_expert + loss_agent\n",
    "\n",
    "    loss = -loss\n",
    "\n",
    "    return loss\n"
   ]
  },
  {
   "cell_type": "markdown",
   "metadata": {},
   "source": [
    "## Clase del Discriminador"
   ]
  },
  {
   "cell_type": "code",
   "execution_count": 9,
   "metadata": {},
   "outputs": [],
   "source": [
    "#########################################################################################\n",
    "# Clase DISCRIMINADOR\n",
    "########################################################################################\n",
    "class Discriminator:\n",
    "    def __init__(self, env, discriminator_net, expert_s, expert_a, expert_s_prima, expert_r, agent_s, agent_a, agent_s_prima, agent_r):\n",
    "        # -Red neuronal del Discriminador\n",
    "        self.discriminator_net=discriminator_net\n",
    "\n",
    "        # -Experto: [s,a,s',r]\n",
    "        self.expert_s=expert_s\n",
    "        self.expert_a=expert_a\n",
    "        self.expert_s_prima=expert_s_prima\n",
    "        self.expert_r= np.array(expert_r)\n",
    "\n",
    "\n",
    "        expert_a_one_hot=tf.one_hot(self.expert_a,depth=env.action_space.n)\n",
    "        # Añadimos ruido para estabilizar el entrenamiento\n",
    "        expert_a_one_hot+= tf.random.normal(tf.shape(expert_a_one_hot), mean=0.2, stddev=0.1, dtype=tf.float32)/1.2\n",
    "        expert_s_a=tf.concat([self.expert_s,expert_a_one_hot],axis=1)\n",
    "        expert_s_a_s=tf.concat([expert_s_a, self.expert_s_prima], axis=1)\n",
    "        expert_r=self.expert_r.reshape(-1, 1)\n",
    "\n",
    "        # expert_s_a_s_r=>secuencia experta=>[s,a,s',r]\n",
    "        self.expert_s_a_s_r=tf.concat([expert_s_a_s, expert_r], axis=1)\n",
    "\n",
    "        # -Agente:  [s,a,s',r]\n",
    "        self.agent_s=agent_s\n",
    "        self.agent_a=agent_a\n",
    "        self.agent_s_prima=agent_s_prima\n",
    "        self.agent_r=np.array(agent_r)\n",
    "\n",
    "        agent_a_one_hot=tf.one_hot(self.agent_a,depth=env.action_space.n)\n",
    "        agent_a_one_hot+= tf.random.normal(tf.shape(agent_a_one_hot), mean=0.2, stddev=0.1, dtype=tf.float32)/1.2\n",
    "        agent_s_a=tf.concat([self.agent_s,agent_a_one_hot],axis=1)\n",
    "        agent_s_a_s=tf.concat([agent_s_a, self.agent_s_prima], axis=1)\n",
    "        agent_r=self.agent_r.reshape(-1, 1)\n",
    "\n",
    "        # agent_s_a_s_r=>secuencia agente=>[s,a,s',r]\n",
    "        self.agent_s_a_s_r=tf.concat([agent_s_a_s, agent_r], axis=1)\n",
    "\n",
    "        # Calculamos la salida de la red para [s,a,s',r] del experto y del agente ya que lo necesitamos para reward\n",
    "\n",
    "        # -Salida de la red neuronal Discriminador para [s,a,s',r] expertos(verdaderos)\n",
    "        self.prob_expert=self.discriminator_net(self.expert_s_a_s_r)\n",
    "\n",
    "        # -Salida  de la red neuronal Discrimiinador para [s,a,s',r] Agente(falsos)\n",
    "        self.prob_agent=self.discriminator_net(self.agent_s_a_s_r)\n",
    "\n",
    "        #-Recompensa obtenida cuando el Agente realiza [s,a,s',r] falsas\n",
    "        self.rewards=tf.math.log(tf.clip_by_value(self.prob_agent,1e-10,1)) #log(P(expert|s,a)) cuando mas grande es mejor el agente\n",
    "\n",
    "\n",
    "    def getNet(self):\n",
    "        return self.discriminator_net\n",
    "\n",
    "    def getAgent_S_A(self):\n",
    "        return self.agent_s_a\n",
    "\n",
    "    def getExpert_S_A(self):\n",
    "        return self.expert_s_a\n",
    "\n",
    "    def getProb(self):\n",
    "        return self.prob_expert, self.prob_agent\n",
    "\n",
    "    def getRewards(self):\n",
    "        return self.rewards\n"
   ]
  },
  {
   "cell_type": "markdown",
   "metadata": {},
   "source": [
    "# Generador"
   ]
  },
  {
   "cell_type": "markdown",
   "metadata": {},
   "source": [
    "## Redes neuronales del Generador"
   ]
  },
  {
   "cell_type": "code",
   "execution_count": 10,
   "metadata": {},
   "outputs": [
    {
     "name": "stdout",
     "output_type": "stream",
     "text": [
      "Model: \"generator_net_Act\"\n",
      "_________________________________________________________________\n"
     ]
    },
    {
     "name": "stdout",
     "output_type": "stream",
     "text": [
      " Layer (type)                Output Shape              Param #   \n",
      "=================================================================\n",
      " layer1 (Dense)              (None, None, 4)           20        \n",
      "                                                                 \n",
      " layer2 (Dense)              (None, None, 4)           20        \n",
      "                                                                 \n",
      " layer3 (Dense)              (None, None, 2)           10        \n",
      "                                                                 \n",
      " layer4 (Dense)              (None, None, 2)           6         \n",
      "                                                                 \n",
      "=================================================================\n",
      "Total params: 56 (224.00 Byte)\n",
      "Trainable params: 56 (224.00 Byte)\n",
      "Non-trainable params: 0 (0.00 Byte)\n",
      "_________________________________________________________________\n"
     ]
    }
   ],
   "source": [
    "#####################################################################################################\n",
    "# Red neuronal del Generador donde se producen acciones\n",
    "####################################################################################################\n",
    "\n",
    "# Input: estados, listas de tamaño 4, s=[s1,s2,s3,s4]\n",
    "# Output: acciones, listas de tamaño 2, a=[a1,a2]\n",
    "generator_net_Act = keras.Sequential(\n",
    "    [\n",
    "        keras.Input(shape=(None, ob_space.shape[0])),\n",
    "        layers.Dense(units=4, activation=tf.tanh,name='layer1'),\n",
    "        layers.Dense(units=4, activation=tf.tanh, name='layer2'),\n",
    "        layers.Dense(units=2, activation=tf.tanh, name='layer3'),\n",
    "        layers.Dense(units=ac_space.n, activation=tf.nn.softmax, name='layer4')\n",
    "\n",
    "    ],\n",
    "    name=\"generator_net_Act\"\n",
    ")\n",
    "\n",
    "generator_net_Act.summary()"
   ]
  },
  {
   "cell_type": "code",
   "execution_count": 11,
   "metadata": {},
   "outputs": [
    {
     "name": "stdout",
     "output_type": "stream",
     "text": [
      "Model: \"generator_v_preds\"\n",
      "_________________________________________________________________\n"
     ]
    },
    {
     "name": "stdout",
     "output_type": "stream",
     "text": [
      " Layer (type)                Output Shape              Param #   \n",
      "=================================================================\n",
      " layer1 (Dense)              (None, None, 4)           20        \n",
      "                                                                 \n",
      " layer2 (Dense)              (None, None, 4)           20        \n",
      "                                                                 \n",
      " layer3 (Dense)              (None, None, 1)           5         \n",
      "                                                                 \n",
      "=================================================================\n",
      "Total params: 45 (180.00 Byte)\n",
      "Trainable params: 45 (180.00 Byte)\n",
      "Non-trainable params: 0 (0.00 Byte)\n",
      "_________________________________________________________________\n"
     ]
    }
   ],
   "source": [
    "#############################################################################################################\n",
    "# Red neuronal del Generador donde se producen v_pred\n",
    "#############################################################################################################\n",
    "\n",
    "# Input: estados, listas de tamaño 4, s=[s0,s1,s2,s3]\n",
    "# Output: v_pred, listas de tamaño 1, v_pred\n",
    "\n",
    "generator_net_v_preds=keras.Sequential(\n",
    "    [\n",
    "            keras.Input(shape=(None,ob_space.shape[0])),\n",
    "            layers.Dense(units=4, activation=tf.tanh,name='layer1'),\n",
    "            layers.Dense(units=4, activation=tf.tanh, name='layer2'),\n",
    "            layers.Dense(units=1, activation=None, name='layer3'),\n",
    "        ],\n",
    "    name=\"generator_v_preds\"\n",
    ")\n",
    "\n",
    "generator_net_v_preds.summary()\n",
    "\n"
   ]
  },
  {
   "cell_type": "markdown",
   "metadata": {},
   "source": [
    "## Función de pérdida del Generador"
   ]
  },
  {
   "cell_type": "code",
   "execution_count": 12,
   "metadata": {},
   "outputs": [],
   "source": [
    "##################################################################################################################\n",
    "# Función de pérdida del Generador: función objetivo de PPO \"clipped surrogated\"\n",
    "#################################################################################################################\n",
    "def loss_fn_ppo(act_probs,act_probs_old,gaes,clip_value=0.2):\n",
    "    ratios = tf.exp(tf.math.log(tf.clip_by_value(act_probs, 1e-10, 1.0))\n",
    "                    - tf.math.log(tf.clip_by_value(act_probs_old, 1e-10, 1.0)))\n",
    "\n",
    "    clipped_ratios = tf.clip_by_value(ratios,clip_value_min=1 -clip_value,clip_value_max=1 +clip_value)\n",
    "    loss_clip = tf.minimum( tf.multiply(gaes, ratios), tf.multiply(gaes, clipped_ratios))\n",
    "    loss_clip = tf.reduce_mean(loss_clip)\n",
    "\n",
    "    loss = -loss_clip\n",
    "    tf.summary.scalar('total', loss)\n",
    "\n",
    "    return loss"
   ]
  },
  {
   "cell_type": "markdown",
   "metadata": {},
   "source": [
    "## Clase del Generador"
   ]
  },
  {
   "cell_type": "code",
   "execution_count": 13,
   "metadata": {},
   "outputs": [],
   "source": [
    "#################################################################################################################\n",
    "# Clase del GENERADOR: política con su optimizador PPO\n",
    "################################################################################################################\n",
    "\n",
    "# Observesé que cada generador implementa una política distinta, por tanto, se ha decidido llamar a la clase Policy_net en lugar de generator\n",
    "class Policy_net:\n",
    "    def __init__(self, name: str, env, obs):\n",
    "        \"\"\"\n",
    "        name: string\n",
    "        env: gym env\n",
    "        obs:\n",
    "        \"\"\"\n",
    "\n",
    "        # -Entorno\n",
    "        self.env=env\n",
    "        env.reset()\n",
    "\n",
    "        # -Modelo PPO: algoritmo de Optimización de Política Proximal\n",
    "        self.model=PPO(policy=\"MlpPolicy\", env=env, verbose=0)\n",
    "\n",
    "\n",
    "        self.model.learn(total_timesteps=TOTAL_TIMESTEPS_PPO_GENERATOR)\n",
    "\n",
    "        # -Observación inicial a partir de la cual se crean las acciones iniciales haciendo uso de las redes neuronales del generador\n",
    "        self.obs=np.reshape(np.array(obs),(1,ob_space.shape[0]))\n",
    "\n",
    "        # Utilizamos las dos redes neuronales que hemos creado : generator_net_Act y generator_net_v_preds\n",
    "        # V_pred=>recompensa media de que un agente ejecute una acción\n",
    "\n",
    "        # -Acción inicial generada con red neuronal y v_pred con red neuronal\n",
    "        self.act_probs =generator_net_Act(self.obs)\n",
    "        self.v_preds = generator_net_v_preds(self.obs)\n",
    "\n",
    "        # -Accion estocástica inicial\n",
    "        self.act_stochastic = tf.random.categorical(tf.math.log(self.act_probs), num_samples=1)\n",
    "\n",
    "        # -Acción determinística inicial\n",
    "        self.act_deterministic = tf.argmax(self.act_probs, axis=1)\n",
    "\n",
    "\n",
    "\n",
    "    # Para cada estado obs me dice la acción que el agente va a ejecutar sobre el entorno junto con v_pred\n",
    "    # La elección de la acción puede ser estocástica o determinística\n",
    "    def act(self, stochastic=True):\n",
    "        if stochastic:\n",
    "            return self.act_stochastic, self.v_preds\n",
    "        else:\n",
    "            return self.act_deterministic, self.v_preds\n",
    "\n",
    "    def get_action_prob(self):\n",
    "        return self.act_probs\n",
    "\n",
    "    def get_v_preds(self):\n",
    "        return self.v_preds\n",
    "\n",
    "    def get_obs(self):\n",
    "        return self.obs\n",
    "\n",
    "    def get_model(self):\n",
    "        return self.model\n",
    "\n",
    "    # Devuelve los parámetros \\theta de la política \\pi\n",
    "    def get_trainable_variables(self):\n",
    "        return self.model.get_parameters()\n",
    "\n",
    "    # Generar [s,a,s',r] sinteticos\n",
    "    def generate_fakes(self):\n",
    "\n",
    "        ob_space = env.observation_space\n",
    "        reward = 0\n",
    "        success_num = 0\n",
    "\n",
    "\n",
    "        # Por cada episodio\n",
    "        for iteration in range(EPISODES):\n",
    "            # Inicializo todas las variables\n",
    "            observations = []\n",
    "            actions = []\n",
    "            rewards = []\n",
    "            next_observations=[]\n",
    "\n",
    "            run_policy_steps = 0\n",
    "\n",
    "\n",
    "            # La primera acción de cada episodio se crea con la red neuronal\n",
    "            obs,_=env.reset()\n",
    "\n",
    "            Old_Policy = Policy_net('old_policy', env, obs=obs)\n",
    "\n",
    "            act, v_pred = Old_Policy.act(stochastic=True)\n",
    "\n",
    "            #Convertir de tensor a array\n",
    "            if type(act)=='Tensor':\n",
    "                # Crear una sesión de TensorFlow\n",
    "                sess = tf.compat.v1.Session()\n",
    "\n",
    "                # Evaluar el tensor dentro de la sesión y obtener el resultado como un objeto NumPy ndarray\n",
    "                act = sess.run(act)\n",
    "\n",
    "                # Cerrar la sesión\n",
    "                sess.close()\n",
    "\n",
    "            if isinstance(act, tf.Tensor):\n",
    "                act=act.numpy()\n",
    "\n",
    "            elif isinstance(act, np.ndarray):\n",
    "                act=act\n",
    "\n",
    "\n",
    "            action=int(act)\n",
    "\n",
    "            next_obs,reward,terminated,truncated, info=env.step(action)\n",
    "\n",
    "            truncated=False\n",
    "            terminated=False\n",
    "\n",
    "            # Tenemos una política entrenada\n",
    "            Policy = Policy_net('policy',env, obs=[next_obs])\n",
    "\n",
    "            # Por cada steps en cada episodio, mientras no se llegue a un estado terminal o un estado malo\n",
    "            while terminated!= True and truncated!= True:\n",
    "                # --Aumentar el numero de steps\n",
    "                run_policy_steps += 1\n",
    "\n",
    "                # --Política para ver la acción asociada al estado\n",
    "                # Las observaciones son un de la forma [[s_0,s_1,s_2,s_3]] por eso su tamaño es (1,4)\n",
    "                observations.append(next_obs)  # S_i-1\n",
    "\n",
    "                action, states_oc = Policy.get_model().predict(next_obs)\n",
    "\n",
    "                action=int(action)\n",
    "\n",
    "                # --Muevo al Agente al siguiente estado\n",
    "                next_obs,reward,terminated,truncated,info=env.step(action)\n",
    "\n",
    "                # --Actualización de variables\n",
    "                actions.append(action) # A_i-1\n",
    "                rewards.append(reward) # R_i-1\n",
    "\n",
    "                # --Si llegamos a un estado final, el juego ha finalizado!!!\n",
    "                # --Se configura el tablero de nuevo\n",
    "                if terminated== True or truncated==True:\n",
    "                    next_observations.append(next_obs)  # S_i\n",
    "                    obs = env.reset()\n",
    "                    reward = -1\n",
    "                else:\n",
    "                    next_observations.append(next_obs)  # S_i\n",
    "                    self.obs = next_obs\n",
    "\n",
    "            # Ver si el episodio ha obtendo una recompensa total igual o superior a 195\n",
    "            if sum(rewards) >= 500:\n",
    "                success_num += 1\n",
    "                render = True\n",
    "                # if success_num >= 100:\n",
    "                #    break\n",
    "            else:\n",
    "                success_num = 0\n",
    "\n",
    "\n",
    "        observations = np.reshape(observations, newshape=[-1] + list(ob_space.shape))\n",
    "        next_observations = np.reshape(next_observations, newshape=[-1] + list(ob_space.shape))\n",
    "        actions = np.array(actions).astype(dtype=np.int32)\n",
    "        \n",
    "        # Devolvemos la secuencia (S,A,S',R) junto con la política anterior y la actual política,\n",
    "        return observations, actions, next_observations, rewards, Old_Policy, Policy"
   ]
  },
  {
   "cell_type": "code",
   "execution_count": 14,
   "metadata": {},
   "outputs": [],
   "source": [
    "##########################################################################################################\n",
    "# Clase PPOTrain\n",
    "##########################################################################################################\n",
    "# Tenemos dos politica theta_i y theta_i+1\n",
    "# Almacenamos dos políticas Policy_net(cada una de ella con su PPO) y calculamos el valor gaes a partir de valores gamma, clip_value, c_1, c_2\n",
    "# Realizamos aqui el entrenamiento, cálculo de gradiente y función de pérdida del PPO para después usarlo en el generador de la GAN\n",
    "\n",
    "class PPOTrain:\n",
    "\n",
    "    def __init__(self, Policy, Old_Policy, obs, actions, rewards, gamma=0.95, clip_value=0.2, c_1=1, c_2=0.01):\n",
    "        \"\"\"\n",
    "        arg:\n",
    "            Policy\n",
    "            Old_Policy\n",
    "            gamma\n",
    "            clip_value\n",
    "            c_1 parámetro para la diferencia de valores\n",
    "            c_2 parámetro para el bonus de entropía\n",
    "        \"\"\"\n",
    "        self.Policy = Policy\n",
    "        self.Old_Policy = Old_Policy\n",
    "        self.gamma = gamma\n",
    "        self.obs=obs\n",
    "\n",
    "        self.pi_trainable = self.Policy.get_trainable_variables()\n",
    "        self.old_pi_trainable = self.Old_Policy.get_trainable_variables()\n",
    "\n",
    "\n",
    "        policy_name = \"policy\"\n",
    "        old_policy_name=\"policy\"\n",
    "\n",
    "        policy_dict_ = self.pi_trainable[policy_name]\n",
    "        old_policy_dict_=self.old_pi_trainable[old_policy_name]\n",
    "\n",
    "        self.pi=[]\n",
    "        if policy_name in self.pi_trainable and old_policy_name in self.old_pi_trainable:\n",
    "            for param_name, param_value in policy_dict_.items():\n",
    "                # Elimino los pesos que hay en old_policy\n",
    "                del old_policy_dict_[param_name]\n",
    "                # Introduzco los pesos de old_policy en policy\n",
    "                old_policy_dict_[param_name] = param_value\n",
    "                self.pi.append(param_value)\n",
    "        else:\n",
    "            print(f\"No se encontró la política con el nombre: {policy_name}\")\n",
    "\n",
    "\n",
    "        # Le asignamos old_pi_trainable=pi_trainable ya que ajustaremos unos nuevos pi_trainable\n",
    "\n",
    "\n",
    "        self.actions = actions\n",
    "        self.rewards=rewards\n",
    "        self.v_preds=self.Old_Policy.get_v_preds()\n",
    "        self.v_preds_next=self.Policy.get_v_preds()\n",
    "\n",
    "        #  generative advantage estimator(lambda = 1), ver ppo paper eq(11)\n",
    "        self.gaes =self.get_gaes(self.rewards, self.v_preds, self.v_preds_next)\n",
    "\n",
    "        act_probs =self.Policy.get_action_prob()\n",
    "        act_probs_old =self.Old_Policy.get_action_prob()\n",
    "\n",
    "        # la probabilidad de las acciones del agente cuando toma la actual política\n",
    "        act_probs = act_probs * tf.one_hot(indices=self.actions, depth=act_probs.shape[1])\n",
    "        self.act_probs = tf.reduce_sum(act_probs, axis=1)\n",
    "\n",
    "        # la probabilidad de las acciones del agente cuando toma la antigua política\n",
    "        act_probs_old = act_probs_old * tf.one_hot(indices=self.actions, depth=act_probs_old.shape[1])\n",
    "        self.act_probs_old = tf.reduce_sum(act_probs_old, axis=1)\n",
    "\n",
    "        self.loss=loss_fn_ppo(self.act_probs, self.act_probs_old, self.gaes)\n",
    "\n",
    "        self.optimizer =tf.keras.optimizers.Adam(learning_rate=LEARNING_RATE)\n",
    "\n",
    "    def loss_fn_G(self):\n",
    "        return loss_fn_ppo(self.act_probs, self.act_probs_old, self.gaes)\n",
    "\n",
    "    def get_pi_trainable(self):\n",
    "        return self.pi\n",
    "\n",
    "    def get_optimizer(self):\n",
    "        return self.optimizer\n",
    "\n",
    "    def get_OldPolicy(self):\n",
    "        return self.Old_Policy\n",
    "\n",
    "    def get_Policy(self):\n",
    "        return self.Policy\n",
    "\n",
    "    def get_gaes(self, rewards, v_preds, v_preds_next):\n",
    "        deltas = [r_t + self.gamma * v_next - v for r_t, v_next, v in zip(rewards, v_preds_next, v_preds)]\n",
    "        # calcular la estimación generative advantage (lambda = 1), ver ppo paper eq(11)\n",
    "        gaes = copy.deepcopy(deltas)\n",
    "        for t in reversed(range(len(gaes) - 1)):  # # es T-1, donde T es time step con el que se ejecuta la política\n",
    "            gaes[t] = gaes[t] + self.gamma * gaes[t + 1]\n",
    "        return gaes\n",
    "\n"
   ]
  },
  {
   "cell_type": "markdown",
   "metadata": {},
   "source": [
    "# Extended GAIL"
   ]
  },
  {
   "cell_type": "code",
   "execution_count": 15,
   "metadata": {},
   "outputs": [],
   "source": [
    "####################################################################################################################\n",
    "# CLASE GAIL\n",
    "####################################################################################################################\n",
    "class GAN(keras.Model):\n",
    "    # Constructor\n",
    "    def __init__(self, discriminator, generator):\n",
    "        super().__init__()\n",
    "        self.discriminator = discriminator\n",
    "        self.generator=generator\n",
    "        self.i=0\n",
    "        self.d_loss_metric = keras.metrics.Mean(name=\"d_loss\")\n",
    "        self.g_loss_metric = keras.metrics.Mean(name=\"g_loss\")\n",
    "\n",
    "    # Compila el modelo GAN inicializando los optimizadores y la función de pérdida del modelo GAN\n",
    "    def compile(self,d_optimizer, loss_fn_D ):\n",
    "        super(GAN, self).compile(run_eagerly=True)\n",
    "        self.d_optimizer = d_optimizer\n",
    "        self.loss_fn_D=  loss_fn_D\n",
    "\n",
    "    # Devuelve las métricas obtenidas con el generador y discriminador\n",
    "    @property\n",
    "    def metrics(self):\n",
    "        return [self.d_loss_metric,self.g_loss_metric]\n",
    "\n",
    "    # Evaluación del Discriminador\n",
    "    def evaluate_D(self, X_test):\n",
    "        len_real = X_test.shape[0]\n",
    "\n",
    "        generate_observations, generate_actions, generate_next_observations, rewards, Old_Policy, Policy=self.generator.generate_fakes()\n",
    "\n",
    "        generate_a_one_hot=np.eye(env.action_space.n)[generate_actions]\n",
    "\n",
    "        dataset_gen1=np.concatenate([generate_observations,generate_a_one_hot],axis=1)\n",
    "\n",
    "        dataset_gen2= np.concatenate([dataset_gen1,generate_next_observations], axis=1)\n",
    "\n",
    "        rewards=np.array(rewards).reshape(-1, 1)\n",
    "\n",
    "        dataset_gen= np.concatenate([dataset_gen2,rewards], axis=1)\n",
    "\n",
    "\n",
    "        len_fakes=dataset_gen.shape[0]\n",
    "\n",
    "        # Compilamos el discriminador como CNN\n",
    "        self.discriminator.discriminator_net.compile(optimizer=self.d_optimizer, loss=self.loss_fn_D, metrics=['accuracy'])\n",
    "\n",
    "        # Evaluamos como CNN\n",
    "        loss_real, acc_real=self.discriminator.discriminator_net.evaluate(X_test, tf.ones((len_real,1)), batch_size=len_real, verbose=1)\n",
    "\n",
    "        loss_fake, acc_fake=self.discriminator.discriminator_net.evaluate(dataset_gen,tf.ones((len_fakes,1)), batch_size=len_fakes, verbose=1)\n",
    "\n",
    "        print('>Loss real: ')\n",
    "        print(loss_real)\n",
    "        print('>Loss fake: ')\n",
    "        print(loss_fake)\n",
    "\n",
    "\n",
    "    # Evaluación del generador\n",
    "    def evaluate_G(self):\n",
    "        # Definimos el entorno\n",
    "        env= gym.make('CartPole-v1')\n",
    "\n",
    "        # Lista donde amacenaremos la recompensa acumulada de cada episodio.\n",
    "        # NUESTRO OBJETIVO: Agente aprenda a tomar las acciones que maximicen la recompensa\n",
    "        rewards=[]\n",
    "\n",
    "        # Para cada episodio, el Agente se mueve por el Entorno mediante acciones hasta llegar a un estado final\n",
    "        # siguiendo la política que se ha aprendido en el entrenamiento de la GAN\n",
    "        for episode in range(EPISODES_EVALUATE_G):\n",
    "            truncated=False\n",
    "            terminated=False\n",
    "            R=0.0\n",
    "            reward=0.0\n",
    "\n",
    "            # Estado inicial del juego\n",
    "            obs,_=env.reset()\n",
    "\n",
    "            #Interactuamos con el Entorno hasta que lleguemos a un estado final\n",
    "            while terminated!= True and truncated!=True:\n",
    "                action, _=self.generator.get_model().predict(obs)\n",
    "                obs,reward,terminated,truncated, info=env.step(int(action))\n",
    "\n",
    "                # Incremento la recompensa del episodio i al haber ejecutado el step\n",
    "                R+=reward\n",
    "\n",
    "            rewards.append(R)\n",
    "\n",
    "            # Vemos para el episodio, su recompensa acumulada que es lo que se trata de maximizar\n",
    "            print(\"Episode  {} Total reward: {}\".format(episode,R))\n",
    "\n",
    "        # Cierro el entorno\n",
    "        env.close()\n",
    "\n",
    "        # Muestro las recompensas obtenidas en cada episodio\n",
    "        indices = range(0, EPISODES_EVALUATE_G)\n",
    "        plt.plot(indices,rewards)\n",
    "        plt.show()\n",
    "\n",
    "        return np.mean(rewards)\n",
    "\n",
    "    def train_step(self, X_train):\n",
    "\n",
    "        # 1) Generamos secuencias falsas [s,a,s',r]\n",
    "        generate_observations, generate_actions, generate_next_observations, rewards, Old_Policy, Policy=self.generator.generate_fakes()\n",
    "\n",
    "        generate_a_one_hot=np.eye(env.action_space.n)[generate_actions]\n",
    "\n",
    "\n",
    "        if generate_observations.shape[0] == generate_a_one_hot.shape[0]:\n",
    "          dataset_gen1 = np.concatenate([generate_observations, generate_a_one_hot], axis=1)\n",
    "        else:\n",
    "          generate_a_one_hot_resized = np.resize(generate_a_one_hot,generate_observations.shape)\n",
    "          dataset_gen1 = np.concatenate([generate_observations, generate_a_one_hot_resized], axis=1)\n",
    "\n",
    "        if generate_next_observations.shape[0] == generate_a_one_hot.shape[0]:\n",
    "          dataset_gen2=np.concatenate([dataset_gen1, generate_next_observations], axis=1)\n",
    "        else:\n",
    "           generate_next_observations_new= np.resize(generate_next_observations, generate_observations.shape)\n",
    "           dataset_gen2=np.concatenate([dataset_gen1, generate_next_observations_new], axis=1)\n",
    "\n",
    "        rewards=np.array(rewards).reshape(-1,1)\n",
    "\n",
    "        \n",
    "        dataset_gen=np.concatenate([dataset_gen2, rewards], axis=1)\n",
    "        \n",
    "        \n",
    "        # 2) Seleccionamos la muestra de datos generador con la que vamos a trabajar en este  batch de entrenamiento \n",
    "        #if len(dataset_gen) >= BATCH_SIZE: \n",
    "        random_indices = np.random.choice(len(dataset_gen), size=min(BATCH_SIZE,len(dataset_gen)), replace=False)\n",
    "        dataset_gen= dataset_gen[random_indices[0]]\n",
    "    \n",
    "    \n",
    "        # 3) Obtenemos las secuencias reales [s,a,s',r] de los datos de entrenamiento y las combinamos\n",
    "        dataset_gen=dataset_gen.reshape(1,-1)\n",
    "        combined_images = tf.concat([X_train, dataset_gen], axis=0)\n",
    "\n",
    "\n",
    "        # 4) Las etiquetas de las imagenes combinadas las tenemos que crear nosotros introduciendo algo de ruido con tf.random.uniform\n",
    "        labels = tf.concat( [tf.ones((BATCH_SIZE, 1)), tf.zeros((BATCH_SIZE, 1))], axis=0 )\n",
    "        labels += 0.05 * tf.random.uniform(tf.shape(labels))\n",
    "\n",
    "        ##############################################################################################################################################################\n",
    "        # PASO 1:  ENTRENAMIENTO DEL DISCRIMINADOR\n",
    "        #############################################################################################################################################################\n",
    "\n",
    "\n",
    "        # Entrenamiento del discriminador con las [s,a, s', r] del agente(falsas o sintéticas) y del experto (reales) combinadas, esto es,\n",
    "        # le pasamos un conjunto que tiene tanto secuencias reales como secuencias sintéticas\n",
    "        with tf.GradientTape() as tape:\n",
    "            predictions=np.zeros((2*BATCH_SIZE,6))\n",
    "            # Predicciones obtenidas con el discriminador\n",
    "            predictions = self.discriminator.discriminator_net(combined_images)\n",
    "            # Valor de la función de pérdida al comparar las predicciones con las etiquetas reales\n",
    "            d_loss = self.loss_fn_D(labels, predictions)\n",
    "\n",
    "        # Calculo del gradiente y actualización del gradiente\n",
    "        grads = tape.gradient(d_loss, self.discriminator.getNet().trainable_weights)\n",
    "\n",
    "        self.d_optimizer.apply_gradients(\n",
    "          zip(grads, self.discriminator.getNet().trainable_weights)\n",
    "        )\n",
    "\n",
    "\n",
    "\n",
    "        ################################################################################################################################################################\n",
    "        # PASO 2: ENTRENAMIENTO DEL GENERADOR=POLÍTICA\n",
    "        ###############################################################################################################################################################\n",
    "\n",
    "\n",
    "        ppotrain=PPOTrain(Policy,Old_Policy,actions=generate_actions,rewards=rewards, obs=generate_observations) #       generate_observations[0])\n",
    "\n",
    "\n",
    "        with tf.GradientTape() as tape:\n",
    "            g_loss = ppotrain.loss_fn_G()\n",
    "\n",
    "\n",
    "        g_loss = tf.cast(g_loss, dtype=tf.float32)\n",
    "\n",
    "        \n",
    "        \n",
    "        ############################################################################################################################################################\n",
    "\n",
    "        # Actualización de métricas del discriminador y generador\n",
    "        self.d_loss_metric.update_state(d_loss)\n",
    "        self.g_loss_metric.update_state(g_loss)\n",
    "\n",
    "\n",
    "        return {\"d_loss\": self.d_loss_metric.result(),\n",
    "                    \"g_loss\": self.g_loss_metric.result()}\n",
    "\n"
   ]
  },
  {
   "cell_type": "markdown",
   "metadata": {},
   "source": [
    "# Experimentación de GAIL con CartPole"
   ]
  },
  {
   "cell_type": "markdown",
   "metadata": {},
   "source": [
    "## Experimento 1"
   ]
  },
  {
   "cell_type": "markdown",
   "metadata": {},
   "source": [
    "### Construcción de base de datos experta con 1 trayectoria "
   ]
  },
  {
   "cell_type": "code",
   "execution_count": 16,
   "metadata": {},
   "outputs": [
    {
     "name": "stdout",
     "output_type": "stream",
     "text": [
      "\n",
      "\tEstados reales: \n",
      " [[ 0.00572823 -0.03831238  0.03101629  0.00900886]\n",
      " [ 0.00496198  0.15635134  0.03119646 -0.27372897]\n",
      " [ 0.00808901 -0.03920152  0.02572188  0.02862788]\n",
      " ...\n",
      " [-0.03035956 -0.1520803   0.0103268   0.24866116]\n",
      " [-0.03340117  0.04289266  0.01530002 -0.04074667]\n",
      " [-0.03254332  0.23779191  0.01448509 -0.3285633 ]]\n",
      "\tAcciones reales: \n",
      " [1 0 1 ... 1 1 0]\n",
      "\n",
      "\t Estados siguientes: \n",
      " [[ 0.00572823 -0.03831238  0.03101629  0.00900886]\n",
      " [ 0.00496198  0.15635134  0.03119646 -0.27372897]\n",
      " [ 0.00808901 -0.03920152  0.02572188  0.02862788]\n",
      " ...\n",
      " [-0.03035956 -0.1520803   0.0103268   0.24866116]\n",
      " [-0.03340117  0.04289266  0.01530002 -0.04074667]\n",
      " [-0.03254332  0.23779191  0.01448509 -0.3285633 ]]\n",
      "\n",
      "\t Recompensas: [1 1 1 ... 1 1 1]\n"
     ]
    }
   ],
   "source": [
    "expert_observations = np.genfromtxt(\"observations_CartPole_.csv\",delimiter=\"\\t\",dtype=str)\n",
    "expert_actions = np.genfromtxt('actions_CartPole_.csv', dtype=np.int32)\n",
    "expert_next_observations = np.genfromtxt('next_observations_CartPole_.csv',delimiter=\"\\t\",dtype=str)\n",
    "expert_rewards = np.genfromtxt('rewards_CartPole_.csv', dtype=np.int32)\n",
    "expert_num_tray=np.genfromtxt('n_trayectoria_CartPole_.csv', dtype=np.int32)\n",
    "\n",
    "# Reemplazar las comas\n",
    "expert_observations = np.core.defchararray.replace(expert_observations, ',', ' ')\n",
    "\n",
    "# Reemplazar las comas\n",
    "expert_next_observations = np.core.defchararray.replace(expert_next_observations, ',', ' ')\n",
    "\n",
    "# Crear un nuevo array para almacenar los datos convertidos\n",
    "converted_observations = np.genfromtxt(expert_observations, delimiter=' ', dtype=float)\n",
    "# Crear un nuevo array para almacenar los datos convertidos\n",
    "converted_next_observations = np.genfromtxt(expert_observations, delimiter=' ', dtype=float)\n",
    "\n",
    "\n",
    "rewards=np.array(expert_rewards).reshape(-1,1)\n",
    "\n",
    "\n",
    "print(\"\\n\\tEstados reales: \\n\", converted_observations)\n",
    "print(\"\\tAcciones reales: \\n\", expert_actions)\n",
    "print(\"\\n\\t Estados siguientes: \\n\", converted_next_observations)\n",
    "print(\"\\n\\t Recompensas:\" ,expert_rewards)"
   ]
  },
  {
   "cell_type": "code",
   "execution_count": 17,
   "metadata": {},
   "outputs": [
    {
     "name": "stdout",
     "output_type": "stream",
     "text": [
      "500\n"
     ]
    }
   ],
   "source": [
    "longitud_trayectoria = np.count_nonzero(expert_num_tray == 0)\n",
    "print(longitud_trayectoria)"
   ]
  },
  {
   "cell_type": "code",
   "execution_count": 18,
   "metadata": {},
   "outputs": [],
   "source": [
    "# Nos quedamos solo con la primera trayectoria\n",
    "converted_observations=converted_observations[0:longitud_trayectoria]\n",
    "expert_actions=expert_actions[0:longitud_trayectoria]\n",
    "converted_next_observations=converted_next_observations[0:longitud_trayectoria]\n",
    "expert_rewards=expert_rewards[0:longitud_trayectoria]"
   ]
  },
  {
   "cell_type": "code",
   "execution_count": 19,
   "metadata": {},
   "outputs": [],
   "source": [
    "# Construimos el dataset [s,a,s',r] reales y lo dividimos en training y test\n",
    "expert_a_one_hot=np.eye(env.action_space.n)[expert_actions]\n",
    "expert_rewards = expert_rewards.reshape(-1, 1)\n",
    "\n",
    "dataset1=np.concatenate([converted_observations,expert_a_one_hot],axis=1)\n",
    "dataset2=np.concatenate([dataset1,converted_next_observations],axis=1)\n",
    "dataset=np.concatenate([dataset2,expert_rewards],axis=1)\n"
   ]
  },
  {
   "cell_type": "code",
   "execution_count": 20,
   "metadata": {},
   "outputs": [
    {
     "name": "stdout",
     "output_type": "stream",
     "text": [
      "Nº de (ESTADOS,ACCIONES) en el conjunto de entrenamiento: 400\n",
      "Nº de (ESTADOS,ACCIONES) en el conjunto de prueba: 100\n"
     ]
    }
   ],
   "source": [
    "#############################################################################\n",
    "# DIVISIÓN TRAIN Y TEST\n",
    "##############################################################################\n",
    "\n",
    "# Divide los datos en conjuntos de entrenamiento y prueba\n",
    "X_train, X_test = train_test_split(dataset, test_size=0.2, random_state=0)\n",
    "\n",
    "\n",
    "#Imprime el número de elementos en el conjuntos de entrenamiento y prueba\n",
    "print('Nº de (ESTADOS,ACCIONES) en el conjunto de entrenamiento:', len(X_train))\n",
    "print('Nº de (ESTADOS,ACCIONES) en el conjunto de prueba:', len(X_test))\n"
   ]
  },
  {
   "cell_type": "code",
   "execution_count": 21,
   "metadata": {},
   "outputs": [],
   "source": [
    "env= gym.make('CartPole-v1')\n",
    "obs,_= env.reset()\n",
    "\n",
    "# Generador\n",
    "generator=Policy_net( 'policy', env, obs)\n",
    "\n",
    "# Generamos [s,a, s', r] falsas y las políticas theta_i y theta_i+1\n",
    "observations, actions, next_observations, rewards, Old_Policy, Policy=generator.generate_fakes()\n",
    "\n",
    "# Discriminador\n",
    "discriminator=Discriminator(env, discriminator_net, converted_observations, expert_actions, converted_next_observations, expert_rewards, observations, actions, next_observations, rewards)"
   ]
  },
  {
   "cell_type": "markdown",
   "metadata": {},
   "source": [
    "### Definición de GAIL"
   ]
  },
  {
   "cell_type": "code",
   "execution_count": 22,
   "metadata": {},
   "outputs": [],
   "source": [
    "gan1=GAN(discriminator=discriminator,generator=generator)"
   ]
  },
  {
   "cell_type": "markdown",
   "metadata": {},
   "source": [
    "### Compilación de GAIL"
   ]
  },
  {
   "cell_type": "code",
   "execution_count": 23,
   "metadata": {},
   "outputs": [],
   "source": [
    "tf.config.run_functions_eagerly(True)\n",
    "gan1.compile(\n",
    "    d_optimizer=tf.keras.optimizers.Adam(learning_rate=LEARNING_RATE),\n",
    "    loss_fn_D=loss_fn_D\n",
    ")"
   ]
  },
  {
   "cell_type": "markdown",
   "metadata": {},
   "source": [
    "### Entrenamiento de GAIL"
   ]
  },
  {
   "cell_type": "code",
   "execution_count": 24,
   "metadata": {},
   "outputs": [
    {
     "name": "stderr",
     "output_type": "stream",
     "text": [
      "/home/usuario/.local/lib/python3.10/site-packages/tensorflow/python/data/ops/structured_function.py:265: UserWarning: Even though the `tf.config.experimental_run_functions_eagerly` option is set, this option does not apply to tf.data functions. To force eager execution of tf.data functions, please use `tf.data.experimental.enable_debug_mode()`.\n",
      "  warnings.warn(\n"
     ]
    },
    {
     "name": "stdout",
     "output_type": "stream",
     "text": [
      "245/400 [=================>............] - ETA: 1:17:40 - d_loss: 2.4860 - g_loss: -0.9773Episode  0 Total reward: 36.0\n",
      "Episode  1 Total reward: 15.0\n",
      "Episode  2 Total reward: 87.0\n",
      "Episode  3 Total reward: 12.0\n",
      "Episode  4 Total reward: 22.0\n",
      "Episode  5 Total reward: 30.0\n",
      "Episode  6 Total reward: 33.0\n",
      "Episode  7 Total reward: 20.0\n",
      "Episode  8 Total reward: 40.0\n",
      "Episode  9 Total reward: 21.0\n",
      "Episode  10 Total reward: 24.0\n",
      "Episode  11 Total reward: 70.0\n",
      "Episode  12 Total reward: 18.0\n",
      "Episode  13 Total reward: 28.0\n",
      "Episode  14 Total reward: 28.0\n",
      "Episode  15 Total reward: 34.0\n",
      "Episode  16 Total reward: 16.0\n",
      "Episode  17 Total reward: 10.0\n",
      "Episode  18 Total reward: 17.0\n",
      "Episode  19 Total reward: 19.0\n",
      "Episode  20 Total reward: 13.0\n",
      "Episode  21 Total reward: 24.0\n",
      "Episode  22 Total reward: 11.0\n",
      "Episode  23 Total reward: 37.0\n",
      "Episode  24 Total reward: 62.0\n",
      "Episode  25 Total reward: 13.0\n",
      "Episode  26 Total reward: 31.0\n",
      "Episode  27 Total reward: 21.0\n",
      "Episode  28 Total reward: 11.0\n",
      "Episode  29 Total reward: 17.0\n",
      "Episode  30 Total reward: 85.0\n",
      "Episode  31 Total reward: 41.0\n",
      "Episode  32 Total reward: 41.0\n",
      "Episode  33 Total reward: 20.0\n",
      "Episode  34 Total reward: 23.0\n",
      "Episode  35 Total reward: 40.0\n",
      "Episode  36 Total reward: 18.0\n",
      "Episode  37 Total reward: 23.0\n",
      "Episode  38 Total reward: 20.0\n",
      "Episode  39 Total reward: 15.0\n",
      "Episode  40 Total reward: 23.0\n",
      "Episode  41 Total reward: 26.0\n",
      "Episode  42 Total reward: 19.0\n",
      "Episode  43 Total reward: 41.0\n",
      "Episode  44 Total reward: 22.0\n",
      "Episode  45 Total reward: 13.0\n",
      "Episode  46 Total reward: 54.0\n",
      "Episode  47 Total reward: 61.0\n",
      "Episode  48 Total reward: 23.0\n",
      "Episode  49 Total reward: 36.0\n"
     ]
    },
    {
     "data": {
      "image/png": "[encoded data removed]",
      "text/plain": [
       "<Figure size 640x480 with 1 Axes>"
      ]
     },
     "metadata": {},
     "output_type": "display_data"
    },
    {
     "name": "stdout",
     "output_type": "stream",
     "text": [
      "\n",
      "Epoca: 245\n",
      "\n",
      "Recompensa de Media: 29.28 \n",
      "\n",
      "400/400 [==============================] - 12115s 30s/step - d_loss: 2.3926 - g_loss: -0.9839\n"
     ]
    }
   ],
   "source": [
    "# Deshabilitar los mensajes de información de TensorFlow\n",
    "os.environ['TF_CPP_MIN_LOG_LEVEL'] = '3'\n",
    "\n",
    "# Deshabilitar los mensajes de información de OpenAI Gym\n",
    "gym.logger.set_level(40)\n",
    "\n",
    "BATCH_SIZE= round(len(X_train)/300)\n",
    "\n",
    "history=gan1.fit(X_train,\n",
    "    epochs=EPOCHS, batch_size=BATCH_SIZE)\n",
    "\n"
   ]
  },
  {
   "cell_type": "markdown",
   "metadata": {},
   "source": [
    "### Evaluación de GAIL"
   ]
  },
  {
   "cell_type": "code",
   "execution_count": 25,
   "metadata": {},
   "outputs": [
    {
     "name": "stdout",
     "output_type": "stream",
     "text": [
      "1/1 [==============================] - 0s 60ms/step - loss: 0.2217 - accuracy: 0.0000e+00\n",
      "1/1 [==============================] - 0s 15ms/step - loss: 0.2268 - accuracy: 0.0000e+00\n",
      ">Loss real: \n",
      "0.2217167615890503\n",
      ">Loss fake: \n",
      "0.22678600251674652\n"
     ]
    }
   ],
   "source": [
    "# Evaluamos el Discriminador de GAIL en el TEST\n",
    "gan1.evaluate_D(X_test)\n"
   ]
  },
  {
   "cell_type": "code",
   "execution_count": 26,
   "metadata": {},
   "outputs": [
    {
     "name": "stdout",
     "output_type": "stream",
     "text": [
      "Episode  0 Total reward: 26.0\n",
      "Episode  1 Total reward: 37.0\n",
      "Episode  2 Total reward: 31.0\n",
      "Episode  3 Total reward: 20.0\n",
      "Episode  4 Total reward: 55.0\n",
      "Episode  5 Total reward: 37.0\n",
      "Episode  6 Total reward: 37.0\n",
      "Episode  7 Total reward: 31.0\n",
      "Episode  8 Total reward: 16.0\n",
      "Episode  9 Total reward: 36.0\n",
      "Episode  10 Total reward: 17.0\n",
      "Episode  11 Total reward: 14.0\n",
      "Episode  12 Total reward: 11.0\n",
      "Episode  13 Total reward: 24.0\n",
      "Episode  14 Total reward: 17.0\n",
      "Episode  15 Total reward: 14.0\n",
      "Episode  16 Total reward: 41.0\n",
      "Episode  17 Total reward: 50.0\n",
      "Episode  18 Total reward: 36.0\n",
      "Episode  19 Total reward: 14.0\n",
      "Episode  20 Total reward: 13.0\n",
      "Episode  21 Total reward: 25.0\n",
      "Episode  22 Total reward: 73.0\n",
      "Episode  23 Total reward: 82.0\n",
      "Episode  24 Total reward: 29.0\n",
      "Episode  25 Total reward: 61.0\n",
      "Episode  26 Total reward: 26.0\n",
      "Episode  27 Total reward: 16.0\n",
      "Episode  28 Total reward: 37.0\n",
      "Episode  29 Total reward: 17.0\n",
      "Episode  30 Total reward: 20.0\n",
      "Episode  31 Total reward: 46.0\n",
      "Episode  32 Total reward: 55.0\n",
      "Episode  33 Total reward: 24.0\n",
      "Episode  34 Total reward: 19.0\n",
      "Episode  35 Total reward: 18.0\n",
      "Episode  36 Total reward: 44.0\n",
      "Episode  37 Total reward: 44.0\n",
      "Episode  38 Total reward: 11.0\n",
      "Episode  39 Total reward: 33.0\n",
      "Episode  40 Total reward: 24.0\n",
      "Episode  41 Total reward: 57.0\n",
      "Episode  42 Total reward: 10.0\n",
      "Episode  43 Total reward: 36.0\n",
      "Episode  44 Total reward: 16.0\n",
      "Episode  45 Total reward: 10.0\n",
      "Episode  46 Total reward: 16.0\n",
      "Episode  47 Total reward: 25.0\n",
      "Episode  48 Total reward: 21.0\n",
      "Episode  49 Total reward: 41.0\n"
     ]
    },
    {
     "data": {
      "image/png": "[encoded data removed]",
      "text/plain": [
       "<Figure size 640x480 with 1 Axes>"
      ]
     },
     "metadata": {},
     "output_type": "display_data"
    },
    {
     "name": "stdout",
     "output_type": "stream",
     "text": [
      "\n",
      "Recompensa de Media: 30.26 \n",
      "\n"
     ]
    }
   ],
   "source": [
    "# Evaluamos al Generador \n",
    "rewardMean=gan1.evaluate_G()\n",
    "print('\\nRecompensa de Media:', rewardMean, '\\n')"
   ]
  },
  {
   "cell_type": "markdown",
   "metadata": {},
   "source": [
    "## Experimento 2"
   ]
  },
  {
   "cell_type": "markdown",
   "metadata": {},
   "source": [
    "### Construcción de base de datos experta con 2 trayectoria "
   ]
  },
  {
   "cell_type": "code",
   "execution_count": 18,
   "metadata": {},
   "outputs": [
    {
     "name": "stdout",
     "output_type": "stream",
     "text": [
      "\n",
      "\tEstados reales: \n",
      " [[ 0.00572823 -0.03831238  0.03101629  0.00900886]\n",
      " [ 0.00496198  0.15635134  0.03119646 -0.27372897]\n",
      " [ 0.00808901 -0.03920152  0.02572188  0.02862788]\n",
      " ...\n",
      " [-0.03035956 -0.1520803   0.0103268   0.24866116]\n",
      " [-0.03340117  0.04289266  0.01530002 -0.04074667]\n",
      " [-0.03254332  0.23779191  0.01448509 -0.3285633 ]]\n",
      "\tAcciones reales: \n",
      " [1 0 1 ... 1 1 0]\n",
      "\n",
      "\t Estados siguientes: \n",
      " [[ 0.00572823 -0.03831238  0.03101629  0.00900886]\n",
      " [ 0.00496198  0.15635134  0.03119646 -0.27372897]\n",
      " [ 0.00808901 -0.03920152  0.02572188  0.02862788]\n",
      " ...\n",
      " [-0.03035956 -0.1520803   0.0103268   0.24866116]\n",
      " [-0.03340117  0.04289266  0.01530002 -0.04074667]\n",
      " [-0.03254332  0.23779191  0.01448509 -0.3285633 ]]\n",
      "\n",
      "\t Recompensas: [1 1 1 ... 1 1 1]\n"
     ]
    }
   ],
   "source": [
    "expert_observations = np.genfromtxt(\"observations_CartPole_.csv\",delimiter=\"\\t\",dtype=str)\n",
    "expert_actions = np.genfromtxt('actions_CartPole_.csv', dtype=np.int32)\n",
    "expert_next_observations = np.genfromtxt('next_observations_CartPole_.csv',delimiter=\"\\t\",dtype=str)\n",
    "expert_rewards = np.genfromtxt('rewards_CartPole_.csv', dtype=np.int32)\n",
    "expert_num_tray=np.genfromtxt('n_trayectoria_CartPole_.csv', dtype=np.int32)\n",
    "\n",
    "# Reemplazar las comas\n",
    "expert_observations = np.core.defchararray.replace(expert_observations, ',', ' ')\n",
    "\n",
    "# Reemplazar las comas\n",
    "expert_next_observations = np.core.defchararray.replace(expert_next_observations, ',', ' ')\n",
    "\n",
    "# Crear un nuevo array para almacenar los datos convertidos\n",
    "converted_observations = np.genfromtxt(expert_observations, delimiter=' ', dtype=float)\n",
    "# Crear un nuevo array para almacenar los datos convertidos\n",
    "converted_next_observations = np.genfromtxt(expert_observations, delimiter=' ', dtype=float)\n",
    "\n",
    "\n",
    "\n",
    "print(\"\\n\\tEstados reales: \\n\", converted_observations)\n",
    "print(\"\\tAcciones reales: \\n\", expert_actions)\n",
    "print(\"\\n\\t Estados siguientes: \\n\", converted_next_observations)\n",
    "print(\"\\n\\t Recompensas:\" ,expert_rewards)"
   ]
  },
  {
   "cell_type": "code",
   "execution_count": 19,
   "metadata": {},
   "outputs": [
    {
     "name": "stdout",
     "output_type": "stream",
     "text": [
      "1000\n"
     ]
    }
   ],
   "source": [
    "longitud_trayectoria += np.count_nonzero(expert_num_tray == 1)\n",
    "print(longitud_trayectoria)"
   ]
  },
  {
   "cell_type": "code",
   "execution_count": 20,
   "metadata": {},
   "outputs": [],
   "source": [
    "# Nos quedamos solo con la primera trayectoria\n",
    "converted_observations=converted_observations[0:longitud_trayectoria]\n",
    "expert_actions=expert_actions[0:longitud_trayectoria]\n",
    "converted_next_observations=converted_next_observations[0:longitud_trayectoria]\n",
    "expert_rewards=expert_rewards[0:longitud_trayectoria]"
   ]
  },
  {
   "cell_type": "code",
   "execution_count": 21,
   "metadata": {},
   "outputs": [],
   "source": [
    "# Construimos el dataset [s,a,s',r] reales y lo dividimos en training y test\n",
    "expert_a_one_hot=np.eye(env.action_space.n)[expert_actions]\n",
    "expert_rewards = expert_rewards.reshape(-1, 1)\n",
    "\n",
    "dataset1=np.concatenate([converted_observations,expert_a_one_hot],axis=1)\n",
    "dataset2=np.concatenate([dataset1,converted_next_observations],axis=1)\n",
    "dataset=np.concatenate([dataset2,expert_rewards],axis=1)\n"
   ]
  },
  {
   "cell_type": "code",
   "execution_count": 22,
   "metadata": {},
   "outputs": [
    {
     "name": "stdout",
     "output_type": "stream",
     "text": [
      "Nº de (ESTADOS,ACCIONES) en el conjunto de entrenamiento: 800\n",
      "Nº de (ESTADOS,ACCIONES) en el conjunto de prueba: 200\n"
     ]
    }
   ],
   "source": [
    "#############################################################################\n",
    "# DIVISIÓN TRAIN Y TEST\n",
    "##############################################################################\n",
    "\n",
    "# Divide los datos en conjuntos de entrenamiento y prueba\n",
    "X_train, X_test = train_test_split(dataset, test_size=0.2, random_state=0)\n",
    "\n",
    "\n",
    "#Imprime el número de elementos en el conjuntos de entrenamiento y prueba\n",
    "print('Nº de (ESTADOS,ACCIONES) en el conjunto de entrenamiento:', len(X_train))\n",
    "print('Nº de (ESTADOS,ACCIONES) en el conjunto de prueba:', len(X_test))\n"
   ]
  },
  {
   "cell_type": "code",
   "execution_count": 23,
   "metadata": {},
   "outputs": [],
   "source": [
    "env= gym.make('CartPole-v1')\n",
    "obs,_= env.reset()\n",
    "\n",
    "# Generador\n",
    "generator=Policy_net( 'policy', env, obs)\n",
    "\n",
    "# Generamos [s,a, s', r] falsas y las políticas theta_i y theta_i+1\n",
    "observations, actions, next_observations, rewards, Old_Policy, Policy=generator.generate_fakes()\n",
    "\n",
    "# Discriminador\n",
    "discriminator=Discriminator(env, discriminator_net, converted_observations, expert_actions, converted_next_observations, expert_rewards, observations, actions, next_observations, rewards)"
   ]
  },
  {
   "cell_type": "markdown",
   "metadata": {},
   "source": [
    "### Definición de GAIL"
   ]
  },
  {
   "cell_type": "code",
   "execution_count": 24,
   "metadata": {},
   "outputs": [],
   "source": [
    "gan2=GAN(discriminator=discriminator,generator=generator)"
   ]
  },
  {
   "cell_type": "markdown",
   "metadata": {},
   "source": [
    "### Compilación de GAIL"
   ]
  },
  {
   "cell_type": "code",
   "execution_count": 25,
   "metadata": {},
   "outputs": [],
   "source": [
    "tf.config.run_functions_eagerly(True)\n",
    "gan2.compile(\n",
    "    d_optimizer=tf.keras.optimizers.Adam(learning_rate=LEARNING_RATE),\n",
    "    loss_fn_D=loss_fn_D\n",
    ")"
   ]
  },
  {
   "cell_type": "markdown",
   "metadata": {},
   "source": [
    "### Entrenamiento de GAIL"
   ]
  },
  {
   "cell_type": "code",
   "execution_count": 26,
   "metadata": {},
   "outputs": [
    {
     "name": "stderr",
     "output_type": "stream",
     "text": [
      "/home/usuario/.local/lib/python3.10/site-packages/tensorflow/python/data/ops/structured_function.py:265: UserWarning: Even though the `tf.config.experimental_run_functions_eagerly` option is set, this option does not apply to tf.data functions. To force eager execution of tf.data functions, please use `tf.data.experimental.enable_debug_mode()`.\n",
      "  warnings.warn(\n"
     ]
    },
    {
     "name": "stdout",
     "output_type": "stream",
     "text": [
      "267/267 [==============================] - 8233s 31s/step - d_loss: 2.2068 - g_loss: -0.9945\n"
     ]
    }
   ],
   "source": [
    "# Deshabilitar los mensajes de información de TensorFlow\n",
    "os.environ['TF_CPP_MIN_LOG_LEVEL'] = '3'\n",
    "\n",
    "# Deshabilitar los mensajes de información de OpenAI Gym\n",
    "gym.logger.set_level(40)\n",
    "\n",
    "BATCH_SIZE= round(len(X_train)/300)\n",
    "\n",
    "history=gan2.fit(X_train,\n",
    "    epochs=EPOCHS, batch_size=BATCH_SIZE)\n",
    "\n"
   ]
  },
  {
   "cell_type": "markdown",
   "metadata": {},
   "source": [
    "### Evaluación de GAIL"
   ]
  },
  {
   "cell_type": "code",
   "execution_count": 27,
   "metadata": {},
   "outputs": [
    {
     "name": "stdout",
     "output_type": "stream",
     "text": [
      "1/1 [==============================] - 0s 57ms/step - loss: 0.0789 - accuracy: 0.0000e+00\n",
      "1/1 [==============================] - 0s 15ms/step - loss: 0.0578 - accuracy: 0.0000e+00\n",
      ">Loss real: \n",
      "0.07890549302101135\n",
      ">Loss fake: \n",
      "0.05778434872627258\n"
     ]
    }
   ],
   "source": [
    "# Evaluamos el Discriminador de GAIL en el TEST\n",
    "gan2.evaluate_D(X_test)\n"
   ]
  },
  {
   "cell_type": "code",
   "execution_count": 28,
   "metadata": {},
   "outputs": [
    {
     "name": "stdout",
     "output_type": "stream",
     "text": [
      "Episode  0 Total reward: 29.0\n",
      "Episode  1 Total reward: 46.0\n",
      "Episode  2 Total reward: 87.0\n",
      "Episode  3 Total reward: 16.0\n",
      "Episode  4 Total reward: 23.0\n",
      "Episode  5 Total reward: 11.0\n",
      "Episode  6 Total reward: 13.0\n",
      "Episode  7 Total reward: 21.0\n",
      "Episode  8 Total reward: 11.0\n",
      "Episode  9 Total reward: 15.0\n",
      "Episode  10 Total reward: 31.0\n",
      "Episode  11 Total reward: 25.0\n",
      "Episode  12 Total reward: 21.0\n",
      "Episode  13 Total reward: 17.0\n",
      "Episode  14 Total reward: 25.0\n",
      "Episode  15 Total reward: 16.0\n",
      "Episode  16 Total reward: 13.0\n",
      "Episode  17 Total reward: 33.0\n",
      "Episode  18 Total reward: 23.0\n",
      "Episode  19 Total reward: 26.0\n",
      "Episode  20 Total reward: 16.0\n",
      "Episode  21 Total reward: 26.0\n",
      "Episode  22 Total reward: 25.0\n",
      "Episode  23 Total reward: 14.0\n",
      "Episode  24 Total reward: 44.0\n",
      "Episode  25 Total reward: 20.0\n",
      "Episode  26 Total reward: 21.0\n",
      "Episode  27 Total reward: 15.0\n",
      "Episode  28 Total reward: 13.0\n",
      "Episode  29 Total reward: 11.0\n",
      "Episode  30 Total reward: 30.0\n",
      "Episode  31 Total reward: 47.0\n",
      "Episode  32 Total reward: 17.0\n",
      "Episode  33 Total reward: 11.0\n",
      "Episode  34 Total reward: 31.0\n",
      "Episode  35 Total reward: 17.0\n",
      "Episode  36 Total reward: 17.0\n",
      "Episode  37 Total reward: 43.0\n",
      "Episode  38 Total reward: 15.0\n",
      "Episode  39 Total reward: 12.0\n",
      "Episode  40 Total reward: 12.0\n",
      "Episode  41 Total reward: 22.0\n",
      "Episode  42 Total reward: 18.0\n",
      "Episode  43 Total reward: 50.0\n",
      "Episode  44 Total reward: 34.0\n",
      "Episode  45 Total reward: 28.0\n",
      "Episode  46 Total reward: 50.0\n",
      "Episode  47 Total reward: 20.0\n",
      "Episode  48 Total reward: 33.0\n",
      "Episode  49 Total reward: 25.0\n"
     ]
    },
    {
     "data": {
      "image/png": "[encoded data removed]",
      "text/plain": [
       "<Figure size 640x480 with 1 Axes>"
      ]
     },
     "metadata": {},
     "output_type": "display_data"
    },
    {
     "name": "stdout",
     "output_type": "stream",
     "text": [
      "\n",
      "Recompensa de Media: 24.78 \n",
      "\n"
     ]
    }
   ],
   "source": [
    "# Evaluamos al Generador \n",
    "rewardMean=gan2.evaluate_G()\n",
    "print('\\nRecompensa de Media:', rewardMean, '\\n')"
   ]
  },
  {
   "cell_type": "markdown",
   "metadata": {},
   "source": [
    "## Experimento 3"
   ]
  },
  {
   "cell_type": "markdown",
   "metadata": {},
   "source": [
    "### Construcción de base de datos experta con 1 trayectoria "
   ]
  },
  {
   "cell_type": "code",
   "execution_count": 29,
   "metadata": {},
   "outputs": [
    {
     "name": "stdout",
     "output_type": "stream",
     "text": [
      "\n",
      "\tEstados reales: \n",
      " [[ 0.00572823 -0.03831238  0.03101629  0.00900886]\n",
      " [ 0.00496198  0.15635134  0.03119646 -0.27372897]\n",
      " [ 0.00808901 -0.03920152  0.02572188  0.02862788]\n",
      " ...\n",
      " [-0.03035956 -0.1520803   0.0103268   0.24866116]\n",
      " [-0.03340117  0.04289266  0.01530002 -0.04074667]\n",
      " [-0.03254332  0.23779191  0.01448509 -0.3285633 ]]\n",
      "\tAcciones reales: \n",
      " [1 0 1 ... 1 1 0]\n",
      "\n",
      "\t Estados siguientes: \n",
      " [[ 0.00572823 -0.03831238  0.03101629  0.00900886]\n",
      " [ 0.00496198  0.15635134  0.03119646 -0.27372897]\n",
      " [ 0.00808901 -0.03920152  0.02572188  0.02862788]\n",
      " ...\n",
      " [-0.03035956 -0.1520803   0.0103268   0.24866116]\n",
      " [-0.03340117  0.04289266  0.01530002 -0.04074667]\n",
      " [-0.03254332  0.23779191  0.01448509 -0.3285633 ]]\n",
      "\n",
      "\t Recompensas: [1 1 1 ... 1 1 1]\n"
     ]
    }
   ],
   "source": [
    "expert_observations = np.genfromtxt(\"observations_CartPole_.csv\",delimiter=\"\\t\",dtype=str)\n",
    "expert_actions = np.genfromtxt('actions_CartPole_.csv', dtype=np.int32)\n",
    "expert_next_observations = np.genfromtxt('next_observations_CartPole_.csv',delimiter=\"\\t\",dtype=str)\n",
    "expert_rewards = np.genfromtxt('rewards_CartPole_.csv', dtype=np.int32)\n",
    "expert_num_tray=np.genfromtxt('n_trayectoria_CartPole_.csv', dtype=np.int32)\n",
    "\n",
    "# Reemplazar las comas\n",
    "expert_observations = np.core.defchararray.replace(expert_observations, ',', ' ')\n",
    "\n",
    "# Reemplazar las comas\n",
    "expert_next_observations = np.core.defchararray.replace(expert_next_observations, ',', ' ')\n",
    "\n",
    "# Crear un nuevo array para almacenar los datos convertidos\n",
    "converted_observations = np.genfromtxt(expert_observations, delimiter=' ', dtype=float)\n",
    "# Crear un nuevo array para almacenar los datos convertidos\n",
    "converted_next_observations = np.genfromtxt(expert_observations, delimiter=' ', dtype=float)\n",
    "\n",
    "\n",
    "rewards=np.array(expert_rewards).reshape(-1,1)\n",
    "\n",
    "\n",
    "print(\"\\n\\tEstados reales: \\n\", converted_observations)\n",
    "print(\"\\tAcciones reales: \\n\", expert_actions)\n",
    "print(\"\\n\\t Estados siguientes: \\n\", converted_next_observations)\n",
    "print(\"\\n\\t Recompensas:\" ,expert_rewards)"
   ]
  },
  {
   "cell_type": "code",
   "execution_count": 30,
   "metadata": {},
   "outputs": [
    {
     "name": "stdout",
     "output_type": "stream",
     "text": [
      "1500\n"
     ]
    }
   ],
   "source": [
    "longitud_trayectoria += np.count_nonzero(expert_num_tray == 2)\n",
    "print(longitud_trayectoria)"
   ]
  },
  {
   "cell_type": "code",
   "execution_count": 31,
   "metadata": {},
   "outputs": [],
   "source": [
    "# Nos quedamos solo con la primera trayectoria\n",
    "converted_observations=converted_observations[0:longitud_trayectoria]\n",
    "expert_actions=expert_actions[0:longitud_trayectoria]\n",
    "converted_next_observations=converted_next_observations[0:longitud_trayectoria]\n",
    "expert_rewards=expert_rewards[0:longitud_trayectoria]"
   ]
  },
  {
   "cell_type": "code",
   "execution_count": 32,
   "metadata": {},
   "outputs": [],
   "source": [
    "# Construimos el dataset [s,a,s',r] reales y lo dividimos en training y test\n",
    "expert_a_one_hot=np.eye(env.action_space.n)[expert_actions]\n",
    "expert_rewards = expert_rewards.reshape(-1, 1)\n",
    "\n",
    "dataset1=np.concatenate([converted_observations,expert_a_one_hot],axis=1)\n",
    "dataset2=np.concatenate([dataset1,converted_next_observations],axis=1)\n",
    "dataset=np.concatenate([dataset2,expert_rewards],axis=1)\n"
   ]
  },
  {
   "cell_type": "code",
   "execution_count": 33,
   "metadata": {},
   "outputs": [
    {
     "name": "stdout",
     "output_type": "stream",
     "text": [
      "Nº de (ESTADOS,ACCIONES) en el conjunto de entrenamiento: 1200\n",
      "Nº de (ESTADOS,ACCIONES) en el conjunto de prueba: 300\n"
     ]
    }
   ],
   "source": [
    "#############################################################################\n",
    "# DIVISIÓN TRAIN Y TEST\n",
    "##############################################################################\n",
    "\n",
    "# Divide los datos en conjuntos de entrenamiento y prueba\n",
    "X_train, X_test = train_test_split(dataset, test_size=0.2, random_state=0)\n",
    "\n",
    "\n",
    "#Imprime el número de elementos en el conjuntos de entrenamiento y prueba\n",
    "print('Nº de (ESTADOS,ACCIONES) en el conjunto de entrenamiento:', len(X_train))\n",
    "print('Nº de (ESTADOS,ACCIONES) en el conjunto de prueba:', len(X_test))\n"
   ]
  },
  {
   "cell_type": "code",
   "execution_count": 34,
   "metadata": {},
   "outputs": [],
   "source": [
    "env= gym.make('CartPole-v1')\n",
    "obs,_= env.reset()\n",
    "\n",
    "# Generador\n",
    "generator=Policy_net( 'policy', env, obs)\n",
    "\n",
    "# Generamos [s,a, s', r] falsas y las políticas theta_i y theta_i+1\n",
    "observations, actions, next_observations, rewards, Old_Policy, Policy=generator.generate_fakes()\n",
    "\n",
    "# Discriminador\n",
    "discriminator=Discriminator(env, discriminator_net, converted_observations, expert_actions, converted_next_observations, expert_rewards, observations, actions, next_observations, rewards)"
   ]
  },
  {
   "cell_type": "markdown",
   "metadata": {},
   "source": [
    "### Definición de GAIL"
   ]
  },
  {
   "cell_type": "code",
   "execution_count": 35,
   "metadata": {},
   "outputs": [],
   "source": [
    "gan3=GAN(discriminator=discriminator,generator=generator)"
   ]
  },
  {
   "cell_type": "markdown",
   "metadata": {},
   "source": [
    "### Compilación de GAIL"
   ]
  },
  {
   "cell_type": "code",
   "execution_count": 36,
   "metadata": {},
   "outputs": [],
   "source": [
    "tf.config.run_functions_eagerly(True)\n",
    "gan3.compile(\n",
    "    d_optimizer=tf.keras.optimizers.Adam(learning_rate=LEARNING_RATE),\n",
    "    loss_fn_D=loss_fn_D\n",
    ")"
   ]
  },
  {
   "cell_type": "markdown",
   "metadata": {},
   "source": [
    "### Entrenamiento de GAIL"
   ]
  },
  {
   "cell_type": "code",
   "execution_count": 37,
   "metadata": {},
   "outputs": [
    {
     "name": "stdout",
     "output_type": "stream",
     "text": [
      "300/300 [==============================] - 9428s 31s/step - d_loss: 1.9223 - g_loss: -0.9929\n"
     ]
    }
   ],
   "source": [
    "# Deshabilitar los mensajes de información de TensorFlow\n",
    "os.environ['TF_CPP_MIN_LOG_LEVEL'] = '3'\n",
    "\n",
    "# Deshabilitar los mensajes de información de OpenAI Gym\n",
    "gym.logger.set_level(40)\n",
    "\n",
    "BATCH_SIZE= round(len(X_train)/300)\n",
    "\n",
    "history=gan3.fit(X_train,\n",
    "    epochs=EPOCHS, batch_size=BATCH_SIZE)\n",
    "\n"
   ]
  },
  {
   "cell_type": "markdown",
   "metadata": {},
   "source": [
    "### Evaluación de GAIL"
   ]
  },
  {
   "cell_type": "code",
   "execution_count": 38,
   "metadata": {},
   "outputs": [
    {
     "name": "stdout",
     "output_type": "stream",
     "text": [
      "1/1 [==============================] - 0s 15ms/step - loss: 0.0014 - accuracy: 0.0000e+00\n",
      "1/1 [==============================] - 0s 15ms/step - loss: 1.2408e-04 - accuracy: 0.0000e+00\n",
      ">Loss real: \n",
      "0.0013508980628103018\n",
      ">Loss fake: \n",
      "0.00012408231850713491\n"
     ]
    }
   ],
   "source": [
    "# Evaluamos el Discriminador de GAIL en el TEST\n",
    "gan3.evaluate_D(X_test)\n"
   ]
  },
  {
   "cell_type": "code",
   "execution_count": 39,
   "metadata": {},
   "outputs": [
    {
     "name": "stdout",
     "output_type": "stream",
     "text": [
      "Episode  0 Total reward: 19.0\n",
      "Episode  1 Total reward: 18.0\n",
      "Episode  2 Total reward: 14.0\n",
      "Episode  3 Total reward: 27.0\n",
      "Episode  4 Total reward: 35.0\n",
      "Episode  5 Total reward: 56.0\n",
      "Episode  6 Total reward: 17.0\n",
      "Episode  7 Total reward: 24.0\n",
      "Episode  8 Total reward: 76.0\n",
      "Episode  9 Total reward: 16.0\n",
      "Episode  10 Total reward: 21.0\n",
      "Episode  11 Total reward: 17.0\n",
      "Episode  12 Total reward: 14.0\n",
      "Episode  13 Total reward: 23.0\n",
      "Episode  14 Total reward: 17.0\n",
      "Episode  15 Total reward: 41.0\n",
      "Episode  16 Total reward: 31.0\n",
      "Episode  17 Total reward: 21.0\n",
      "Episode  18 Total reward: 66.0\n",
      "Episode  19 Total reward: 27.0\n",
      "Episode  20 Total reward: 19.0\n",
      "Episode  21 Total reward: 14.0\n",
      "Episode  22 Total reward: 53.0\n",
      "Episode  23 Total reward: 54.0\n",
      "Episode  24 Total reward: 19.0\n",
      "Episode  25 Total reward: 17.0\n",
      "Episode  26 Total reward: 26.0\n",
      "Episode  27 Total reward: 21.0\n",
      "Episode  28 Total reward: 24.0\n",
      "Episode  29 Total reward: 48.0\n",
      "Episode  30 Total reward: 34.0\n",
      "Episode  31 Total reward: 53.0\n",
      "Episode  32 Total reward: 19.0\n",
      "Episode  33 Total reward: 19.0\n",
      "Episode  34 Total reward: 70.0\n",
      "Episode  35 Total reward: 78.0\n",
      "Episode  36 Total reward: 77.0\n",
      "Episode  37 Total reward: 16.0\n",
      "Episode  38 Total reward: 18.0\n",
      "Episode  39 Total reward: 20.0\n",
      "Episode  40 Total reward: 44.0\n",
      "Episode  41 Total reward: 22.0\n",
      "Episode  42 Total reward: 11.0\n",
      "Episode  43 Total reward: 14.0\n",
      "Episode  44 Total reward: 30.0\n",
      "Episode  45 Total reward: 24.0\n",
      "Episode  46 Total reward: 27.0\n",
      "Episode  47 Total reward: 24.0\n",
      "Episode  48 Total reward: 29.0\n",
      "Episode  49 Total reward: 17.0\n"
     ]
    },
    {
     "data": {
      "image/png": "[encoded data removed]",
      "text/plain": [
       "<Figure size 640x480 with 1 Axes>"
      ]
     },
     "metadata": {},
     "output_type": "display_data"
    },
    {
     "name": "stdout",
     "output_type": "stream",
     "text": [
      "\n",
      "Recompensa de Media: 30.42 \n",
      "\n"
     ]
    }
   ],
   "source": [
    "# Evaluamos al Generador \n",
    "rewardMean=gan3.evaluate_G()\n",
    "print('\\nRecompensa de Media:', rewardMean, '\\n')"
   ]
  },
  {
   "cell_type": "markdown",
   "metadata": {},
   "source": [
    "## Experimento 4"
   ]
  },
  {
   "cell_type": "markdown",
   "metadata": {},
   "source": [
    "### Construcción de base de datos experta con 4 trayectoria "
   ]
  },
  {
   "cell_type": "code",
   "execution_count": 40,
   "metadata": {},
   "outputs": [
    {
     "name": "stdout",
     "output_type": "stream",
     "text": [
      "\n",
      "\tEstados reales: \n",
      " [[ 0.00572823 -0.03831238  0.03101629  0.00900886]\n",
      " [ 0.00496198  0.15635134  0.03119646 -0.27372897]\n",
      " [ 0.00808901 -0.03920152  0.02572188  0.02862788]\n",
      " ...\n",
      " [-0.03035956 -0.1520803   0.0103268   0.24866116]\n",
      " [-0.03340117  0.04289266  0.01530002 -0.04074667]\n",
      " [-0.03254332  0.23779191  0.01448509 -0.3285633 ]]\n",
      "\tAcciones reales: \n",
      " [1 0 1 ... 1 1 0]\n",
      "\n",
      "\t Estados siguientes: \n",
      " [[ 0.00572823 -0.03831238  0.03101629  0.00900886]\n",
      " [ 0.00496198  0.15635134  0.03119646 -0.27372897]\n",
      " [ 0.00808901 -0.03920152  0.02572188  0.02862788]\n",
      " ...\n",
      " [-0.03035956 -0.1520803   0.0103268   0.24866116]\n",
      " [-0.03340117  0.04289266  0.01530002 -0.04074667]\n",
      " [-0.03254332  0.23779191  0.01448509 -0.3285633 ]]\n",
      "\n",
      "\t Recompensas: [1 1 1 ... 1 1 1]\n"
     ]
    }
   ],
   "source": [
    "expert_observations = np.genfromtxt(\"observations_CartPole_.csv\",delimiter=\"\\t\",dtype=str)\n",
    "expert_actions = np.genfromtxt('actions_CartPole_.csv', dtype=np.int32)\n",
    "expert_next_observations = np.genfromtxt('next_observations_CartPole_.csv',delimiter=\"\\t\",dtype=str)\n",
    "expert_rewards = np.genfromtxt('rewards_CartPole_.csv', dtype=np.int32)\n",
    "expert_num_tray=np.genfromtxt('n_trayectoria_CartPole_.csv', dtype=np.int32)\n",
    "\n",
    "# Reemplazar las comas\n",
    "expert_observations = np.core.defchararray.replace(expert_observations, ',', ' ')\n",
    "\n",
    "# Reemplazar las comas\n",
    "expert_next_observations = np.core.defchararray.replace(expert_next_observations, ',', ' ')\n",
    "\n",
    "# Crear un nuevo array para almacenar los datos convertidos\n",
    "converted_observations = np.genfromtxt(expert_observations, delimiter=' ', dtype=float)\n",
    "# Crear un nuevo array para almacenar los datos convertidos\n",
    "converted_next_observations = np.genfromtxt(expert_observations, delimiter=' ', dtype=float)\n",
    "\n",
    "\n",
    "rewards=np.array(expert_rewards).reshape(-1,1)\n",
    "\n",
    "\n",
    "print(\"\\n\\tEstados reales: \\n\", converted_observations)\n",
    "print(\"\\tAcciones reales: \\n\", expert_actions)\n",
    "print(\"\\n\\t Estados siguientes: \\n\", converted_next_observations)\n",
    "print(\"\\n\\t Recompensas:\" ,expert_rewards)"
   ]
  },
  {
   "cell_type": "code",
   "execution_count": 41,
   "metadata": {},
   "outputs": [
    {
     "name": "stdout",
     "output_type": "stream",
     "text": [
      "2000\n"
     ]
    }
   ],
   "source": [
    "longitud_trayectoria += np.count_nonzero(expert_num_tray == 3)\n",
    "print(longitud_trayectoria)"
   ]
  },
  {
   "cell_type": "code",
   "execution_count": 42,
   "metadata": {},
   "outputs": [],
   "source": [
    "# Nos quedamos solo con la primera trayectoria\n",
    "converted_observations=converted_observations[0:longitud_trayectoria]\n",
    "expert_actions=expert_actions[0:longitud_trayectoria]\n",
    "converted_next_observations=converted_next_observations[0:longitud_trayectoria]\n",
    "expert_rewards=expert_rewards[0:longitud_trayectoria]"
   ]
  },
  {
   "cell_type": "code",
   "execution_count": 43,
   "metadata": {},
   "outputs": [],
   "source": [
    "# Construimos el dataset [s,a,s',r] reales y lo dividimos en training y test\n",
    "expert_a_one_hot=np.eye(env.action_space.n)[expert_actions]\n",
    "expert_rewards = expert_rewards.reshape(-1, 1)\n",
    "\n",
    "dataset1=np.concatenate([converted_observations,expert_a_one_hot],axis=1)\n",
    "dataset2=np.concatenate([dataset1,converted_next_observations],axis=1)\n",
    "dataset=np.concatenate([dataset2,expert_rewards],axis=1)\n"
   ]
  },
  {
   "cell_type": "code",
   "execution_count": 44,
   "metadata": {},
   "outputs": [
    {
     "name": "stdout",
     "output_type": "stream",
     "text": [
      "Nº de (ESTADOS,ACCIONES) en el conjunto de entrenamiento: 1600\n",
      "Nº de (ESTADOS,ACCIONES) en el conjunto de prueba: 400\n"
     ]
    }
   ],
   "source": [
    "#############################################################################\n",
    "# DIVISIÓN TRAIN Y TEST\n",
    "##############################################################################\n",
    "\n",
    "# Divide los datos en conjuntos de entrenamiento y prueba\n",
    "X_train, X_test = train_test_split(dataset, test_size=0.2, random_state=0)\n",
    "\n",
    "\n",
    "#Imprime el número de elementos en el conjuntos de entrenamiento y prueba\n",
    "print('Nº de (ESTADOS,ACCIONES) en el conjunto de entrenamiento:', len(X_train))\n",
    "print('Nº de (ESTADOS,ACCIONES) en el conjunto de prueba:', len(X_test))\n"
   ]
  },
  {
   "cell_type": "code",
   "execution_count": 45,
   "metadata": {},
   "outputs": [],
   "source": [
    "env= gym.make('CartPole-v1')\n",
    "obs,_= env.reset()\n",
    "\n",
    "# Generador\n",
    "generator=Policy_net( 'policy', env, obs)\n",
    "\n",
    "# Generamos [s,a, s', r] falsas y las políticas theta_i y theta_i+1\n",
    "observations, actions, next_observations, rewards, Old_Policy, Policy=generator.generate_fakes()\n",
    "\n",
    "# Discriminador\n",
    "discriminator=Discriminator(env, discriminator_net, converted_observations, expert_actions, converted_next_observations, expert_rewards, observations, actions, next_observations, rewards)"
   ]
  },
  {
   "cell_type": "markdown",
   "metadata": {},
   "source": [
    "### Definición de GAIL"
   ]
  },
  {
   "cell_type": "code",
   "execution_count": 46,
   "metadata": {},
   "outputs": [],
   "source": [
    "gan4=GAN(discriminator=discriminator,generator=generator)"
   ]
  },
  {
   "cell_type": "markdown",
   "metadata": {},
   "source": [
    "### Compilación de GAIL"
   ]
  },
  {
   "cell_type": "code",
   "execution_count": 47,
   "metadata": {},
   "outputs": [],
   "source": [
    "tf.config.run_functions_eagerly(True)\n",
    "gan4.compile(\n",
    "    d_optimizer=tf.keras.optimizers.Adam(learning_rate=LEARNING_RATE),\n",
    "    loss_fn_D=loss_fn_D\n",
    ")"
   ]
  },
  {
   "cell_type": "markdown",
   "metadata": {},
   "source": [
    "### Entrenamiento de GAIL"
   ]
  },
  {
   "cell_type": "code",
   "execution_count": 48,
   "metadata": {},
   "outputs": [
    {
     "name": "stdout",
     "output_type": "stream",
     "text": [
      "320/320 [==============================] - 9498s 30s/step - d_loss: 1.8929 - g_loss: -1.0118\n"
     ]
    }
   ],
   "source": [
    "# Deshabilitar los mensajes de información de TensorFlow\n",
    "os.environ['TF_CPP_MIN_LOG_LEVEL'] = '3'\n",
    "\n",
    "# Deshabilitar los mensajes de información de OpenAI Gym\n",
    "gym.logger.set_level(40)\n",
    "\n",
    "BATCH_SIZE= round(len(X_train)/300)\n",
    "\n",
    "history=gan4.fit(X_train,\n",
    "    epochs=EPOCHS, batch_size=BATCH_SIZE)\n",
    "\n"
   ]
  },
  {
   "cell_type": "markdown",
   "metadata": {},
   "source": [
    "### Evaluación de GAIL"
   ]
  },
  {
   "cell_type": "code",
   "execution_count": 49,
   "metadata": {},
   "outputs": [
    {
     "name": "stdout",
     "output_type": "stream",
     "text": [
      "1/1 [==============================] - 0s 15ms/step - loss: 3.3656e-06 - accuracy: 0.0000e+00\n",
      "1/1 [==============================] - 0s 14ms/step - loss: 1.7073e-06 - accuracy: 0.0000e+00\n",
      ">Loss real: \n",
      "3.3656024243100546e-06\n",
      ">Loss fake: \n",
      "1.707313231236185e-06\n"
     ]
    }
   ],
   "source": [
    "# Evaluamos el Discriminador de GAIL en el TEST\n",
    "gan4.evaluate_D(X_test)\n"
   ]
  },
  {
   "cell_type": "code",
   "execution_count": 50,
   "metadata": {},
   "outputs": [
    {
     "name": "stdout",
     "output_type": "stream",
     "text": [
      "Episode  0 Total reward: 44.0\n",
      "Episode  1 Total reward: 17.0\n",
      "Episode  2 Total reward: 87.0\n",
      "Episode  3 Total reward: 15.0\n",
      "Episode  4 Total reward: 23.0\n",
      "Episode  5 Total reward: 27.0\n",
      "Episode  6 Total reward: 29.0\n",
      "Episode  7 Total reward: 72.0\n",
      "Episode  8 Total reward: 64.0\n",
      "Episode  9 Total reward: 27.0\n",
      "Episode  10 Total reward: 45.0\n",
      "Episode  11 Total reward: 15.0\n",
      "Episode  12 Total reward: 42.0\n",
      "Episode  13 Total reward: 24.0\n",
      "Episode  14 Total reward: 12.0\n",
      "Episode  15 Total reward: 26.0\n",
      "Episode  16 Total reward: 16.0\n",
      "Episode  17 Total reward: 60.0\n",
      "Episode  18 Total reward: 22.0\n",
      "Episode  19 Total reward: 38.0\n",
      "Episode  20 Total reward: 30.0\n",
      "Episode  21 Total reward: 19.0\n",
      "Episode  22 Total reward: 17.0\n",
      "Episode  23 Total reward: 22.0\n",
      "Episode  24 Total reward: 23.0\n",
      "Episode  25 Total reward: 26.0\n",
      "Episode  26 Total reward: 22.0\n",
      "Episode  27 Total reward: 9.0\n",
      "Episode  28 Total reward: 15.0\n",
      "Episode  29 Total reward: 27.0\n",
      "Episode  30 Total reward: 25.0\n",
      "Episode  31 Total reward: 13.0\n",
      "Episode  32 Total reward: 13.0\n",
      "Episode  33 Total reward: 14.0\n",
      "Episode  34 Total reward: 20.0\n",
      "Episode  35 Total reward: 9.0\n",
      "Episode  36 Total reward: 57.0\n",
      "Episode  37 Total reward: 11.0\n",
      "Episode  38 Total reward: 17.0\n",
      "Episode  39 Total reward: 27.0\n",
      "Episode  40 Total reward: 24.0\n",
      "Episode  41 Total reward: 25.0\n",
      "Episode  42 Total reward: 15.0\n",
      "Episode  43 Total reward: 34.0\n",
      "Episode  44 Total reward: 15.0\n",
      "Episode  45 Total reward: 30.0\n",
      "Episode  46 Total reward: 10.0\n",
      "Episode  47 Total reward: 16.0\n",
      "Episode  48 Total reward: 14.0\n",
      "Episode  49 Total reward: 10.0\n"
     ]
    },
    {
     "data": {
      "image/png": "[encoded data removed]",
      "text/plain": [
       "<Figure size 640x480 with 1 Axes>"
      ]
     },
     "metadata": {},
     "output_type": "display_data"
    },
    {
     "name": "stdout",
     "output_type": "stream",
     "text": [
      "\n",
      "Recompensa de Media: 26.28 \n",
      "\n"
     ]
    }
   ],
   "source": [
    "# Evaluamos al Generador \n",
    "rewardMean=gan4.evaluate_G()\n",
    "print('\\nRecompensa de Media:', rewardMean, '\\n')"
   ]
  },
  {
   "cell_type": "markdown",
   "metadata": {},
   "source": [
    "## Experimento 5"
   ]
  },
  {
   "cell_type": "markdown",
   "metadata": {},
   "source": [
    "### Construcción de base de datos experta con 5 trayectoria "
   ]
  },
  {
   "cell_type": "code",
   "execution_count": 51,
   "metadata": {},
   "outputs": [
    {
     "name": "stdout",
     "output_type": "stream",
     "text": [
      "\n",
      "\tEstados reales: \n",
      " [[ 0.00572823 -0.03831238  0.03101629  0.00900886]\n",
      " [ 0.00496198  0.15635134  0.03119646 -0.27372897]\n",
      " [ 0.00808901 -0.03920152  0.02572188  0.02862788]\n",
      " ...\n",
      " [-0.03035956 -0.1520803   0.0103268   0.24866116]\n",
      " [-0.03340117  0.04289266  0.01530002 -0.04074667]\n",
      " [-0.03254332  0.23779191  0.01448509 -0.3285633 ]]\n",
      "\tAcciones reales: \n",
      " [1 0 1 ... 1 1 0]\n",
      "\n",
      "\t Estados siguientes: \n",
      " [[ 0.00572823 -0.03831238  0.03101629  0.00900886]\n",
      " [ 0.00496198  0.15635134  0.03119646 -0.27372897]\n",
      " [ 0.00808901 -0.03920152  0.02572188  0.02862788]\n",
      " ...\n",
      " [-0.03035956 -0.1520803   0.0103268   0.24866116]\n",
      " [-0.03340117  0.04289266  0.01530002 -0.04074667]\n",
      " [-0.03254332  0.23779191  0.01448509 -0.3285633 ]]\n",
      "\n",
      "\t Recompensas: [1 1 1 ... 1 1 1]\n"
     ]
    }
   ],
   "source": [
    "expert_observations = np.genfromtxt(\"observations_CartPole_.csv\",delimiter=\"\\t\",dtype=str)\n",
    "expert_actions = np.genfromtxt('actions_CartPole_.csv', dtype=np.int32)\n",
    "expert_next_observations = np.genfromtxt('next_observations_CartPole_.csv',delimiter=\"\\t\",dtype=str)\n",
    "expert_rewards = np.genfromtxt('rewards_CartPole_.csv', dtype=np.int32)\n",
    "expert_num_tray=np.genfromtxt('n_trayectoria_CartPole_.csv', dtype=np.int32)\n",
    "\n",
    "# Reemplazar las comas\n",
    "expert_observations = np.core.defchararray.replace(expert_observations, ',', ' ')\n",
    "\n",
    "# Reemplazar las comas\n",
    "expert_next_observations = np.core.defchararray.replace(expert_next_observations, ',', ' ')\n",
    "\n",
    "# Crear un nuevo array para almacenar los datos convertidos\n",
    "converted_observations = np.genfromtxt(expert_observations, delimiter=' ', dtype=float)\n",
    "# Crear un nuevo array para almacenar los datos convertidos\n",
    "converted_next_observations = np.genfromtxt(expert_observations, delimiter=' ', dtype=float)\n",
    "\n",
    "\n",
    "rewards=np.array(expert_rewards).reshape(-1,1)\n",
    "\n",
    "\n",
    "print(\"\\n\\tEstados reales: \\n\", converted_observations)\n",
    "print(\"\\tAcciones reales: \\n\", expert_actions)\n",
    "print(\"\\n\\t Estados siguientes: \\n\", converted_next_observations)\n",
    "print(\"\\n\\t Recompensas:\" ,expert_rewards)"
   ]
  },
  {
   "cell_type": "code",
   "execution_count": 52,
   "metadata": {},
   "outputs": [
    {
     "name": "stdout",
     "output_type": "stream",
     "text": [
      "2500\n"
     ]
    }
   ],
   "source": [
    "longitud_trayectoria += np.count_nonzero(expert_num_tray == 4)\n",
    "print(longitud_trayectoria)"
   ]
  },
  {
   "cell_type": "code",
   "execution_count": 53,
   "metadata": {},
   "outputs": [],
   "source": [
    "# Nos quedamos solo con la primera trayectoria\n",
    "converted_observations=converted_observations[0:longitud_trayectoria]\n",
    "expert_actions=expert_actions[0:longitud_trayectoria]\n",
    "converted_next_observations=converted_next_observations[0:longitud_trayectoria]\n",
    "expert_rewards=expert_rewards[0:longitud_trayectoria]"
   ]
  },
  {
   "cell_type": "code",
   "execution_count": 54,
   "metadata": {},
   "outputs": [],
   "source": [
    "# Construimos el dataset [s,a,s',r] reales y lo dividimos en training y test\n",
    "expert_a_one_hot=np.eye(env.action_space.n)[expert_actions]\n",
    "expert_rewards = expert_rewards.reshape(-1, 1)\n",
    "\n",
    "dataset1=np.concatenate([converted_observations,expert_a_one_hot],axis=1)\n",
    "dataset2=np.concatenate([dataset1,converted_next_observations],axis=1)\n",
    "dataset=np.concatenate([dataset2,expert_rewards],axis=1)\n"
   ]
  },
  {
   "cell_type": "code",
   "execution_count": 55,
   "metadata": {},
   "outputs": [
    {
     "name": "stdout",
     "output_type": "stream",
     "text": [
      "Nº de (ESTADOS,ACCIONES) en el conjunto de entrenamiento: 2000\n",
      "Nº de (ESTADOS,ACCIONES) en el conjunto de prueba: 500\n"
     ]
    }
   ],
   "source": [
    "#############################################################################\n",
    "# DIVISIÓN TRAIN Y TEST\n",
    "##############################################################################\n",
    "\n",
    "# Divide los datos en conjuntos de entrenamiento y prueba\n",
    "X_train, X_test = train_test_split(dataset, test_size=0.2, random_state=0)\n",
    "\n",
    "\n",
    "#Imprime el número de elementos en el conjuntos de entrenamiento y prueba\n",
    "print('Nº de (ESTADOS,ACCIONES) en el conjunto de entrenamiento:', len(X_train))\n",
    "print('Nº de (ESTADOS,ACCIONES) en el conjunto de prueba:', len(X_test))\n"
   ]
  },
  {
   "cell_type": "code",
   "execution_count": 56,
   "metadata": {},
   "outputs": [],
   "source": [
    "env= gym.make('CartPole-v1')\n",
    "obs,_= env.reset()\n",
    "\n",
    "# Generador\n",
    "generator=Policy_net( 'policy', env, obs)\n",
    "\n",
    "# Generamos [s,a, s', r] falsas y las políticas theta_i y theta_i+1\n",
    "observations, actions, next_observations, rewards, Old_Policy, Policy=generator.generate_fakes()\n",
    "\n",
    "# Discriminador\n",
    "discriminator=Discriminator(env, discriminator_net, converted_observations, expert_actions, converted_next_observations, expert_rewards, observations, actions, next_observations, rewards)"
   ]
  },
  {
   "cell_type": "markdown",
   "metadata": {},
   "source": [
    "### Definición de GAIL"
   ]
  },
  {
   "cell_type": "code",
   "execution_count": 57,
   "metadata": {},
   "outputs": [],
   "source": [
    "gan5=GAN(discriminator=discriminator,generator=generator)"
   ]
  },
  {
   "cell_type": "markdown",
   "metadata": {},
   "source": [
    "### Compilación de GAIL"
   ]
  },
  {
   "cell_type": "code",
   "execution_count": 58,
   "metadata": {},
   "outputs": [],
   "source": [
    "tf.config.run_functions_eagerly(True)\n",
    "gan5.compile(\n",
    "    d_optimizer=tf.keras.optimizers.Adam(learning_rate=LEARNING_RATE),\n",
    "    loss_fn_D=loss_fn_D\n",
    ")"
   ]
  },
  {
   "cell_type": "markdown",
   "metadata": {},
   "source": [
    "### Entrenamiento de GAIL"
   ]
  },
  {
   "cell_type": "code",
   "execution_count": 59,
   "metadata": {},
   "outputs": [
    {
     "name": "stdout",
     "output_type": "stream",
     "text": [
      "286/286 [==============================] - 8491s 30s/step - d_loss: 1.9041 - g_loss: -1.0151\n"
     ]
    }
   ],
   "source": [
    "# Deshabilitar los mensajes de información de TensorFlow\n",
    "os.environ['TF_CPP_MIN_LOG_LEVEL'] = '3'\n",
    "\n",
    "# Deshabilitar los mensajes de información de OpenAI Gym\n",
    "gym.logger.set_level(40)\n",
    "\n",
    "BATCH_SIZE= round(len(X_train)/300)\n",
    "\n",
    "history=gan5.fit(X_train,\n",
    "    epochs=EPOCHS, batch_size=BATCH_SIZE)\n",
    "\n"
   ]
  },
  {
   "cell_type": "markdown",
   "metadata": {},
   "source": [
    "### Evaluación de GAIL"
   ]
  },
  {
   "cell_type": "code",
   "execution_count": 60,
   "metadata": {},
   "outputs": [
    {
     "name": "stdout",
     "output_type": "stream",
     "text": [
      "1/1 [==============================] - 0s 15ms/step - loss: 2.2888e-08 - accuracy: 0.0000e+00\n",
      "1/1 [==============================] - 0s 15ms/step - loss: 6.8545e-08 - accuracy: 0.0000e+00\n",
      ">Loss real: \n",
      "2.2888187345415645e-08\n",
      ">Loss fake: \n",
      "6.854535428146846e-08\n"
     ]
    }
   ],
   "source": [
    "# Evaluamos el Discriminador de GAIL en el TEST\n",
    "gan5.evaluate_D(X_test)\n"
   ]
  },
  {
   "cell_type": "code",
   "execution_count": 61,
   "metadata": {},
   "outputs": [
    {
     "name": "stdout",
     "output_type": "stream",
     "text": [
      "Episode  0 Total reward: 21.0\n",
      "Episode  1 Total reward: 17.0\n",
      "Episode  2 Total reward: 15.0\n",
      "Episode  3 Total reward: 44.0\n",
      "Episode  4 Total reward: 18.0\n",
      "Episode  5 Total reward: 37.0\n",
      "Episode  6 Total reward: 20.0\n",
      "Episode  7 Total reward: 14.0\n",
      "Episode  8 Total reward: 58.0\n",
      "Episode  9 Total reward: 17.0\n",
      "Episode  10 Total reward: 18.0\n",
      "Episode  11 Total reward: 66.0\n",
      "Episode  12 Total reward: 16.0\n",
      "Episode  13 Total reward: 13.0\n",
      "Episode  14 Total reward: 16.0\n",
      "Episode  15 Total reward: 31.0\n",
      "Episode  16 Total reward: 17.0\n",
      "Episode  17 Total reward: 25.0\n",
      "Episode  18 Total reward: 31.0\n",
      "Episode  19 Total reward: 16.0\n",
      "Episode  20 Total reward: 17.0\n",
      "Episode  21 Total reward: 15.0\n",
      "Episode  22 Total reward: 27.0\n",
      "Episode  23 Total reward: 9.0\n",
      "Episode  24 Total reward: 33.0\n",
      "Episode  25 Total reward: 26.0\n",
      "Episode  26 Total reward: 22.0\n",
      "Episode  27 Total reward: 52.0\n",
      "Episode  28 Total reward: 60.0\n",
      "Episode  29 Total reward: 12.0\n",
      "Episode  30 Total reward: 24.0\n",
      "Episode  31 Total reward: 24.0\n",
      "Episode  32 Total reward: 22.0\n",
      "Episode  33 Total reward: 26.0\n",
      "Episode  34 Total reward: 15.0\n",
      "Episode  35 Total reward: 10.0\n",
      "Episode  36 Total reward: 21.0\n",
      "Episode  37 Total reward: 23.0\n",
      "Episode  38 Total reward: 28.0\n",
      "Episode  39 Total reward: 16.0\n",
      "Episode  40 Total reward: 17.0\n",
      "Episode  41 Total reward: 20.0\n",
      "Episode  42 Total reward: 14.0\n",
      "Episode  43 Total reward: 28.0\n",
      "Episode  44 Total reward: 13.0\n",
      "Episode  45 Total reward: 15.0\n",
      "Episode  46 Total reward: 12.0\n",
      "Episode  47 Total reward: 22.0\n",
      "Episode  48 Total reward: 27.0\n",
      "Episode  49 Total reward: 31.0\n"
     ]
    },
    {
     "data": {
      "image/png": "[encoded data removed]",
      "text/plain": [
       "<Figure size 640x480 with 1 Axes>"
      ]
     },
     "metadata": {},
     "output_type": "display_data"
    },
    {
     "name": "stdout",
     "output_type": "stream",
     "text": [
      "\n",
      "Recompensa de Media: 23.82 \n",
      "\n"
     ]
    }
   ],
   "source": [
    "# Evaluamos al Generador \n",
    "rewardMean=gan5.evaluate_G()\n",
    "print('\\nRecompensa de Media:', rewardMean, '\\n')"
   ]
  },
  {
   "cell_type": "markdown",
   "metadata": {},
   "source": [
    "## Experimento 6"
   ]
  },
  {
   "cell_type": "markdown",
   "metadata": {},
   "source": [
    "### Construcción de base de datos experta con 1 trayectoria "
   ]
  },
  {
   "cell_type": "code",
   "execution_count": 62,
   "metadata": {},
   "outputs": [
    {
     "name": "stdout",
     "output_type": "stream",
     "text": [
      "\n",
      "\tEstados reales: \n",
      " [[ 0.00572823 -0.03831238  0.03101629  0.00900886]\n",
      " [ 0.00496198  0.15635134  0.03119646 -0.27372897]\n",
      " [ 0.00808901 -0.03920152  0.02572188  0.02862788]\n",
      " ...\n",
      " [-0.03035956 -0.1520803   0.0103268   0.24866116]\n",
      " [-0.03340117  0.04289266  0.01530002 -0.04074667]\n",
      " [-0.03254332  0.23779191  0.01448509 -0.3285633 ]]\n",
      "\tAcciones reales: \n",
      " [1 0 1 ... 1 1 0]\n",
      "\n",
      "\t Estados siguientes: \n",
      " [[ 0.00572823 -0.03831238  0.03101629  0.00900886]\n",
      " [ 0.00496198  0.15635134  0.03119646 -0.27372897]\n",
      " [ 0.00808901 -0.03920152  0.02572188  0.02862788]\n",
      " ...\n",
      " [-0.03035956 -0.1520803   0.0103268   0.24866116]\n",
      " [-0.03340117  0.04289266  0.01530002 -0.04074667]\n",
      " [-0.03254332  0.23779191  0.01448509 -0.3285633 ]]\n",
      "\n",
      "\t Recompensas: [1 1 1 ... 1 1 1]\n"
     ]
    }
   ],
   "source": [
    "expert_observations = np.genfromtxt(\"observations_CartPole_.csv\",delimiter=\"\\t\",dtype=str)\n",
    "expert_actions = np.genfromtxt('actions_CartPole_.csv', dtype=np.int32)\n",
    "expert_next_observations = np.genfromtxt('next_observations_CartPole_.csv',delimiter=\"\\t\",dtype=str)\n",
    "expert_rewards = np.genfromtxt('rewards_CartPole_.csv', dtype=np.int32)\n",
    "expert_num_tray=np.genfromtxt('n_trayectoria_CartPole_.csv', dtype=np.int32)\n",
    "\n",
    "# Reemplazar las comas\n",
    "expert_observations = np.core.defchararray.replace(expert_observations, ',', ' ')\n",
    "\n",
    "# Reemplazar las comas\n",
    "expert_next_observations = np.core.defchararray.replace(expert_next_observations, ',', ' ')\n",
    "\n",
    "# Crear un nuevo array para almacenar los datos convertidos\n",
    "converted_observations = np.genfromtxt(expert_observations, delimiter=' ', dtype=float)\n",
    "# Crear un nuevo array para almacenar los datos convertidos\n",
    "converted_next_observations = np.genfromtxt(expert_observations, delimiter=' ', dtype=float)\n",
    "\n",
    "\n",
    "rewards=np.array(expert_rewards).reshape(-1,1)\n",
    "\n",
    "\n",
    "print(\"\\n\\tEstados reales: \\n\", converted_observations)\n",
    "print(\"\\tAcciones reales: \\n\", expert_actions)\n",
    "print(\"\\n\\t Estados siguientes: \\n\", converted_next_observations)\n",
    "print(\"\\n\\t Recompensas:\" ,expert_rewards)"
   ]
  },
  {
   "cell_type": "code",
   "execution_count": 63,
   "metadata": {},
   "outputs": [
    {
     "name": "stdout",
     "output_type": "stream",
     "text": [
      "3000\n"
     ]
    }
   ],
   "source": [
    "longitud_trayectoria += np.count_nonzero(expert_num_tray == 5)\n",
    "print(longitud_trayectoria)"
   ]
  },
  {
   "cell_type": "code",
   "execution_count": 64,
   "metadata": {},
   "outputs": [],
   "source": [
    "# Nos quedamos solo con la primera trayectoria\n",
    "converted_observations=converted_observations[0:longitud_trayectoria]\n",
    "expert_actions=expert_actions[0:longitud_trayectoria]\n",
    "converted_next_observations=converted_next_observations[0:longitud_trayectoria]\n",
    "expert_rewards=expert_rewards[0:longitud_trayectoria]"
   ]
  },
  {
   "cell_type": "code",
   "execution_count": 65,
   "metadata": {},
   "outputs": [],
   "source": [
    "# Construimos el dataset [s,a,s',r] reales y lo dividimos en training y test\n",
    "expert_a_one_hot=np.eye(env.action_space.n)[expert_actions]\n",
    "expert_rewards = expert_rewards.reshape(-1, 1)\n",
    "\n",
    "dataset1=np.concatenate([converted_observations,expert_a_one_hot],axis=1)\n",
    "dataset2=np.concatenate([dataset1,converted_next_observations],axis=1)\n",
    "dataset=np.concatenate([dataset2,expert_rewards],axis=1)\n"
   ]
  },
  {
   "cell_type": "code",
   "execution_count": 66,
   "metadata": {},
   "outputs": [
    {
     "name": "stdout",
     "output_type": "stream",
     "text": [
      "Nº de (ESTADOS,ACCIONES) en el conjunto de entrenamiento: 2400\n",
      "Nº de (ESTADOS,ACCIONES) en el conjunto de prueba: 600\n"
     ]
    }
   ],
   "source": [
    "#############################################################################\n",
    "# DIVISIÓN TRAIN Y TEST\n",
    "##############################################################################\n",
    "\n",
    "# Divide los datos en conjuntos de entrenamiento y prueba\n",
    "X_train, X_test = train_test_split(dataset, test_size=0.2, random_state=0)\n",
    "\n",
    "\n",
    "#Imprime el número de elementos en el conjuntos de entrenamiento y prueba\n",
    "print('Nº de (ESTADOS,ACCIONES) en el conjunto de entrenamiento:', len(X_train))\n",
    "print('Nº de (ESTADOS,ACCIONES) en el conjunto de prueba:', len(X_test))\n"
   ]
  },
  {
   "cell_type": "code",
   "execution_count": 67,
   "metadata": {},
   "outputs": [],
   "source": [
    "env= gym.make('CartPole-v1')\n",
    "obs,_= env.reset()\n",
    "\n",
    "# Generador\n",
    "generator=Policy_net( 'policy', env, obs)\n",
    "\n",
    "# Generamos [s,a, s', r] falsas y las políticas theta_i y theta_i+1\n",
    "observations, actions, next_observations, rewards, Old_Policy, Policy=generator.generate_fakes()\n",
    "\n",
    "# Discriminador\n",
    "discriminator=Discriminator(env, discriminator_net, converted_observations, expert_actions, converted_next_observations, expert_rewards, observations, actions, next_observations, rewards)"
   ]
  },
  {
   "cell_type": "markdown",
   "metadata": {},
   "source": [
    "### Definición de GAIL"
   ]
  },
  {
   "cell_type": "code",
   "execution_count": 68,
   "metadata": {},
   "outputs": [],
   "source": [
    "gan6=GAN(discriminator=discriminator,generator=generator)"
   ]
  },
  {
   "cell_type": "markdown",
   "metadata": {},
   "source": [
    "### Compilación de GAIL"
   ]
  },
  {
   "cell_type": "code",
   "execution_count": 69,
   "metadata": {},
   "outputs": [],
   "source": [
    "tf.config.run_functions_eagerly(True)\n",
    "gan6.compile(\n",
    "    d_optimizer=tf.keras.optimizers.Adam(learning_rate=LEARNING_RATE),\n",
    "    loss_fn_D=loss_fn_D\n",
    ")"
   ]
  },
  {
   "cell_type": "markdown",
   "metadata": {},
   "source": [
    "### Entrenamiento de GAIL"
   ]
  },
  {
   "cell_type": "code",
   "execution_count": 70,
   "metadata": {},
   "outputs": [
    {
     "name": "stdout",
     "output_type": "stream",
     "text": [
      "300/300 [==============================] - 8909s 30s/step - d_loss: 1.8985 - g_loss: -1.0164\n"
     ]
    }
   ],
   "source": [
    "# Deshabilitar los mensajes de información de TensorFlow\n",
    "os.environ['TF_CPP_MIN_LOG_LEVEL'] = '3'\n",
    "\n",
    "# Deshabilitar los mensajes de información de OpenAI Gym\n",
    "gym.logger.set_level(40)\n",
    "\n",
    "BATCH_SIZE= round(len(X_train)/300)\n",
    "\n",
    "history=gan6.fit(X_train,\n",
    "    epochs=EPOCHS, batch_size=BATCH_SIZE)\n",
    "\n"
   ]
  },
  {
   "cell_type": "markdown",
   "metadata": {},
   "source": [
    "### Evaluación de GAIL"
   ]
  },
  {
   "cell_type": "code",
   "execution_count": 71,
   "metadata": {},
   "outputs": [
    {
     "name": "stdout",
     "output_type": "stream",
     "text": [
      "1/1 [==============================] - 0s 16ms/step - loss: 0.0000e+00 - accuracy: 0.0000e+00\n",
      "1/1 [==============================] - 0s 14ms/step - loss: 0.0000e+00 - accuracy: 0.0000e+00\n",
      ">Loss real: \n",
      "0.0\n",
      ">Loss fake: \n",
      "0.0\n"
     ]
    }
   ],
   "source": [
    "# Evaluamos el Discriminador de GAIL en el TEST\n",
    "gan6.evaluate_D(X_test)\n"
   ]
  },
  {
   "cell_type": "code",
   "execution_count": 72,
   "metadata": {},
   "outputs": [
    {
     "name": "stdout",
     "output_type": "stream",
     "text": [
      "Episode  0 Total reward: 22.0\n",
      "Episode  1 Total reward: 12.0\n",
      "Episode  2 Total reward: 18.0\n",
      "Episode  3 Total reward: 46.0\n",
      "Episode  4 Total reward: 37.0\n",
      "Episode  5 Total reward: 35.0\n",
      "Episode  6 Total reward: 29.0\n",
      "Episode  7 Total reward: 16.0\n",
      "Episode  8 Total reward: 30.0\n",
      "Episode  9 Total reward: 18.0\n",
      "Episode  10 Total reward: 14.0\n",
      "Episode  11 Total reward: 37.0\n",
      "Episode  12 Total reward: 19.0\n",
      "Episode  13 Total reward: 41.0\n",
      "Episode  14 Total reward: 27.0\n",
      "Episode  15 Total reward: 13.0\n",
      "Episode  16 Total reward: 38.0\n",
      "Episode  17 Total reward: 62.0\n",
      "Episode  18 Total reward: 28.0\n",
      "Episode  19 Total reward: 16.0\n",
      "Episode  20 Total reward: 23.0\n",
      "Episode  21 Total reward: 14.0\n",
      "Episode  22 Total reward: 78.0\n",
      "Episode  23 Total reward: 15.0\n",
      "Episode  24 Total reward: 45.0\n",
      "Episode  25 Total reward: 12.0\n",
      "Episode  26 Total reward: 14.0\n",
      "Episode  27 Total reward: 23.0\n",
      "Episode  28 Total reward: 55.0\n",
      "Episode  29 Total reward: 22.0\n",
      "Episode  30 Total reward: 56.0\n",
      "Episode  31 Total reward: 35.0\n",
      "Episode  32 Total reward: 22.0\n",
      "Episode  33 Total reward: 56.0\n",
      "Episode  34 Total reward: 14.0\n",
      "Episode  35 Total reward: 15.0\n",
      "Episode  36 Total reward: 77.0\n",
      "Episode  37 Total reward: 15.0\n",
      "Episode  38 Total reward: 15.0\n",
      "Episode  39 Total reward: 21.0\n",
      "Episode  40 Total reward: 42.0\n",
      "Episode  41 Total reward: 19.0\n",
      "Episode  42 Total reward: 50.0\n",
      "Episode  43 Total reward: 37.0\n",
      "Episode  44 Total reward: 50.0\n",
      "Episode  45 Total reward: 23.0\n",
      "Episode  46 Total reward: 65.0\n",
      "Episode  47 Total reward: 32.0\n",
      "Episode  48 Total reward: 11.0\n",
      "Episode  49 Total reward: 18.0\n"
     ]
    },
    {
     "data": {
      "image/png": "[encoded data removed]",
      "text/plain": [
       "<Figure size 640x480 with 1 Axes>"
      ]
     },
     "metadata": {},
     "output_type": "display_data"
    },
    {
     "name": "stdout",
     "output_type": "stream",
     "text": [
      "\n",
      "Recompensa de Media: 30.64 \n",
      "\n"
     ]
    }
   ],
   "source": [
    "# Evaluamos al Generador \n",
    "rewardMean=gan6.evaluate_G()\n",
    "print('\\nRecompensa de Media:', rewardMean, '\\n')"
   ]
  },
  {
   "cell_type": "markdown",
   "metadata": {},
   "source": [
    "## Experimento 7"
   ]
  },
  {
   "cell_type": "markdown",
   "metadata": {},
   "source": [
    "### Construcción de base de datos experta con 7 trayectoria "
   ]
  },
  {
   "cell_type": "code",
   "execution_count": 73,
   "metadata": {},
   "outputs": [
    {
     "name": "stdout",
     "output_type": "stream",
     "text": [
      "\n",
      "\tEstados reales: \n",
      " [[ 0.00572823 -0.03831238  0.03101629  0.00900886]\n",
      " [ 0.00496198  0.15635134  0.03119646 -0.27372897]\n",
      " [ 0.00808901 -0.03920152  0.02572188  0.02862788]\n",
      " ...\n",
      " [-0.03035956 -0.1520803   0.0103268   0.24866116]\n",
      " [-0.03340117  0.04289266  0.01530002 -0.04074667]\n",
      " [-0.03254332  0.23779191  0.01448509 -0.3285633 ]]\n",
      "\tAcciones reales: \n",
      " [1 0 1 ... 1 1 0]\n",
      "\n",
      "\t Estados siguientes: \n",
      " [[ 0.00572823 -0.03831238  0.03101629  0.00900886]\n",
      " [ 0.00496198  0.15635134  0.03119646 -0.27372897]\n",
      " [ 0.00808901 -0.03920152  0.02572188  0.02862788]\n",
      " ...\n",
      " [-0.03035956 -0.1520803   0.0103268   0.24866116]\n",
      " [-0.03340117  0.04289266  0.01530002 -0.04074667]\n",
      " [-0.03254332  0.23779191  0.01448509 -0.3285633 ]]\n",
      "\n",
      "\t Recompensas: [1 1 1 ... 1 1 1]\n"
     ]
    }
   ],
   "source": [
    "expert_observations = np.genfromtxt(\"observations_CartPole_.csv\",delimiter=\"\\t\",dtype=str)\n",
    "expert_actions = np.genfromtxt('actions_CartPole_.csv', dtype=np.int32)\n",
    "expert_next_observations = np.genfromtxt('next_observations_CartPole_.csv',delimiter=\"\\t\",dtype=str)\n",
    "expert_rewards = np.genfromtxt('rewards_CartPole_.csv', dtype=np.int32)\n",
    "expert_num_tray=np.genfromtxt('n_trayectoria_CartPole_.csv', dtype=np.int32)\n",
    "\n",
    "# Reemplazar las comas\n",
    "expert_observations = np.core.defchararray.replace(expert_observations, ',', ' ')\n",
    "\n",
    "# Reemplazar las comas\n",
    "expert_next_observations = np.core.defchararray.replace(expert_next_observations, ',', ' ')\n",
    "\n",
    "# Crear un nuevo array para almacenar los datos convertidos\n",
    "converted_observations = np.genfromtxt(expert_observations, delimiter=' ', dtype=float)\n",
    "# Crear un nuevo array para almacenar los datos convertidos\n",
    "converted_next_observations = np.genfromtxt(expert_observations, delimiter=' ', dtype=float)\n",
    "\n",
    "\n",
    "rewards=np.array(expert_rewards).reshape(-1,1)\n",
    "\n",
    "\n",
    "print(\"\\n\\tEstados reales: \\n\", converted_observations)\n",
    "print(\"\\tAcciones reales: \\n\", expert_actions)\n",
    "print(\"\\n\\t Estados siguientes: \\n\", converted_next_observations)\n",
    "print(\"\\n\\t Recompensas:\" ,expert_rewards)"
   ]
  },
  {
   "cell_type": "code",
   "execution_count": 74,
   "metadata": {},
   "outputs": [
    {
     "name": "stdout",
     "output_type": "stream",
     "text": [
      "3500\n"
     ]
    }
   ],
   "source": [
    "longitud_trayectoria += np.count_nonzero(expert_num_tray == 6)\n",
    "print(longitud_trayectoria)"
   ]
  },
  {
   "cell_type": "code",
   "execution_count": 75,
   "metadata": {},
   "outputs": [],
   "source": [
    "# Nos quedamos solo con la primera trayectoria\n",
    "converted_observations=converted_observations[0:longitud_trayectoria]\n",
    "expert_actions=expert_actions[0:longitud_trayectoria]\n",
    "converted_next_observations=converted_next_observations[0:longitud_trayectoria]\n",
    "expert_rewards=expert_rewards[0:longitud_trayectoria]"
   ]
  },
  {
   "cell_type": "code",
   "execution_count": 77,
   "metadata": {},
   "outputs": [],
   "source": [
    "# Construimos el dataset [s,a,s',r] reales y lo dividimos en training y test\n",
    "expert_a_one_hot=np.eye(env.action_space.n)[expert_actions]\n",
    "expert_rewards = expert_rewards.reshape(-1, 1)\n",
    "\n",
    "dataset1=np.concatenate([converted_observations,expert_a_one_hot],axis=1)\n",
    "dataset2=np.concatenate([dataset1,converted_next_observations],axis=1)\n",
    "dataset=np.concatenate([dataset2,expert_rewards],axis=1)\n"
   ]
  },
  {
   "cell_type": "code",
   "execution_count": 78,
   "metadata": {},
   "outputs": [
    {
     "name": "stdout",
     "output_type": "stream",
     "text": [
      "Nº de (ESTADOS,ACCIONES) en el conjunto de entrenamiento: 2800\n",
      "Nº de (ESTADOS,ACCIONES) en el conjunto de prueba: 700\n"
     ]
    }
   ],
   "source": [
    "#############################################################################\n",
    "# DIVISIÓN TRAIN Y TEST\n",
    "##############################################################################\n",
    "\n",
    "# Divide los datos en conjuntos de entrenamiento y prueba\n",
    "X_train, X_test = train_test_split(dataset, test_size=0.2, random_state=0)\n",
    "\n",
    "\n",
    "#Imprime el número de elementos en el conjuntos de entrenamiento y prueba\n",
    "print('Nº de (ESTADOS,ACCIONES) en el conjunto de entrenamiento:', len(X_train))\n",
    "print('Nº de (ESTADOS,ACCIONES) en el conjunto de prueba:', len(X_test))\n"
   ]
  },
  {
   "cell_type": "code",
   "execution_count": 79,
   "metadata": {},
   "outputs": [],
   "source": [
    "env= gym.make('CartPole-v1')\n",
    "obs,_= env.reset()\n",
    "\n",
    "# Generador\n",
    "generator=Policy_net( 'policy', env, obs)\n",
    "\n",
    "# Generamos [s,a, s', r] falsas y las políticas theta_i y theta_i+1\n",
    "observations, actions, next_observations, rewards, Old_Policy, Policy=generator.generate_fakes()\n",
    "\n",
    "# Discriminador\n",
    "discriminator=Discriminator(env, discriminator_net, converted_observations, expert_actions, converted_next_observations, expert_rewards, observations, actions, next_observations, rewards)"
   ]
  },
  {
   "cell_type": "markdown",
   "metadata": {},
   "source": [
    "### Definición de GAIL"
   ]
  },
  {
   "cell_type": "code",
   "execution_count": 80,
   "metadata": {},
   "outputs": [],
   "source": [
    "gan7=GAN(discriminator=discriminator,generator=generator)"
   ]
  },
  {
   "cell_type": "markdown",
   "metadata": {},
   "source": [
    "### Compilación de GAIL"
   ]
  },
  {
   "cell_type": "code",
   "execution_count": 81,
   "metadata": {},
   "outputs": [],
   "source": [
    "tf.config.run_functions_eagerly(True)\n",
    "gan7.compile(\n",
    "    d_optimizer=tf.keras.optimizers.Adam(learning_rate=LEARNING_RATE),\n",
    "    loss_fn_D=loss_fn_D\n",
    ")"
   ]
  },
  {
   "cell_type": "markdown",
   "metadata": {},
   "source": [
    "### Entrenamiento de GAIL"
   ]
  },
  {
   "cell_type": "code",
   "execution_count": 82,
   "metadata": {},
   "outputs": [
    {
     "name": "stderr",
     "output_type": "stream",
     "text": [
      "/home/usuario/.local/lib/python3.10/site-packages/tensorflow/python/data/ops/structured_function.py:265: UserWarning: Even though the `tf.config.experimental_run_functions_eagerly` option is set, this option does not apply to tf.data functions. To force eager execution of tf.data functions, please use `tf.data.experimental.enable_debug_mode()`.\n",
      "  warnings.warn(\n"
     ]
    },
    {
     "name": "stdout",
     "output_type": "stream",
     "text": [
      "312/312 [==============================] - 9325s 30s/step - d_loss: 1.8974 - g_loss: -0.9849\n"
     ]
    }
   ],
   "source": [
    "# Deshabilitar los mensajes de información de TensorFlow\n",
    "os.environ['TF_CPP_MIN_LOG_LEVEL'] = '3'\n",
    "\n",
    "# Deshabilitar los mensajes de información de OpenAI Gym\n",
    "gym.logger.set_level(40)\n",
    "\n",
    "BATCH_SIZE= round(len(X_train)/300)\n",
    "\n",
    "history=gan7.fit(X_train,\n",
    "    epochs=EPOCHS, batch_size=BATCH_SIZE)\n",
    "\n"
   ]
  },
  {
   "cell_type": "markdown",
   "metadata": {},
   "source": [
    "### Evaluación de GAIL"
   ]
  },
  {
   "cell_type": "code",
   "execution_count": 83,
   "metadata": {},
   "outputs": [
    {
     "name": "stdout",
     "output_type": "stream",
     "text": [
      "1/1 [==============================] - 0s 16ms/step - loss: 0.0000e+00 - accuracy: 0.0000e+00\n",
      "1/1 [==============================] - 0s 15ms/step - loss: 0.0000e+00 - accuracy: 0.0000e+00\n",
      ">Loss real: \n",
      "0.0\n",
      ">Loss fake: \n",
      "0.0\n"
     ]
    }
   ],
   "source": [
    "# Evaluamos el Discriminador de GAIL en el TEST\n",
    "gan7.evaluate_D(X_test)\n"
   ]
  },
  {
   "cell_type": "code",
   "execution_count": 84,
   "metadata": {},
   "outputs": [
    {
     "name": "stdout",
     "output_type": "stream",
     "text": [
      "Episode  0 Total reward: 25.0\n",
      "Episode  1 Total reward: 54.0\n",
      "Episode  2 Total reward: 13.0\n",
      "Episode  3 Total reward: 15.0\n",
      "Episode  4 Total reward: 25.0\n",
      "Episode  5 Total reward: 20.0\n",
      "Episode  6 Total reward: 10.0\n",
      "Episode  7 Total reward: 49.0\n",
      "Episode  8 Total reward: 66.0\n",
      "Episode  9 Total reward: 21.0\n",
      "Episode  10 Total reward: 17.0\n",
      "Episode  11 Total reward: 12.0\n",
      "Episode  12 Total reward: 19.0\n",
      "Episode  13 Total reward: 19.0\n",
      "Episode  14 Total reward: 16.0\n",
      "Episode  15 Total reward: 36.0\n",
      "Episode  16 Total reward: 13.0\n",
      "Episode  17 Total reward: 30.0\n",
      "Episode  18 Total reward: 18.0\n",
      "Episode  19 Total reward: 25.0\n",
      "Episode  20 Total reward: 17.0\n",
      "Episode  21 Total reward: 17.0\n",
      "Episode  22 Total reward: 37.0\n",
      "Episode  23 Total reward: 46.0\n",
      "Episode  24 Total reward: 18.0\n",
      "Episode  25 Total reward: 28.0\n",
      "Episode  26 Total reward: 10.0\n",
      "Episode  27 Total reward: 57.0\n",
      "Episode  28 Total reward: 14.0\n",
      "Episode  29 Total reward: 30.0\n",
      "Episode  30 Total reward: 15.0\n",
      "Episode  31 Total reward: 21.0\n",
      "Episode  32 Total reward: 9.0\n",
      "Episode  33 Total reward: 40.0\n",
      "Episode  34 Total reward: 16.0\n",
      "Episode  35 Total reward: 14.0\n",
      "Episode  36 Total reward: 15.0\n",
      "Episode  37 Total reward: 11.0\n",
      "Episode  38 Total reward: 31.0\n",
      "Episode  39 Total reward: 16.0\n",
      "Episode  40 Total reward: 58.0\n",
      "Episode  41 Total reward: 39.0\n",
      "Episode  42 Total reward: 59.0\n",
      "Episode  43 Total reward: 25.0\n",
      "Episode  44 Total reward: 20.0\n",
      "Episode  45 Total reward: 31.0\n",
      "Episode  46 Total reward: 27.0\n",
      "Episode  47 Total reward: 28.0\n",
      "Episode  48 Total reward: 32.0\n",
      "Episode  49 Total reward: 18.0\n"
     ]
    },
    {
     "data": {
      "image/png": "[encoded data removed]",
      "text/plain": [
       "<Figure size 640x480 with 1 Axes>"
      ]
     },
     "metadata": {},
     "output_type": "display_data"
    },
    {
     "name": "stdout",
     "output_type": "stream",
     "text": [
      "\n",
      "Recompensa de Media: 26.04 \n",
      "\n"
     ]
    }
   ],
   "source": [
    "# Evaluamos al Generador \n",
    "rewardMean=gan7.evaluate_G()\n",
    "print('\\nRecompensa de Media:', rewardMean, '\\n')"
   ]
  },
  {
   "cell_type": "markdown",
   "metadata": {},
   "source": [
    "## Experimento 8"
   ]
  },
  {
   "cell_type": "markdown",
   "metadata": {},
   "source": [
    "### Construcción de base de datos experta con 8 trayectoria "
   ]
  },
  {
   "cell_type": "code",
   "execution_count": 85,
   "metadata": {},
   "outputs": [
    {
     "name": "stdout",
     "output_type": "stream",
     "text": [
      "\n",
      "\tEstados reales: \n",
      " [[ 0.00572823 -0.03831238  0.03101629  0.00900886]\n",
      " [ 0.00496198  0.15635134  0.03119646 -0.27372897]\n",
      " [ 0.00808901 -0.03920152  0.02572188  0.02862788]\n",
      " ...\n",
      " [-0.03035956 -0.1520803   0.0103268   0.24866116]\n",
      " [-0.03340117  0.04289266  0.01530002 -0.04074667]\n",
      " [-0.03254332  0.23779191  0.01448509 -0.3285633 ]]\n",
      "\tAcciones reales: \n",
      " [1 0 1 ... 1 1 0]\n",
      "\n",
      "\t Estados siguientes: \n",
      " [[ 0.00572823 -0.03831238  0.03101629  0.00900886]\n",
      " [ 0.00496198  0.15635134  0.03119646 -0.27372897]\n",
      " [ 0.00808901 -0.03920152  0.02572188  0.02862788]\n",
      " ...\n",
      " [-0.03035956 -0.1520803   0.0103268   0.24866116]\n",
      " [-0.03340117  0.04289266  0.01530002 -0.04074667]\n",
      " [-0.03254332  0.23779191  0.01448509 -0.3285633 ]]\n",
      "\n",
      "\t Recompensas: [1 1 1 ... 1 1 1]\n"
     ]
    }
   ],
   "source": [
    "expert_observations = np.genfromtxt(\"observations_CartPole_.csv\",delimiter=\"\\t\",dtype=str)\n",
    "expert_actions = np.genfromtxt('actions_CartPole_.csv', dtype=np.int32)\n",
    "expert_next_observations = np.genfromtxt('next_observations_CartPole_.csv',delimiter=\"\\t\",dtype=str)\n",
    "expert_rewards = np.genfromtxt('rewards_CartPole_.csv', dtype=np.int32)\n",
    "expert_num_tray=np.genfromtxt('n_trayectoria_CartPole_.csv', dtype=np.int32)\n",
    "\n",
    "# Reemplazar las comas\n",
    "expert_observations = np.core.defchararray.replace(expert_observations, ',', ' ')\n",
    "\n",
    "# Reemplazar las comas\n",
    "expert_next_observations = np.core.defchararray.replace(expert_next_observations, ',', ' ')\n",
    "\n",
    "# Crear un nuevo array para almacenar los datos convertidos\n",
    "converted_observations = np.genfromtxt(expert_observations, delimiter=' ', dtype=float)\n",
    "# Crear un nuevo array para almacenar los datos convertidos\n",
    "converted_next_observations = np.genfromtxt(expert_observations, delimiter=' ', dtype=float)\n",
    "\n",
    "\n",
    "rewards=np.array(expert_rewards).reshape(-1,1)\n",
    "\n",
    "\n",
    "print(\"\\n\\tEstados reales: \\n\", converted_observations)\n",
    "print(\"\\tAcciones reales: \\n\", expert_actions)\n",
    "print(\"\\n\\t Estados siguientes: \\n\", converted_next_observations)\n",
    "print(\"\\n\\t Recompensas:\" ,expert_rewards)"
   ]
  },
  {
   "cell_type": "code",
   "execution_count": 86,
   "metadata": {},
   "outputs": [
    {
     "name": "stdout",
     "output_type": "stream",
     "text": [
      "4000\n"
     ]
    }
   ],
   "source": [
    "longitud_trayectoria += np.count_nonzero(expert_num_tray == 7)\n",
    "print(longitud_trayectoria)"
   ]
  },
  {
   "cell_type": "code",
   "execution_count": 87,
   "metadata": {},
   "outputs": [],
   "source": [
    "# Nos quedamos solo con la primera trayectoria\n",
    "converted_observations=converted_observations[0:longitud_trayectoria]\n",
    "expert_actions=expert_actions[0:longitud_trayectoria]\n",
    "converted_next_observations=converted_next_observations[0:longitud_trayectoria]\n",
    "expert_rewards=expert_rewards[0:longitud_trayectoria]"
   ]
  },
  {
   "cell_type": "code",
   "execution_count": 88,
   "metadata": {},
   "outputs": [],
   "source": [
    "# Construimos el dataset [s,a,s',r] reales y lo dividimos en training y test\n",
    "expert_a_one_hot=np.eye(env.action_space.n)[expert_actions]\n",
    "expert_rewards = expert_rewards.reshape(-1, 1)\n",
    "\n",
    "dataset1=np.concatenate([converted_observations,expert_a_one_hot],axis=1)\n",
    "dataset2=np.concatenate([dataset1,converted_next_observations],axis=1)\n",
    "dataset=np.concatenate([dataset2,expert_rewards],axis=1)\n"
   ]
  },
  {
   "cell_type": "code",
   "execution_count": 89,
   "metadata": {},
   "outputs": [
    {
     "name": "stdout",
     "output_type": "stream",
     "text": [
      "Nº de (ESTADOS,ACCIONES) en el conjunto de entrenamiento: 3200\n",
      "Nº de (ESTADOS,ACCIONES) en el conjunto de prueba: 800\n"
     ]
    }
   ],
   "source": [
    "#############################################################################\n",
    "# DIVISIÓN TRAIN Y TEST\n",
    "##############################################################################\n",
    "\n",
    "# Divide los datos en conjuntos de entrenamiento y prueba\n",
    "X_train, X_test = train_test_split(dataset, test_size=0.2, random_state=0)\n",
    "\n",
    "\n",
    "#Imprime el número de elementos en el conjuntos de entrenamiento y prueba\n",
    "print('Nº de (ESTADOS,ACCIONES) en el conjunto de entrenamiento:', len(X_train))\n",
    "print('Nº de (ESTADOS,ACCIONES) en el conjunto de prueba:', len(X_test))\n"
   ]
  },
  {
   "cell_type": "code",
   "execution_count": 90,
   "metadata": {},
   "outputs": [],
   "source": [
    "env= gym.make('CartPole-v1')\n",
    "obs,_= env.reset()\n",
    "\n",
    "# Generador\n",
    "generator=Policy_net( 'policy', env, obs)\n",
    "\n",
    "# Generamos [s,a, s', r] falsas y las políticas theta_i y theta_i+1\n",
    "observations, actions, next_observations, rewards, Old_Policy, Policy=generator.generate_fakes()\n",
    "\n",
    "# Discriminador\n",
    "discriminator=Discriminator(env, discriminator_net, converted_observations, expert_actions, converted_next_observations, expert_rewards, observations, actions, next_observations, rewards)"
   ]
  },
  {
   "cell_type": "markdown",
   "metadata": {},
   "source": [
    "### Definición de GAIL"
   ]
  },
  {
   "cell_type": "code",
   "execution_count": 91,
   "metadata": {},
   "outputs": [],
   "source": [
    "gan8=GAN(discriminator=discriminator,generator=generator)"
   ]
  },
  {
   "cell_type": "markdown",
   "metadata": {},
   "source": [
    "### Compilación de GAIL"
   ]
  },
  {
   "cell_type": "code",
   "execution_count": 92,
   "metadata": {},
   "outputs": [],
   "source": [
    "tf.config.run_functions_eagerly(True)\n",
    "gan8.compile(\n",
    "    d_optimizer=tf.keras.optimizers.Adam(learning_rate=LEARNING_RATE),\n",
    "    loss_fn_D=loss_fn_D\n",
    ")"
   ]
  },
  {
   "cell_type": "markdown",
   "metadata": {},
   "source": [
    "### Entrenamiento de GAIL"
   ]
  },
  {
   "cell_type": "code",
   "execution_count": 93,
   "metadata": {},
   "outputs": [
    {
     "name": "stdout",
     "output_type": "stream",
     "text": [
      "291/291 [==============================] - 8943s 31s/step - d_loss: 1.8911 - g_loss: -0.9969\n"
     ]
    }
   ],
   "source": [
    "# Deshabilitar los mensajes de información de TensorFlow\n",
    "os.environ['TF_CPP_MIN_LOG_LEVEL'] = '3'\n",
    "\n",
    "# Deshabilitar los mensajes de información de OpenAI Gym\n",
    "gym.logger.set_level(40)\n",
    "\n",
    "BATCH_SIZE= round(len(X_train)/300)\n",
    "\n",
    "history=gan8.fit(X_train,\n",
    "    epochs=EPOCHS, batch_size=BATCH_SIZE)\n",
    "\n"
   ]
  },
  {
   "cell_type": "markdown",
   "metadata": {},
   "source": [
    "### Evaluación de GAIL"
   ]
  },
  {
   "cell_type": "code",
   "execution_count": 94,
   "metadata": {},
   "outputs": [
    {
     "name": "stdout",
     "output_type": "stream",
     "text": [
      "1/1 [==============================] - 0s 18ms/step - loss: 0.0000e+00 - accuracy: 0.0000e+00\n",
      "1/1 [==============================] - 0s 16ms/step - loss: 0.0000e+00 - accuracy: 0.0000e+00\n",
      ">Loss real: \n",
      "0.0\n",
      ">Loss fake: \n",
      "0.0\n"
     ]
    }
   ],
   "source": [
    "# Evaluamos el Discriminador de GAIL en el TEST\n",
    "gan8.evaluate_D(X_test)\n"
   ]
  },
  {
   "cell_type": "code",
   "execution_count": 95,
   "metadata": {},
   "outputs": [
    {
     "name": "stdout",
     "output_type": "stream",
     "text": [
      "Episode  0 Total reward: 20.0\n",
      "Episode  1 Total reward: 43.0\n",
      "Episode  2 Total reward: 32.0\n",
      "Episode  3 Total reward: 25.0\n",
      "Episode  4 Total reward: 30.0\n",
      "Episode  5 Total reward: 16.0\n",
      "Episode  6 Total reward: 21.0\n",
      "Episode  7 Total reward: 25.0\n",
      "Episode  8 Total reward: 13.0\n",
      "Episode  9 Total reward: 25.0\n",
      "Episode  10 Total reward: 55.0\n",
      "Episode  11 Total reward: 28.0\n",
      "Episode  12 Total reward: 13.0\n",
      "Episode  13 Total reward: 13.0\n",
      "Episode  14 Total reward: 25.0\n",
      "Episode  15 Total reward: 20.0\n",
      "Episode  16 Total reward: 76.0\n",
      "Episode  17 Total reward: 21.0\n",
      "Episode  18 Total reward: 34.0\n",
      "Episode  19 Total reward: 14.0\n",
      "Episode  20 Total reward: 49.0\n",
      "Episode  21 Total reward: 50.0\n",
      "Episode  22 Total reward: 38.0\n",
      "Episode  23 Total reward: 43.0\n",
      "Episode  24 Total reward: 56.0\n",
      "Episode  25 Total reward: 30.0\n",
      "Episode  26 Total reward: 10.0\n",
      "Episode  27 Total reward: 20.0\n",
      "Episode  28 Total reward: 10.0\n",
      "Episode  29 Total reward: 15.0\n",
      "Episode  30 Total reward: 43.0\n",
      "Episode  31 Total reward: 13.0\n",
      "Episode  32 Total reward: 22.0\n",
      "Episode  33 Total reward: 29.0\n",
      "Episode  34 Total reward: 11.0\n",
      "Episode  35 Total reward: 16.0\n",
      "Episode  36 Total reward: 14.0\n",
      "Episode  37 Total reward: 15.0\n",
      "Episode  38 Total reward: 20.0\n",
      "Episode  39 Total reward: 17.0\n",
      "Episode  40 Total reward: 19.0\n",
      "Episode  41 Total reward: 22.0\n",
      "Episode  42 Total reward: 14.0\n",
      "Episode  43 Total reward: 19.0\n",
      "Episode  44 Total reward: 23.0\n",
      "Episode  45 Total reward: 37.0\n",
      "Episode  46 Total reward: 48.0\n",
      "Episode  47 Total reward: 70.0\n",
      "Episode  48 Total reward: 75.0\n",
      "Episode  49 Total reward: 31.0\n"
     ]
    },
    {
     "data": {
      "image/png": "[encoded data removed]",
      "text/plain": [
       "<Figure size 640x480 with 1 Axes>"
      ]
     },
     "metadata": {},
     "output_type": "display_data"
    },
    {
     "name": "stdout",
     "output_type": "stream",
     "text": [
      "\n",
      "Recompensa de Media: 28.56 \n",
      "\n"
     ]
    }
   ],
   "source": [
    "# Evaluamos al Generador \n",
    "rewardMean=gan8.evaluate_G()\n",
    "print('\\nRecompensa de Media:', rewardMean, '\\n')"
   ]
  },
  {
   "cell_type": "markdown",
   "metadata": {},
   "source": [
    "## Experimento 9"
   ]
  },
  {
   "cell_type": "markdown",
   "metadata": {},
   "source": [
    "### Construcción de base de datos experta con 9 trayectoria "
   ]
  },
  {
   "cell_type": "code",
   "execution_count": 96,
   "metadata": {},
   "outputs": [
    {
     "name": "stdout",
     "output_type": "stream",
     "text": [
      "\n",
      "\tEstados reales: \n",
      " [[ 0.00572823 -0.03831238  0.03101629  0.00900886]\n",
      " [ 0.00496198  0.15635134  0.03119646 -0.27372897]\n",
      " [ 0.00808901 -0.03920152  0.02572188  0.02862788]\n",
      " ...\n",
      " [-0.03035956 -0.1520803   0.0103268   0.24866116]\n",
      " [-0.03340117  0.04289266  0.01530002 -0.04074667]\n",
      " [-0.03254332  0.23779191  0.01448509 -0.3285633 ]]\n",
      "\tAcciones reales: \n",
      " [1 0 1 ... 1 1 0]\n",
      "\n",
      "\t Estados siguientes: \n",
      " [[ 0.00572823 -0.03831238  0.03101629  0.00900886]\n",
      " [ 0.00496198  0.15635134  0.03119646 -0.27372897]\n",
      " [ 0.00808901 -0.03920152  0.02572188  0.02862788]\n",
      " ...\n",
      " [-0.03035956 -0.1520803   0.0103268   0.24866116]\n",
      " [-0.03340117  0.04289266  0.01530002 -0.04074667]\n",
      " [-0.03254332  0.23779191  0.01448509 -0.3285633 ]]\n",
      "\n",
      "\t Recompensas: [1 1 1 ... 1 1 1]\n"
     ]
    }
   ],
   "source": [
    "expert_observations = np.genfromtxt(\"observations_CartPole_.csv\",delimiter=\"\\t\",dtype=str)\n",
    "expert_actions = np.genfromtxt('actions_CartPole_.csv', dtype=np.int32)\n",
    "expert_next_observations = np.genfromtxt('next_observations_CartPole_.csv',delimiter=\"\\t\",dtype=str)\n",
    "expert_rewards = np.genfromtxt('rewards_CartPole_.csv', dtype=np.int32)\n",
    "expert_num_tray=np.genfromtxt('n_trayectoria_CartPole_.csv', dtype=np.int32)\n",
    "\n",
    "# Reemplazar las comas\n",
    "expert_observations = np.core.defchararray.replace(expert_observations, ',', ' ')\n",
    "\n",
    "# Reemplazar las comas\n",
    "expert_next_observations = np.core.defchararray.replace(expert_next_observations, ',', ' ')\n",
    "\n",
    "# Crear un nuevo array para almacenar los datos convertidos\n",
    "converted_observations = np.genfromtxt(expert_observations, delimiter=' ', dtype=float)\n",
    "# Crear un nuevo array para almacenar los datos convertidos\n",
    "converted_next_observations = np.genfromtxt(expert_observations, delimiter=' ', dtype=float)\n",
    "\n",
    "\n",
    "rewards=np.array(expert_rewards).reshape(-1,1)\n",
    "\n",
    "\n",
    "print(\"\\n\\tEstados reales: \\n\", converted_observations)\n",
    "print(\"\\tAcciones reales: \\n\", expert_actions)\n",
    "print(\"\\n\\t Estados siguientes: \\n\", converted_next_observations)\n",
    "print(\"\\n\\t Recompensas:\" ,expert_rewards)"
   ]
  },
  {
   "cell_type": "code",
   "execution_count": 97,
   "metadata": {},
   "outputs": [
    {
     "name": "stdout",
     "output_type": "stream",
     "text": [
      "4500\n"
     ]
    }
   ],
   "source": [
    "longitud_trayectoria += np.count_nonzero(expert_num_tray == 8)\n",
    "print(longitud_trayectoria)"
   ]
  },
  {
   "cell_type": "code",
   "execution_count": 98,
   "metadata": {},
   "outputs": [],
   "source": [
    "# Nos quedamos solo con la primera trayectoria\n",
    "converted_observations=converted_observations[0:longitud_trayectoria]\n",
    "expert_actions=expert_actions[0:longitud_trayectoria]\n",
    "converted_next_observations=converted_next_observations[0:longitud_trayectoria]\n",
    "expert_rewards=expert_rewards[0:longitud_trayectoria]"
   ]
  },
  {
   "cell_type": "code",
   "execution_count": 100,
   "metadata": {},
   "outputs": [],
   "source": [
    "# Construimos el dataset [s,a,s',r] reales y lo dividimos en training y test\n",
    "expert_a_one_hot=np.eye(env.action_space.n)[expert_actions]\n",
    "expert_rewards = expert_rewards.reshape(-1, 1)\n",
    "\n",
    "dataset1=np.concatenate([converted_observations,expert_a_one_hot],axis=1)\n",
    "dataset2=np.concatenate([dataset1,converted_next_observations],axis=1)\n",
    "dataset=np.concatenate([dataset2,expert_rewards],axis=1)\n"
   ]
  },
  {
   "cell_type": "code",
   "execution_count": 101,
   "metadata": {},
   "outputs": [
    {
     "name": "stdout",
     "output_type": "stream",
     "text": [
      "Nº de (ESTADOS,ACCIONES) en el conjunto de entrenamiento: 3600\n",
      "Nº de (ESTADOS,ACCIONES) en el conjunto de prueba: 900\n"
     ]
    }
   ],
   "source": [
    "#############################################################################\n",
    "# DIVISIÓN TRAIN Y TEST\n",
    "##############################################################################\n",
    "\n",
    "# Divide los datos en conjuntos de entrenamiento y prueba\n",
    "X_train, X_test = train_test_split(dataset, test_size=0.2, random_state=0)\n",
    "\n",
    "\n",
    "#Imprime el número de elementos en el conjuntos de entrenamiento y prueba\n",
    "print('Nº de (ESTADOS,ACCIONES) en el conjunto de entrenamiento:', len(X_train))\n",
    "print('Nº de (ESTADOS,ACCIONES) en el conjunto de prueba:', len(X_test))\n"
   ]
  },
  {
   "cell_type": "code",
   "execution_count": 102,
   "metadata": {},
   "outputs": [],
   "source": [
    "env= gym.make('CartPole-v1')\n",
    "obs,_= env.reset()\n",
    "\n",
    "# Generador\n",
    "generator=Policy_net( 'policy', env, obs)\n",
    "\n",
    "# Generamos [s,a, s', r] falsas y las políticas theta_i y theta_i+1\n",
    "observations, actions, next_observations, rewards, Old_Policy, Policy=generator.generate_fakes()\n",
    "\n",
    "# Discriminador\n",
    "discriminator=Discriminator(env, discriminator_net, converted_observations, expert_actions, converted_next_observations, expert_rewards, observations, actions, next_observations, rewards)"
   ]
  },
  {
   "cell_type": "markdown",
   "metadata": {},
   "source": [
    "### Definición de GAIL"
   ]
  },
  {
   "cell_type": "code",
   "execution_count": 103,
   "metadata": {},
   "outputs": [],
   "source": [
    "gan9=GAN(discriminator=discriminator,generator=generator)"
   ]
  },
  {
   "cell_type": "markdown",
   "metadata": {},
   "source": [
    "### Compilación de GAIL"
   ]
  },
  {
   "cell_type": "code",
   "execution_count": 104,
   "metadata": {},
   "outputs": [],
   "source": [
    "tf.config.run_functions_eagerly(True)\n",
    "gan9.compile(\n",
    "    d_optimizer=tf.keras.optimizers.Adam(learning_rate=LEARNING_RATE),\n",
    "    loss_fn_D=loss_fn_D\n",
    ")"
   ]
  },
  {
   "cell_type": "markdown",
   "metadata": {},
   "source": [
    "### Entrenamiento de GAIL"
   ]
  },
  {
   "cell_type": "code",
   "execution_count": 105,
   "metadata": {},
   "outputs": [
    {
     "name": "stdout",
     "output_type": "stream",
     "text": [
      "300/300 [==============================] - 8707s 29s/step - d_loss: 1.8885 - g_loss: -1.0024\n"
     ]
    }
   ],
   "source": [
    "# Deshabilitar los mensajes de información de TensorFlow\n",
    "os.environ['TF_CPP_MIN_LOG_LEVEL'] = '3'\n",
    "\n",
    "# Deshabilitar los mensajes de información de OpenAI Gym\n",
    "gym.logger.set_level(40)\n",
    "\n",
    "BATCH_SIZE= round(len(X_train)/300)\n",
    "\n",
    "history=gan9.fit(X_train,\n",
    "    epochs=EPOCHS, batch_size=BATCH_SIZE)\n",
    "\n"
   ]
  },
  {
   "cell_type": "markdown",
   "metadata": {},
   "source": [
    "### Evaluación de GAIL"
   ]
  },
  {
   "cell_type": "code",
   "execution_count": 106,
   "metadata": {},
   "outputs": [
    {
     "name": "stdout",
     "output_type": "stream",
     "text": [
      "1/1 [==============================] - 0s 15ms/step - loss: 0.0000e+00 - accuracy: 0.0000e+00\n",
      "1/1 [==============================] - 0s 16ms/step - loss: 0.0000e+00 - accuracy: 0.0000e+00\n",
      ">Loss real: \n",
      "0.0\n",
      ">Loss fake: \n",
      "0.0\n"
     ]
    }
   ],
   "source": [
    "# Evaluamos el Discriminador de GAIL en el TEST\n",
    "gan9.evaluate_D(X_test)\n"
   ]
  },
  {
   "cell_type": "code",
   "execution_count": 107,
   "metadata": {},
   "outputs": [
    {
     "name": "stdout",
     "output_type": "stream",
     "text": [
      "Episode  0 Total reward: 18.0\n",
      "Episode  1 Total reward: 25.0\n",
      "Episode  2 Total reward: 27.0\n",
      "Episode  3 Total reward: 34.0\n",
      "Episode  4 Total reward: 15.0\n",
      "Episode  5 Total reward: 15.0\n",
      "Episode  6 Total reward: 14.0\n",
      "Episode  7 Total reward: 12.0\n",
      "Episode  8 Total reward: 14.0\n",
      "Episode  9 Total reward: 19.0\n",
      "Episode  10 Total reward: 25.0\n",
      "Episode  11 Total reward: 23.0\n",
      "Episode  12 Total reward: 19.0\n",
      "Episode  13 Total reward: 56.0\n",
      "Episode  14 Total reward: 65.0\n",
      "Episode  15 Total reward: 98.0\n",
      "Episode  16 Total reward: 26.0\n",
      "Episode  17 Total reward: 44.0\n",
      "Episode  18 Total reward: 15.0\n",
      "Episode  19 Total reward: 32.0\n",
      "Episode  20 Total reward: 13.0\n",
      "Episode  21 Total reward: 19.0\n",
      "Episode  22 Total reward: 79.0\n",
      "Episode  23 Total reward: 29.0\n",
      "Episode  24 Total reward: 30.0\n",
      "Episode  25 Total reward: 18.0\n",
      "Episode  26 Total reward: 24.0\n",
      "Episode  27 Total reward: 36.0\n",
      "Episode  28 Total reward: 51.0\n",
      "Episode  29 Total reward: 18.0\n",
      "Episode  30 Total reward: 34.0\n",
      "Episode  31 Total reward: 15.0\n",
      "Episode  32 Total reward: 11.0\n",
      "Episode  33 Total reward: 23.0\n",
      "Episode  34 Total reward: 24.0\n",
      "Episode  35 Total reward: 13.0\n",
      "Episode  36 Total reward: 19.0\n",
      "Episode  37 Total reward: 12.0\n",
      "Episode  38 Total reward: 37.0\n",
      "Episode  39 Total reward: 25.0\n",
      "Episode  40 Total reward: 17.0\n",
      "Episode  41 Total reward: 21.0\n",
      "Episode  42 Total reward: 12.0\n",
      "Episode  43 Total reward: 53.0\n",
      "Episode  44 Total reward: 47.0\n",
      "Episode  45 Total reward: 10.0\n",
      "Episode  46 Total reward: 16.0\n",
      "Episode  47 Total reward: 25.0\n",
      "Episode  48 Total reward: 28.0\n",
      "Episode  49 Total reward: 62.0\n"
     ]
    },
    {
     "data": {
      "image/png": "[encoded data removed]",
      "text/plain": [
       "<Figure size 640x480 with 1 Axes>"
      ]
     },
     "metadata": {},
     "output_type": "display_data"
    },
    {
     "name": "stdout",
     "output_type": "stream",
     "text": [
      "\n",
      "Recompensa de Media: 28.34 \n",
      "\n"
     ]
    }
   ],
   "source": [
    "# Evaluamos al Generador \n",
    "rewardMean=gan9.evaluate_G()\n",
    "print('\\nRecompensa de Media:', rewardMean, '\\n')"
   ]
  },
  {
   "cell_type": "markdown",
   "metadata": {},
   "source": [
    "## Experimento 10"
   ]
  },
  {
   "cell_type": "markdown",
   "metadata": {},
   "source": [
    "### Construcción de base de datos experta con 10 trayectoria "
   ]
  },
  {
   "cell_type": "code",
   "execution_count": 108,
   "metadata": {},
   "outputs": [
    {
     "name": "stdout",
     "output_type": "stream",
     "text": [
      "\n",
      "\tEstados reales: \n",
      " [[ 0.00572823 -0.03831238  0.03101629  0.00900886]\n",
      " [ 0.00496198  0.15635134  0.03119646 -0.27372897]\n",
      " [ 0.00808901 -0.03920152  0.02572188  0.02862788]\n",
      " ...\n",
      " [-0.03035956 -0.1520803   0.0103268   0.24866116]\n",
      " [-0.03340117  0.04289266  0.01530002 -0.04074667]\n",
      " [-0.03254332  0.23779191  0.01448509 -0.3285633 ]]\n",
      "\tAcciones reales: \n",
      " [1 0 1 ... 1 1 0]\n",
      "\n",
      "\t Estados siguientes: \n",
      " [[ 0.00572823 -0.03831238  0.03101629  0.00900886]\n",
      " [ 0.00496198  0.15635134  0.03119646 -0.27372897]\n",
      " [ 0.00808901 -0.03920152  0.02572188  0.02862788]\n",
      " ...\n",
      " [-0.03035956 -0.1520803   0.0103268   0.24866116]\n",
      " [-0.03340117  0.04289266  0.01530002 -0.04074667]\n",
      " [-0.03254332  0.23779191  0.01448509 -0.3285633 ]]\n",
      "\n",
      "\t Recompensas: [1 1 1 ... 1 1 1]\n"
     ]
    }
   ],
   "source": [
    "expert_observations = np.genfromtxt(\"observations_CartPole_.csv\",delimiter=\"\\t\",dtype=str)\n",
    "expert_actions = np.genfromtxt('actions_CartPole_.csv', dtype=np.int32)\n",
    "expert_next_observations = np.genfromtxt('next_observations_CartPole_.csv',delimiter=\"\\t\",dtype=str)\n",
    "expert_rewards = np.genfromtxt('rewards_CartPole_.csv', dtype=np.int32)\n",
    "expert_num_tray=np.genfromtxt('n_trayectoria_CartPole_.csv', dtype=np.int32)\n",
    "\n",
    "# Reemplazar las comas\n",
    "expert_observations = np.core.defchararray.replace(expert_observations, ',', ' ')\n",
    "\n",
    "# Reemplazar las comas\n",
    "expert_next_observations = np.core.defchararray.replace(expert_next_observations, ',', ' ')\n",
    "\n",
    "# Crear un nuevo array para almacenar los datos convertidos\n",
    "converted_observations = np.genfromtxt(expert_observations, delimiter=' ', dtype=float)\n",
    "# Crear un nuevo array para almacenar los datos convertidos\n",
    "converted_next_observations = np.genfromtxt(expert_observations, delimiter=' ', dtype=float)\n",
    "\n",
    "\n",
    "rewards=np.array(expert_rewards).reshape(-1,1)\n",
    "\n",
    "\n",
    "print(\"\\n\\tEstados reales: \\n\", converted_observations)\n",
    "print(\"\\tAcciones reales: \\n\", expert_actions)\n",
    "print(\"\\n\\t Estados siguientes: \\n\", converted_next_observations)\n",
    "print(\"\\n\\t Recompensas:\" ,expert_rewards)"
   ]
  },
  {
   "cell_type": "code",
   "execution_count": 109,
   "metadata": {},
   "outputs": [
    {
     "name": "stdout",
     "output_type": "stream",
     "text": [
      "5000\n"
     ]
    }
   ],
   "source": [
    "longitud_trayectoria += np.count_nonzero(expert_num_tray == 9)\n",
    "print(longitud_trayectoria)"
   ]
  },
  {
   "cell_type": "code",
   "execution_count": 110,
   "metadata": {},
   "outputs": [],
   "source": [
    "# Nos quedamos solo con la primera trayectoria\n",
    "converted_observations=converted_observations[0:longitud_trayectoria]\n",
    "expert_actions=expert_actions[0:longitud_trayectoria]\n",
    "converted_next_observations=converted_next_observations[0:longitud_trayectoria]\n",
    "expert_rewards=expert_rewards[0:longitud_trayectoria]"
   ]
  },
  {
   "cell_type": "code",
   "execution_count": 111,
   "metadata": {},
   "outputs": [],
   "source": [
    "# Construimos el dataset [s,a,s',r] reales y lo dividimos en training y test\n",
    "expert_a_one_hot=np.eye(env.action_space.n)[expert_actions]\n",
    "expert_rewards = expert_rewards.reshape(-1, 1)\n",
    "\n",
    "dataset1=np.concatenate([converted_observations,expert_a_one_hot],axis=1)\n",
    "dataset2=np.concatenate([dataset1,converted_next_observations],axis=1)\n",
    "dataset=np.concatenate([dataset2,expert_rewards],axis=1)\n"
   ]
  },
  {
   "cell_type": "code",
   "execution_count": 112,
   "metadata": {},
   "outputs": [
    {
     "name": "stdout",
     "output_type": "stream",
     "text": [
      "Nº de (ESTADOS,ACCIONES) en el conjunto de entrenamiento: 4000\n",
      "Nº de (ESTADOS,ACCIONES) en el conjunto de prueba: 1000\n"
     ]
    }
   ],
   "source": [
    "#############################################################################\n",
    "# DIVISIÓN TRAIN Y TEST\n",
    "##############################################################################\n",
    "\n",
    "# Divide los datos en conjuntos de entrenamiento y prueba\n",
    "X_train, X_test = train_test_split(dataset, test_size=0.2, random_state=0)\n",
    "\n",
    "\n",
    "#Imprime el número de elementos en el conjuntos de entrenamiento y prueba\n",
    "print('Nº de (ESTADOS,ACCIONES) en el conjunto de entrenamiento:', len(X_train))\n",
    "print('Nº de (ESTADOS,ACCIONES) en el conjunto de prueba:', len(X_test))\n"
   ]
  },
  {
   "cell_type": "code",
   "execution_count": 113,
   "metadata": {},
   "outputs": [],
   "source": [
    "env= gym.make('CartPole-v1')\n",
    "obs,_= env.reset()\n",
    "\n",
    "# Generador\n",
    "generator=Policy_net( 'policy', env, obs)\n",
    "\n",
    "# Generamos [s,a, s', r] falsas y las políticas theta_i y theta_i+1\n",
    "observations, actions, next_observations, rewards, Old_Policy, Policy=generator.generate_fakes()\n",
    "\n",
    "# Discriminador\n",
    "discriminator=Discriminator(env, discriminator_net, converted_observations, expert_actions, converted_next_observations, expert_rewards, observations, actions, next_observations, rewards)"
   ]
  },
  {
   "cell_type": "markdown",
   "metadata": {},
   "source": [
    "### Definición de GAIL"
   ]
  },
  {
   "cell_type": "code",
   "execution_count": 114,
   "metadata": {},
   "outputs": [],
   "source": [
    "gan10=GAN(discriminator=discriminator,generator=generator)"
   ]
  },
  {
   "cell_type": "markdown",
   "metadata": {},
   "source": [
    "### Compilación de GAIL"
   ]
  },
  {
   "cell_type": "code",
   "execution_count": 115,
   "metadata": {},
   "outputs": [],
   "source": [
    "tf.config.run_functions_eagerly(True)\n",
    "gan10.compile(\n",
    "    d_optimizer=tf.keras.optimizers.Adam(learning_rate=LEARNING_RATE),\n",
    "    loss_fn_D=loss_fn_D\n",
    ")"
   ]
  },
  {
   "cell_type": "markdown",
   "metadata": {},
   "source": [
    "### Entrenamiento de GAIL"
   ]
  },
  {
   "cell_type": "code",
   "execution_count": 116,
   "metadata": {},
   "outputs": [
    {
     "name": "stdout",
     "output_type": "stream",
     "text": [
      "308/308 [==============================] - 8940s 29s/step - d_loss: 1.8930 - g_loss: -1.0109\n"
     ]
    }
   ],
   "source": [
    "# Deshabilitar los mensajes de información de TensorFlow\n",
    "os.environ['TF_CPP_MIN_LOG_LEVEL'] = '3'\n",
    "\n",
    "# Deshabilitar los mensajes de información de OpenAI Gym\n",
    "gym.logger.set_level(40)\n",
    "\n",
    "BATCH_SIZE= round(len(X_train)/300)\n",
    "\n",
    "history=gan10.fit(X_train,\n",
    "    epochs=EPOCHS, batch_size=BATCH_SIZE)\n",
    "\n"
   ]
  },
  {
   "cell_type": "markdown",
   "metadata": {},
   "source": [
    "### Evaluación de GAIL"
   ]
  },
  {
   "cell_type": "code",
   "execution_count": 117,
   "metadata": {},
   "outputs": [
    {
     "name": "stdout",
     "output_type": "stream",
     "text": [
      "1/1 [==============================] - 0s 15ms/step - loss: 0.0000e+00 - accuracy: 0.0000e+00\n",
      "1/1 [==============================] - 0s 13ms/step - loss: 0.0000e+00 - accuracy: 0.0000e+00\n",
      ">Loss real: \n",
      "0.0\n",
      ">Loss fake: \n",
      "0.0\n"
     ]
    }
   ],
   "source": [
    "# Evaluamos el Discriminador de GAIL en el TEST\n",
    "gan10.evaluate_D(X_test)\n"
   ]
  },
  {
   "cell_type": "code",
   "execution_count": 118,
   "metadata": {},
   "outputs": [
    {
     "name": "stdout",
     "output_type": "stream",
     "text": [
      "Episode  0 Total reward: 23.0\n",
      "Episode  1 Total reward: 29.0\n",
      "Episode  2 Total reward: 29.0\n",
      "Episode  3 Total reward: 27.0\n",
      "Episode  4 Total reward: 37.0\n",
      "Episode  5 Total reward: 46.0\n",
      "Episode  6 Total reward: 24.0\n",
      "Episode  7 Total reward: 36.0\n",
      "Episode  8 Total reward: 30.0\n",
      "Episode  9 Total reward: 67.0\n",
      "Episode  10 Total reward: 18.0\n",
      "Episode  11 Total reward: 41.0\n",
      "Episode  12 Total reward: 15.0\n",
      "Episode  13 Total reward: 36.0\n",
      "Episode  14 Total reward: 16.0\n",
      "Episode  15 Total reward: 22.0\n",
      "Episode  16 Total reward: 19.0\n",
      "Episode  17 Total reward: 23.0\n",
      "Episode  18 Total reward: 15.0\n",
      "Episode  19 Total reward: 14.0\n",
      "Episode  20 Total reward: 54.0\n",
      "Episode  21 Total reward: 23.0\n",
      "Episode  22 Total reward: 25.0\n",
      "Episode  23 Total reward: 14.0\n",
      "Episode  24 Total reward: 16.0\n",
      "Episode  25 Total reward: 18.0\n",
      "Episode  26 Total reward: 47.0\n",
      "Episode  27 Total reward: 11.0\n",
      "Episode  28 Total reward: 19.0\n",
      "Episode  29 Total reward: 58.0\n",
      "Episode  30 Total reward: 21.0\n",
      "Episode  31 Total reward: 25.0\n",
      "Episode  32 Total reward: 43.0\n",
      "Episode  33 Total reward: 40.0\n",
      "Episode  34 Total reward: 12.0\n",
      "Episode  35 Total reward: 22.0\n",
      "Episode  36 Total reward: 59.0\n",
      "Episode  37 Total reward: 25.0\n",
      "Episode  38 Total reward: 33.0\n",
      "Episode  39 Total reward: 13.0\n",
      "Episode  40 Total reward: 49.0\n",
      "Episode  41 Total reward: 17.0\n",
      "Episode  42 Total reward: 27.0\n",
      "Episode  43 Total reward: 29.0\n",
      "Episode  44 Total reward: 17.0\n",
      "Episode  45 Total reward: 27.0\n",
      "Episode  46 Total reward: 77.0\n",
      "Episode  47 Total reward: 14.0\n",
      "Episode  48 Total reward: 16.0\n",
      "Episode  49 Total reward: 20.0\n"
     ]
    },
    {
     "data": {
      "image/png": "[encoded data removed]",
      "text/plain": [
       "<Figure size 640x480 with 1 Axes>"
      ]
     },
     "metadata": {},
     "output_type": "display_data"
    },
    {
     "name": "stdout",
     "output_type": "stream",
     "text": [
      "\n",
      "Recompensa de Media: 28.76 \n",
      "\n"
     ]
    }
   ],
   "source": [
    "# Evaluamos al Generador \n",
    "rewardMean=gan10.evaluate_G()\n",
    "print('\\nRecompensa de Media:', rewardMean, '\\n')"
   ]
  }
 ],
 "metadata": {
  "kernelspec": {
   "display_name": "Python 3",
   "language": "python",
   "name": "python3"
  },
  "language_info": {
   "codemirror_mode": {
    "name": "ipython",
    "version": 3
   },
   "file_extension": ".py",
   "mimetype": "text/x-python",
   "name": "python",
   "nbconvert_exporter": "python",
   "pygments_lexer": "ipython3",
   "version": "3.10.12"
  }
 },
 "nbformat": 4,
 "nbformat_minor": 2
}
