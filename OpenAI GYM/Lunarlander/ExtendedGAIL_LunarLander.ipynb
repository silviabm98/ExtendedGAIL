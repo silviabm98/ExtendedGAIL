{
 "cells": [
  {
   "cell_type": "code",
   "execution_count": 1,
   "metadata": {},
   "outputs": [
    {
     "name": "stdout",
     "output_type": "stream",
     "text": [
      "Tue Jan  9 15:53:28 2024       \n",
      "+-----------------------------------------------------------------------------+\n",
      "| NVIDIA-SMI 525.147.05   Driver Version: 525.147.05   CUDA Version: 12.0     |\n",
      "|-------------------------------+----------------------+----------------------+\n",
      "| GPU  Name        Persistence-M| Bus-Id        Disp.A | Volatile Uncorr. ECC |\n",
      "| Fan  Temp  Perf  Pwr:Usage/Cap|         Memory-Usage | GPU-Util  Compute M. |\n",
      "|                               |                      |               MIG M. |\n",
      "|===============================+======================+======================|\n",
      "|   0  NVIDIA GeForce ...  Off  | 00000000:01:00.0 Off |                  N/A |\n",
      "| N/A   39C    P3    22W /  55W |      6MiB /  6144MiB |      0%      Default |\n",
      "|                               |                      |                  N/A |\n",
      "+-------------------------------+----------------------+----------------------+\n",
      "                                                                               \n",
      "+-----------------------------------------------------------------------------+\n",
      "| Processes:                                                                  |\n",
      "|  GPU   GI   CI        PID   Type   Process name                  GPU Memory |\n",
      "|        ID   ID                                                   Usage      |\n",
      "|=============================================================================|\n",
      "|    0   N/A  N/A      2176      G   /usr/lib/xorg/Xorg                  4MiB |\n",
      "+-----------------------------------------------------------------------------+\n"
     ]
    }
   ],
   "source": [
    "#########################################################################\n",
    "## COMPROBAR GPU ASIGNADA EN COLABORATORY\n",
    "#########################################################################\n",
    "gpu_info = !nvidia-smi\n",
    "gpu_info = '\\n'.join(gpu_info)\n",
    "if gpu_info.find('failed') >= 0:\n",
    "  print('Not connected to a GPU')\n",
    "else:\n",
    "  print(gpu_info)"
   ]
  },
  {
   "cell_type": "code",
   "execution_count": 2,
   "metadata": {},
   "outputs": [
    {
     "name": "stdout",
     "output_type": "stream",
     "text": [
      "Defaulting to user installation because normal site-packages is not writeable\n",
      "Requirement already satisfied: gymnasium in /home/usuario/.local/lib/python3.10/site-packages (0.28.1)\n",
      "Requirement already satisfied: numpy>=1.21.0 in /home/usuario/.local/lib/python3.10/site-packages (from gymnasium) (1.24.3)\n",
      "Requirement already satisfied: farama-notifications>=0.0.1 in /home/usuario/.local/lib/python3.10/site-packages (from gymnasium) (0.0.4)\n",
      "Requirement already satisfied: typing-extensions>=4.3.0 in /home/usuario/.local/lib/python3.10/site-packages (from gymnasium) (4.5.0)\n",
      "Requirement already satisfied: cloudpickle>=1.2.0 in /home/usuario/.local/lib/python3.10/site-packages (from gymnasium) (2.2.1)\n",
      "Requirement already satisfied: jax-jumpy>=1.0.0 in /home/usuario/.local/lib/python3.10/site-packages (from gymnasium) (1.0.0)\n"
     ]
    }
   ],
   "source": [
    "!pip install gymnasium"
   ]
  },
  {
   "cell_type": "code",
   "execution_count": 3,
   "metadata": {},
   "outputs": [
    {
     "name": "stdout",
     "output_type": "stream",
     "text": [
      "Defaulting to user installation because normal site-packages is not writeable\n",
      "Requirement already satisfied: stable_baselines3 in /home/usuario/.local/lib/python3.10/site-packages (2.0.0)\n",
      "Requirement already satisfied: cloudpickle in /home/usuario/.local/lib/python3.10/site-packages (from stable_baselines3) (2.2.1)\n",
      "Requirement already satisfied: matplotlib in /home/usuario/.local/lib/python3.10/site-packages (from stable_baselines3) (3.7.2)\n",
      "Requirement already satisfied: gymnasium==0.28.1 in /home/usuario/.local/lib/python3.10/site-packages (from stable_baselines3) (0.28.1)\n",
      "Requirement already satisfied: pandas in /home/usuario/.local/lib/python3.10/site-packages (from stable_baselines3) (1.5.3)\n",
      "Requirement already satisfied: numpy>=1.20 in /home/usuario/.local/lib/python3.10/site-packages (from stable_baselines3) (1.24.3)\n",
      "Requirement already satisfied: torch>=1.11 in /home/usuario/.local/lib/python3.10/site-packages (from stable_baselines3) (2.0.1)\n",
      "Requirement already satisfied: jax-jumpy>=1.0.0 in /home/usuario/.local/lib/python3.10/site-packages (from gymnasium==0.28.1->stable_baselines3) (1.0.0)\n",
      "Requirement already satisfied: typing-extensions>=4.3.0 in /home/usuario/.local/lib/python3.10/site-packages (from gymnasium==0.28.1->stable_baselines3) (4.5.0)\n",
      "Requirement already satisfied: farama-notifications>=0.0.1 in /home/usuario/.local/lib/python3.10/site-packages (from gymnasium==0.28.1->stable_baselines3) (0.0.4)\n",
      "Requirement already satisfied: nvidia-nccl-cu11==2.14.3 in /home/usuario/.local/lib/python3.10/site-packages (from torch>=1.11->stable_baselines3) (2.14.3)\n",
      "Requirement already satisfied: nvidia-curand-cu11==10.2.10.91 in /home/usuario/.local/lib/python3.10/site-packages (from torch>=1.11->stable_baselines3) (10.2.10.91)\n",
      "Requirement already satisfied: nvidia-cusparse-cu11==11.7.4.91 in /home/usuario/.local/lib/python3.10/site-packages (from torch>=1.11->stable_baselines3) (11.7.4.91)\n",
      "Requirement already satisfied: sympy in /home/usuario/.local/lib/python3.10/site-packages (from torch>=1.11->stable_baselines3) (1.12)\n",
      "Requirement already satisfied: nvidia-cudnn-cu11==8.5.0.96 in /home/usuario/.local/lib/python3.10/site-packages (from torch>=1.11->stable_baselines3) (8.5.0.96)\n",
      "Requirement already satisfied: nvidia-cuda-nvrtc-cu11==11.7.99 in /home/usuario/.local/lib/python3.10/site-packages (from torch>=1.11->stable_baselines3) (11.7.99)\n",
      "Requirement already satisfied: nvidia-cublas-cu11==11.10.3.66 in /home/usuario/.local/lib/python3.10/site-packages (from torch>=1.11->stable_baselines3) (11.10.3.66)\n",
      "Requirement already satisfied: nvidia-cuda-runtime-cu11==11.7.99 in /home/usuario/.local/lib/python3.10/site-packages (from torch>=1.11->stable_baselines3) (11.7.99)\n",
      "Requirement already satisfied: networkx in /home/usuario/.local/lib/python3.10/site-packages (from torch>=1.11->stable_baselines3) (3.1)\n",
      "Requirement already satisfied: nvidia-cufft-cu11==10.9.0.58 in /home/usuario/.local/lib/python3.10/site-packages (from torch>=1.11->stable_baselines3) (10.9.0.58)\n",
      "Requirement already satisfied: filelock in /home/usuario/.local/lib/python3.10/site-packages (from torch>=1.11->stable_baselines3) (3.12.2)\n",
      "Requirement already satisfied: jinja2 in /home/usuario/.local/lib/python3.10/site-packages (from torch>=1.11->stable_baselines3) (3.1.2)\n",
      "Requirement already satisfied: nvidia-cuda-cupti-cu11==11.7.101 in /home/usuario/.local/lib/python3.10/site-packages (from torch>=1.11->stable_baselines3) (11.7.101)\n",
      "Requirement already satisfied: nvidia-nvtx-cu11==11.7.91 in /home/usuario/.local/lib/python3.10/site-packages (from torch>=1.11->stable_baselines3) (11.7.91)\n",
      "Requirement already satisfied: triton==2.0.0 in /home/usuario/.local/lib/python3.10/site-packages (from torch>=1.11->stable_baselines3) (2.0.0)\n",
      "Requirement already satisfied: nvidia-cusolver-cu11==11.4.0.1 in /home/usuario/.local/lib/python3.10/site-packages (from torch>=1.11->stable_baselines3) (11.4.0.1)\n",
      "Requirement already satisfied: setuptools in /usr/lib/python3/dist-packages (from nvidia-cublas-cu11==11.10.3.66->torch>=1.11->stable_baselines3) (59.6.0)\n",
      "Requirement already satisfied: wheel in /usr/lib/python3/dist-packages (from nvidia-cublas-cu11==11.10.3.66->torch>=1.11->stable_baselines3) (0.37.1)\n",
      "Requirement already satisfied: cmake in /home/usuario/.local/lib/python3.10/site-packages (from triton==2.0.0->torch>=1.11->stable_baselines3) (3.26.4)\n",
      "Requirement already satisfied: lit in /home/usuario/.local/lib/python3.10/site-packages (from triton==2.0.0->torch>=1.11->stable_baselines3) (16.0.6)\n",
      "Requirement already satisfied: kiwisolver>=1.0.1 in /home/usuario/.local/lib/python3.10/site-packages (from matplotlib->stable_baselines3) (1.4.4)\n",
      "Requirement already satisfied: pyparsing<3.1,>=2.3.1 in /usr/lib/python3/dist-packages (from matplotlib->stable_baselines3) (2.4.7)\n",
      "Requirement already satisfied: contourpy>=1.0.1 in /home/usuario/.local/lib/python3.10/site-packages (from matplotlib->stable_baselines3) (1.1.0)\n",
      "Requirement already satisfied: python-dateutil>=2.7 in /home/usuario/.local/lib/python3.10/site-packages (from matplotlib->stable_baselines3) (2.8.2)\n",
      "Requirement already satisfied: fonttools>=4.22.0 in /home/usuario/.local/lib/python3.10/site-packages (from matplotlib->stable_baselines3) (4.40.0)\n",
      "Requirement already satisfied: cycler>=0.10 in /home/usuario/.local/lib/python3.10/site-packages (from matplotlib->stable_baselines3) (0.11.0)\n",
      "Requirement already satisfied: packaging>=20.0 in /home/usuario/.local/lib/python3.10/site-packages (from matplotlib->stable_baselines3) (23.1)\n",
      "Requirement already satisfied: pillow>=6.2.0 in /usr/lib/python3/dist-packages (from matplotlib->stable_baselines3) (9.0.1)\n",
      "Requirement already satisfied: pytz>=2020.1 in /usr/lib/python3/dist-packages (from pandas->stable_baselines3) (2022.1)\n",
      "Requirement already satisfied: six>=1.5 in /usr/lib/python3/dist-packages (from python-dateutil>=2.7->matplotlib->stable_baselines3) (1.16.0)\n",
      "Requirement already satisfied: MarkupSafe>=2.0 in /home/usuario/.local/lib/python3.10/site-packages (from jinja2->torch>=1.11->stable_baselines3) (2.1.3)\n",
      "Requirement already satisfied: mpmath>=0.19 in /home/usuario/.local/lib/python3.10/site-packages (from sympy->torch>=1.11->stable_baselines3) (1.3.0)\n"
     ]
    }
   ],
   "source": [
    "!pip install stable_baselines3"
   ]
  },
  {
   "cell_type": "code",
   "execution_count": 4,
   "metadata": {},
   "outputs": [
    {
     "name": "stderr",
     "output_type": "stream",
     "text": [
      "2024-01-09 15:53:31.173193: I tensorflow/core/util/port.cc:110] oneDNN custom operations are on. You may see slightly different numerical results due to floating-point round-off errors from different computation orders. To turn them off, set the environment variable `TF_ENABLE_ONEDNN_OPTS=0`.\n",
      "2024-01-09 15:53:31.174337: I tensorflow/tsl/cuda/cudart_stub.cc:28] Could not find cuda drivers on your machine, GPU will not be used.\n",
      "2024-01-09 15:53:31.200458: I tensorflow/tsl/cuda/cudart_stub.cc:28] Could not find cuda drivers on your machine, GPU will not be used.\n",
      "2024-01-09 15:53:31.201573: I tensorflow/core/platform/cpu_feature_guard.cc:182] This TensorFlow binary is optimized to use available CPU instructions in performance-critical operations.\n",
      "To enable the following instructions: AVX2 AVX_VNNI FMA, in other operations, rebuild TensorFlow with the appropriate compiler flags.\n",
      "2024-01-09 15:53:31.763917: W tensorflow/compiler/tf2tensorrt/utils/py_utils.cc:38] TF-TRT Warning: Could not find TensorRT\n"
     ]
    }
   ],
   "source": [
    "#########################################################################\n",
    "## LIBRERIAS NECESARIAS\n",
    "#########################################################################\n",
    "import tensorflow as tf\n",
    "import gymnasium as gym\n",
    "from stable_baselines3 import PPO\n",
    "from tensorflow.keras.layers import concatenate\n",
    "import numpy as np\n",
    "import keras\n",
    "import matplotlib.pyplot as plt\n",
    "from keras import layers\n",
    "import copy\n",
    "import torch\n",
    "from sklearn.model_selection import train_test_split\n",
    "\n",
    "import sys\n",
    "\n",
    "import os\n",
    "from stable_baselines3.common.vec_env import DummyVecEnv\n",
    "import pandas as pd"
   ]
  },
  {
   "cell_type": "code",
   "execution_count": 5,
   "metadata": {},
   "outputs": [],
   "source": [
    "############################################################################\n",
    "## Variables globales (hiperparámetros)\n",
    "###########################################################################\n",
    "EPOCHS=1\n",
    "\n",
    "EPISODES=10\n",
    "EPISODES_EVALUATE_G=50\n",
    "\n",
    "TOTAL_TIMESTEPS_PPO_GENERATOR=250\n",
    "LEARNING_RATE=0.001"
   ]
  },
  {
   "cell_type": "markdown",
   "metadata": {},
   "source": [
    "# GYM Lunar Lander\n",
    "\n",
    "\n",
    "* **Entorno**:\n",
    "\n",
    "  Este entorno es un **problema clásico de optimización de trayectoria de un COHETE**. Según el principio del máximo de Pontryagin, es óptimo encender el motor a máxima potencia o apagarlo. Esta es la razón por la cual este entorno tiene acciones discretas: encender el motor o apagarlo.\n",
    "\n",
    " Existen dos versiones del entorno: discreta o continua. La plataforma de aterrizaje siempre se encuentra en las coordenadas (0,0). Las coordenadas son los primeros dos números en el vector de estado. Es posible aterrizar fuera de la plataforma de aterrizaje. El combustible es infinito, por lo que un agente puede aprender a volar y luego aterrizar en su primer intento.\n",
    "\n",
    "* **Acciones**: tenemos cuatro acciones discretas:\n",
    "\n",
    "  * **0**:No hacer nada\n",
    "  * **1**: Encender motor de orientación izquierdo\n",
    "  * **2**: Encender motor principal\n",
    "  * **3**: Encender motor de orientación derecho\n",
    "* **Observaciones**: es un vector de 8 dimensiones donde se almacenan las coordenadas (x,y), las velocidades lineales en x e y, su ángulo, su velocidad angular, y dos booleanos que representan si cada pata está en contacto con el suelo o no.\n"
   ]
  },
  {
   "cell_type": "markdown",
   "metadata": {},
   "source": [
    "## Instalación de Box2D"
   ]
  },
  {
   "cell_type": "code",
   "execution_count": 6,
   "metadata": {},
   "outputs": [],
   "source": [
    "#!pip uninstall -y pybox2d"
   ]
  },
  {
   "cell_type": "code",
   "execution_count": 7,
   "metadata": {},
   "outputs": [
    {
     "name": "stdout",
     "output_type": "stream",
     "text": [
      "Defaulting to user installation because normal site-packages is not writeable\n",
      "Requirement already satisfied: swig in /home/usuario/.local/lib/python3.10/site-packages (4.1.1.post0)\n"
     ]
    }
   ],
   "source": [
    "!pip install swig"
   ]
  },
  {
   "cell_type": "code",
   "execution_count": 8,
   "metadata": {},
   "outputs": [
    {
     "name": "stdout",
     "output_type": "stream",
     "text": [
      "fatal: la ruta de destino 'pybox2d' ya existe y no es un directorio vacío.\n"
     ]
    }
   ],
   "source": [
    "!git clone https://github.com/pybox2d/pybox2d"
   ]
  },
  {
   "cell_type": "code",
   "execution_count": 9,
   "metadata": {},
   "outputs": [
    {
     "name": "stdout",
     "output_type": "stream",
     "text": [
      "['Box2D', 'Box2D.examples', 'Box2D.tests', 'Box2D.b2', 'Box2D.examples.opencv', 'Box2D.examples.simple', 'Box2D.examples.pgu', 'Box2D.examples.backends', 'Box2D.examples.pgu.gui']\n",
      "running build\n",
      "running build_py\n",
      "running build_ext\n",
      "copying library/Box2D/__init__.py -> build/lib.linux-x86_64-cpython-311/Box2D\n",
      "running egg_info\n",
      "writing library/Box2D.egg-info/PKG-INFO\n",
      "writing dependency_links to library/Box2D.egg-info/dependency_links.txt\n",
      "writing top-level names to library/Box2D.egg-info/top_level.txt\n",
      "reading manifest file 'library/Box2D.egg-info/SOURCES.txt'\n",
      "reading manifest template 'MANIFEST.in'\n",
      "warning: no files found matching 'INSTALL'\n",
      "warning: no files found matching 'README'\n",
      "adding license file 'LICENSE'\n",
      "writing manifest file 'library/Box2D.egg-info/SOURCES.txt'\n",
      "/home/usuario/anaconda3/lib/python3.11/site-packages/setuptools/command/build_py.py:201: _Warning: Package 'Box2D.examples.data.themes.default' is absent from the `packages` configuration.\n",
      "!!\n",
      "\n",
      "        ********************************************************************************\n",
      "        ############################\n",
      "        # Package would be ignored #\n",
      "        ############################\n",
      "        Python recognizes 'Box2D.examples.data.themes.default' as an importable package[^1],\n",
      "        but it is absent from setuptools' `packages` configuration.\n",
      "\n",
      "        This leads to an ambiguous overall configuration. If you want to distribute this\n",
      "        package, please make sure that 'Box2D.examples.data.themes.default' is explicitly added\n",
      "        to the `packages` configuration field.\n",
      "\n",
      "        Alternatively, you can also rely on setuptools' discovery methods\n",
      "        (for example by using `find_namespace_packages(...)`/`find_namespace:`\n",
      "        instead of `find_packages(...)`/`find:`).\n",
      "\n",
      "        You can read more about \"package discovery\" on setuptools documentation page:\n",
      "\n",
      "        - https://setuptools.pypa.io/en/latest/userguide/package_discovery.html\n",
      "\n",
      "        If you don't want 'Box2D.examples.data.themes.default' to be distributed and are\n",
      "        already explicitly excluding 'Box2D.examples.data.themes.default' via\n",
      "        `find_namespace_packages(...)/find_namespace` or `find_packages(...)/find`,\n",
      "        you can try to use `exclude_package_data`, or `include-package-data=False` in\n",
      "        combination with a more fine grained `package-data` configuration.\n",
      "\n",
      "        You can read more about \"package data files\" on setuptools documentation page:\n",
      "\n",
      "        - https://setuptools.pypa.io/en/latest/userguide/datafiles.html\n",
      "\n",
      "\n",
      "        [^1]: For Python, any directory (with suitable naming) can be imported,\n",
      "              even if it does not contain any `.py` files.\n",
      "              On the other hand, currently there is no concept of package data\n",
      "              directory, all directories are treated like packages.\n",
      "        ********************************************************************************\n",
      "\n",
      "!!\n",
      "  check.warn(importable)\n",
      "/home/usuario/anaconda3/lib/python3.11/site-packages/setuptools/command/build_py.py:201: _Warning: Package 'Box2D.examples.data.themes.gray' is absent from the `packages` configuration.\n",
      "!!\n",
      "\n",
      "        ********************************************************************************\n",
      "        ############################\n",
      "        # Package would be ignored #\n",
      "        ############################\n",
      "        Python recognizes 'Box2D.examples.data.themes.gray' as an importable package[^1],\n",
      "        but it is absent from setuptools' `packages` configuration.\n",
      "\n",
      "        This leads to an ambiguous overall configuration. If you want to distribute this\n",
      "        package, please make sure that 'Box2D.examples.data.themes.gray' is explicitly added\n",
      "        to the `packages` configuration field.\n",
      "\n",
      "        Alternatively, you can also rely on setuptools' discovery methods\n",
      "        (for example by using `find_namespace_packages(...)`/`find_namespace:`\n",
      "        instead of `find_packages(...)`/`find:`).\n",
      "\n",
      "        You can read more about \"package discovery\" on setuptools documentation page:\n",
      "\n",
      "        - https://setuptools.pypa.io/en/latest/userguide/package_discovery.html\n",
      "\n",
      "        If you don't want 'Box2D.examples.data.themes.gray' to be distributed and are\n",
      "        already explicitly excluding 'Box2D.examples.data.themes.gray' via\n",
      "        `find_namespace_packages(...)/find_namespace` or `find_packages(...)/find`,\n",
      "        you can try to use `exclude_package_data`, or `include-package-data=False` in\n",
      "        combination with a more fine grained `package-data` configuration.\n",
      "\n",
      "        You can read more about \"package data files\" on setuptools documentation page:\n",
      "\n",
      "        - https://setuptools.pypa.io/en/latest/userguide/datafiles.html\n",
      "\n",
      "\n",
      "        [^1]: For Python, any directory (with suitable naming) can be imported,\n",
      "              even if it does not contain any `.py` files.\n",
      "              On the other hand, currently there is no concept of package data\n",
      "              directory, all directories are treated like packages.\n",
      "        ********************************************************************************\n",
      "\n",
      "!!\n",
      "  check.warn(importable)\n",
      "/home/usuario/anaconda3/lib/python3.11/site-packages/setuptools/command/build_py.py:201: _Warning: Package 'Box2D.examples.data.themes.tools' is absent from the `packages` configuration.\n",
      "!!\n",
      "\n",
      "        ********************************************************************************\n",
      "        ############################\n",
      "        # Package would be ignored #\n",
      "        ############################\n",
      "        Python recognizes 'Box2D.examples.data.themes.tools' as an importable package[^1],\n",
      "        but it is absent from setuptools' `packages` configuration.\n",
      "\n",
      "        This leads to an ambiguous overall configuration. If you want to distribute this\n",
      "        package, please make sure that 'Box2D.examples.data.themes.tools' is explicitly added\n",
      "        to the `packages` configuration field.\n",
      "\n",
      "        Alternatively, you can also rely on setuptools' discovery methods\n",
      "        (for example by using `find_namespace_packages(...)`/`find_namespace:`\n",
      "        instead of `find_packages(...)`/`find:`).\n",
      "\n",
      "        You can read more about \"package discovery\" on setuptools documentation page:\n",
      "\n",
      "        - https://setuptools.pypa.io/en/latest/userguide/package_discovery.html\n",
      "\n",
      "        If you don't want 'Box2D.examples.data.themes.tools' to be distributed and are\n",
      "        already explicitly excluding 'Box2D.examples.data.themes.tools' via\n",
      "        `find_namespace_packages(...)/find_namespace` or `find_packages(...)/find`,\n",
      "        you can try to use `exclude_package_data`, or `include-package-data=False` in\n",
      "        combination with a more fine grained `package-data` configuration.\n",
      "\n",
      "        You can read more about \"package data files\" on setuptools documentation page:\n",
      "\n",
      "        - https://setuptools.pypa.io/en/latest/userguide/datafiles.html\n",
      "\n",
      "\n",
      "        [^1]: For Python, any directory (with suitable naming) can be imported,\n",
      "              even if it does not contain any `.py` files.\n",
      "              On the other hand, currently there is no concept of package data\n",
      "              directory, all directories are treated like packages.\n",
      "        ********************************************************************************\n",
      "\n",
      "!!\n",
      "  check.warn(importable)\n",
      "['Box2D', 'Box2D.examples', 'Box2D.tests', 'Box2D.b2', 'Box2D.examples.opencv', 'Box2D.examples.simple', 'Box2D.examples.pgu', 'Box2D.examples.backends', 'Box2D.examples.pgu.gui']\n",
      "running install\n",
      "/home/usuario/anaconda3/lib/python3.11/site-packages/setuptools/_distutils/cmd.py:66: SetuptoolsDeprecationWarning: setup.py install is deprecated.\n",
      "!!\n",
      "\n",
      "        ********************************************************************************\n",
      "        Please avoid running ``setup.py`` directly.\n",
      "        Instead, use pypa/build, pypa/installer or other\n",
      "        standards-based tools.\n",
      "\n",
      "        See https://blog.ganssle.io/articles/2021/10/setup-py-deprecated.html for details.\n",
      "        ********************************************************************************\n",
      "\n",
      "!!\n",
      "  self.initialize_options()\n",
      "/home/usuario/anaconda3/lib/python3.11/site-packages/setuptools/_distutils/cmd.py:66: EasyInstallDeprecationWarning: easy_install command is deprecated.\n",
      "!!\n",
      "\n",
      "        ********************************************************************************\n",
      "        Please avoid running ``setup.py`` and ``easy_install``.\n",
      "        Instead, use pypa/build, pypa/installer or other\n",
      "        standards-based tools.\n",
      "\n",
      "        See https://github.com/pypa/setuptools/issues/917 for details.\n",
      "        ********************************************************************************\n",
      "\n",
      "!!\n",
      "  self.initialize_options()\n",
      "running bdist_egg\n",
      "running egg_info\n",
      "writing library/Box2D.egg-info/PKG-INFO\n",
      "writing dependency_links to library/Box2D.egg-info/dependency_links.txt\n",
      "writing top-level names to library/Box2D.egg-info/top_level.txt\n",
      "reading manifest file 'library/Box2D.egg-info/SOURCES.txt'\n",
      "reading manifest template 'MANIFEST.in'\n",
      "warning: no files found matching 'INSTALL'\n",
      "warning: no files found matching 'README'\n",
      "adding license file 'LICENSE'\n",
      "writing manifest file 'library/Box2D.egg-info/SOURCES.txt'\n",
      "installing library code to build/bdist.linux-x86_64/egg\n",
      "running install_lib\n",
      "running build_py\n",
      "running build_ext\n",
      "/home/usuario/anaconda3/lib/python3.11/site-packages/setuptools/command/build_py.py:201: _Warning: Package 'Box2D.examples.data.themes.default' is absent from the `packages` configuration.\n",
      "!!\n",
      "\n",
      "        ********************************************************************************\n",
      "        ############################\n",
      "        # Package would be ignored #\n",
      "        ############################\n",
      "        Python recognizes 'Box2D.examples.data.themes.default' as an importable package[^1],\n",
      "        but it is absent from setuptools' `packages` configuration.\n",
      "\n",
      "        This leads to an ambiguous overall configuration. If you want to distribute this\n",
      "        package, please make sure that 'Box2D.examples.data.themes.default' is explicitly added\n",
      "        to the `packages` configuration field.\n",
      "\n",
      "        Alternatively, you can also rely on setuptools' discovery methods\n",
      "        (for example by using `find_namespace_packages(...)`/`find_namespace:`\n",
      "        instead of `find_packages(...)`/`find:`).\n",
      "\n",
      "        You can read more about \"package discovery\" on setuptools documentation page:\n",
      "\n",
      "        - https://setuptools.pypa.io/en/latest/userguide/package_discovery.html\n",
      "\n",
      "        If you don't want 'Box2D.examples.data.themes.default' to be distributed and are\n",
      "        already explicitly excluding 'Box2D.examples.data.themes.default' via\n",
      "        `find_namespace_packages(...)/find_namespace` or `find_packages(...)/find`,\n",
      "        you can try to use `exclude_package_data`, or `include-package-data=False` in\n",
      "        combination with a more fine grained `package-data` configuration.\n",
      "\n",
      "        You can read more about \"package data files\" on setuptools documentation page:\n",
      "\n",
      "        - https://setuptools.pypa.io/en/latest/userguide/datafiles.html\n",
      "\n",
      "\n",
      "        [^1]: For Python, any directory (with suitable naming) can be imported,\n",
      "              even if it does not contain any `.py` files.\n",
      "              On the other hand, currently there is no concept of package data\n",
      "              directory, all directories are treated like packages.\n",
      "        ********************************************************************************\n",
      "\n",
      "!!\n",
      "  check.warn(importable)\n",
      "/home/usuario/anaconda3/lib/python3.11/site-packages/setuptools/command/build_py.py:201: _Warning: Package 'Box2D.examples.data.themes.gray' is absent from the `packages` configuration.\n",
      "!!\n",
      "\n",
      "        ********************************************************************************\n",
      "        ############################\n",
      "        # Package would be ignored #\n",
      "        ############################\n",
      "        Python recognizes 'Box2D.examples.data.themes.gray' as an importable package[^1],\n",
      "        but it is absent from setuptools' `packages` configuration.\n",
      "\n",
      "        This leads to an ambiguous overall configuration. If you want to distribute this\n",
      "        package, please make sure that 'Box2D.examples.data.themes.gray' is explicitly added\n",
      "        to the `packages` configuration field.\n",
      "\n",
      "        Alternatively, you can also rely on setuptools' discovery methods\n",
      "        (for example by using `find_namespace_packages(...)`/`find_namespace:`\n",
      "        instead of `find_packages(...)`/`find:`).\n",
      "\n",
      "        You can read more about \"package discovery\" on setuptools documentation page:\n",
      "\n",
      "        - https://setuptools.pypa.io/en/latest/userguide/package_discovery.html\n",
      "\n",
      "        If you don't want 'Box2D.examples.data.themes.gray' to be distributed and are\n",
      "        already explicitly excluding 'Box2D.examples.data.themes.gray' via\n",
      "        `find_namespace_packages(...)/find_namespace` or `find_packages(...)/find`,\n",
      "        you can try to use `exclude_package_data`, or `include-package-data=False` in\n",
      "        combination with a more fine grained `package-data` configuration.\n",
      "\n",
      "        You can read more about \"package data files\" on setuptools documentation page:\n",
      "\n",
      "        - https://setuptools.pypa.io/en/latest/userguide/datafiles.html\n",
      "\n",
      "\n",
      "        [^1]: For Python, any directory (with suitable naming) can be imported,\n",
      "              even if it does not contain any `.py` files.\n",
      "              On the other hand, currently there is no concept of package data\n",
      "              directory, all directories are treated like packages.\n",
      "        ********************************************************************************\n",
      "\n",
      "!!\n",
      "  check.warn(importable)\n",
      "/home/usuario/anaconda3/lib/python3.11/site-packages/setuptools/command/build_py.py:201: _Warning: Package 'Box2D.examples.data.themes.tools' is absent from the `packages` configuration.\n",
      "!!\n",
      "\n",
      "        ********************************************************************************\n",
      "        ############################\n",
      "        # Package would be ignored #\n",
      "        ############################\n",
      "        Python recognizes 'Box2D.examples.data.themes.tools' as an importable package[^1],\n",
      "        but it is absent from setuptools' `packages` configuration.\n",
      "\n",
      "        This leads to an ambiguous overall configuration. If you want to distribute this\n",
      "        package, please make sure that 'Box2D.examples.data.themes.tools' is explicitly added\n",
      "        to the `packages` configuration field.\n",
      "\n",
      "        Alternatively, you can also rely on setuptools' discovery methods\n",
      "        (for example by using `find_namespace_packages(...)`/`find_namespace:`\n",
      "        instead of `find_packages(...)`/`find:`).\n",
      "\n",
      "        You can read more about \"package discovery\" on setuptools documentation page:\n",
      "\n",
      "        - https://setuptools.pypa.io/en/latest/userguide/package_discovery.html\n",
      "\n",
      "        If you don't want 'Box2D.examples.data.themes.tools' to be distributed and are\n",
      "        already explicitly excluding 'Box2D.examples.data.themes.tools' via\n",
      "        `find_namespace_packages(...)/find_namespace` or `find_packages(...)/find`,\n",
      "        you can try to use `exclude_package_data`, or `include-package-data=False` in\n",
      "        combination with a more fine grained `package-data` configuration.\n",
      "\n",
      "        You can read more about \"package data files\" on setuptools documentation page:\n",
      "\n",
      "        - https://setuptools.pypa.io/en/latest/userguide/datafiles.html\n",
      "\n",
      "\n",
      "        [^1]: For Python, any directory (with suitable naming) can be imported,\n",
      "              even if it does not contain any `.py` files.\n",
      "              On the other hand, currently there is no concept of package data\n",
      "              directory, all directories are treated like packages.\n",
      "        ********************************************************************************\n",
      "\n",
      "!!\n",
      "  check.warn(importable)\n",
      "creating build/bdist.linux-x86_64/egg\n",
      "creating build/bdist.linux-x86_64/egg/Box2D\n",
      "copying build/lib.linux-x86_64-cpython-311/Box2D/Box2D.py -> build/bdist.linux-x86_64/egg/Box2D\n",
      "creating build/bdist.linux-x86_64/egg/Box2D/examples\n",
      "copying build/lib.linux-x86_64-cpython-311/Box2D/examples/theo_jansen.py -> build/bdist.linux-x86_64/egg/Box2D/examples\n",
      "copying build/lib.linux-x86_64-cpython-311/Box2D/examples/bridge.py -> build/bdist.linux-x86_64/egg/Box2D/examples\n",
      "copying build/lib.linux-x86_64-cpython-311/Box2D/examples/pinball.py -> build/bdist.linux-x86_64/egg/Box2D/examples\n",
      "copying build/lib.linux-x86_64-cpython-311/Box2D/examples/body_types.py -> build/bdist.linux-x86_64/egg/Box2D/examples\n",
      "copying build/lib.linux-x86_64-cpython-311/Box2D/examples/edge_test.py -> build/bdist.linux-x86_64/egg/Box2D/examples\n",
      "copying build/lib.linux-x86_64-cpython-311/Box2D/examples/framework.py -> build/bdist.linux-x86_64/egg/Box2D/examples\n",
      "copying build/lib.linux-x86_64-cpython-311/Box2D/examples/cloth.py -> build/bdist.linux-x86_64/egg/Box2D/examples\n",
      "copying build/lib.linux-x86_64-cpython-311/Box2D/examples/cantilever.py -> build/bdist.linux-x86_64/egg/Box2D/examples\n",
      "copying build/lib.linux-x86_64-cpython-311/Box2D/examples/empty.py -> build/bdist.linux-x86_64/egg/Box2D/examples\n",
      "copying build/lib.linux-x86_64-cpython-311/Box2D/examples/apply_force.py -> build/bdist.linux-x86_64/egg/Box2D/examples\n",
      "copying build/lib.linux-x86_64-cpython-311/Box2D/examples/collision_processing.py -> build/bdist.linux-x86_64/egg/Box2D/examples\n",
      "creating build/bdist.linux-x86_64/egg/Box2D/examples/data\n",
      "creating build/bdist.linux-x86_64/egg/Box2D/examples/data/themes\n",
      "creating build/bdist.linux-x86_64/egg/Box2D/examples/data/themes/gray\n",
      "copying build/lib.linux-x86_64-cpython-311/Box2D/examples/data/themes/gray/menu.option.normal.png -> build/bdist.linux-x86_64/egg/Box2D/examples/data/themes/gray\n",
      "copying build/lib.linux-x86_64-cpython-311/Box2D/examples/data/themes/gray/slider.png -> build/bdist.linux-x86_64/egg/Box2D/examples/data/themes/gray\n",
      "copying build/lib.linux-x86_64-cpython-311/Box2D/examples/data/themes/gray/dialog.close.normal.png -> build/bdist.linux-x86_64/egg/Box2D/examples/data/themes/gray\n",
      "copying build/lib.linux-x86_64-cpython-311/Box2D/examples/data/themes/gray/select.options.png -> build/bdist.linux-x86_64/egg/Box2D/examples/data/themes/gray\n",
      "copying build/lib.linux-x86_64-cpython-311/Box2D/examples/data/themes/gray/button.normal.png -> build/bdist.linux-x86_64/egg/Box2D/examples/data/themes/gray\n",
      "copying build/lib.linux-x86_64-cpython-311/Box2D/examples/data/themes/gray/dialog.png -> build/bdist.linux-x86_64/egg/Box2D/examples/data/themes/gray\n",
      "copying build/lib.linux-x86_64-cpython-311/Box2D/examples/data/themes/gray/Vera.ttf -> build/bdist.linux-x86_64/egg/Box2D/examples/data/themes/gray\n",
      "copying build/lib.linux-x86_64-cpython-311/Box2D/examples/data/themes/gray/menu.down.png -> build/bdist.linux-x86_64/egg/Box2D/examples/data/themes/gray\n",
      "copying build/lib.linux-x86_64-cpython-311/Box2D/examples/data/themes/gray/config.txt -> build/bdist.linux-x86_64/egg/Box2D/examples/data/themes/gray\n",
      "copying build/lib.linux-x86_64-cpython-311/Box2D/examples/data/themes/gray/select.option.normal.png -> build/bdist.linux-x86_64/egg/Box2D/examples/data/themes/gray\n",
      "copying build/lib.linux-x86_64-cpython-311/Box2D/examples/data/themes/gray/radio.off.normal.png -> build/bdist.linux-x86_64/egg/Box2D/examples/data/themes/gray\n",
      "copying build/lib.linux-x86_64-cpython-311/Box2D/examples/data/themes/gray/console.input.focus.png -> build/bdist.linux-x86_64/egg/Box2D/examples/data/themes/gray\n",
      "copying build/lib.linux-x86_64-cpython-311/Box2D/examples/data/themes/gray/list.item.normal.png -> build/bdist.linux-x86_64/egg/Box2D/examples/data/themes/gray\n",
      "copying build/lib.linux-x86_64-cpython-311/Box2D/examples/data/themes/gray/menu.hover.png -> build/bdist.linux-x86_64/egg/Box2D/examples/data/themes/gray\n",
      "copying build/lib.linux-x86_64-cpython-311/Box2D/examples/data/themes/gray/input.normal.png -> build/bdist.linux-x86_64/egg/Box2D/examples/data/themes/gray\n",
      "copying build/lib.linux-x86_64-cpython-311/Box2D/examples/data/themes/gray/slider.bar.normal.png -> build/bdist.linux-x86_64/egg/Box2D/examples/data/themes/gray\n",
      "copying build/lib.linux-x86_64-cpython-311/Box2D/examples/data/themes/gray/tool.down.png -> build/bdist.linux-x86_64/egg/Box2D/examples/data/themes/gray\n",
      "copying build/lib.linux-x86_64-cpython-311/Box2D/examples/data/themes/gray/checkbox.on.down.png -> build/bdist.linux-x86_64/egg/Box2D/examples/data/themes/gray\n",
      "copying build/lib.linux-x86_64-cpython-311/Box2D/examples/data/themes/gray/filebrowser.folder.png -> build/bdist.linux-x86_64/egg/Box2D/examples/data/themes/gray\n",
      "copying build/lib.linux-x86_64-cpython-311/Box2D/examples/data/themes/gray/select.arrow.normal.png -> build/bdist.linux-x86_64/egg/Box2D/examples/data/themes/gray\n",
      "copying build/lib.linux-x86_64-cpython-311/Box2D/examples/data/themes/gray/menu.option.hover.png -> build/bdist.linux-x86_64/egg/Box2D/examples/data/themes/gray\n",
      "copying build/lib.linux-x86_64-cpython-311/Box2D/examples/data/themes/gray/radio.on.down.png -> build/bdist.linux-x86_64/egg/Box2D/examples/data/themes/gray\n",
      "copying build/lib.linux-x86_64-cpython-311/Box2D/examples/data/themes/gray/button.down.png -> build/bdist.linux-x86_64/egg/Box2D/examples/data/themes/gray\n",
      "copying build/lib.linux-x86_64-cpython-311/Box2D/examples/data/themes/gray/dialog.bar.png -> build/bdist.linux-x86_64/egg/Box2D/examples/data/themes/gray\n",
      "copying build/lib.linux-x86_64-cpython-311/Box2D/examples/data/themes/gray/box.normal.png -> build/bdist.linux-x86_64/egg/Box2D/examples/data/themes/gray\n",
      "copying build/lib.linux-x86_64-cpython-311/Box2D/examples/data/themes/gray/console.png -> build/bdist.linux-x86_64/egg/Box2D/examples/data/themes/gray\n",
      "copying build/lib.linux-x86_64-cpython-311/Box2D/examples/data/themes/gray/radio.off.down.png -> build/bdist.linux-x86_64/egg/Box2D/examples/data/themes/gray\n",
      "copying build/lib.linux-x86_64-cpython-311/Box2D/examples/data/themes/gray/desktop.png -> build/bdist.linux-x86_64/egg/Box2D/examples/data/themes/gray\n",
      "copying build/lib.linux-x86_64-cpython-311/Box2D/examples/data/themes/gray/select.selected.normal.png -> build/bdist.linux-x86_64/egg/Box2D/examples/data/themes/gray\n",
      "copying build/lib.linux-x86_64-cpython-311/Box2D/examples/data/themes/gray/select.arrow.png -> build/bdist.linux-x86_64/egg/Box2D/examples/data/themes/gray\n",
      "copying build/lib.linux-x86_64-cpython-311/Box2D/examples/data/themes/gray/dialog.close.down.png -> build/bdist.linux-x86_64/egg/Box2D/examples/data/themes/gray\n",
      "copying build/lib.linux-x86_64-cpython-311/Box2D/examples/data/themes/gray/checkbox.on.normal.png -> build/bdist.linux-x86_64/egg/Box2D/examples/data/themes/gray\n",
      "copying build/lib.linux-x86_64-cpython-311/Box2D/examples/data/themes/gray/console.input.normal.png -> build/bdist.linux-x86_64/egg/Box2D/examples/data/themes/gray\n",
      "copying build/lib.linux-x86_64-cpython-311/Box2D/examples/data/themes/gray/tool.normal.png -> build/bdist.linux-x86_64/egg/Box2D/examples/data/themes/gray\n",
      "copying build/lib.linux-x86_64-cpython-311/Box2D/examples/data/themes/gray/radio.on.normal.png -> build/bdist.linux-x86_64/egg/Box2D/examples/data/themes/gray\n",
      "copying build/lib.linux-x86_64-cpython-311/Box2D/examples/data/themes/gray/list.png -> build/bdist.linux-x86_64/egg/Box2D/examples/data/themes/gray\n",
      "copying build/lib.linux-x86_64-cpython-311/Box2D/examples/data/themes/gray/input.focus.png -> build/bdist.linux-x86_64/egg/Box2D/examples/data/themes/gray\n",
      "copying build/lib.linux-x86_64-cpython-311/Box2D/examples/data/themes/gray/checkbox.off.down.png -> build/bdist.linux-x86_64/egg/Box2D/examples/data/themes/gray\n",
      "copying build/lib.linux-x86_64-cpython-311/Box2D/examples/data/themes/gray/menu.normal.png -> build/bdist.linux-x86_64/egg/Box2D/examples/data/themes/gray\n",
      "copying build/lib.linux-x86_64-cpython-311/Box2D/examples/data/themes/gray/checkbox.off.normal.png -> build/bdist.linux-x86_64/egg/Box2D/examples/data/themes/gray\n",
      "copying build/lib.linux-x86_64-cpython-311/Box2D/examples/data/themes/gray/select.arrow.down.png -> build/bdist.linux-x86_64/egg/Box2D/examples/data/themes/gray\n",
      "copying build/lib.linux-x86_64-cpython-311/Box2D/examples/data/themes/gray/box.down.png -> build/bdist.linux-x86_64/egg/Box2D/examples/data/themes/gray\n",
      "creating build/bdist.linux-x86_64/egg/Box2D/examples/data/themes/tools\n",
      "copying build/lib.linux-x86_64-cpython-311/Box2D/examples/data/themes/tools/icons48.pixel.tga -> build/bdist.linux-x86_64/egg/Box2D/examples/data/themes/tools\n",
      "copying build/lib.linux-x86_64-cpython-311/Box2D/examples/data/themes/tools/icons48.code.tga -> build/bdist.linux-x86_64/egg/Box2D/examples/data/themes/tools\n",
      "copying build/lib.linux-x86_64-cpython-311/Box2D/examples/data/themes/tools/config.txt -> build/bdist.linux-x86_64/egg/Box2D/examples/data/themes/tools\n",
      "copying build/lib.linux-x86_64-cpython-311/Box2D/examples/data/themes/tools/icons48.line.tga -> build/bdist.linux-x86_64/egg/Box2D/examples/data/themes/tools\n",
      "copying build/lib.linux-x86_64-cpython-311/Box2D/examples/data/themes/tools/icons48.bkgr.tga -> build/bdist.linux-x86_64/egg/Box2D/examples/data/themes/tools\n",
      "copying build/lib.linux-x86_64-cpython-311/Box2D/examples/data/themes/tools/icons48.select.tga -> build/bdist.linux-x86_64/egg/Box2D/examples/data/themes/tools\n",
      "copying build/lib.linux-x86_64-cpython-311/Box2D/examples/data/themes/tools/icons48.eraser.tga -> build/bdist.linux-x86_64/egg/Box2D/examples/data/themes/tools\n",
      "copying build/lib.linux-x86_64-cpython-311/Box2D/examples/data/themes/tools/icons48.tile.tga -> build/bdist.linux-x86_64/egg/Box2D/examples/data/themes/tools\n",
      "copying build/lib.linux-x86_64-cpython-311/Box2D/examples/data/themes/tools/icons48.fill.tga -> build/bdist.linux-x86_64/egg/Box2D/examples/data/themes/tools\n",
      "copying build/lib.linux-x86_64-cpython-311/Box2D/examples/data/themes/tools/icons48.draw.tga -> build/bdist.linux-x86_64/egg/Box2D/examples/data/themes/tools\n",
      "creating build/bdist.linux-x86_64/egg/Box2D/examples/data/themes/default\n",
      "copying build/lib.linux-x86_64-cpython-311/Box2D/examples/data/themes/default/checkbox.off.normal.tga -> build/bdist.linux-x86_64/egg/Box2D/examples/data/themes/default\n",
      "copying build/lib.linux-x86_64-cpython-311/Box2D/examples/data/themes/default/dot.hover.png -> build/bdist.linux-x86_64/egg/Box2D/examples/data/themes/default\n",
      "copying build/lib.linux-x86_64-cpython-311/Box2D/examples/data/themes/default/vslider.tga -> build/bdist.linux-x86_64/egg/Box2D/examples/data/themes/default\n",
      "copying build/lib.linux-x86_64-cpython-311/Box2D/examples/data/themes/default/checkbox.on.normal.tga -> build/bdist.linux-x86_64/egg/Box2D/examples/data/themes/default\n",
      "copying build/lib.linux-x86_64-cpython-311/Box2D/examples/data/themes/default/desktop.xcf -> build/bdist.linux-x86_64/egg/Box2D/examples/data/themes/default\n",
      "copying build/lib.linux-x86_64-cpython-311/Box2D/examples/data/themes/default/slider.bar.hover.tga -> build/bdist.linux-x86_64/egg/Box2D/examples/data/themes/default\n",
      "copying build/lib.linux-x86_64-cpython-311/Box2D/examples/data/themes/default/out.tga -> build/bdist.linux-x86_64/egg/Box2D/examples/data/themes/default\n",
      "copying build/lib.linux-x86_64-cpython-311/Box2D/examples/data/themes/default/select.options.png -> build/bdist.linux-x86_64/egg/Box2D/examples/data/themes/default\n",
      "copying build/lib.linux-x86_64-cpython-311/Box2D/examples/data/themes/default/right.png -> build/bdist.linux-x86_64/egg/Box2D/examples/data/themes/default\n",
      "copying build/lib.linux-x86_64-cpython-311/Box2D/examples/data/themes/default/checkbox.on.hover.tga -> build/bdist.linux-x86_64/egg/Box2D/examples/data/themes/default\n",
      "copying build/lib.linux-x86_64-cpython-311/Box2D/examples/data/themes/default/box.xcf -> build/bdist.linux-x86_64/egg/Box2D/examples/data/themes/default\n",
      "copying build/lib.linux-x86_64-cpython-311/Box2D/examples/data/themes/default/dialog.png -> build/bdist.linux-x86_64/egg/Box2D/examples/data/themes/default\n",
      "copying build/lib.linux-x86_64-cpython-311/Box2D/examples/data/themes/default/radio.png -> build/bdist.linux-x86_64/egg/Box2D/examples/data/themes/default\n",
      "copying build/lib.linux-x86_64-cpython-311/Box2D/examples/data/themes/default/vdot.down.png -> build/bdist.linux-x86_64/egg/Box2D/examples/data/themes/default\n",
      "copying build/lib.linux-x86_64-cpython-311/Box2D/examples/data/themes/default/listitem.normal.tga -> build/bdist.linux-x86_64/egg/Box2D/examples/data/themes/default\n",
      "copying build/lib.linux-x86_64-cpython-311/Box2D/examples/data/themes/default/menu.down.tga -> build/bdist.linux-x86_64/egg/Box2D/examples/data/themes/default\n",
      "copying build/lib.linux-x86_64-cpython-311/Box2D/examples/data/themes/default/Vera.ttf -> build/bdist.linux-x86_64/egg/Box2D/examples/data/themes/default\n",
      "copying build/lib.linux-x86_64-cpython-311/Box2D/examples/data/themes/default/config.txt -> build/bdist.linux-x86_64/egg/Box2D/examples/data/themes/default\n",
      "copying build/lib.linux-x86_64-cpython-311/Box2D/examples/data/themes/default/sbox.normal.png -> build/bdist.linux-x86_64/egg/Box2D/examples/data/themes/default\n",
      "copying build/lib.linux-x86_64-cpython-311/Box2D/examples/data/themes/default/scroller.slide.bar.normal.tga -> build/bdist.linux-x86_64/egg/Box2D/examples/data/themes/default\n",
      "copying build/lib.linux-x86_64-cpython-311/Box2D/examples/data/themes/default/select.option.normal.png -> build/bdist.linux-x86_64/egg/Box2D/examples/data/themes/default\n",
      "copying build/lib.linux-x86_64-cpython-311/Box2D/examples/data/themes/default/vslider.up.tga -> build/bdist.linux-x86_64/egg/Box2D/examples/data/themes/default\n",
      "copying build/lib.linux-x86_64-cpython-311/Box2D/examples/data/themes/default/notes.txt -> build/bdist.linux-x86_64/egg/Box2D/examples/data/themes/default\n",
      "copying build/lib.linux-x86_64-cpython-311/Box2D/examples/data/themes/default/listitem.hover.tga -> build/bdist.linux-x86_64/egg/Box2D/examples/data/themes/default\n",
      "copying build/lib.linux-x86_64-cpython-311/Box2D/examples/data/themes/default/select.selected.down.tga -> build/bdist.linux-x86_64/egg/Box2D/examples/data/themes/default\n",
      "copying build/lib.linux-x86_64-cpython-311/Box2D/examples/data/themes/default/select.arrow.hover.tga -> build/bdist.linux-x86_64/egg/Box2D/examples/data/themes/default\n",
      "copying build/lib.linux-x86_64-cpython-311/Box2D/examples/data/themes/default/down.png -> build/bdist.linux-x86_64/egg/Box2D/examples/data/themes/default\n",
      "copying build/lib.linux-x86_64-cpython-311/Box2D/examples/data/themes/default/radio.on.normal.tga -> build/bdist.linux-x86_64/egg/Box2D/examples/data/themes/default\n",
      "copying build/lib.linux-x86_64-cpython-311/Box2D/examples/data/themes/default/console.input.focus.png -> build/bdist.linux-x86_64/egg/Box2D/examples/data/themes/default\n",
      "copying build/lib.linux-x86_64-cpython-311/Box2D/examples/data/themes/default/list.item.normal.png -> build/bdist.linux-x86_64/egg/Box2D/examples/data/themes/default\n",
      "copying build/lib.linux-x86_64-cpython-311/Box2D/examples/data/themes/default/up.png -> build/bdist.linux-x86_64/egg/Box2D/examples/data/themes/default\n",
      "copying build/lib.linux-x86_64-cpython-311/Box2D/examples/data/themes/default/input.normal.png -> build/bdist.linux-x86_64/egg/Box2D/examples/data/themes/default\n",
      "copying build/lib.linux-x86_64-cpython-311/Box2D/examples/data/themes/default/select.arrow.normal.tga -> build/bdist.linux-x86_64/egg/Box2D/examples/data/themes/default\n",
      "copying build/lib.linux-x86_64-cpython-311/Box2D/examples/data/themes/default/list.item.hover.png -> build/bdist.linux-x86_64/egg/Box2D/examples/data/themes/default\n",
      "copying build/lib.linux-x86_64-cpython-311/Box2D/examples/data/themes/default/rdot.down.png -> build/bdist.linux-x86_64/egg/Box2D/examples/data/themes/default\n",
      "copying build/lib.linux-x86_64-cpython-311/Box2D/examples/data/themes/default/menu.hover.tga -> build/bdist.linux-x86_64/egg/Box2D/examples/data/themes/default\n",
      "copying build/lib.linux-x86_64-cpython-311/Box2D/examples/data/themes/default/button.normal.tga -> build/bdist.linux-x86_64/egg/Box2D/examples/data/themes/default\n",
      "copying build/lib.linux-x86_64-cpython-311/Box2D/examples/data/themes/default/select.arrow.down.tga -> build/bdist.linux-x86_64/egg/Box2D/examples/data/themes/default\n",
      "copying build/lib.linux-x86_64-cpython-311/Box2D/examples/data/themes/default/progressbar.tga -> build/bdist.linux-x86_64/egg/Box2D/examples/data/themes/default\n",
      "copying build/lib.linux-x86_64-cpython-311/Box2D/examples/data/themes/default/radio.off.normal.tga -> build/bdist.linux-x86_64/egg/Box2D/examples/data/themes/default\n",
      "copying build/lib.linux-x86_64-cpython-311/Box2D/examples/data/themes/default/check.png -> build/bdist.linux-x86_64/egg/Box2D/examples/data/themes/default\n",
      "copying build/lib.linux-x86_64-cpython-311/Box2D/examples/data/themes/default/rdot.normal.png -> build/bdist.linux-x86_64/egg/Box2D/examples/data/themes/default\n",
      "copying build/lib.linux-x86_64-cpython-311/Box2D/examples/data/themes/default/select.option.hover.png -> build/bdist.linux-x86_64/egg/Box2D/examples/data/themes/default\n",
      "copying build/lib.linux-x86_64-cpython-311/Box2D/examples/data/themes/default/tool.normal.tga -> build/bdist.linux-x86_64/egg/Box2D/examples/data/themes/default\n",
      "copying build/lib.linux-x86_64-cpython-311/Box2D/examples/data/themes/default/listitem.down.tga -> build/bdist.linux-x86_64/egg/Box2D/examples/data/themes/default\n",
      "copying build/lib.linux-x86_64-cpython-311/Box2D/examples/data/themes/default/menu.normal.tga -> build/bdist.linux-x86_64/egg/Box2D/examples/data/themes/default\n",
      "copying build/lib.linux-x86_64-cpython-311/Box2D/examples/data/themes/default/radio.on.hover.tga -> build/bdist.linux-x86_64/egg/Box2D/examples/data/themes/default\n",
      "copying build/lib.linux-x86_64-cpython-311/Box2D/examples/data/themes/default/select.selected.hover.tga -> build/bdist.linux-x86_64/egg/Box2D/examples/data/themes/default\n",
      "copying build/lib.linux-x86_64-cpython-311/Box2D/examples/data/themes/default/filebrowser.folder.png -> build/bdist.linux-x86_64/egg/Box2D/examples/data/themes/default\n",
      "copying build/lib.linux-x86_64-cpython-311/Box2D/examples/data/themes/default/hslider.right.tga -> build/bdist.linux-x86_64/egg/Box2D/examples/data/themes/default\n",
      "copying build/lib.linux-x86_64-cpython-311/Box2D/examples/data/themes/default/button.hover.tga -> build/bdist.linux-x86_64/egg/Box2D/examples/data/themes/default\n",
      "copying build/lib.linux-x86_64-cpython-311/Box2D/examples/data/themes/default/vdot.normal.png -> build/bdist.linux-x86_64/egg/Box2D/examples/data/themes/default\n",
      "copying build/lib.linux-x86_64-cpython-311/Box2D/examples/data/themes/default/select.selected.normal.tga -> build/bdist.linux-x86_64/egg/Box2D/examples/data/themes/default\n",
      "copying build/lib.linux-x86_64-cpython-311/Box2D/examples/data/themes/default/dialog.close.normal.tga -> build/bdist.linux-x86_64/egg/Box2D/examples/data/themes/default\n",
      "copying build/lib.linux-x86_64-cpython-311/Box2D/examples/data/themes/default/dot.down.png -> build/bdist.linux-x86_64/egg/Box2D/examples/data/themes/default\n",
      "copying build/lib.linux-x86_64-cpython-311/Box2D/examples/data/themes/default/radio.off.hover.tga -> build/bdist.linux-x86_64/egg/Box2D/examples/data/themes/default\n",
      "copying build/lib.linux-x86_64-cpython-311/Box2D/examples/data/themes/default/idot.normal.png -> build/bdist.linux-x86_64/egg/Box2D/examples/data/themes/default\n",
      "copying build/lib.linux-x86_64-cpython-311/Box2D/examples/data/themes/default/vdot.hover.png -> build/bdist.linux-x86_64/egg/Box2D/examples/data/themes/default\n",
      "copying build/lib.linux-x86_64-cpython-311/Box2D/examples/data/themes/default/dialog.bar.png -> build/bdist.linux-x86_64/egg/Box2D/examples/data/themes/default\n",
      "copying build/lib.linux-x86_64-cpython-311/Box2D/examples/data/themes/default/box.normal.png -> build/bdist.linux-x86_64/egg/Box2D/examples/data/themes/default\n",
      "copying build/lib.linux-x86_64-cpython-311/Box2D/examples/data/themes/default/dot.normal.png -> build/bdist.linux-x86_64/egg/Box2D/examples/data/themes/default\n",
      "copying build/lib.linux-x86_64-cpython-311/Box2D/examples/data/themes/default/console.png -> build/bdist.linux-x86_64/egg/Box2D/examples/data/themes/default\n",
      "copying build/lib.linux-x86_64-cpython-311/Box2D/examples/data/themes/default/dot.xcf -> build/bdist.linux-x86_64/egg/Box2D/examples/data/themes/default\n",
      "copying build/lib.linux-x86_64-cpython-311/Box2D/examples/data/themes/default/button.down.tga -> build/bdist.linux-x86_64/egg/Box2D/examples/data/themes/default\n",
      "copying build/lib.linux-x86_64-cpython-311/Box2D/examples/data/themes/default/tool.down.tga -> build/bdist.linux-x86_64/egg/Box2D/examples/data/themes/default\n",
      "copying build/lib.linux-x86_64-cpython-311/Box2D/examples/data/themes/default/vslider.bar.hover.tga -> build/bdist.linux-x86_64/egg/Box2D/examples/data/themes/default\n",
      "copying build/lib.linux-x86_64-cpython-311/Box2D/examples/data/themes/default/desktop.png -> build/bdist.linux-x86_64/egg/Box2D/examples/data/themes/default\n",
      "copying build/lib.linux-x86_64-cpython-311/Box2D/examples/data/themes/default/progressbar.bar.tga -> build/bdist.linux-x86_64/egg/Box2D/examples/data/themes/default\n",
      "copying build/lib.linux-x86_64-cpython-311/Box2D/examples/data/themes/default/rdot.hover.png -> build/bdist.linux-x86_64/egg/Box2D/examples/data/themes/default\n",
      "copying build/lib.linux-x86_64-cpython-311/Box2D/examples/data/themes/default/checkbox.off.hover.tga -> build/bdist.linux-x86_64/egg/Box2D/examples/data/themes/default\n",
      "copying build/lib.linux-x86_64-cpython-311/Box2D/examples/data/themes/default/x.png -> build/bdist.linux-x86_64/egg/Box2D/examples/data/themes/default\n",
      "copying build/lib.linux-x86_64-cpython-311/Box2D/examples/data/themes/default/hslider.bar.normal.tga -> build/bdist.linux-x86_64/egg/Box2D/examples/data/themes/default\n",
      "copying build/lib.linux-x86_64-cpython-311/Box2D/examples/data/themes/default/select.arrow.png -> build/bdist.linux-x86_64/egg/Box2D/examples/data/themes/default\n",
      "copying build/lib.linux-x86_64-cpython-311/Box2D/examples/data/themes/default/vbox.normal.png -> build/bdist.linux-x86_64/egg/Box2D/examples/data/themes/default\n",
      "copying build/lib.linux-x86_64-cpython-311/Box2D/examples/data/themes/default/left.png -> build/bdist.linux-x86_64/egg/Box2D/examples/data/themes/default\n",
      "copying build/lib.linux-x86_64-cpython-311/Box2D/examples/data/themes/default/console.input.normal.png -> build/bdist.linux-x86_64/egg/Box2D/examples/data/themes/default\n",
      "copying build/lib.linux-x86_64-cpython-311/Box2D/examples/data/themes/default/vslider.down.tga -> build/bdist.linux-x86_64/egg/Box2D/examples/data/themes/default\n",
      "copying build/lib.linux-x86_64-cpython-311/Box2D/examples/data/themes/default/slider.tga -> build/bdist.linux-x86_64/egg/Box2D/examples/data/themes/default\n",
      "copying build/lib.linux-x86_64-cpython-311/Box2D/examples/data/themes/default/dialog.close.down.tga -> build/bdist.linux-x86_64/egg/Box2D/examples/data/themes/default\n",
      "copying build/lib.linux-x86_64-cpython-311/Box2D/examples/data/themes/default/hslider.tga -> build/bdist.linux-x86_64/egg/Box2D/examples/data/themes/default\n",
      "copying build/lib.linux-x86_64-cpython-311/Box2D/examples/data/themes/default/vsbox.normal.png -> build/bdist.linux-x86_64/egg/Box2D/examples/data/themes/default\n",
      "copying build/lib.linux-x86_64-cpython-311/Box2D/examples/data/themes/default/list.png -> build/bdist.linux-x86_64/egg/Box2D/examples/data/themes/default\n",
      "copying build/lib.linux-x86_64-cpython-311/Box2D/examples/data/themes/default/input.focus.png -> build/bdist.linux-x86_64/egg/Box2D/examples/data/themes/default\n",
      "copying build/lib.linux-x86_64-cpython-311/Box2D/examples/data/themes/default/scroller.slide.v.tga -> build/bdist.linux-x86_64/egg/Box2D/examples/data/themes/default\n",
      "copying build/lib.linux-x86_64-cpython-311/Box2D/examples/data/themes/default/tool.hover.tga -> build/bdist.linux-x86_64/egg/Box2D/examples/data/themes/default\n",
      "copying build/lib.linux-x86_64-cpython-311/Box2D/examples/data/themes/default/slider.bar.normal.tga -> build/bdist.linux-x86_64/egg/Box2D/examples/data/themes/default\n",
      "copying build/lib.linux-x86_64-cpython-311/Box2D/examples/data/themes/default/scroller.slide.bar.hover.tga -> build/bdist.linux-x86_64/egg/Box2D/examples/data/themes/default\n",
      "copying build/lib.linux-x86_64-cpython-311/Box2D/examples/data/themes/default/box.hover.png -> build/bdist.linux-x86_64/egg/Box2D/examples/data/themes/default\n",
      "copying build/lib.linux-x86_64-cpython-311/Box2D/examples/data/themes/default/hslider.bar.hover.tga -> build/bdist.linux-x86_64/egg/Box2D/examples/data/themes/default\n",
      "copying build/lib.linux-x86_64-cpython-311/Box2D/examples/data/themes/default/hslider.left.tga -> build/bdist.linux-x86_64/egg/Box2D/examples/data/themes/default\n",
      "copying build/lib.linux-x86_64-cpython-311/Box2D/examples/data/themes/default/scroller.slide.h.tga -> build/bdist.linux-x86_64/egg/Box2D/examples/data/themes/default\n",
      "copying build/lib.linux-x86_64-cpython-311/Box2D/examples/data/themes/default/dialog.close.hover.tga -> build/bdist.linux-x86_64/egg/Box2D/examples/data/themes/default\n",
      "copying build/lib.linux-x86_64-cpython-311/Box2D/examples/data/themes/default/vslider.bar.normal.tga -> build/bdist.linux-x86_64/egg/Box2D/examples/data/themes/default\n",
      "copying build/lib.linux-x86_64-cpython-311/Box2D/examples/data/themes/default/box.down.png -> build/bdist.linux-x86_64/egg/Box2D/examples/data/themes/default\n",
      "copying build/lib.linux-x86_64-cpython-311/Box2D/examples/data/themes/default/list.item.down.png -> build/bdist.linux-x86_64/egg/Box2D/examples/data/themes/default\n",
      "copying build/lib.linux-x86_64-cpython-311/Box2D/examples/tiles.py -> build/bdist.linux-x86_64/egg/Box2D/examples\n",
      "copying build/lib.linux-x86_64-cpython-311/Box2D/examples/mobile.py -> build/bdist.linux-x86_64/egg/Box2D/examples\n",
      "copying build/lib.linux-x86_64-cpython-311/Box2D/examples/simple_cv.py -> build/bdist.linux-x86_64/egg/Box2D/examples\n",
      "copying build/lib.linux-x86_64-cpython-311/Box2D/examples/breakable.py -> build/bdist.linux-x86_64/egg/Box2D/examples\n",
      "copying build/lib.linux-x86_64-cpython-311/Box2D/examples/motor_joint.py -> build/bdist.linux-x86_64/egg/Box2D/examples\n",
      "copying build/lib.linux-x86_64-cpython-311/Box2D/examples/edge_shapes.py -> build/bdist.linux-x86_64/egg/Box2D/examples\n",
      "copying build/lib.linux-x86_64-cpython-311/Box2D/examples/top_down_car.py -> build/bdist.linux-x86_64/egg/Box2D/examples\n",
      "copying build/lib.linux-x86_64-cpython-311/Box2D/examples/box_cutter.py -> build/bdist.linux-x86_64/egg/Box2D/examples\n",
      "copying build/lib.linux-x86_64-cpython-311/Box2D/examples/liquid.py -> build/bdist.linux-x86_64/egg/Box2D/examples\n",
      "copying build/lib.linux-x86_64-cpython-311/Box2D/examples/chain.py -> build/bdist.linux-x86_64/egg/Box2D/examples\n",
      "copying build/lib.linux-x86_64-cpython-311/Box2D/examples/settings.py -> build/bdist.linux-x86_64/egg/Box2D/examples\n",
      "copying build/lib.linux-x86_64-cpython-311/Box2D/examples/character_collision.py -> build/bdist.linux-x86_64/egg/Box2D/examples\n",
      "copying build/lib.linux-x86_64-cpython-311/Box2D/examples/distance.py -> build/bdist.linux-x86_64/egg/Box2D/examples\n",
      "copying build/lib.linux-x86_64-cpython-311/Box2D/examples/rope.py -> build/bdist.linux-x86_64/egg/Box2D/examples\n",
      "copying build/lib.linux-x86_64-cpython-311/Box2D/examples/collision_filtering.py -> build/bdist.linux-x86_64/egg/Box2D/examples\n",
      "copying build/lib.linux-x86_64-cpython-311/Box2D/examples/one_sided_platform.py -> build/bdist.linux-x86_64/egg/Box2D/examples\n",
      "copying build/lib.linux-x86_64-cpython-311/Box2D/examples/raycast.py -> build/bdist.linux-x86_64/egg/Box2D/examples\n",
      "copying build/lib.linux-x86_64-cpython-311/Box2D/examples/vertical_stack.py -> build/bdist.linux-x86_64/egg/Box2D/examples\n",
      "creating build/bdist.linux-x86_64/egg/Box2D/examples/opencv\n",
      "copying build/lib.linux-x86_64-cpython-311/Box2D/examples/opencv/triangulate_seidel.py -> build/bdist.linux-x86_64/egg/Box2D/examples/opencv\n",
      "copying build/lib.linux-x86_64-cpython-311/Box2D/examples/opencv/journal_image.png -> build/bdist.linux-x86_64/egg/Box2D/examples/opencv\n",
      "copying build/lib.linux-x86_64-cpython-311/Box2D/examples/opencv/test_cv.py -> build/bdist.linux-x86_64/egg/Box2D/examples/opencv\n",
      "copying build/lib.linux-x86_64-cpython-311/Box2D/examples/opencv/__init__.py -> build/bdist.linux-x86_64/egg/Box2D/examples/opencv\n",
      "copying build/lib.linux-x86_64-cpython-311/Box2D/examples/hello.py -> build/bdist.linux-x86_64/egg/Box2D/examples\n",
      "copying build/lib.linux-x86_64-cpython-311/Box2D/examples/car.py -> build/bdist.linux-x86_64/egg/Box2D/examples\n",
      "copying build/lib.linux-x86_64-cpython-311/Box2D/examples/pulley.py -> build/bdist.linux-x86_64/egg/Box2D/examples\n",
      "copying build/lib.linux-x86_64-cpython-311/Box2D/examples/restitution.py -> build/bdist.linux-x86_64/egg/Box2D/examples\n",
      "copying build/lib.linux-x86_64-cpython-311/Box2D/examples/convex_hull.py -> build/bdist.linux-x86_64/egg/Box2D/examples\n",
      "copying build/lib.linux-x86_64-cpython-311/Box2D/examples/gish_tribute.py -> build/bdist.linux-x86_64/egg/Box2D/examples\n",
      "creating build/bdist.linux-x86_64/egg/Box2D/examples/simple\n",
      "copying build/lib.linux-x86_64-cpython-311/Box2D/examples/simple/simple_01.py -> build/bdist.linux-x86_64/egg/Box2D/examples/simple\n",
      "copying build/lib.linux-x86_64-cpython-311/Box2D/examples/simple/simple_02.py -> build/bdist.linux-x86_64/egg/Box2D/examples/simple\n",
      "copying build/lib.linux-x86_64-cpython-311/Box2D/examples/simple/__init__.py -> build/bdist.linux-x86_64/egg/Box2D/examples/simple\n",
      "copying build/lib.linux-x86_64-cpython-311/Box2D/examples/time_of_impact.py -> build/bdist.linux-x86_64/egg/Box2D/examples\n",
      "copying build/lib.linux-x86_64-cpython-311/Box2D/examples/web.py -> build/bdist.linux-x86_64/egg/Box2D/examples\n",
      "creating build/bdist.linux-x86_64/egg/Box2D/examples/pgu\n",
      "creating build/bdist.linux-x86_64/egg/Box2D/examples/pgu/gui\n",
      "copying build/lib.linux-x86_64-cpython-311/Box2D/examples/pgu/gui/style.py -> build/bdist.linux-x86_64/egg/Box2D/examples/pgu/gui\n",
      "copying build/lib.linux-x86_64-cpython-311/Box2D/examples/pgu/gui/keysym.py -> build/bdist.linux-x86_64/egg/Box2D/examples/pgu/gui\n",
      "copying build/lib.linux-x86_64-cpython-311/Box2D/examples/pgu/gui/deprecated.py -> build/bdist.linux-x86_64/egg/Box2D/examples/pgu/gui\n",
      "copying build/lib.linux-x86_64-cpython-311/Box2D/examples/pgu/gui/textarea.py -> build/bdist.linux-x86_64/egg/Box2D/examples/pgu/gui\n",
      "copying build/lib.linux-x86_64-cpython-311/Box2D/examples/pgu/gui/widget.py -> build/bdist.linux-x86_64/egg/Box2D/examples/pgu/gui\n",
      "copying build/lib.linux-x86_64-cpython-311/Box2D/examples/pgu/gui/app.py -> build/bdist.linux-x86_64/egg/Box2D/examples/pgu/gui\n",
      "copying build/lib.linux-x86_64-cpython-311/Box2D/examples/pgu/gui/basic.py -> build/bdist.linux-x86_64/egg/Box2D/examples/pgu/gui\n",
      "copying build/lib.linux-x86_64-cpython-311/Box2D/examples/pgu/gui/select.py -> build/bdist.linux-x86_64/egg/Box2D/examples/pgu/gui\n",
      "copying build/lib.linux-x86_64-cpython-311/Box2D/examples/pgu/gui/table.py -> build/bdist.linux-x86_64/egg/Box2D/examples/pgu/gui\n",
      "copying build/lib.linux-x86_64-cpython-311/Box2D/examples/pgu/gui/layout.py -> build/bdist.linux-x86_64/egg/Box2D/examples/pgu/gui\n",
      "copying build/lib.linux-x86_64-cpython-311/Box2D/examples/pgu/gui/theme.py -> build/bdist.linux-x86_64/egg/Box2D/examples/pgu/gui\n",
      "copying build/lib.linux-x86_64-cpython-311/Box2D/examples/pgu/gui/group.py -> build/bdist.linux-x86_64/egg/Box2D/examples/pgu/gui\n",
      "copying build/lib.linux-x86_64-cpython-311/Box2D/examples/pgu/gui/readme.txt -> build/bdist.linux-x86_64/egg/Box2D/examples/pgu/gui\n",
      "copying build/lib.linux-x86_64-cpython-311/Box2D/examples/pgu/gui/dialog.py -> build/bdist.linux-x86_64/egg/Box2D/examples/pgu/gui\n",
      "copying build/lib.linux-x86_64-cpython-311/Box2D/examples/pgu/gui/surface.py -> build/bdist.linux-x86_64/egg/Box2D/examples/pgu/gui\n",
      "copying build/lib.linux-x86_64-cpython-311/Box2D/examples/pgu/gui/menus.py -> build/bdist.linux-x86_64/egg/Box2D/examples/pgu/gui\n",
      "copying build/lib.linux-x86_64-cpython-311/Box2D/examples/pgu/gui/const.py -> build/bdist.linux-x86_64/egg/Box2D/examples/pgu/gui\n",
      "copying build/lib.linux-x86_64-cpython-311/Box2D/examples/pgu/gui/slider.py -> build/bdist.linux-x86_64/egg/Box2D/examples/pgu/gui\n",
      "copying build/lib.linux-x86_64-cpython-311/Box2D/examples/pgu/gui/pguglobals.py -> build/bdist.linux-x86_64/egg/Box2D/examples/pgu/gui\n",
      "copying build/lib.linux-x86_64-cpython-311/Box2D/examples/pgu/gui/button.py -> build/bdist.linux-x86_64/egg/Box2D/examples/pgu/gui\n",
      "copying build/lib.linux-x86_64-cpython-311/Box2D/examples/pgu/gui/container.py -> build/bdist.linux-x86_64/egg/Box2D/examples/pgu/gui\n",
      "copying build/lib.linux-x86_64-cpython-311/Box2D/examples/pgu/gui/document.py -> build/bdist.linux-x86_64/egg/Box2D/examples/pgu/gui\n",
      "copying build/lib.linux-x86_64-cpython-311/Box2D/examples/pgu/gui/input.py -> build/bdist.linux-x86_64/egg/Box2D/examples/pgu/gui\n",
      "copying build/lib.linux-x86_64-cpython-311/Box2D/examples/pgu/gui/__init__.py -> build/bdist.linux-x86_64/egg/Box2D/examples/pgu/gui\n",
      "copying build/lib.linux-x86_64-cpython-311/Box2D/examples/pgu/gui/form.py -> build/bdist.linux-x86_64/egg/Box2D/examples/pgu/gui\n",
      "copying build/lib.linux-x86_64-cpython-311/Box2D/examples/pgu/gui/area.py -> build/bdist.linux-x86_64/egg/Box2D/examples/pgu/gui\n",
      "copying build/lib.linux-x86_64-cpython-311/Box2D/examples/pgu/gui/misc.py -> build/bdist.linux-x86_64/egg/Box2D/examples/pgu/gui\n",
      "copying build/lib.linux-x86_64-cpython-311/Box2D/examples/pgu/__init__.py -> build/bdist.linux-x86_64/egg/Box2D/examples/pgu\n",
      "copying build/lib.linux-x86_64-cpython-311/Box2D/examples/confined.py -> build/bdist.linux-x86_64/egg/Box2D/examples\n",
      "copying build/lib.linux-x86_64-cpython-311/Box2D/examples/bullet.py -> build/bdist.linux-x86_64/egg/Box2D/examples\n",
      "creating build/bdist.linux-x86_64/egg/Box2D/examples/backends\n",
      "copying build/lib.linux-x86_64-cpython-311/Box2D/examples/backends/pyqt4_gui.ui -> build/bdist.linux-x86_64/egg/Box2D/examples/backends\n",
      "copying build/lib.linux-x86_64-cpython-311/Box2D/examples/backends/pyqt4_framework.py -> build/bdist.linux-x86_64/egg/Box2D/examples/backends\n",
      "copying build/lib.linux-x86_64-cpython-311/Box2D/examples/backends/simple_framework.py -> build/bdist.linux-x86_64/egg/Box2D/examples/backends\n",
      "copying build/lib.linux-x86_64-cpython-311/Box2D/examples/backends/pyqt4_gui.py -> build/bdist.linux-x86_64/egg/Box2D/examples/backends\n",
      "copying build/lib.linux-x86_64-cpython-311/Box2D/examples/backends/pygame_gui.py -> build/bdist.linux-x86_64/egg/Box2D/examples/backends\n",
      "copying build/lib.linux-x86_64-cpython-311/Box2D/examples/backends/opencv_framework.py -> build/bdist.linux-x86_64/egg/Box2D/examples/backends\n",
      "copying build/lib.linux-x86_64-cpython-311/Box2D/examples/backends/pyglet_framework.py -> build/bdist.linux-x86_64/egg/Box2D/examples/backends\n",
      "copying build/lib.linux-x86_64-cpython-311/Box2D/examples/backends/opencv_draw.py -> build/bdist.linux-x86_64/egg/Box2D/examples/backends\n",
      "copying build/lib.linux-x86_64-cpython-311/Box2D/examples/backends/pygame_framework.py -> build/bdist.linux-x86_64/egg/Box2D/examples/backends\n",
      "copying build/lib.linux-x86_64-cpython-311/Box2D/examples/backends/__init__.py -> build/bdist.linux-x86_64/egg/Box2D/examples/backends\n",
      "copying build/lib.linux-x86_64-cpython-311/Box2D/examples/tumbler.py -> build/bdist.linux-x86_64/egg/Box2D/examples\n",
      "copying build/lib.linux-x86_64-cpython-311/Box2D/examples/__init__.py -> build/bdist.linux-x86_64/egg/Box2D/examples\n",
      "copying build/lib.linux-x86_64-cpython-311/Box2D/examples/pyramid.py -> build/bdist.linux-x86_64/egg/Box2D/examples\n",
      "copying build/lib.linux-x86_64-cpython-311/Box2D/examples/conveyor_belt.py -> build/bdist.linux-x86_64/egg/Box2D/examples\n",
      "copying build/lib.linux-x86_64-cpython-311/Box2D/_Box2D.cpython-311-x86_64-linux-gnu.so -> build/bdist.linux-x86_64/egg/Box2D\n",
      "creating build/bdist.linux-x86_64/egg/Box2D/tests\n",
      "copying build/lib.linux-x86_64-cpython-311/Box2D/tests/test_joints.py -> build/bdist.linux-x86_64/egg/Box2D/tests\n",
      "copying build/lib.linux-x86_64-cpython-311/Box2D/tests/test_vector.py -> build/bdist.linux-x86_64/egg/Box2D/tests\n",
      "copying build/lib.linux-x86_64-cpython-311/Box2D/tests/test_color.py -> build/bdist.linux-x86_64/egg/Box2D/tests\n",
      "copying build/lib.linux-x86_64-cpython-311/Box2D/tests/test_polyshape.py -> build/bdist.linux-x86_64/egg/Box2D/tests\n",
      "copying build/lib.linux-x86_64-cpython-311/Box2D/tests/test_contact_listener.py -> build/bdist.linux-x86_64/egg/Box2D/tests\n",
      "copying build/lib.linux-x86_64-cpython-311/Box2D/tests/test_body.py -> build/bdist.linux-x86_64/egg/Box2D/tests\n",
      "copying build/lib.linux-x86_64-cpython-311/Box2D/tests/basics.py -> build/bdist.linux-x86_64/egg/Box2D/tests\n",
      "copying build/lib.linux-x86_64-cpython-311/Box2D/tests/test_world.py -> build/bdist.linux-x86_64/egg/Box2D/tests\n",
      "copying build/lib.linux-x86_64-cpython-311/Box2D/tests/test_matrix.py -> build/bdist.linux-x86_64/egg/Box2D/tests\n",
      "copying build/lib.linux-x86_64-cpython-311/Box2D/tests/test_edgechain.py -> build/bdist.linux-x86_64/egg/Box2D/tests\n",
      "copying build/lib.linux-x86_64-cpython-311/Box2D/tests/__init__.py -> build/bdist.linux-x86_64/egg/Box2D/tests\n",
      "copying build/lib.linux-x86_64-cpython-311/Box2D/tests/test_kwargs.py -> build/bdist.linux-x86_64/egg/Box2D/tests\n",
      "creating build/bdist.linux-x86_64/egg/Box2D/b2\n",
      "copying build/lib.linux-x86_64-cpython-311/Box2D/b2/__init__.py -> build/bdist.linux-x86_64/egg/Box2D/b2\n",
      "copying build/lib.linux-x86_64-cpython-311/Box2D/__init__.py -> build/bdist.linux-x86_64/egg/Box2D\n",
      "byte-compiling build/bdist.linux-x86_64/egg/Box2D/Box2D.py to Box2D.cpython-311.pyc\n",
      "byte-compiling build/bdist.linux-x86_64/egg/Box2D/examples/theo_jansen.py to theo_jansen.cpython-311.pyc\n",
      "byte-compiling build/bdist.linux-x86_64/egg/Box2D/examples/bridge.py to bridge.cpython-311.pyc\n",
      "byte-compiling build/bdist.linux-x86_64/egg/Box2D/examples/pinball.py to pinball.cpython-311.pyc\n",
      "byte-compiling build/bdist.linux-x86_64/egg/Box2D/examples/body_types.py to body_types.cpython-311.pyc\n",
      "byte-compiling build/bdist.linux-x86_64/egg/Box2D/examples/edge_test.py to edge_test.cpython-311.pyc\n",
      "byte-compiling build/bdist.linux-x86_64/egg/Box2D/examples/framework.py to framework.cpython-311.pyc\n",
      "byte-compiling build/bdist.linux-x86_64/egg/Box2D/examples/cloth.py to cloth.cpython-311.pyc\n",
      "byte-compiling build/bdist.linux-x86_64/egg/Box2D/examples/cantilever.py to cantilever.cpython-311.pyc\n",
      "byte-compiling build/bdist.linux-x86_64/egg/Box2D/examples/empty.py to empty.cpython-311.pyc\n",
      "byte-compiling build/bdist.linux-x86_64/egg/Box2D/examples/apply_force.py to apply_force.cpython-311.pyc\n",
      "byte-compiling build/bdist.linux-x86_64/egg/Box2D/examples/collision_processing.py to collision_processing.cpython-311.pyc\n",
      "byte-compiling build/bdist.linux-x86_64/egg/Box2D/examples/tiles.py to tiles.cpython-311.pyc\n",
      "byte-compiling build/bdist.linux-x86_64/egg/Box2D/examples/mobile.py to mobile.cpython-311.pyc\n",
      "byte-compiling build/bdist.linux-x86_64/egg/Box2D/examples/simple_cv.py to simple_cv.cpython-311.pyc\n",
      "byte-compiling build/bdist.linux-x86_64/egg/Box2D/examples/breakable.py to breakable.cpython-311.pyc\n",
      "byte-compiling build/bdist.linux-x86_64/egg/Box2D/examples/motor_joint.py to motor_joint.cpython-311.pyc\n",
      "byte-compiling build/bdist.linux-x86_64/egg/Box2D/examples/edge_shapes.py to edge_shapes.cpython-311.pyc\n",
      "byte-compiling build/bdist.linux-x86_64/egg/Box2D/examples/top_down_car.py to top_down_car.cpython-311.pyc\n",
      "byte-compiling build/bdist.linux-x86_64/egg/Box2D/examples/box_cutter.py to box_cutter.cpython-311.pyc\n",
      "byte-compiling build/bdist.linux-x86_64/egg/Box2D/examples/liquid.py to liquid.cpython-311.pyc\n",
      "byte-compiling build/bdist.linux-x86_64/egg/Box2D/examples/chain.py to chain.cpython-311.pyc\n",
      "byte-compiling build/bdist.linux-x86_64/egg/Box2D/examples/settings.py to settings.cpython-311.pyc\n",
      "byte-compiling build/bdist.linux-x86_64/egg/Box2D/examples/character_collision.py to character_collision.cpython-311.pyc\n",
      "byte-compiling build/bdist.linux-x86_64/egg/Box2D/examples/distance.py to distance.cpython-311.pyc\n",
      "byte-compiling build/bdist.linux-x86_64/egg/Box2D/examples/rope.py to rope.cpython-311.pyc\n",
      "byte-compiling build/bdist.linux-x86_64/egg/Box2D/examples/collision_filtering.py to collision_filtering.cpython-311.pyc\n",
      "byte-compiling build/bdist.linux-x86_64/egg/Box2D/examples/one_sided_platform.py to one_sided_platform.cpython-311.pyc\n",
      "byte-compiling build/bdist.linux-x86_64/egg/Box2D/examples/raycast.py to raycast.cpython-311.pyc\n",
      "byte-compiling build/bdist.linux-x86_64/egg/Box2D/examples/vertical_stack.py to vertical_stack.cpython-311.pyc\n",
      "byte-compiling build/bdist.linux-x86_64/egg/Box2D/examples/opencv/triangulate_seidel.py to triangulate_seidel.cpython-311.pyc\n",
      "build/bdist.linux-x86_64/egg/Box2D/examples/opencv/triangulate_seidel.py:599: SyntaxWarning: \"is\" with a literal. Did you mean \"==\"?\n",
      "  if self.size is 0:\n",
      "build/bdist.linux-x86_64/egg/Box2D/examples/opencv/triangulate_seidel.py:602: SyntaxWarning: \"is\" with a literal. Did you mean \"==\"?\n",
      "  elif self.size is 1:\n",
      "byte-compiling build/bdist.linux-x86_64/egg/Box2D/examples/opencv/test_cv.py to test_cv.cpython-311.pyc\n",
      "byte-compiling build/bdist.linux-x86_64/egg/Box2D/examples/opencv/__init__.py to __init__.cpython-311.pyc\n",
      "byte-compiling build/bdist.linux-x86_64/egg/Box2D/examples/hello.py to hello.cpython-311.pyc\n",
      "byte-compiling build/bdist.linux-x86_64/egg/Box2D/examples/car.py to car.cpython-311.pyc\n",
      "byte-compiling build/bdist.linux-x86_64/egg/Box2D/examples/pulley.py to pulley.cpython-311.pyc\n",
      "byte-compiling build/bdist.linux-x86_64/egg/Box2D/examples/restitution.py to restitution.cpython-311.pyc\n",
      "byte-compiling build/bdist.linux-x86_64/egg/Box2D/examples/convex_hull.py to convex_hull.cpython-311.pyc\n",
      "byte-compiling build/bdist.linux-x86_64/egg/Box2D/examples/gish_tribute.py to gish_tribute.cpython-311.pyc\n",
      "byte-compiling build/bdist.linux-x86_64/egg/Box2D/examples/simple/simple_01.py to simple_01.cpython-311.pyc\n",
      "byte-compiling build/bdist.linux-x86_64/egg/Box2D/examples/simple/simple_02.py to simple_02.cpython-311.pyc\n",
      "byte-compiling build/bdist.linux-x86_64/egg/Box2D/examples/simple/__init__.py to __init__.cpython-311.pyc\n",
      "byte-compiling build/bdist.linux-x86_64/egg/Box2D/examples/time_of_impact.py to time_of_impact.cpython-311.pyc\n",
      "byte-compiling build/bdist.linux-x86_64/egg/Box2D/examples/web.py to web.cpython-311.pyc\n",
      "byte-compiling build/bdist.linux-x86_64/egg/Box2D/examples/pgu/gui/style.py to style.cpython-311.pyc\n",
      "byte-compiling build/bdist.linux-x86_64/egg/Box2D/examples/pgu/gui/keysym.py to keysym.cpython-311.pyc\n",
      "byte-compiling build/bdist.linux-x86_64/egg/Box2D/examples/pgu/gui/deprecated.py to deprecated.cpython-311.pyc\n",
      "byte-compiling build/bdist.linux-x86_64/egg/Box2D/examples/pgu/gui/textarea.py to textarea.cpython-311.pyc\n",
      "byte-compiling build/bdist.linux-x86_64/egg/Box2D/examples/pgu/gui/widget.py to widget.cpython-311.pyc\n",
      "byte-compiling build/bdist.linux-x86_64/egg/Box2D/examples/pgu/gui/app.py to app.cpython-311.pyc\n",
      "byte-compiling build/bdist.linux-x86_64/egg/Box2D/examples/pgu/gui/basic.py to basic.cpython-311.pyc\n",
      "byte-compiling build/bdist.linux-x86_64/egg/Box2D/examples/pgu/gui/select.py to select.cpython-311.pyc\n",
      "byte-compiling build/bdist.linux-x86_64/egg/Box2D/examples/pgu/gui/table.py to table.cpython-311.pyc\n",
      "byte-compiling build/bdist.linux-x86_64/egg/Box2D/examples/pgu/gui/layout.py to layout.cpython-311.pyc\n",
      "byte-compiling build/bdist.linux-x86_64/egg/Box2D/examples/pgu/gui/theme.py to theme.cpython-311.pyc\n",
      "byte-compiling build/bdist.linux-x86_64/egg/Box2D/examples/pgu/gui/group.py to group.cpython-311.pyc\n",
      "byte-compiling build/bdist.linux-x86_64/egg/Box2D/examples/pgu/gui/dialog.py to dialog.cpython-311.pyc\n",
      "byte-compiling build/bdist.linux-x86_64/egg/Box2D/examples/pgu/gui/surface.py to surface.cpython-311.pyc\n",
      "byte-compiling build/bdist.linux-x86_64/egg/Box2D/examples/pgu/gui/menus.py to menus.cpython-311.pyc\n",
      "byte-compiling build/bdist.linux-x86_64/egg/Box2D/examples/pgu/gui/const.py to const.cpython-311.pyc\n",
      "byte-compiling build/bdist.linux-x86_64/egg/Box2D/examples/pgu/gui/slider.py to slider.cpython-311.pyc\n",
      "byte-compiling build/bdist.linux-x86_64/egg/Box2D/examples/pgu/gui/pguglobals.py to pguglobals.cpython-311.pyc\n",
      "byte-compiling build/bdist.linux-x86_64/egg/Box2D/examples/pgu/gui/button.py to button.cpython-311.pyc\n",
      "byte-compiling build/bdist.linux-x86_64/egg/Box2D/examples/pgu/gui/container.py to container.cpython-311.pyc\n",
      "byte-compiling build/bdist.linux-x86_64/egg/Box2D/examples/pgu/gui/document.py to document.cpython-311.pyc\n",
      "byte-compiling build/bdist.linux-x86_64/egg/Box2D/examples/pgu/gui/input.py to input.cpython-311.pyc\n",
      "byte-compiling build/bdist.linux-x86_64/egg/Box2D/examples/pgu/gui/__init__.py to __init__.cpython-311.pyc\n",
      "byte-compiling build/bdist.linux-x86_64/egg/Box2D/examples/pgu/gui/form.py to form.cpython-311.pyc\n",
      "byte-compiling build/bdist.linux-x86_64/egg/Box2D/examples/pgu/gui/area.py to area.cpython-311.pyc\n",
      "byte-compiling build/bdist.linux-x86_64/egg/Box2D/examples/pgu/gui/misc.py to misc.cpython-311.pyc\n",
      "byte-compiling build/bdist.linux-x86_64/egg/Box2D/examples/pgu/__init__.py to __init__.cpython-311.pyc\n",
      "byte-compiling build/bdist.linux-x86_64/egg/Box2D/examples/confined.py to confined.cpython-311.pyc\n",
      "byte-compiling build/bdist.linux-x86_64/egg/Box2D/examples/bullet.py to bullet.cpython-311.pyc\n",
      "byte-compiling build/bdist.linux-x86_64/egg/Box2D/examples/backends/pyqt4_framework.py to pyqt4_framework.cpython-311.pyc\n",
      "byte-compiling build/bdist.linux-x86_64/egg/Box2D/examples/backends/simple_framework.py to simple_framework.cpython-311.pyc\n",
      "byte-compiling build/bdist.linux-x86_64/egg/Box2D/examples/backends/pyqt4_gui.py to pyqt4_gui.cpython-311.pyc\n",
      "byte-compiling build/bdist.linux-x86_64/egg/Box2D/examples/backends/pygame_gui.py to pygame_gui.cpython-311.pyc\n",
      "byte-compiling build/bdist.linux-x86_64/egg/Box2D/examples/backends/opencv_framework.py to opencv_framework.cpython-311.pyc\n",
      "byte-compiling build/bdist.linux-x86_64/egg/Box2D/examples/backends/pyglet_framework.py to pyglet_framework.cpython-311.pyc\n",
      "byte-compiling build/bdist.linux-x86_64/egg/Box2D/examples/backends/opencv_draw.py to opencv_draw.cpython-311.pyc\n",
      "byte-compiling build/bdist.linux-x86_64/egg/Box2D/examples/backends/pygame_framework.py to pygame_framework.cpython-311.pyc\n",
      "byte-compiling build/bdist.linux-x86_64/egg/Box2D/examples/backends/__init__.py to __init__.cpython-311.pyc\n",
      "byte-compiling build/bdist.linux-x86_64/egg/Box2D/examples/tumbler.py to tumbler.cpython-311.pyc\n",
      "byte-compiling build/bdist.linux-x86_64/egg/Box2D/examples/__init__.py to __init__.cpython-311.pyc\n",
      "byte-compiling build/bdist.linux-x86_64/egg/Box2D/examples/pyramid.py to pyramid.cpython-311.pyc\n",
      "byte-compiling build/bdist.linux-x86_64/egg/Box2D/examples/conveyor_belt.py to conveyor_belt.cpython-311.pyc\n",
      "byte-compiling build/bdist.linux-x86_64/egg/Box2D/tests/test_joints.py to test_joints.cpython-311.pyc\n",
      "byte-compiling build/bdist.linux-x86_64/egg/Box2D/tests/test_vector.py to test_vector.cpython-311.pyc\n",
      "byte-compiling build/bdist.linux-x86_64/egg/Box2D/tests/test_color.py to test_color.cpython-311.pyc\n",
      "byte-compiling build/bdist.linux-x86_64/egg/Box2D/tests/test_polyshape.py to test_polyshape.cpython-311.pyc\n",
      "byte-compiling build/bdist.linux-x86_64/egg/Box2D/tests/test_contact_listener.py to test_contact_listener.cpython-311.pyc\n",
      "byte-compiling build/bdist.linux-x86_64/egg/Box2D/tests/test_body.py to test_body.cpython-311.pyc\n",
      "byte-compiling build/bdist.linux-x86_64/egg/Box2D/tests/basics.py to basics.cpython-311.pyc\n",
      "byte-compiling build/bdist.linux-x86_64/egg/Box2D/tests/test_world.py to test_world.cpython-311.pyc\n",
      "byte-compiling build/bdist.linux-x86_64/egg/Box2D/tests/test_matrix.py to test_matrix.cpython-311.pyc\n",
      "byte-compiling build/bdist.linux-x86_64/egg/Box2D/tests/test_edgechain.py to test_edgechain.cpython-311.pyc\n",
      "byte-compiling build/bdist.linux-x86_64/egg/Box2D/tests/__init__.py to __init__.cpython-311.pyc\n",
      "byte-compiling build/bdist.linux-x86_64/egg/Box2D/tests/test_kwargs.py to test_kwargs.cpython-311.pyc\n",
      "byte-compiling build/bdist.linux-x86_64/egg/Box2D/b2/__init__.py to __init__.cpython-311.pyc\n",
      "byte-compiling build/bdist.linux-x86_64/egg/Box2D/__init__.py to __init__.cpython-311.pyc\n",
      "creating stub loader for Box2D/_Box2D.cpython-311-x86_64-linux-gnu.so\n",
      "byte-compiling build/bdist.linux-x86_64/egg/Box2D/_Box2D.py to _Box2D.cpython-311.pyc\n",
      "creating build/bdist.linux-x86_64/egg/EGG-INFO\n",
      "copying library/Box2D.egg-info/PKG-INFO -> build/bdist.linux-x86_64/egg/EGG-INFO\n",
      "copying library/Box2D.egg-info/SOURCES.txt -> build/bdist.linux-x86_64/egg/EGG-INFO\n",
      "copying library/Box2D.egg-info/dependency_links.txt -> build/bdist.linux-x86_64/egg/EGG-INFO\n",
      "copying library/Box2D.egg-info/top_level.txt -> build/bdist.linux-x86_64/egg/EGG-INFO\n",
      "writing build/bdist.linux-x86_64/egg/EGG-INFO/native_libs.txt\n",
      "zip_safe flag not set; analyzing archive contents...\n",
      "Box2D.__pycache__._Box2D.cpython-311: module references __file__\n",
      "Box2D.examples.pgu.gui.__pycache__.theme.cpython-311: module references __file__\n",
      "creating 'dist/Box2D-2.3.10-py3.11-linux-x86_64.egg' and adding 'build/bdist.linux-x86_64/egg' to it\n",
      "removing 'build/bdist.linux-x86_64/egg' (and everything under it)\n",
      "Processing Box2D-2.3.10-py3.11-linux-x86_64.egg\n",
      "removing '/home/usuario/anaconda3/lib/python3.11/site-packages/Box2D-2.3.10-py3.11-linux-x86_64.egg' (and everything under it)\n",
      "creating /home/usuario/anaconda3/lib/python3.11/site-packages/Box2D-2.3.10-py3.11-linux-x86_64.egg\n",
      "Extracting Box2D-2.3.10-py3.11-linux-x86_64.egg to /home/usuario/anaconda3/lib/python3.11/site-packages\n",
      "/home/usuario/anaconda3/lib/python3.11/site-packages/Box2D-2.3.10-py3.11-linux-x86_64.egg/Box2D/examples/opencv/triangulate_seidel.py:599: SyntaxWarning: \"is\" with a literal. Did you mean \"==\"?\n",
      "  if self.size is 0:\n",
      "/home/usuario/anaconda3/lib/python3.11/site-packages/Box2D-2.3.10-py3.11-linux-x86_64.egg/Box2D/examples/opencv/triangulate_seidel.py:602: SyntaxWarning: \"is\" with a literal. Did you mean \"==\"?\n",
      "  elif self.size is 1:\n",
      "Adding Box2D 2.3.10 to easy-install.pth file\n",
      "\n",
      "Installed /home/usuario/anaconda3/lib/python3.11/site-packages/Box2D-2.3.10-py3.11-linux-x86_64.egg\n",
      "Processing dependencies for Box2D==2.3.10\n",
      "Finished processing dependencies for Box2D==2.3.10\n"
     ]
    }
   ],
   "source": [
    "!cd pybox2d && python setup.py build && python setup.py install"
   ]
  },
  {
   "cell_type": "code",
   "execution_count": 10,
   "metadata": {},
   "outputs": [
    {
     "name": "stdout",
     "output_type": "stream",
     "text": [
      "Defaulting to user installation because normal site-packages is not writeable\n",
      "Requirement already satisfied: gymnasium[box2d] in /home/usuario/.local/lib/python3.10/site-packages (0.28.1)\n",
      "Requirement already satisfied: typing-extensions>=4.3.0 in /home/usuario/.local/lib/python3.10/site-packages (from gymnasium[box2d]) (4.5.0)\n",
      "Requirement already satisfied: numpy>=1.21.0 in /home/usuario/.local/lib/python3.10/site-packages (from gymnasium[box2d]) (1.24.3)\n",
      "Requirement already satisfied: cloudpickle>=1.2.0 in /home/usuario/.local/lib/python3.10/site-packages (from gymnasium[box2d]) (2.2.1)\n",
      "Requirement already satisfied: jax-jumpy>=1.0.0 in /home/usuario/.local/lib/python3.10/site-packages (from gymnasium[box2d]) (1.0.0)\n",
      "Requirement already satisfied: farama-notifications>=0.0.1 in /home/usuario/.local/lib/python3.10/site-packages (from gymnasium[box2d]) (0.0.4)\n",
      "Requirement already satisfied: box2d-py==2.3.5 in /home/usuario/.local/lib/python3.10/site-packages (from gymnasium[box2d]) (2.3.5)\n",
      "Requirement already satisfied: pygame==2.1.3 in /home/usuario/.local/lib/python3.10/site-packages (from gymnasium[box2d]) (2.1.3)\n",
      "Requirement already satisfied: swig==4.* in /home/usuario/.local/lib/python3.10/site-packages (from gymnasium[box2d]) (4.1.1.post0)\n",
      "Note: you may need to restart the kernel to use updated packages.\n"
     ]
    }
   ],
   "source": [
    "pip install gymnasium[box2d]"
   ]
  },
  {
   "cell_type": "code",
   "execution_count": 11,
   "metadata": {},
   "outputs": [
    {
     "name": "stdout",
     "output_type": "stream",
     "text": [
      "4\n",
      "8\n"
     ]
    }
   ],
   "source": [
    "# Definimos el entorno\n",
    "env = gym.make(\"LunarLander-v2\")\n",
    "\n",
    "# Obtenemos el espacio de estados y acciones del entorno\n",
    "ob_space=env.observation_space\n",
    "ac_space=env.action_space\n",
    "\n",
    "# Mostramos el número de acciones del entorno\n",
    "print(env.action_space.n)\n",
    "# Mostramos el número de observaciones del entorno\n",
    "print(ob_space.shape[0])"
   ]
  },
  {
   "cell_type": "markdown",
   "metadata": {},
   "source": [
    "# Discriminador"
   ]
  },
  {
   "cell_type": "markdown",
   "metadata": {},
   "source": [
    "## Red neuronal del Discriminador"
   ]
  },
  {
   "cell_type": "code",
   "execution_count": 12,
   "metadata": {},
   "outputs": [
    {
     "name": "stdout",
     "output_type": "stream",
     "text": [
      "Model: \"discriminator_net\"\n",
      "_________________________________________________________________\n",
      " Layer (type)                Output Shape              Param #   \n",
      "=================================================================\n",
      " layer1 (Dense)              (None, None, 10)          220       \n",
      "                                                                 \n",
      " layer2 (Dense)              (None, None, 10)          110       \n",
      "                                                                 \n",
      " layer3 (Dense)              (None, None, 10)          110       \n",
      "                                                                 \n",
      " prob (Dense)                (None, None, 1)           11        \n",
      "                                                                 \n",
      "=================================================================\n",
      "Total params: 451 (1.76 KB)\n",
      "Trainable params: 451 (1.76 KB)\n",
      "Non-trainable params: 0 (0.00 Byte)\n",
      "_________________________________________________________________\n"
     ]
    },
    {
     "name": "stderr",
     "output_type": "stream",
     "text": [
      "2024-01-09 15:53:38.822962: E tensorflow/compiler/xla/stream_executor/cuda/cuda_driver.cc:268] failed call to cuInit: CUDA_ERROR_UNKNOWN: unknown error\n",
      "2024-01-09 15:53:38.823014: I tensorflow/compiler/xla/stream_executor/cuda/cuda_diagnostics.cc:168] retrieving CUDA diagnostic information for host: usuario-ASUS-TUF-Gaming-F15-FX507ZM-TUF507ZM\n",
      "2024-01-09 15:53:38.823017: I tensorflow/compiler/xla/stream_executor/cuda/cuda_diagnostics.cc:175] hostname: usuario-ASUS-TUF-Gaming-F15-FX507ZM-TUF507ZM\n",
      "2024-01-09 15:53:38.823135: I tensorflow/compiler/xla/stream_executor/cuda/cuda_diagnostics.cc:199] libcuda reported version is: 525.147.5\n",
      "2024-01-09 15:53:38.823149: I tensorflow/compiler/xla/stream_executor/cuda/cuda_diagnostics.cc:203] kernel reported version is: 525.147.5\n",
      "2024-01-09 15:53:38.823152: I tensorflow/compiler/xla/stream_executor/cuda/cuda_diagnostics.cc:309] kernel version seems to match DSO: 525.147.5\n"
     ]
    }
   ],
   "source": [
    "################################################################################################################################################\n",
    "# Red neuronal del Discriminador\n",
    "################################################################################################################################################\n",
    "\n",
    "# Input: secuencias [s,a,s',r] reales o sintéticas, de longitud 2*ob_space.shape[0] + ac_space.n+1.\n",
    "# Output: probabilidad de que la secuencia sea real, valor perteneciente al intervalo [0,1]\n",
    "discriminator_net=keras.Sequential(\n",
    "    [\n",
    "        keras.Input(shape=(None, 2*ob_space.shape[0] + ac_space.n+1)),\n",
    "        layers.Dense(units=10,activation=tf.nn.relu, name='layer1'),\n",
    "        layers.Dense(units=10,activation=tf.nn.relu, name='layer2'),\n",
    "        layers.Dense(units=10, activation=tf.nn.relu, name='layer3'),\n",
    "        layers.Dense(units=1, activation=tf.sigmoid, name='prob'),\n",
    "\n",
    "    ],\n",
    "    name=\"discriminator_net\"\n",
    "\n",
    ")\n",
    "discriminator_net.summary()"
   ]
  },
  {
   "cell_type": "markdown",
   "metadata": {},
   "source": [
    "## Función de pérdida del Discriminador"
   ]
  },
  {
   "cell_type": "code",
   "execution_count": 13,
   "metadata": {},
   "outputs": [],
   "source": [
    "#########################################################################################################\n",
    "# Función de pérdida del Discriminador\n",
    "#########################################################################################################\n",
    "\n",
    "# prob1=> output de la red neuronal del Discriminador cuando recibe como entrada una secuencia REAL [s,a, s', r] de la base de datos\n",
    "# prob2=> output de la red neuronal del Discriminador cuando recibe como entrada una secuencia FALSA [s,a, s', r]\n",
    "def loss_fn_D(prob1, prob2):\n",
    "\n",
    "    # Esperanza del logaritmo de la D(x)=salida de la red neuronal cuando x=entrada REAL\n",
    "    loss_expert = tf.reduce_mean(tf.math.log(tf.clip_by_value(prob1, 0.01, 1)))\n",
    "\n",
    "    # Esperanza del logaritmo de 1-D(x) donde D(x)=salida de la red neuronal cuando x=entrada FALSA\n",
    "    loss_agent = tf.reduce_mean(tf.math.log(tf.clip_by_value(1 - prob2, 0.01,1)))\n",
    "\n",
    "    loss_expert = tf.cast(loss_expert, dtype=tf.float32)\n",
    "    loss_agent = tf.cast(loss_agent, dtype=tf.float32)\n",
    "\n",
    "    loss = loss_expert + loss_agent\n",
    "\n",
    "    loss = -loss\n",
    "\n",
    "    return loss"
   ]
  },
  {
   "cell_type": "markdown",
   "metadata": {},
   "source": [
    "## Clase del Discriminador"
   ]
  },
  {
   "cell_type": "code",
   "execution_count": 14,
   "metadata": {},
   "outputs": [],
   "source": [
    "# Clase DISCRIMINADOR\n",
    "class Discriminator:\n",
    "    def __init__(self, env, discriminator_net, expert_s, expert_a, expert_s_prima, expert_r, agent_s, agent_a, agent_s_prima, agent_r):\n",
    "        # -Red neuronal del Discriminador\n",
    "        self.discriminator_net=discriminator_net\n",
    "\n",
    "        # -Experto: [s,a,s',r]\n",
    "        self.expert_s=expert_s\n",
    "        self.expert_a=expert_a\n",
    "        self.expert_s_prima=expert_s_prima\n",
    "        self.expert_r= np.array(expert_r)\n",
    "\n",
    "\n",
    "        expert_a_one_hot=tf.one_hot(self.expert_a,depth=env.action_space.n)\n",
    "        # Añadimos ruido para estabilizar el entrenamiento\n",
    "        expert_a_one_hot+= tf.random.normal(tf.shape(expert_a_one_hot), mean=0.2, stddev=0.1, dtype=tf.float32)/1.2\n",
    "        expert_s_a=tf.concat([self.expert_s,expert_a_one_hot],axis=1)\n",
    "        expert_s_a_s=tf.concat([expert_s_a, self.expert_s_prima], axis=1)\n",
    "        expert_r=self.expert_r.reshape(-1, 1)\n",
    "\n",
    "        # expert_s_a_s_r=>secuencia experta=>[s,a,s',r]\n",
    "        self.expert_s_a_s_r=tf.concat([expert_s_a_s, expert_r], axis=1)\n",
    "\n",
    "        # -Agente:  [s,a,s',r]\n",
    "        self.agent_s=agent_s\n",
    "        self.agent_a=agent_a\n",
    "        self.agent_s_prima=agent_s_prima\n",
    "        self.agent_r=np.array(agent_r)\n",
    "\n",
    "        agent_a_one_hot=tf.one_hot(self.agent_a,depth=env.action_space.n)\n",
    "        agent_a_one_hot+= tf.random.normal(tf.shape(agent_a_one_hot), mean=0.2, stddev=0.1, dtype=tf.float32)/1.2\n",
    "        agent_s_a=tf.concat([self.agent_s,agent_a_one_hot],axis=1)\n",
    "        agent_s_a_s=tf.concat([agent_s_a, self.agent_s_prima], axis=1)\n",
    "        agent_r=self.agent_r.reshape(-1, 1)\n",
    "\n",
    "        # agent_s_a_s_r=>secuencia agente=>[s,a,s',r]\n",
    "        self.agent_s_a_s_r=tf.concat([agent_s_a_s, agent_r], axis=1)\n",
    "\n",
    "        # Calculamos la salida de la red para [s,a,s',r] del experto y del agente ya que lo necesitamos para reward\n",
    "\n",
    "        # -Salida de la red neuronal Discriminador para [s,a,s',r] expertos(verdaderos)\n",
    "        self.prob_expert=self.discriminator_net(self.expert_s_a_s_r)\n",
    "\n",
    "        # -Salida  de la red neuronal Discrimiinador para [s,a,s',r] Agente(falsos)\n",
    "        self.prob_agent=self.discriminator_net(self.agent_s_a_s_r)\n",
    "\n",
    "        #-Recompensa obtenida cuando el Agente realiza [s,a,s',r] falsas\n",
    "        self.rewards=tf.math.log(tf.clip_by_value(self.prob_agent,1e-10,1)) #log(P(expert|s,a)) cuando mas grande es mejor el agente\n",
    "\n",
    "\n",
    "    def getNet(self):\n",
    "        return self.discriminator_net\n",
    "\n",
    "    def getAgent_S_A(self):\n",
    "        return self.agent_s_a\n",
    "\n",
    "    def getExpert_S_A(self):\n",
    "        return self.expert_s_a\n",
    "\n",
    "    def getProb(self):\n",
    "        return self.prob_expert, self.prob_agent\n",
    "\n",
    "    def getRewards(self):\n",
    "        return self.rewards\n"
   ]
  },
  {
   "cell_type": "markdown",
   "metadata": {},
   "source": [
    "# Generador"
   ]
  },
  {
   "cell_type": "markdown",
   "metadata": {},
   "source": [
    "## Redes neuronales del Generador"
   ]
  },
  {
   "cell_type": "code",
   "execution_count": 15,
   "metadata": {},
   "outputs": [
    {
     "name": "stdout",
     "output_type": "stream",
     "text": [
      "Model: \"generator_net_Act\"\n",
      "_________________________________________________________________\n",
      " Layer (type)                Output Shape              Param #   \n",
      "=================================================================\n",
      " layer1 (Dense)              (None, None, 6)           54        \n",
      "                                                                 \n",
      " layer2 (Dense)              (None, None, 6)           42        \n",
      "                                                                 \n",
      " layer3 (Dense)              (None, None, 4)           28        \n",
      "                                                                 \n",
      " layer4 (Dense)              (None, None, 4)           20        \n",
      "                                                                 \n",
      "=================================================================\n",
      "Total params: 144 (576.00 Byte)\n",
      "Trainable params: 144 (576.00 Byte)\n",
      "Non-trainable params: 0 (0.00 Byte)\n",
      "_________________________________________________________________\n"
     ]
    }
   ],
   "source": [
    "#####################################################################################################\n",
    "# Red neuronal del Generador donde se producen acciones\n",
    "####################################################################################################\n",
    "\n",
    "# Input: estados, listas de tamaño 8, s=[s1,s2,s3,s4,...,s8]\n",
    "# Output: acciones, listas de tamaño 4, a=[a1,a2,a3,a4]\n",
    "generator_net_Act = keras.Sequential(\n",
    "    [\n",
    "        keras.Input(shape=(None, ob_space.shape[0])),\n",
    "        layers.Dense(units=6, activation=tf.tanh,name='layer1'),\n",
    "        layers.Dense(units=6, activation=tf.tanh, name='layer2'),\n",
    "        layers.Dense(units=4, activation=tf.tanh, name='layer3'),\n",
    "        layers.Dense(units=ac_space.n, activation=tf.nn.softmax, name='layer4')\n",
    "\n",
    "    ],\n",
    "    name=\"generator_net_Act\"\n",
    ")\n",
    "\n",
    "generator_net_Act.summary()"
   ]
  },
  {
   "cell_type": "code",
   "execution_count": 16,
   "metadata": {},
   "outputs": [
    {
     "name": "stdout",
     "output_type": "stream",
     "text": [
      "Model: \"generator_v_preds\"\n",
      "_________________________________________________________________\n",
      " Layer (type)                Output Shape              Param #   \n",
      "=================================================================\n",
      " layer1 (Dense)              (None, None, 6)           54        \n",
      "                                                                 \n",
      " layer2 (Dense)              (None, None, 6)           42        \n",
      "                                                                 \n",
      " layer3 (Dense)              (None, None, 1)           7         \n",
      "                                                                 \n",
      "=================================================================\n",
      "Total params: 103 (412.00 Byte)\n",
      "Trainable params: 103 (412.00 Byte)\n",
      "Non-trainable params: 0 (0.00 Byte)\n",
      "_________________________________________________________________\n"
     ]
    }
   ],
   "source": [
    "#############################################################################################################\n",
    "# Red neuronal del Generador donde se producen v_pred\n",
    "#############################################################################################################\n",
    "\n",
    "# Input: estados, listas de tamaño 8, s=[s1,s2,s3,..,s8]\n",
    "# Output: v_pred, listas de tamaño 1, v_pred\n",
    "\n",
    "generator_net_v_preds=keras.Sequential(\n",
    "    [\n",
    "            keras.Input(shape=(None,ob_space.shape[0])),\n",
    "            layers.Dense(units=6, activation=tf.tanh,name='layer1'),\n",
    "            layers.Dense(units=6, activation=tf.tanh, name='layer2'),\n",
    "            layers.Dense(units=1, activation=None, name='layer3'),\n",
    "        ],\n",
    "    name=\"generator_v_preds\"\n",
    ")\n",
    "\n",
    "generator_net_v_preds.summary()"
   ]
  },
  {
   "cell_type": "markdown",
   "metadata": {},
   "source": [
    "## Función de pérdida del Generador"
   ]
  },
  {
   "cell_type": "code",
   "execution_count": 17,
   "metadata": {},
   "outputs": [],
   "source": [
    "##################################################################################################################\n",
    "# Función de pérdida del Generador: función objetivo de PPO \"clipped surrogated\"\n",
    "#################################################################################################################\n",
    "\n",
    "def loss_fn_ppo(act_probs,act_probs_old,gaes,clip_value=0.2):\n",
    "    ratios = tf.exp(tf.math.log(tf.clip_by_value(act_probs, 1e-10, 1.0))\n",
    "                    - tf.math.log(tf.clip_by_value(act_probs_old, 1e-10, 1.0)))\n",
    "\n",
    "    clipped_ratios = tf.clip_by_value(ratios,clip_value_min=1 -clip_value,clip_value_max=1 +clip_value)\n",
    "    loss_clip = tf.minimum( tf.multiply(gaes, ratios), tf.multiply(gaes, clipped_ratios))\n",
    "    loss_clip = tf.reduce_mean(loss_clip)\n",
    "\n",
    "    loss = -loss_clip\n",
    "    tf.summary.scalar('total', loss)\n",
    "\n",
    "    return loss"
   ]
  },
  {
   "cell_type": "markdown",
   "metadata": {},
   "source": [
    "## Clase del Generador"
   ]
  },
  {
   "cell_type": "code",
   "execution_count": 18,
   "metadata": {},
   "outputs": [],
   "source": [
    "#################################################################################################################\n",
    "# Clase del GENERADOR: política con su optimizador PPO\n",
    "################################################################################################################\n",
    "\n",
    "# Observesé que cada generador implementa una política distinta, por tanto, se ha decidido llamar a la clase Policy_net en lugar de generator\n",
    "class Policy_net:\n",
    "    def __init__(self, name: str, env, obs):\n",
    "        \"\"\"\n",
    "        name: string\n",
    "        env: gym env\n",
    "        obs:\n",
    "        \"\"\"\n",
    "\n",
    "        # -Entorno\n",
    "        self.env=env\n",
    "        env.reset()\n",
    "\n",
    "        # -Modelo PPO: algoritmo de Optimización de Política Proximal\n",
    "        self.model=PPO(policy=\"MlpPolicy\", env=env, verbose=0)\n",
    "\n",
    "\n",
    "        self.model.learn(total_timesteps=TOTAL_TIMESTEPS_PPO_GENERATOR)\n",
    "\n",
    "        # -Observación inicial a partir de la cual se crean las acciones iniciales haciendo uso de las redes neuronales del generador\n",
    "        self.obs=np.reshape(np.array(obs),(1,ob_space.shape[0]))\n",
    "\n",
    "        # Utilizamos las dos redes neuronales que hemos creado : generator_net_Act y generator_net_v_preds\n",
    "        # V_pred=>recompensa media de que un agente ejecute una acción\n",
    "\n",
    "        # -Acción inicial generada con red neuronal y v_pred con red neuronal\n",
    "        self.act_probs =generator_net_Act(self.obs)\n",
    "        self.v_preds = generator_net_v_preds(self.obs)\n",
    "\n",
    "        # -Accion estocástica inicial\n",
    "        self.act_stochastic = tf.random.categorical(tf.math.log(self.act_probs), num_samples=1)\n",
    "\n",
    "        # -Acción determinística inicial\n",
    "        self.act_deterministic = tf.argmax(self.act_probs, axis=1)\n",
    "\n",
    "\n",
    "\n",
    "    # Para cada estado obs me dice la acción que el agente va a ejecutar sobre el entorno junto con v_pred\n",
    "    # La elección de la acción puede ser estocástica o determinística\n",
    "    def act(self, stochastic=True):\n",
    "        if stochastic:\n",
    "            return self.act_stochastic, self.v_preds\n",
    "        else:\n",
    "            return self.act_deterministic, self.v_preds\n",
    "\n",
    "    def get_action_prob(self):\n",
    "        return self.act_probs\n",
    "\n",
    "    def get_v_preds(self):\n",
    "        return self.v_preds\n",
    "\n",
    "    def get_obs(self):\n",
    "        return self.obs\n",
    "\n",
    "    def get_model(self):\n",
    "        return self.model\n",
    "\n",
    "    # Devuelve los parámetros \\theta de la política \\pi\n",
    "    def get_trainable_variables(self):\n",
    "        return self.model.get_parameters()\n",
    "\n",
    "    # Generar [s,a,s',r] sinteticos\n",
    "    def generate_fakes(self):\n",
    "\n",
    "        ob_space = env.observation_space\n",
    "        reward = 0\n",
    "        success_num = 0\n",
    "\n",
    "\n",
    "        # Por cada episodio\n",
    "        for iteration in range(EPISODES):\n",
    "            # Inicializo todas las variables\n",
    "            observations = []\n",
    "            actions = []\n",
    "            rewards = []\n",
    "            next_observations=[]\n",
    "\n",
    "            run_policy_steps = 0\n",
    "\n",
    "            truncated=False\n",
    "            terminated=False\n",
    "\n",
    "\n",
    "            # La primera acción de cada episodio se crea con la red neuronal\n",
    "            obs,_=env.reset()\n",
    "\n",
    "            Old_Policy = Policy_net('old_policy', env, obs=obs)\n",
    "\n",
    "            act, v_pred = Old_Policy.act(stochastic=True)\n",
    "\n",
    "            #Convertir de tensor a array\n",
    "            if type(act)=='Tensor':\n",
    "                # Crear una sesión de TensorFlow\n",
    "                sess = tf.compat.v1.Session()\n",
    "\n",
    "                # Evaluar el tensor dentro de la sesión y obtener el resultado como un objeto NumPy ndarray\n",
    "                act = sess.run(act)\n",
    "\n",
    "                # Cerrar la sesión\n",
    "                sess.close()\n",
    "\n",
    "            if isinstance(act, tf.Tensor):\n",
    "                act=act.numpy()\n",
    "\n",
    "            elif isinstance(act, np.ndarray):\n",
    "                act=act\n",
    "\n",
    "\n",
    "            action=int(act)\n",
    "\n",
    "            next_obs,reward,terminated,truncated, info=env.step(action)\n",
    "\n",
    "            truncated=False\n",
    "            terminated=False\n",
    "\n",
    "            # Tenemos una política entrenada\n",
    "            Policy = Policy_net('policy',env, obs=[next_obs])\n",
    "\n",
    "            # Por cada steps en cada episodio, mientras no se llegue a un estado terminal o un estado malo\n",
    "            while terminated!= True and truncated!= True:\n",
    "                # --Aumentar el numero de steps\n",
    "                run_policy_steps += 1\n",
    "\n",
    "                # --Política para ver la acción asociada al estado\n",
    "                # Las observaciones son un de la forma [[s_1,s_2,s_3,...,s_8]] por eso su tamaño es (1,8)\n",
    "                observations.append(next_obs)  # S_i-1\n",
    "\n",
    "                action, states_oc = Policy.get_model().predict(next_obs)\n",
    "\n",
    "                action=int(action)\n",
    "\n",
    "                # --Muevo al Agente al siguiente estado\n",
    "                next_obs,reward,terminated,truncated,info=env.step(action)\n",
    "\n",
    "                # --Actualización de variables\n",
    "                actions.append(action) # A_i-1\n",
    "                rewards.append(reward) # R_i-1\n",
    "\n",
    "                # --Si llegamos a un estado final, el juego ha finalizado!!!\n",
    "                # --Se configura el tablero de nuevo\n",
    "                if terminated== True:\n",
    "                    next_observations.append(next_obs)  # S_i\n",
    "                    obs = env.reset()\n",
    "                    reward = -1\n",
    "                    break\n",
    "                else:\n",
    "                    next_observations.append(next_obs)  # S_i\n",
    "                    self.obs = next_obs\n",
    "\n",
    "            # Ver si el episodio ha obtendo una recompensa total igual o superior a 195\n",
    "            if sum(rewards) >= 195:\n",
    "                success_num += 1\n",
    "                if success_num >= 100:\n",
    "                    break\n",
    "            else:\n",
    "                success_num = 0\n",
    "\n",
    "\n",
    "        observations = np.reshape(observations, newshape=[-1] + list(ob_space.shape))\n",
    "        next_observations = np.reshape(next_observations, newshape=[-1] + list(ob_space.shape))\n",
    "        actions = np.array(actions).astype(dtype=np.int32)\n",
    "\n",
    "\n",
    "        # Devolvemos la secuencia (S,A,S',R) junto con la política anterior y la actual política,\n",
    "        return observations, actions, next_observations, rewards, Old_Policy, Policy"
   ]
  },
  {
   "cell_type": "code",
   "execution_count": 19,
   "metadata": {},
   "outputs": [],
   "source": [
    "##########################################################################################################\n",
    "# Clase PPOTrain\n",
    "##########################################################################################################\n",
    "# Tenemos dos politica theta_i y theta_i+1\n",
    "# Almacenamos dos políticas Policy_net(cada una de ella con su PPO) y calculamos el valor gaes a partir de valores gamma, clip_value, c_1, c_2\n",
    "# Realizamos aqui el entrenamiento, cálculo de gradiente y función de pérdida del PPO para después usarlo en el generador de la GAN\n",
    "\n",
    "class PPOTrain:\n",
    "\n",
    "    def __init__(self, Policy, Old_Policy, obs, actions, rewards, gamma=0.95, clip_value=0.2, c_1=1, c_2=0.01):\n",
    "        \"\"\"\n",
    "        arg:\n",
    "            Policy\n",
    "            Old_Policy\n",
    "            gamma\n",
    "            clip_value\n",
    "            c_1 parámetro para la diferencia de valores\n",
    "            c_2 parámetro para el bonus de entropía\n",
    "        \"\"\"\n",
    "        self.Policy = Policy\n",
    "        self.Old_Policy = Old_Policy\n",
    "        self.gamma = gamma\n",
    "        self.obs=obs\n",
    "\n",
    "        self.pi_trainable = self.Policy.get_trainable_variables()\n",
    "        self.old_pi_trainable = self.Old_Policy.get_trainable_variables()\n",
    "\n",
    "\n",
    "        policy_name = \"policy\"\n",
    "        old_policy_name=\"policy\"\n",
    "\n",
    "        policy_dict_ = self.pi_trainable[policy_name]\n",
    "        old_policy_dict_=self.old_pi_trainable[old_policy_name]\n",
    "\n",
    "        self.pi=[]\n",
    "        if policy_name in self.pi_trainable and old_policy_name in self.old_pi_trainable:\n",
    "            for param_name, param_value in policy_dict_.items():\n",
    "                # Elimino los pesos que hay en old_policy\n",
    "                del old_policy_dict_[param_name]\n",
    "                # Introduzco los pesos de old_policy en policy\n",
    "                old_policy_dict_[param_name] = param_value\n",
    "                self.pi.append(param_value)\n",
    "        else:\n",
    "            print(f\"No se encontró la política con el nombre: {policy_name}\")\n",
    "\n",
    "\n",
    "        # Le asignamos old_pi_trainable=pi_trainable ya que ajustaremos unos nuevos pi_trainable\n",
    "\n",
    "\n",
    "        self.actions = actions\n",
    "        self.rewards=rewards\n",
    "        self.v_preds=self.Old_Policy.get_v_preds()\n",
    "        self.v_preds_next=self.Policy.get_v_preds()\n",
    "\n",
    "        #  generative advantage estimator(lambda = 1), ver ppo paper eq(11)\n",
    "        self.gaes =self.get_gaes(self.rewards, self.v_preds, self.v_preds_next)\n",
    "\n",
    "        act_probs =self.Policy.get_action_prob()\n",
    "        act_probs_old =self.Old_Policy.get_action_prob()\n",
    "\n",
    "        # la probabilidad de las acciones del agente cuando toma la actual política\n",
    "        act_probs = act_probs * tf.one_hot(indices=self.actions, depth=act_probs.shape[1])\n",
    "        self.act_probs = tf.reduce_sum(act_probs, axis=1)\n",
    "\n",
    "        # la probabilidad de las acciones del agente cuando toma la antigua política\n",
    "        act_probs_old = act_probs_old * tf.one_hot(indices=self.actions, depth=act_probs_old.shape[1])\n",
    "        self.act_probs_old = tf.reduce_sum(act_probs_old, axis=1)\n",
    "\n",
    "        self.loss=loss_fn_ppo(self.act_probs, self.act_probs_old, self.gaes)\n",
    "\n",
    "        self.optimizer =tf.keras.optimizers.Adam(learning_rate=LEARNING_RATE)\n",
    "\n",
    "    def loss_fn_G(self):\n",
    "        return loss_fn_ppo(self.act_probs, self.act_probs_old, self.gaes)\n",
    "\n",
    "    def get_pi_trainable(self):\n",
    "        return self.pi\n",
    "\n",
    "    def get_optimizer(self):\n",
    "        return self.optimizer\n",
    "\n",
    "    def get_OldPolicy(self):\n",
    "        return self.Old_Policy\n",
    "\n",
    "    def get_Policy(self):\n",
    "        return self.Policy\n",
    "\n",
    "    def get_gaes(self, rewards, v_preds, v_preds_next):\n",
    "        deltas = [r_t + self.gamma * v_next - v for r_t, v_next, v in zip(rewards, v_preds_next, v_preds)]\n",
    "        # calcular la estimación generative advantage (lambda = 1), ver ppo paper eq(11)\n",
    "        gaes = copy.deepcopy(deltas)\n",
    "        for t in reversed(range(len(gaes) - 1)):  # es T-1, donde T es timestep con el que se ejecuta la política\n",
    "            gaes[t] = gaes[t] + self.gamma * gaes[t + 1]\n",
    "        return gaes"
   ]
  },
  {
   "cell_type": "markdown",
   "metadata": {},
   "source": [
    "# GAIL"
   ]
  },
  {
   "cell_type": "code",
   "execution_count": 20,
   "metadata": {},
   "outputs": [],
   "source": [
    "####################################################################################################################\n",
    "# CLASE GAIL\n",
    "####################################################################################################################\n",
    "class GAN(keras.Model):\n",
    "    # Constructor\n",
    "    def __init__(self, discriminator, generator):\n",
    "        super().__init__()\n",
    "        self.discriminator = discriminator\n",
    "        self.generator=generator\n",
    "        self.i=0\n",
    "        self.d_loss_metric = keras.metrics.Mean(name=\"d_loss\")\n",
    "        self.g_loss_metric = keras.metrics.Mean(name=\"g_loss\")\n",
    "\n",
    "    # Compila el modelo GAN inicializando los optimizadores y la función de pérdida del modelo GAN\n",
    "    def compile(self,d_optimizer, loss_fn_D ):\n",
    "        super(GAN, self).compile(run_eagerly=True)\n",
    "        self.d_optimizer = d_optimizer\n",
    "        self.loss_fn_D=  loss_fn_D\n",
    "\n",
    "    # Devuelve las métricas obtenidas con el generador y discriminador\n",
    "    @property\n",
    "    def metrics(self):\n",
    "        return [self.d_loss_metric,self.g_loss_metric]\n",
    "\n",
    "    # Evaluación del Discriminador\n",
    "    def evaluate_D(self, X_test):\n",
    "        len_real = X_test.shape[0]\n",
    "\n",
    "        generate_observations, generate_actions, generate_next_observations, rewards, Old_Policy, Policy=self.generator.generate_fakes()\n",
    "\n",
    "        generate_a_one_hot=np.eye(env.action_space.n)[generate_actions]\n",
    "\n",
    "        dataset_gen1=np.concatenate([generate_observations,generate_a_one_hot],axis=1)\n",
    "\n",
    "        dataset_gen2= np.concatenate([dataset_gen1,generate_next_observations], axis=1)\n",
    "\n",
    "        rewards=np.array(rewards).reshape(-1, 1)\n",
    "\n",
    "        dataset_gen= np.concatenate([dataset_gen2,rewards], axis=1)\n",
    "\n",
    "\n",
    "        len_fakes=dataset_gen.shape[0]\n",
    "\n",
    "        # Compilamos el discriminador como CNN\n",
    "        self.discriminator.discriminator_net.compile(optimizer=self.d_optimizer, loss=self.loss_fn_D, metrics=['accuracy'])\n",
    "\n",
    "        # Evaluamos como CNN\n",
    "        loss_real, acc_real=self.discriminator.discriminator_net.evaluate(X_test, tf.ones((len_real,1)), batch_size=len_real, verbose=1)\n",
    "\n",
    "        loss_fake, acc_fake=self.discriminator.discriminator_net.evaluate(dataset_gen,tf.ones((len_fakes,1)), batch_size=len_fakes, verbose=1)\n",
    "\n",
    "        print('>Loss real: ')\n",
    "        print(loss_real)\n",
    "        print('>Loss fake: ')\n",
    "        print(loss_fake)\n",
    "\n",
    "\n",
    "    # Evaluación del generador\n",
    "    def evaluate_G(self):\n",
    "        # Definimos el entorno\n",
    "        env= gym.make('LunarLander-v2')\n",
    "\n",
    "        # Lista donde amacenaremos la recompensa acumulada de cada episodio.\n",
    "        # NUESTRO OBJETIVO: Agente aprenda a tomar las acciones que maximicen la recompensa\n",
    "        rewards=[]\n",
    "\n",
    "        # Para cada episodio, el Agente se mueve por el Entorno mediante acciones hasta llegar a un estado final\n",
    "        # siguiendo la política que se ha aprendido en el entrenamiento de la GAN\n",
    "        for episode in range(EPISODES_EVALUATE_G):\n",
    "            truncated=False\n",
    "            terminated=False\n",
    "            R=0.0\n",
    "            reward=0.0\n",
    "\n",
    "            # Estado inicial del juego\n",
    "            obs,_=env.reset()\n",
    "\n",
    "            #Interactuamos con el Entorno hasta que lleguemos a un estado final\n",
    "            while terminated!= True and truncated!=True:\n",
    "                action, _=self.generator.get_model().predict(obs)\n",
    "                obs,reward,terminated,truncated, info=env.step(int(action))\n",
    "\n",
    "                # Incremento la recompensa del episodio i al haber ejecutado el step\n",
    "                R+=reward\n",
    "\n",
    "            rewards.append(R)\n",
    "\n",
    "            # Vemos para el episodio, su recompensa acumulada que es lo que se trata de maximizar\n",
    "            print(\"Episode  {} Total reward: {}\".format(episode,R))\n",
    "\n",
    "        # Cierro el entorno\n",
    "        env.close()\n",
    "\n",
    "        # Muestro las recompensas obtenidas en cada episodio\n",
    "        indices = range(0, EPISODES_EVALUATE_G)\n",
    "        plt.plot(indices,rewards)\n",
    "        plt.show()\n",
    "\n",
    "        return np.mean(rewards)\n",
    "\n",
    "    def train_step(self, X_train):\n",
    "\n",
    "        # 1) Generamos secuencias falsas [s,a,s',r]\n",
    "        generate_observations, generate_actions, generate_next_observations, rewards, Old_Policy, Policy=self.generator.generate_fakes()\n",
    "\n",
    "        generate_a_one_hot=np.eye(env.action_space.n)[generate_actions]\n",
    "\n",
    "        if generate_observations.shape[0] == generate_a_one_hot.shape[0]:\n",
    "          dataset_gen1 = np.concatenate([generate_observations, generate_a_one_hot], axis=1)\n",
    "        else:\n",
    "          generate_a_one_hot_resized = np.resize(generate_a_one_hot, generate_observations.shape)\n",
    "          dataset_gen1 = np.concatenate([generate_observations, generate_a_one_hot_resized], axis=1)\n",
    "\n",
    "        if generate_next_observations.shape[0] == generate_a_one_hot.shape[0]:\n",
    "          dataset_gen2=np.concatenate([dataset_gen1, generate_next_observations], axis=1)\n",
    "        else:\n",
    "           generate_next_observations_new= np.resize(generate_next_observations, generate_observations.shape)\n",
    "           dataset_gen2=np.concatenate([dataset_gen1, generate_next_observations_new], axis=1)\n",
    "\n",
    "        rewards=np.array(rewards).reshape(-1,1)\n",
    "\n",
    "        dataset_gen=np.concatenate([dataset_gen2, rewards], axis=1)\n",
    "\n",
    "        # 2) Seleccionamos la muestra de datos generador con la que vamos a trabajar en este  batch de entrenamiento \n",
    "        #if len(dataset_gen) >= BATCH_SIZE: \n",
    "        random_indices = np.random.choice(len(dataset_gen), size=min(BATCH_SIZE,len(dataset_gen)), replace=False)\n",
    "        dataset_gen= dataset_gen[random_indices[0]]\n",
    "\n",
    "\n",
    "        # 3) Obtenemos las secuencias reales [s,a,s',r] de los datos de entrenamiento y las combinamos\n",
    "        dataset_gen=dataset_gen.reshape(1,-1)\n",
    "        combined_images = tf.concat([X_train, dataset_gen], axis=0)\n",
    "\n",
    "        # 4) Las etiquetas de las imagenes combinadas las tenemos que crear nosotros introduciendo algo de ruido con tf.random.uniform\n",
    "        labels = tf.concat( [tf.ones((BATCH_SIZE, 1)), tf.zeros((BATCH_SIZE, 1))], axis=0 )\n",
    "        labels += 0.05 * tf.random.uniform(tf.shape(labels))\n",
    "\n",
    "        ##############################################################################################################################################################\n",
    "        # PASO 1:  ENTRENAMIENTO DEL DISCRIMINADOR\n",
    "        #############################################################################################################################################################\n",
    "\n",
    "\n",
    "        # Entrenamiento del discriminador con las [s,a, s', r] del agente(falsas o sintéticas) y del experto (reales) combinadas, esto es,\n",
    "        # le pasamos un conjunto que tiene tanto secuencias reales como secuencias sintéticas\n",
    "        with tf.GradientTape() as tape:\n",
    "            predictions=np.zeros((2*BATCH_SIZE,6))\n",
    "            # Predicciones obtenidas con el discriminador\n",
    "            predictions = self.discriminator.discriminator_net(combined_images)\n",
    "            # Valor de la función de pérdida al comparar las predicciones con las etiquetas reales\n",
    "            d_loss = self.loss_fn_D(labels, predictions)\n",
    "\n",
    "        # Calculo del gradiente y actualización del gradiente\n",
    "        grads = tape.gradient(d_loss, self.discriminator.getNet().trainable_weights)\n",
    "\n",
    "        self.d_optimizer.apply_gradients(\n",
    "          zip(grads, self.discriminator.getNet().trainable_weights)\n",
    "        )\n",
    "\n",
    "\n",
    "\n",
    "        ################################################################################################################################################################\n",
    "        # PASO 2: ENTRENAMIENTO DEL GENERADOR=POLÍTICA\n",
    "        ###############################################################################################################################################################\n",
    "\n",
    "\n",
    "        ppotrain=PPOTrain(Policy,Old_Policy,actions=generate_actions,rewards=rewards, obs=generate_observations) #       generate_observations[0])\n",
    "\n",
    "\n",
    "        with tf.GradientTape() as tape:\n",
    "            g_loss = ppotrain.loss_fn_G()\n",
    "\n",
    "\n",
    "        g_loss = tf.cast(g_loss, dtype=tf.float32)\n",
    "\n",
    "         ############################################################################################################################################################\n",
    "\n",
    "        # Actualización de métricas del discriminador y generador\n",
    "        self.d_loss_metric.update_state(d_loss)\n",
    "        self.g_loss_metric.update_state(g_loss)\n",
    "\n",
    "\n",
    "        return {\"d_loss\": self.d_loss_metric.result(),\n",
    "                    \"g_loss\": self.g_loss_metric.result()}\n",
    "\n"
   ]
  },
  {
   "cell_type": "markdown",
   "metadata": {},
   "source": [
    "# Experimentación de GAIL con LunarLander"
   ]
  },
  {
   "cell_type": "markdown",
   "metadata": {},
   "source": [
    "## Experimento 1"
   ]
  },
  {
   "cell_type": "markdown",
   "metadata": {},
   "source": [
    "### Construcción de base de datos experta con 1 trayectoria "
   ]
  },
  {
   "cell_type": "code",
   "execution_count": 21,
   "metadata": {},
   "outputs": [
    {
     "name": "stdout",
     "output_type": "stream",
     "text": [
      "actions_LunarLander.csv\t\t    observations_LunarLander.csv\n",
      "ExtendedGAIL_LunarLander_Ene.ipynb  pybox2d\n",
      "next_observations_LunarLander.csv   rewards_LunarLander.csv\n",
      "n_trayectoria_LunarLander.csv\n"
     ]
    }
   ],
   "source": [
    "!ls"
   ]
  },
  {
   "cell_type": "code",
   "execution_count": 22,
   "metadata": {},
   "outputs": [
    {
     "name": "stdout",
     "output_type": "stream",
     "text": [
      "\n",
      "\tEstados reales: \n",
      " [[-0.00655632  1.412633   -0.6640952  ...  0.15042743  0.\n",
      "   0.        ]\n",
      " [-0.01301994  1.4137701  -0.65149987 ...  0.1017526   0.\n",
      "   0.        ]\n",
      " [-0.01941118  1.414314   -0.6424104  ...  0.06514421  0.\n",
      "   0.        ]\n",
      " ...\n",
      " [-0.46665245 -0.0082029   0.03071342 ...  0.67170596  1.\n",
      "   1.        ]\n",
      " [-0.4661541  -0.01350838  0.02066027 ...  0.635882    1.\n",
      "   1.        ]\n",
      " [-0.46567154 -0.01838761  0.02184356 ...  0.58443296  1.\n",
      "   1.        ]]\n",
      "\tAcciones reales: \n",
      " [3 3 3 ... 0 3 3]\n",
      "\n",
      "\t Estados siguientes: \n",
      " [[-0.00655632  1.412633   -0.6640952  ...  0.15042743  0.\n",
      "   0.        ]\n",
      " [-0.01301994  1.4137701  -0.65149987 ...  0.1017526   0.\n",
      "   0.        ]\n",
      " [-0.01941118  1.414314   -0.6424104  ...  0.06514421  0.\n",
      "   0.        ]\n",
      " ...\n",
      " [-0.46665245 -0.0082029   0.03071342 ...  0.67170596  1.\n",
      "   1.        ]\n",
      " [-0.4661541  -0.01350838  0.02066027 ...  0.635882    1.\n",
      "   1.        ]\n",
      " [-0.46567154 -0.01838761  0.02184356 ...  0.58443296  1.\n",
      "   1.        ]]\n",
      "\n",
      "\t Recompensas: [   0    0    0 ...   -1   -1 -100]\n"
     ]
    }
   ],
   "source": [
    "expert_observations = np.genfromtxt(\"observations_LunarLander.csv\",delimiter=\"\\t\",dtype=str)\n",
    "expert_actions = np.genfromtxt('actions_LunarLander.csv', dtype=np.int32)\n",
    "expert_next_observations = np.genfromtxt('next_observations_LunarLander.csv',delimiter=\"\\t\",dtype=str)\n",
    "expert_rewards = np.genfromtxt('rewards_LunarLander.csv', dtype=np.int32)\n",
    "expert_num_tray=np.genfromtxt('n_trayectoria_LunarLander.csv', dtype=np.int32)\n",
    "\n",
    "# Reemplazar las comas\n",
    "expert_observations = np.core.defchararray.replace(expert_observations, ',', ' ')\n",
    "\n",
    "# Reemplazar las comas\n",
    "expert_next_observations = np.core.defchararray.replace(expert_next_observations, ',', ' ')\n",
    "\n",
    "# Crear un nuevo array para almacenar los datos convertidos\n",
    "converted_observations = np.genfromtxt(expert_observations, delimiter=' ', dtype=float)\n",
    "# Crear un nuevo array para almacenar los datos convertidos\n",
    "converted_next_observations = np.genfromtxt(expert_observations, delimiter=' ', dtype=float)\n",
    "\n",
    "\n",
    "rewards=np.array(expert_rewards).reshape(-1,1)\n",
    "\n",
    "\n",
    "print(\"\\n\\tEstados reales: \\n\", converted_observations)\n",
    "print(\"\\tAcciones reales: \\n\", expert_actions)\n",
    "print(\"\\n\\t Estados siguientes: \\n\", converted_next_observations)\n",
    "print(\"\\n\\t Recompensas:\" ,expert_rewards)"
   ]
  },
  {
   "cell_type": "code",
   "execution_count": 23,
   "metadata": {},
   "outputs": [
    {
     "name": "stdout",
     "output_type": "stream",
     "text": [
      "547\n"
     ]
    }
   ],
   "source": [
    "longitud_trayectoria = np.count_nonzero(expert_num_tray == 0)\n",
    "print(longitud_trayectoria)"
   ]
  },
  {
   "cell_type": "code",
   "execution_count": 24,
   "metadata": {},
   "outputs": [],
   "source": [
    "converted_observations=converted_observations[0:longitud_trayectoria]\n",
    "expert_actions=expert_actions[0:longitud_trayectoria]\n",
    "converted_next_observations=converted_next_observations[0:longitud_trayectoria]\n",
    "expert_rewards=expert_rewards[0:longitud_trayectoria]"
   ]
  },
  {
   "cell_type": "code",
   "execution_count": 25,
   "metadata": {},
   "outputs": [],
   "source": [
    "# Construimos el dataset [s,a,s',r] reales y lo dividimos en training y test\n",
    "expert_a_one_hot=np.eye(env.action_space.n)[expert_actions]\n",
    "expert_rewards = expert_rewards.reshape(-1, 1)\n",
    "\n",
    "dataset1=np.concatenate([converted_observations,expert_a_one_hot],axis=1)\n",
    "dataset2=np.concatenate([dataset1,converted_next_observations],axis=1)\n",
    "dataset=np.concatenate([dataset2,expert_rewards],axis=1)\n"
   ]
  },
  {
   "cell_type": "code",
   "execution_count": 26,
   "metadata": {},
   "outputs": [
    {
     "name": "stdout",
     "output_type": "stream",
     "text": [
      "Nº de (ESTADOS,ACCIONES) en el conjunto de entrenamiento: 437\n",
      "Nº de (ESTADOS,ACCIONES) en el conjunto de prueba: 110\n"
     ]
    }
   ],
   "source": [
    "#############################################################################\n",
    "# DIVISIÓN TRAIN Y TEST\n",
    "##############################################################################\n",
    "\n",
    "# Divide los datos en conjuntos de entrenamiento y prueba\n",
    "X_train, X_test = train_test_split(dataset, test_size=0.2, random_state=0)\n",
    "\n",
    "\n",
    "#Imprime el número de elementos en el conjuntos de entrenamiento y prueba\n",
    "print('Nº de (ESTADOS,ACCIONES) en el conjunto de entrenamiento:', len(X_train))\n",
    "print('Nº de (ESTADOS,ACCIONES) en el conjunto de prueba:', len(X_test))"
   ]
  },
  {
   "cell_type": "code",
   "execution_count": 27,
   "metadata": {},
   "outputs": [
    {
     "name": "stderr",
     "output_type": "stream",
     "text": [
      "/home/usuario/.local/lib/python3.10/site-packages/torch/cuda/__init__.py:107: UserWarning: CUDA initialization: CUDA unknown error - this may be due to an incorrectly set up environment, e.g. changing env variable CUDA_VISIBLE_DEVICES after program start. Setting the available devices to be zero. (Triggered internally at ../c10/cuda/CUDAFunctions.cpp:109.)\n",
      "  return torch._C._cuda_getDeviceCount() > 0\n"
     ]
    }
   ],
   "source": [
    "env= gym.make('LunarLander-v2')\n",
    "obs,_= env.reset()\n",
    "\n",
    "# Generador\n",
    "generator=Policy_net( 'policy', env, obs)\n",
    "\n",
    "# Generamos [s,a, s', r] falsas y las políticas theta_i y theta_i+1\n",
    "observations, actions, next_observations, rewards, Old_Policy, Policy=generator.generate_fakes()\n",
    "\n",
    "# Discriminador\n",
    "discriminator=Discriminator(env, discriminator_net, converted_observations, expert_actions, converted_next_observations, expert_rewards, observations, actions, next_observations, rewards)"
   ]
  },
  {
   "cell_type": "markdown",
   "metadata": {},
   "source": [
    "### Definición de GAIL"
   ]
  },
  {
   "cell_type": "code",
   "execution_count": 28,
   "metadata": {},
   "outputs": [],
   "source": [
    "gan1=GAN(discriminator=discriminator,generator=generator)"
   ]
  },
  {
   "cell_type": "markdown",
   "metadata": {},
   "source": [
    "### Compilación de GAIL"
   ]
  },
  {
   "cell_type": "code",
   "execution_count": 29,
   "metadata": {},
   "outputs": [],
   "source": [
    "tf.config.run_functions_eagerly(True)\n",
    "gan1.compile(\n",
    "    d_optimizer=tf.keras.optimizers.Adam(learning_rate=LEARNING_RATE),\n",
    "    loss_fn_D=loss_fn_D\n",
    ")"
   ]
  },
  {
   "cell_type": "markdown",
   "metadata": {},
   "source": [
    "### Entrenamiento de GAIL"
   ]
  },
  {
   "cell_type": "code",
   "execution_count": 30,
   "metadata": {},
   "outputs": [
    {
     "name": "stderr",
     "output_type": "stream",
     "text": [
      "/home/usuario/.local/lib/python3.10/site-packages/tensorflow/python/data/ops/structured_function.py:265: UserWarning: Even though the `tf.config.experimental_run_functions_eagerly` option is set, this option does not apply to tf.data functions. To force eager execution of tf.data functions, please use `tf.data.experimental.enable_debug_mode()`.\n",
      "  warnings.warn(\n"
     ]
    },
    {
     "name": "stdout",
     "output_type": "stream",
     "text": [
      "437/437 [==============================] - 8889s 20s/step - d_loss: 1.9671 - g_loss: 2.3762\n"
     ]
    }
   ],
   "source": [
    "# Deshabilitar los mensajes de información de TensorFlow\n",
    "os.environ['TF_CPP_MIN_LOG_LEVEL'] = '3'\n",
    "\n",
    "# Deshabilitar los mensajes de información de OpenAI Gym\n",
    "gym.logger.set_level(40)\n",
    "\n",
    "BATCH_SIZE= round(len(X_train)/300)\n",
    "\n",
    "history=gan1.fit(X_train,\n",
    "    epochs=EPOCHS, batch_size=BATCH_SIZE)\n"
   ]
  },
  {
   "cell_type": "markdown",
   "metadata": {},
   "source": [
    "### Evaluación de GAIL"
   ]
  },
  {
   "cell_type": "code",
   "execution_count": 31,
   "metadata": {},
   "outputs": [
    {
     "name": "stdout",
     "output_type": "stream",
     "text": [
      "1/1 [==============================] - 0s 66ms/step - loss: 0.0022 - accuracy: 0.0000e+00\n",
      "1/1 [==============================] - 0s 19ms/step - loss: 1.3978e-04 - accuracy: 0.0000e+00\n",
      ">Loss real: \n",
      "0.0022365564946085215\n",
      ">Loss fake: \n",
      "0.0001397844316670671\n"
     ]
    }
   ],
   "source": [
    "# Evaluamos el Discriminador de GAIL en el TEST\n",
    "gan1.evaluate_D(X_test)\n"
   ]
  },
  {
   "cell_type": "code",
   "execution_count": 32,
   "metadata": {},
   "outputs": [
    {
     "name": "stdout",
     "output_type": "stream",
     "text": [
      "Episode  0 Total reward: -149.66416306109048\n",
      "Episode  1 Total reward: 18.385961038347503\n",
      "Episode  2 Total reward: -389.92024590150584\n",
      "Episode  3 Total reward: -113.91531598764053\n",
      "Episode  4 Total reward: -97.49785712883805\n",
      "Episode  5 Total reward: -510.5581226911536\n",
      "Episode  6 Total reward: -7.238372694377915\n",
      "Episode  7 Total reward: 19.73134609721913\n",
      "Episode  8 Total reward: -343.10557061682437\n",
      "Episode  9 Total reward: -451.89299970762056\n",
      "Episode  10 Total reward: -217.21660671958358\n",
      "Episode  11 Total reward: -157.96347149918455\n",
      "Episode  12 Total reward: -82.78351877634876\n",
      "Episode  13 Total reward: -268.6666597438704\n",
      "Episode  14 Total reward: -408.02187756440964\n",
      "Episode  15 Total reward: -132.82790937891605\n",
      "Episode  16 Total reward: -91.72892730189623\n",
      "Episode  17 Total reward: -101.44449850289885\n",
      "Episode  18 Total reward: -341.07383651699206\n",
      "Episode  19 Total reward: -107.6756983189188\n",
      "Episode  20 Total reward: -84.97172447228746\n",
      "Episode  21 Total reward: -107.34660234693875\n",
      "Episode  22 Total reward: -242.19531387631218\n",
      "Episode  23 Total reward: -139.36931899255904\n",
      "Episode  24 Total reward: -112.22856782678568\n",
      "Episode  25 Total reward: -142.45890291777766\n",
      "Episode  26 Total reward: -104.72382767620175\n",
      "Episode  27 Total reward: -341.2196988316581\n",
      "Episode  28 Total reward: -115.87167003438698\n",
      "Episode  29 Total reward: -306.1654936511253\n",
      "Episode  30 Total reward: -119.74837288078866\n",
      "Episode  31 Total reward: -126.48650711394252\n",
      "Episode  32 Total reward: -137.81158222940851\n",
      "Episode  33 Total reward: -200.37293111818923\n",
      "Episode  34 Total reward: -98.98014176839123\n",
      "Episode  35 Total reward: -350.12589981410565\n",
      "Episode  36 Total reward: -148.81589590019252\n",
      "Episode  37 Total reward: -379.8671870246224\n",
      "Episode  38 Total reward: -126.4922061981092\n",
      "Episode  39 Total reward: -315.2061872103102\n",
      "Episode  40 Total reward: -383.36251569201755\n",
      "Episode  41 Total reward: -109.76152091316277\n",
      "Episode  42 Total reward: -148.5988514856248\n",
      "Episode  43 Total reward: -289.4526893484392\n",
      "Episode  44 Total reward: -447.5406922082343\n",
      "Episode  45 Total reward: -331.0356458730151\n",
      "Episode  46 Total reward: -353.1699752768081\n",
      "Episode  47 Total reward: -284.4404822907181\n",
      "Episode  48 Total reward: -519.2125549857983\n",
      "Episode  49 Total reward: -153.67351696534783\n"
     ]
    },
    {
     "data": {
      "image/png": "[encoded data removed]",
      "text/plain": [
       "<Figure size 640x480 with 1 Axes>"
      ]
     },
     "metadata": {},
     "output_type": "display_data"
    },
    {
     "name": "stdout",
     "output_type": "stream",
     "text": [
      "\n",
      "Recompensa de Media: -213.1156964379952 \n",
      "\n"
     ]
    }
   ],
   "source": [
    "# Evaluamos al Generador \n",
    "rewardMean=gan1.evaluate_G()\n",
    "print('\\nRecompensa de Media:', rewardMean, '\\n')"
   ]
  },
  {
   "cell_type": "markdown",
   "metadata": {},
   "source": [
    "## Experimento 2"
   ]
  },
  {
   "cell_type": "markdown",
   "metadata": {},
   "source": [
    "### Construcción de base de datos experta con 2 trayectoria "
   ]
  },
  {
   "cell_type": "code",
   "execution_count": 33,
   "metadata": {},
   "outputs": [
    {
     "name": "stdout",
     "output_type": "stream",
     "text": [
      "\n",
      "\tEstados reales: \n",
      " [[-0.00655632  1.412633   -0.6640952  ...  0.15042743  0.\n",
      "   0.        ]\n",
      " [-0.01301994  1.4137701  -0.65149987 ...  0.1017526   0.\n",
      "   0.        ]\n",
      " [-0.01941118  1.414314   -0.6424104  ...  0.06514421  0.\n",
      "   0.        ]\n",
      " ...\n",
      " [-0.46665245 -0.0082029   0.03071342 ...  0.67170596  1.\n",
      "   1.        ]\n",
      " [-0.4661541  -0.01350838  0.02066027 ...  0.635882    1.\n",
      "   1.        ]\n",
      " [-0.46567154 -0.01838761  0.02184356 ...  0.58443296  1.\n",
      "   1.        ]]\n",
      "\tAcciones reales: \n",
      " [3 3 3 ... 0 3 3]\n",
      "\n",
      "\t Estados siguientes: \n",
      " [[-0.00655632  1.412633   -0.6640952  ...  0.15042743  0.\n",
      "   0.        ]\n",
      " [-0.01301994  1.4137701  -0.65149987 ...  0.1017526   0.\n",
      "   0.        ]\n",
      " [-0.01941118  1.414314   -0.6424104  ...  0.06514421  0.\n",
      "   0.        ]\n",
      " ...\n",
      " [-0.46665245 -0.0082029   0.03071342 ...  0.67170596  1.\n",
      "   1.        ]\n",
      " [-0.4661541  -0.01350838  0.02066027 ...  0.635882    1.\n",
      "   1.        ]\n",
      " [-0.46567154 -0.01838761  0.02184356 ...  0.58443296  1.\n",
      "   1.        ]]\n",
      "\n",
      "\t Recompensas: [   0    0    0 ...   -1   -1 -100]\n"
     ]
    }
   ],
   "source": [
    "expert_observations = np.genfromtxt(\"observations_LunarLander.csv\",delimiter=\"\\t\",dtype=str)\n",
    "expert_actions = np.genfromtxt('actions_LunarLander.csv', dtype=np.int32)\n",
    "expert_next_observations = np.genfromtxt('next_observations_LunarLander.csv',delimiter=\"\\t\",dtype=str)\n",
    "expert_rewards = np.genfromtxt('rewards_LunarLander.csv', dtype=np.int32)\n",
    "expert_num_tray=np.genfromtxt('n_trayectoria_LunarLander.csv', dtype=np.int32)\n",
    "\n",
    "# Reemplazar las comas\n",
    "expert_observations = np.core.defchararray.replace(expert_observations, ',', ' ')\n",
    "\n",
    "# Reemplazar las comas\n",
    "expert_next_observations = np.core.defchararray.replace(expert_next_observations, ',', ' ')\n",
    "\n",
    "# Crear un nuevo array para almacenar los datos convertidos\n",
    "converted_observations = np.genfromtxt(expert_observations, delimiter=' ', dtype=float)\n",
    "# Crear un nuevo array para almacenar los datos convertidos\n",
    "converted_next_observations = np.genfromtxt(expert_observations, delimiter=' ', dtype=float)\n",
    "\n",
    "\n",
    "rewards=np.array(expert_rewards).reshape(-1,1)\n",
    "\n",
    "\n",
    "print(\"\\n\\tEstados reales: \\n\", converted_observations)\n",
    "print(\"\\tAcciones reales: \\n\", expert_actions)\n",
    "print(\"\\n\\t Estados siguientes: \\n\", converted_next_observations)\n",
    "print(\"\\n\\t Recompensas:\" ,expert_rewards)"
   ]
  },
  {
   "cell_type": "code",
   "execution_count": 34,
   "metadata": {},
   "outputs": [
    {
     "name": "stdout",
     "output_type": "stream",
     "text": [
      "1127\n"
     ]
    }
   ],
   "source": [
    "longitud_trayectoria += np.count_nonzero(expert_num_tray == 1)\n",
    "print(longitud_trayectoria)"
   ]
  },
  {
   "cell_type": "code",
   "execution_count": 35,
   "metadata": {},
   "outputs": [],
   "source": [
    "converted_observations=converted_observations[0:longitud_trayectoria]\n",
    "expert_actions=expert_actions[0:longitud_trayectoria]\n",
    "converted_next_observations=converted_next_observations[0:longitud_trayectoria]\n",
    "expert_rewards=expert_rewards[0:longitud_trayectoria]"
   ]
  },
  {
   "cell_type": "code",
   "execution_count": 36,
   "metadata": {},
   "outputs": [],
   "source": [
    "# Construimos el dataset [s,a,s',r] reales y lo dividimos en training y test\n",
    "expert_a_one_hot=np.eye(env.action_space.n)[expert_actions]\n",
    "expert_rewards = expert_rewards.reshape(-1, 1)\n",
    "\n",
    "dataset1=np.concatenate([converted_observations,expert_a_one_hot],axis=1)\n",
    "dataset2=np.concatenate([dataset1,converted_next_observations],axis=1)\n",
    "dataset=np.concatenate([dataset2,expert_rewards],axis=1)\n"
   ]
  },
  {
   "cell_type": "code",
   "execution_count": 37,
   "metadata": {},
   "outputs": [
    {
     "name": "stdout",
     "output_type": "stream",
     "text": [
      "Nº de (ESTADOS,ACCIONES) en el conjunto de entrenamiento: 901\n",
      "Nº de (ESTADOS,ACCIONES) en el conjunto de prueba: 226\n"
     ]
    }
   ],
   "source": [
    "#############################################################################\n",
    "# DIVISIÓN TRAIN Y TEST\n",
    "##############################################################################\n",
    "\n",
    "# Divide los datos en conjuntos de entrenamiento y prueba\n",
    "X_train, X_test = train_test_split(dataset, test_size=0.2, random_state=0)\n",
    "\n",
    "\n",
    "#Imprime el número de elementos en el conjuntos de entrenamiento y prueba\n",
    "print('Nº de (ESTADOS,ACCIONES) en el conjunto de entrenamiento:', len(X_train))\n",
    "print('Nº de (ESTADOS,ACCIONES) en el conjunto de prueba:', len(X_test))"
   ]
  },
  {
   "cell_type": "code",
   "execution_count": 38,
   "metadata": {},
   "outputs": [],
   "source": [
    "env= gym.make('LunarLander-v2')\n",
    "obs,_= env.reset()\n",
    "\n",
    "# Generador\n",
    "generator=Policy_net( 'policy', env, obs)\n",
    "\n",
    "# Generamos [s,a, s', r] falsas y las políticas theta_i y theta_i+1\n",
    "observations, actions, next_observations, rewards, Old_Policy, Policy=generator.generate_fakes()\n",
    "\n",
    "# Discriminador\n",
    "discriminator=Discriminator(env, discriminator_net, converted_observations, expert_actions, converted_next_observations, expert_rewards, observations, actions, next_observations, rewards)"
   ]
  },
  {
   "cell_type": "markdown",
   "metadata": {},
   "source": [
    "### Definición de GAIL"
   ]
  },
  {
   "cell_type": "code",
   "execution_count": 39,
   "metadata": {},
   "outputs": [],
   "source": [
    "gan2=GAN(discriminator=discriminator,generator=generator)"
   ]
  },
  {
   "cell_type": "markdown",
   "metadata": {},
   "source": [
    "### Compilación de GAIL"
   ]
  },
  {
   "cell_type": "code",
   "execution_count": 40,
   "metadata": {},
   "outputs": [],
   "source": [
    "tf.config.run_functions_eagerly(True)\n",
    "gan2.compile(\n",
    "    d_optimizer=tf.keras.optimizers.Adam(learning_rate=LEARNING_RATE),\n",
    "    loss_fn_D=loss_fn_D\n",
    ")"
   ]
  },
  {
   "cell_type": "markdown",
   "metadata": {},
   "source": [
    "### Entrenamiento de GAIL"
   ]
  },
  {
   "cell_type": "code",
   "execution_count": 41,
   "metadata": {},
   "outputs": [
    {
     "name": "stdout",
     "output_type": "stream",
     "text": [
      "301/301 [==============================] - 6138s 20s/step - d_loss: 1.9079 - g_loss: 2.5855\n"
     ]
    }
   ],
   "source": [
    "# Deshabilitar los mensajes de información de TensorFlow\n",
    "os.environ['TF_CPP_MIN_LOG_LEVEL'] = '3'\n",
    "\n",
    "# Deshabilitar los mensajes de información de OpenAI Gym\n",
    "gym.logger.set_level(40)\n",
    "\n",
    "BATCH_SIZE= round(len(X_train)/300)\n",
    "\n",
    "history=gan2.fit(X_train,\n",
    "    epochs=EPOCHS, batch_size=BATCH_SIZE)\n"
   ]
  },
  {
   "cell_type": "markdown",
   "metadata": {},
   "source": [
    "### Evaluación de GAIL"
   ]
  },
  {
   "cell_type": "code",
   "execution_count": 42,
   "metadata": {},
   "outputs": [
    {
     "name": "stdout",
     "output_type": "stream",
     "text": [
      "1/1 [==============================] - 0s 20ms/step - loss: 1.4605e-04 - accuracy: 0.0000e+00\n",
      "1/1 [==============================] - 0s 19ms/step - loss: 3.8833e-08 - accuracy: 0.0000e+00\n",
      ">Loss real: \n",
      "0.00014605277101509273\n",
      ">Loss fake: \n",
      "3.88333347700609e-08\n"
     ]
    }
   ],
   "source": [
    "# Evaluamos el Discriminador de GAIL en el TEST\n",
    "gan2.evaluate_D(X_test)\n"
   ]
  },
  {
   "cell_type": "code",
   "execution_count": 43,
   "metadata": {},
   "outputs": [
    {
     "name": "stdout",
     "output_type": "stream",
     "text": [
      "Episode  0 Total reward: -93.14831119280068\n",
      "Episode  1 Total reward: -106.72858936330188\n",
      "Episode  2 Total reward: -278.84813655436324\n",
      "Episode  3 Total reward: -255.29521242994235\n",
      "Episode  4 Total reward: -75.47627626906383\n",
      "Episode  5 Total reward: -119.28690319512665\n",
      "Episode  6 Total reward: -109.23092798355069\n",
      "Episode  7 Total reward: -110.9286849688606\n",
      "Episode  8 Total reward: -58.270122836605765\n",
      "Episode  9 Total reward: -117.309109947489\n",
      "Episode  10 Total reward: -80.9860113358867\n",
      "Episode  11 Total reward: -161.93563639768638\n",
      "Episode  12 Total reward: -92.11677934432885\n",
      "Episode  13 Total reward: -101.17197152901662\n",
      "Episode  14 Total reward: -72.56531255707628\n",
      "Episode  15 Total reward: -188.74928800652077\n",
      "Episode  16 Total reward: -238.25874973628675\n",
      "Episode  17 Total reward: -102.99442119134076\n",
      "Episode  18 Total reward: -352.5779216579115\n",
      "Episode  19 Total reward: -262.22273989025075\n",
      "Episode  20 Total reward: -52.00719866022561\n",
      "Episode  21 Total reward: -194.08815984150453\n",
      "Episode  22 Total reward: -67.97411913572307\n",
      "Episode  23 Total reward: -161.66249291512258\n",
      "Episode  24 Total reward: -3.9037259535775064\n",
      "Episode  25 Total reward: -223.63297991701137\n",
      "Episode  26 Total reward: -177.9723430596705\n",
      "Episode  27 Total reward: -114.06966158950009\n",
      "Episode  28 Total reward: -331.31146120713345\n",
      "Episode  29 Total reward: -243.69897926801403\n",
      "Episode  30 Total reward: -213.05632045218226\n",
      "Episode  31 Total reward: -129.4094631435814\n",
      "Episode  32 Total reward: -412.08268319853903\n",
      "Episode  33 Total reward: -86.10184911508281\n",
      "Episode  34 Total reward: -98.95048953261417\n",
      "Episode  35 Total reward: -127.8296504674559\n",
      "Episode  36 Total reward: -104.16822466799488\n",
      "Episode  37 Total reward: -149.83970910240026\n",
      "Episode  38 Total reward: -64.43445146043086\n",
      "Episode  39 Total reward: -111.84599512481819\n",
      "Episode  40 Total reward: -122.62036383018287\n",
      "Episode  41 Total reward: -109.17344614768861\n",
      "Episode  42 Total reward: -453.80688861225065\n",
      "Episode  43 Total reward: -173.74843930392612\n",
      "Episode  44 Total reward: -87.7497746414327\n",
      "Episode  45 Total reward: -130.89033535839525\n",
      "Episode  46 Total reward: -232.75878212877382\n",
      "Episode  47 Total reward: -118.09090688352092\n",
      "Episode  48 Total reward: -98.86633434583572\n",
      "Episode  49 Total reward: -126.86501268348157\n"
     ]
    },
    {
     "data": {
      "image/png": "[encoded data removed]",
      "text/plain": [
       "<Figure size 640x480 with 1 Axes>"
      ]
     },
     "metadata": {},
     "output_type": "display_data"
    },
    {
     "name": "stdout",
     "output_type": "stream",
     "text": [
      "\n",
      "Recompensa de Media: -154.0142269627096 \n",
      "\n"
     ]
    }
   ],
   "source": [
    "# Evaluamos al Generador \n",
    "rewardMean=gan2.evaluate_G()\n",
    "print('\\nRecompensa de Media:', rewardMean, '\\n')"
   ]
  },
  {
   "cell_type": "markdown",
   "metadata": {},
   "source": [
    "## Experimento 3"
   ]
  },
  {
   "cell_type": "markdown",
   "metadata": {},
   "source": [
    "### Construcción de base de datos experta con 3 trayectoria "
   ]
  },
  {
   "cell_type": "code",
   "execution_count": 44,
   "metadata": {},
   "outputs": [
    {
     "name": "stdout",
     "output_type": "stream",
     "text": [
      "\n",
      "\tEstados reales: \n",
      " [[-0.00655632  1.412633   -0.6640952  ...  0.15042743  0.\n",
      "   0.        ]\n",
      " [-0.01301994  1.4137701  -0.65149987 ...  0.1017526   0.\n",
      "   0.        ]\n",
      " [-0.01941118  1.414314   -0.6424104  ...  0.06514421  0.\n",
      "   0.        ]\n",
      " ...\n",
      " [-0.46665245 -0.0082029   0.03071342 ...  0.67170596  1.\n",
      "   1.        ]\n",
      " [-0.4661541  -0.01350838  0.02066027 ...  0.635882    1.\n",
      "   1.        ]\n",
      " [-0.46567154 -0.01838761  0.02184356 ...  0.58443296  1.\n",
      "   1.        ]]\n",
      "\tAcciones reales: \n",
      " [3 3 3 ... 0 3 3]\n",
      "\n",
      "\t Estados siguientes: \n",
      " [[-0.00655632  1.412633   -0.6640952  ...  0.15042743  0.\n",
      "   0.        ]\n",
      " [-0.01301994  1.4137701  -0.65149987 ...  0.1017526   0.\n",
      "   0.        ]\n",
      " [-0.01941118  1.414314   -0.6424104  ...  0.06514421  0.\n",
      "   0.        ]\n",
      " ...\n",
      " [-0.46665245 -0.0082029   0.03071342 ...  0.67170596  1.\n",
      "   1.        ]\n",
      " [-0.4661541  -0.01350838  0.02066027 ...  0.635882    1.\n",
      "   1.        ]\n",
      " [-0.46567154 -0.01838761  0.02184356 ...  0.58443296  1.\n",
      "   1.        ]]\n",
      "\n",
      "\t Recompensas: [   0    0    0 ...   -1   -1 -100]\n"
     ]
    }
   ],
   "source": [
    "expert_observations = np.genfromtxt(\"observations_LunarLander.csv\",delimiter=\"\\t\",dtype=str)\n",
    "expert_actions = np.genfromtxt('actions_LunarLander.csv', dtype=np.int32)\n",
    "expert_next_observations = np.genfromtxt('next_observations_LunarLander.csv',delimiter=\"\\t\",dtype=str)\n",
    "expert_rewards = np.genfromtxt('rewards_LunarLander.csv', dtype=np.int32)\n",
    "expert_num_tray=np.genfromtxt('n_trayectoria_LunarLander.csv', dtype=np.int32)\n",
    "\n",
    "# Reemplazar las comas\n",
    "expert_observations = np.core.defchararray.replace(expert_observations, ',', ' ')\n",
    "\n",
    "# Reemplazar las comas\n",
    "expert_next_observations = np.core.defchararray.replace(expert_next_observations, ',', ' ')\n",
    "\n",
    "# Crear un nuevo array para almacenar los datos convertidos\n",
    "converted_observations = np.genfromtxt(expert_observations, delimiter=' ', dtype=float)\n",
    "# Crear un nuevo array para almacenar los datos convertidos\n",
    "converted_next_observations = np.genfromtxt(expert_observations, delimiter=' ', dtype=float)\n",
    "\n",
    "\n",
    "rewards=np.array(expert_rewards).reshape(-1,1)\n",
    "\n",
    "\n",
    "print(\"\\n\\tEstados reales: \\n\", converted_observations)\n",
    "print(\"\\tAcciones reales: \\n\", expert_actions)\n",
    "print(\"\\n\\t Estados siguientes: \\n\", converted_next_observations)\n",
    "print(\"\\n\\t Recompensas:\" ,expert_rewards)"
   ]
  },
  {
   "cell_type": "code",
   "execution_count": 45,
   "metadata": {},
   "outputs": [
    {
     "name": "stdout",
     "output_type": "stream",
     "text": [
      "1572\n"
     ]
    }
   ],
   "source": [
    "longitud_trayectoria += np.count_nonzero(expert_num_tray == 2)\n",
    "print(longitud_trayectoria)"
   ]
  },
  {
   "cell_type": "code",
   "execution_count": 46,
   "metadata": {},
   "outputs": [],
   "source": [
    "converted_observations=converted_observations[0:longitud_trayectoria]\n",
    "expert_actions=expert_actions[0:longitud_trayectoria]\n",
    "converted_next_observations=converted_next_observations[0:longitud_trayectoria]\n",
    "expert_rewards=expert_rewards[0:longitud_trayectoria]"
   ]
  },
  {
   "cell_type": "code",
   "execution_count": 47,
   "metadata": {},
   "outputs": [],
   "source": [
    "# Construimos el dataset [s,a,s',r] reales y lo dividimos en training y test\n",
    "expert_a_one_hot=np.eye(env.action_space.n)[expert_actions]\n",
    "expert_rewards = expert_rewards.reshape(-1, 1)\n",
    "\n",
    "dataset1=np.concatenate([converted_observations,expert_a_one_hot],axis=1)\n",
    "dataset2=np.concatenate([dataset1,converted_next_observations],axis=1)\n",
    "dataset=np.concatenate([dataset2,expert_rewards],axis=1)\n"
   ]
  },
  {
   "cell_type": "code",
   "execution_count": 48,
   "metadata": {},
   "outputs": [
    {
     "name": "stdout",
     "output_type": "stream",
     "text": [
      "Nº de (ESTADOS,ACCIONES) en el conjunto de entrenamiento: 1257\n",
      "Nº de (ESTADOS,ACCIONES) en el conjunto de prueba: 315\n"
     ]
    }
   ],
   "source": [
    "#############################################################################\n",
    "# DIVISIÓN TRAIN Y TEST\n",
    "##############################################################################\n",
    "\n",
    "# Divide los datos en conjuntos de entrenamiento y prueba\n",
    "X_train, X_test = train_test_split(dataset, test_size=0.2, random_state=0)\n",
    "\n",
    "\n",
    "#Imprime el número de elementos en el conjuntos de entrenamiento y prueba\n",
    "print('Nº de (ESTADOS,ACCIONES) en el conjunto de entrenamiento:', len(X_train))\n",
    "print('Nº de (ESTADOS,ACCIONES) en el conjunto de prueba:', len(X_test))"
   ]
  },
  {
   "cell_type": "code",
   "execution_count": 49,
   "metadata": {},
   "outputs": [],
   "source": [
    "env= gym.make('LunarLander-v2')\n",
    "obs,_= env.reset()\n",
    "\n",
    "# Generador\n",
    "generator=Policy_net( 'policy', env, obs)\n",
    "\n",
    "# Generamos [s,a, s', r] falsas y las políticas theta_i y theta_i+1\n",
    "observations, actions, next_observations, rewards, Old_Policy, Policy=generator.generate_fakes()\n",
    "\n",
    "# Discriminador\n",
    "discriminator=Discriminator(env, discriminator_net, converted_observations, expert_actions, converted_next_observations, expert_rewards, observations, actions, next_observations, rewards)"
   ]
  },
  {
   "cell_type": "markdown",
   "metadata": {},
   "source": [
    "### Definición de GAIL"
   ]
  },
  {
   "cell_type": "code",
   "execution_count": 50,
   "metadata": {},
   "outputs": [],
   "source": [
    "gan3=GAN(discriminator=discriminator,generator=generator)"
   ]
  },
  {
   "cell_type": "markdown",
   "metadata": {},
   "source": [
    "### Compilación de GAIL"
   ]
  },
  {
   "cell_type": "code",
   "execution_count": 51,
   "metadata": {},
   "outputs": [],
   "source": [
    "tf.config.run_functions_eagerly(True)\n",
    "gan3.compile(\n",
    "    d_optimizer=tf.keras.optimizers.Adam(learning_rate=LEARNING_RATE),\n",
    "    loss_fn_D=loss_fn_D\n",
    ")"
   ]
  },
  {
   "cell_type": "markdown",
   "metadata": {},
   "source": [
    "### Entrenamiento de GAIL"
   ]
  },
  {
   "cell_type": "code",
   "execution_count": 52,
   "metadata": {},
   "outputs": [
    {
     "name": "stdout",
     "output_type": "stream",
     "text": [
      "315/315 [==============================] - 6548s 21s/step - d_loss: 1.9054 - g_loss: 2.8731\n"
     ]
    }
   ],
   "source": [
    "# Deshabilitar los mensajes de información de TensorFlow\n",
    "os.environ['TF_CPP_MIN_LOG_LEVEL'] = '3'\n",
    "\n",
    "# Deshabilitar los mensajes de información de OpenAI Gym\n",
    "gym.logger.set_level(40)\n",
    "\n",
    "BATCH_SIZE= round(len(X_train)/300)\n",
    "\n",
    "history=gan3.fit(X_train,\n",
    "    epochs=EPOCHS, batch_size=BATCH_SIZE)\n"
   ]
  },
  {
   "cell_type": "markdown",
   "metadata": {},
   "source": [
    "### Evaluación de GAIL"
   ]
  },
  {
   "cell_type": "code",
   "execution_count": 53,
   "metadata": {},
   "outputs": [
    {
     "name": "stdout",
     "output_type": "stream",
     "text": [
      "1/1 [==============================] - 0s 20ms/step - loss: 6.0381e-07 - accuracy: 0.0000e+00\n",
      "1/1 [==============================] - 0s 21ms/step - loss: 0.0000e+00 - accuracy: 0.0000e+00\n",
      ">Loss real: \n",
      "6.038071092007158e-07\n",
      ">Loss fake: \n",
      "0.0\n"
     ]
    }
   ],
   "source": [
    "# Evaluamos el Discriminador de GAIL en el TEST\n",
    "gan3.evaluate_D(X_test)\n"
   ]
  },
  {
   "cell_type": "code",
   "execution_count": 54,
   "metadata": {},
   "outputs": [
    {
     "name": "stdout",
     "output_type": "stream",
     "text": [
      "Episode  0 Total reward: -99.49196237078696\n",
      "Episode  1 Total reward: -141.90001428620803\n",
      "Episode  2 Total reward: -116.72304302887149\n",
      "Episode  3 Total reward: -79.14846765259153\n",
      "Episode  4 Total reward: -111.6250167888399\n",
      "Episode  5 Total reward: -131.78966992766175\n",
      "Episode  6 Total reward: -93.75999555535829\n",
      "Episode  7 Total reward: -208.76982604151874\n",
      "Episode  8 Total reward: -226.91689188379414\n",
      "Episode  9 Total reward: -19.161670572131783\n",
      "Episode  10 Total reward: -108.99843470561152\n",
      "Episode  11 Total reward: -220.15802979689505\n",
      "Episode  12 Total reward: -151.64348858841493\n",
      "Episode  13 Total reward: -184.95484107208765\n",
      "Episode  14 Total reward: -169.35731499658203\n",
      "Episode  15 Total reward: -78.0545078340712\n",
      "Episode  16 Total reward: -91.79494942223545\n",
      "Episode  17 Total reward: -146.1617804675975\n",
      "Episode  18 Total reward: -287.4468186495753\n",
      "Episode  19 Total reward: -156.5815138245521\n",
      "Episode  20 Total reward: -397.51427751321205\n",
      "Episode  21 Total reward: -258.69412679909544\n",
      "Episode  22 Total reward: -49.952970696321714\n",
      "Episode  23 Total reward: -241.86438603051258\n",
      "Episode  24 Total reward: -81.91784675286465\n",
      "Episode  25 Total reward: -196.98550432627854\n",
      "Episode  26 Total reward: -113.27243237783333\n",
      "Episode  27 Total reward: -247.55510886293231\n",
      "Episode  28 Total reward: -72.76573512320545\n",
      "Episode  29 Total reward: -174.51407448043048\n",
      "Episode  30 Total reward: -131.26976045168183\n",
      "Episode  31 Total reward: -122.36489332131136\n",
      "Episode  32 Total reward: -336.91812355297253\n",
      "Episode  33 Total reward: -332.93229653886334\n",
      "Episode  34 Total reward: -145.71362479713127\n",
      "Episode  35 Total reward: -142.23596096530264\n",
      "Episode  36 Total reward: -144.8735826754919\n",
      "Episode  37 Total reward: -125.64761216471109\n",
      "Episode  38 Total reward: -212.6899535381704\n",
      "Episode  39 Total reward: -254.56207232347114\n",
      "Episode  40 Total reward: -106.88454497927296\n",
      "Episode  41 Total reward: -169.21429654491013\n",
      "Episode  42 Total reward: -67.43924024931599\n",
      "Episode  43 Total reward: -58.977325067163136\n",
      "Episode  44 Total reward: -98.44204434376589\n",
      "Episode  45 Total reward: -98.38846741928347\n",
      "Episode  46 Total reward: -146.9422016617219\n",
      "Episode  47 Total reward: -111.9742147364011\n",
      "Episode  48 Total reward: -167.1420429497603\n",
      "Episode  49 Total reward: -146.17609099802002\n"
     ]
    },
    {
     "data": {
      "image/png": "[encoded data removed]",
      "text/plain": [
       "<Figure size 640x480 with 1 Axes>"
      ]
     },
     "metadata": {},
     "output_type": "display_data"
    },
    {
     "name": "stdout",
     "output_type": "stream",
     "text": [
      "\n",
      "Recompensa de Media: -155.60526099413588 \n",
      "\n"
     ]
    }
   ],
   "source": [
    "# Evaluamos al Generador \n",
    "rewardMean=gan3.evaluate_G()\n",
    "print('\\nRecompensa de Media:', rewardMean, '\\n')"
   ]
  },
  {
   "cell_type": "markdown",
   "metadata": {},
   "source": [
    "## Experimento 4"
   ]
  },
  {
   "cell_type": "markdown",
   "metadata": {},
   "source": [
    "### Construcción de base de datos experta con 4 trayectoria "
   ]
  },
  {
   "cell_type": "code",
   "execution_count": 55,
   "metadata": {},
   "outputs": [
    {
     "name": "stdout",
     "output_type": "stream",
     "text": [
      "\n",
      "\tEstados reales: \n",
      " [[-0.00655632  1.412633   -0.6640952  ...  0.15042743  0.\n",
      "   0.        ]\n",
      " [-0.01301994  1.4137701  -0.65149987 ...  0.1017526   0.\n",
      "   0.        ]\n",
      " [-0.01941118  1.414314   -0.6424104  ...  0.06514421  0.\n",
      "   0.        ]\n",
      " ...\n",
      " [-0.46665245 -0.0082029   0.03071342 ...  0.67170596  1.\n",
      "   1.        ]\n",
      " [-0.4661541  -0.01350838  0.02066027 ...  0.635882    1.\n",
      "   1.        ]\n",
      " [-0.46567154 -0.01838761  0.02184356 ...  0.58443296  1.\n",
      "   1.        ]]\n",
      "\tAcciones reales: \n",
      " [3 3 3 ... 0 3 3]\n",
      "\n",
      "\t Estados siguientes: \n",
      " [[-0.00655632  1.412633   -0.6640952  ...  0.15042743  0.\n",
      "   0.        ]\n",
      " [-0.01301994  1.4137701  -0.65149987 ...  0.1017526   0.\n",
      "   0.        ]\n",
      " [-0.01941118  1.414314   -0.6424104  ...  0.06514421  0.\n",
      "   0.        ]\n",
      " ...\n",
      " [-0.46665245 -0.0082029   0.03071342 ...  0.67170596  1.\n",
      "   1.        ]\n",
      " [-0.4661541  -0.01350838  0.02066027 ...  0.635882    1.\n",
      "   1.        ]\n",
      " [-0.46567154 -0.01838761  0.02184356 ...  0.58443296  1.\n",
      "   1.        ]]\n",
      "\n",
      "\t Recompensas: [   0    0    0 ...   -1   -1 -100]\n"
     ]
    }
   ],
   "source": [
    "expert_observations = np.genfromtxt(\"observations_LunarLander.csv\",delimiter=\"\\t\",dtype=str)\n",
    "expert_actions = np.genfromtxt('actions_LunarLander.csv', dtype=np.int32)\n",
    "expert_next_observations = np.genfromtxt('next_observations_LunarLander.csv',delimiter=\"\\t\",dtype=str)\n",
    "expert_rewards = np.genfromtxt('rewards_LunarLander.csv', dtype=np.int32)\n",
    "expert_num_tray=np.genfromtxt('n_trayectoria_LunarLander.csv', dtype=np.int32)\n",
    "\n",
    "# Reemplazar las comas\n",
    "expert_observations = np.core.defchararray.replace(expert_observations, ',', ' ')\n",
    "\n",
    "# Reemplazar las comas\n",
    "expert_next_observations = np.core.defchararray.replace(expert_next_observations, ',', ' ')\n",
    "\n",
    "# Crear un nuevo array para almacenar los datos convertidos\n",
    "converted_observations = np.genfromtxt(expert_observations, delimiter=' ', dtype=float)\n",
    "# Crear un nuevo array para almacenar los datos convertidos\n",
    "converted_next_observations = np.genfromtxt(expert_observations, delimiter=' ', dtype=float)\n",
    "\n",
    "\n",
    "rewards=np.array(expert_rewards).reshape(-1,1)\n",
    "\n",
    "\n",
    "print(\"\\n\\tEstados reales: \\n\", converted_observations)\n",
    "print(\"\\tAcciones reales: \\n\", expert_actions)\n",
    "print(\"\\n\\t Estados siguientes: \\n\", converted_next_observations)\n",
    "print(\"\\n\\t Recompensas:\" ,expert_rewards)"
   ]
  },
  {
   "cell_type": "code",
   "execution_count": 56,
   "metadata": {},
   "outputs": [
    {
     "name": "stdout",
     "output_type": "stream",
     "text": [
      "2168\n"
     ]
    }
   ],
   "source": [
    "longitud_trayectoria += np.count_nonzero(expert_num_tray == 3)\n",
    "print(longitud_trayectoria)"
   ]
  },
  {
   "cell_type": "code",
   "execution_count": 57,
   "metadata": {},
   "outputs": [],
   "source": [
    "converted_observations=converted_observations[0:longitud_trayectoria]\n",
    "expert_actions=expert_actions[0:longitud_trayectoria]\n",
    "converted_next_observations=converted_next_observations[0:longitud_trayectoria]\n",
    "expert_rewards=expert_rewards[0:longitud_trayectoria]"
   ]
  },
  {
   "cell_type": "code",
   "execution_count": 58,
   "metadata": {},
   "outputs": [],
   "source": [
    "# Construimos el dataset [s,a,s',r] reales y lo dividimos en training y test\n",
    "expert_a_one_hot=np.eye(env.action_space.n)[expert_actions]\n",
    "expert_rewards = expert_rewards.reshape(-1, 1)\n",
    "\n",
    "dataset1=np.concatenate([converted_observations,expert_a_one_hot],axis=1)\n",
    "dataset2=np.concatenate([dataset1,converted_next_observations],axis=1)\n",
    "dataset=np.concatenate([dataset2,expert_rewards],axis=1)\n"
   ]
  },
  {
   "cell_type": "code",
   "execution_count": 59,
   "metadata": {},
   "outputs": [
    {
     "name": "stdout",
     "output_type": "stream",
     "text": [
      "Nº de (ESTADOS,ACCIONES) en el conjunto de entrenamiento: 1734\n",
      "Nº de (ESTADOS,ACCIONES) en el conjunto de prueba: 434\n"
     ]
    }
   ],
   "source": [
    "#############################################################################\n",
    "# DIVISIÓN TRAIN Y TEST\n",
    "##############################################################################\n",
    "\n",
    "# Divide los datos en conjuntos de entrenamiento y prueba\n",
    "X_train, X_test = train_test_split(dataset, test_size=0.2, random_state=0)\n",
    "\n",
    "\n",
    "#Imprime el número de elementos en el conjuntos de entrenamiento y prueba\n",
    "print('Nº de (ESTADOS,ACCIONES) en el conjunto de entrenamiento:', len(X_train))\n",
    "print('Nº de (ESTADOS,ACCIONES) en el conjunto de prueba:', len(X_test))"
   ]
  },
  {
   "cell_type": "code",
   "execution_count": 60,
   "metadata": {},
   "outputs": [],
   "source": [
    "env= gym.make('LunarLander-v2')\n",
    "obs,_= env.reset()\n",
    "\n",
    "# Generador\n",
    "generator=Policy_net( 'policy', env, obs)\n",
    "\n",
    "# Generamos [s,a, s', r] falsas y las políticas theta_i y theta_i+1\n",
    "observations, actions, next_observations, rewards, Old_Policy, Policy=generator.generate_fakes()\n",
    "\n",
    "# Discriminador\n",
    "discriminator=Discriminator(env, discriminator_net, converted_observations, expert_actions, converted_next_observations, expert_rewards, observations, actions, next_observations, rewards)"
   ]
  },
  {
   "cell_type": "markdown",
   "metadata": {},
   "source": [
    "### Definición de GAIL"
   ]
  },
  {
   "cell_type": "code",
   "execution_count": 61,
   "metadata": {},
   "outputs": [],
   "source": [
    "gan4=GAN(discriminator=discriminator,generator=generator)"
   ]
  },
  {
   "cell_type": "markdown",
   "metadata": {},
   "source": [
    "### Compilación de GAIL"
   ]
  },
  {
   "cell_type": "code",
   "execution_count": 62,
   "metadata": {},
   "outputs": [],
   "source": [
    "tf.config.run_functions_eagerly(True)\n",
    "gan4.compile(\n",
    "    d_optimizer=tf.keras.optimizers.Adam(learning_rate=LEARNING_RATE),\n",
    "    loss_fn_D=loss_fn_D\n",
    ")"
   ]
  },
  {
   "cell_type": "markdown",
   "metadata": {},
   "source": [
    "### Entrenamiento de GAIL"
   ]
  },
  {
   "cell_type": "code",
   "execution_count": 63,
   "metadata": {},
   "outputs": [
    {
     "name": "stdout",
     "output_type": "stream",
     "text": [
      "289/289 [==============================] - 5913s 20s/step - d_loss: 1.8978 - g_loss: 2.2194\n"
     ]
    }
   ],
   "source": [
    "# Deshabilitar los mensajes de información de TensorFlow\n",
    "os.environ['TF_CPP_MIN_LOG_LEVEL'] = '3'\n",
    "\n",
    "# Deshabilitar los mensajes de información de OpenAI Gym\n",
    "gym.logger.set_level(40)\n",
    "\n",
    "BATCH_SIZE= round(len(X_train)/300)\n",
    "\n",
    "history=gan4.fit(X_train,\n",
    "    epochs=EPOCHS, batch_size=BATCH_SIZE)\n"
   ]
  },
  {
   "cell_type": "markdown",
   "metadata": {},
   "source": [
    "### Evaluación de GAIL"
   ]
  },
  {
   "cell_type": "code",
   "execution_count": 64,
   "metadata": {},
   "outputs": [
    {
     "name": "stdout",
     "output_type": "stream",
     "text": [
      "1/1 [==============================] - 0s 20ms/step - loss: 1.2223e-08 - accuracy: 0.0000e+00\n",
      "1/1 [==============================] - 0s 21ms/step - loss: 0.0000e+00 - accuracy: 0.0000e+00\n",
      ">Loss real: \n",
      "1.2223074108419496e-08\n",
      ">Loss fake: \n",
      "0.0\n"
     ]
    }
   ],
   "source": [
    "# Evaluamos el Discriminador de GAIL en el TEST\n",
    "gan4.evaluate_D(X_test)\n"
   ]
  },
  {
   "cell_type": "code",
   "execution_count": 65,
   "metadata": {},
   "outputs": [
    {
     "name": "stdout",
     "output_type": "stream",
     "text": [
      "Episode  0 Total reward: -23.93869441759371\n",
      "Episode  1 Total reward: -359.04934663205916\n",
      "Episode  2 Total reward: -197.57423393413342\n",
      "Episode  3 Total reward: -222.23217185638103\n",
      "Episode  4 Total reward: -97.5962207158627\n",
      "Episode  5 Total reward: -108.76769570661469\n",
      "Episode  6 Total reward: -107.76657273018517\n",
      "Episode  7 Total reward: -8.616130933047216\n",
      "Episode  8 Total reward: -226.32146743227534\n",
      "Episode  9 Total reward: -162.27151189570034\n",
      "Episode  10 Total reward: -402.8855811640126\n",
      "Episode  11 Total reward: -115.8951341370431\n",
      "Episode  12 Total reward: -260.90368177238815\n",
      "Episode  13 Total reward: -135.7135130241795\n",
      "Episode  14 Total reward: -392.20139310068726\n",
      "Episode  15 Total reward: -143.07127167940874\n",
      "Episode  16 Total reward: -137.38865707499633\n",
      "Episode  17 Total reward: -171.09093475990073\n",
      "Episode  18 Total reward: -93.17785313435007\n",
      "Episode  19 Total reward: -62.15609865067675\n",
      "Episode  20 Total reward: -141.24381275065113\n",
      "Episode  21 Total reward: -160.03917685372315\n",
      "Episode  22 Total reward: -171.2566626918266\n",
      "Episode  23 Total reward: -214.43040253886033\n",
      "Episode  24 Total reward: -182.79609564352768\n",
      "Episode  25 Total reward: -149.55263157679718\n",
      "Episode  26 Total reward: -253.83343064106222\n",
      "Episode  27 Total reward: -320.48402632580814\n",
      "Episode  28 Total reward: -91.66736891835018\n",
      "Episode  29 Total reward: -122.45129076521359\n",
      "Episode  30 Total reward: -432.10599265669873\n",
      "Episode  31 Total reward: -209.12354387597327\n",
      "Episode  32 Total reward: -56.958952336827785\n",
      "Episode  33 Total reward: -472.2231951092649\n",
      "Episode  34 Total reward: -121.18070561619508\n",
      "Episode  35 Total reward: -284.8231897084332\n",
      "Episode  36 Total reward: -90.98419613270411\n",
      "Episode  37 Total reward: -237.88304593246582\n",
      "Episode  38 Total reward: -77.96849808730965\n",
      "Episode  39 Total reward: -434.8753278953161\n",
      "Episode  40 Total reward: -239.8514570859329\n",
      "Episode  41 Total reward: -65.38286576471765\n",
      "Episode  42 Total reward: -101.6623971369452\n",
      "Episode  43 Total reward: -367.63567699534764\n",
      "Episode  44 Total reward: -173.14800917963447\n",
      "Episode  45 Total reward: -464.79233311742837\n",
      "Episode  46 Total reward: -112.2828653023599\n",
      "Episode  47 Total reward: -167.57135736817173\n",
      "Episode  48 Total reward: -267.4846663532677\n",
      "Episode  49 Total reward: -478.0516826770726\n"
     ]
    },
    {
     "data": {
      "image/png": "[encoded data removed]",
      "text/plain": [
       "<Figure size 640x480 with 1 Axes>"
      ]
     },
     "metadata": {},
     "output_type": "display_data"
    },
    {
     "name": "stdout",
     "output_type": "stream",
     "text": [
      "\n",
      "Recompensa de Media: -201.84726043578766 \n",
      "\n"
     ]
    }
   ],
   "source": [
    "# Evaluamos al Generador \n",
    "rewardMean=gan4.evaluate_G()\n",
    "print('\\nRecompensa de Media:', rewardMean, '\\n')"
   ]
  },
  {
   "cell_type": "markdown",
   "metadata": {},
   "source": [
    "## Experimento 5"
   ]
  },
  {
   "cell_type": "markdown",
   "metadata": {},
   "source": [
    "### Construcción de base de datos experta con 2 trayectoria "
   ]
  },
  {
   "cell_type": "code",
   "execution_count": 66,
   "metadata": {},
   "outputs": [
    {
     "name": "stdout",
     "output_type": "stream",
     "text": [
      "\n",
      "\tEstados reales: \n",
      " [[-0.00655632  1.412633   -0.6640952  ...  0.15042743  0.\n",
      "   0.        ]\n",
      " [-0.01301994  1.4137701  -0.65149987 ...  0.1017526   0.\n",
      "   0.        ]\n",
      " [-0.01941118  1.414314   -0.6424104  ...  0.06514421  0.\n",
      "   0.        ]\n",
      " ...\n",
      " [-0.46665245 -0.0082029   0.03071342 ...  0.67170596  1.\n",
      "   1.        ]\n",
      " [-0.4661541  -0.01350838  0.02066027 ...  0.635882    1.\n",
      "   1.        ]\n",
      " [-0.46567154 -0.01838761  0.02184356 ...  0.58443296  1.\n",
      "   1.        ]]\n",
      "\tAcciones reales: \n",
      " [3 3 3 ... 0 3 3]\n",
      "\n",
      "\t Estados siguientes: \n",
      " [[-0.00655632  1.412633   -0.6640952  ...  0.15042743  0.\n",
      "   0.        ]\n",
      " [-0.01301994  1.4137701  -0.65149987 ...  0.1017526   0.\n",
      "   0.        ]\n",
      " [-0.01941118  1.414314   -0.6424104  ...  0.06514421  0.\n",
      "   0.        ]\n",
      " ...\n",
      " [-0.46665245 -0.0082029   0.03071342 ...  0.67170596  1.\n",
      "   1.        ]\n",
      " [-0.4661541  -0.01350838  0.02066027 ...  0.635882    1.\n",
      "   1.        ]\n",
      " [-0.46567154 -0.01838761  0.02184356 ...  0.58443296  1.\n",
      "   1.        ]]\n",
      "\n",
      "\t Recompensas: [   0    0    0 ...   -1   -1 -100]\n"
     ]
    }
   ],
   "source": [
    "expert_observations = np.genfromtxt(\"observations_LunarLander.csv\",delimiter=\"\\t\",dtype=str)\n",
    "expert_actions = np.genfromtxt('actions_LunarLander.csv', dtype=np.int32)\n",
    "expert_next_observations = np.genfromtxt('next_observations_LunarLander.csv',delimiter=\"\\t\",dtype=str)\n",
    "expert_rewards = np.genfromtxt('rewards_LunarLander.csv', dtype=np.int32)\n",
    "expert_num_tray=np.genfromtxt('n_trayectoria_LunarLander.csv', dtype=np.int32)\n",
    "\n",
    "# Reemplazar las comas\n",
    "expert_observations = np.core.defchararray.replace(expert_observations, ',', ' ')\n",
    "\n",
    "# Reemplazar las comas\n",
    "expert_next_observations = np.core.defchararray.replace(expert_next_observations, ',', ' ')\n",
    "\n",
    "# Crear un nuevo array para almacenar los datos convertidos\n",
    "converted_observations = np.genfromtxt(expert_observations, delimiter=' ', dtype=float)\n",
    "# Crear un nuevo array para almacenar los datos convertidos\n",
    "converted_next_observations = np.genfromtxt(expert_observations, delimiter=' ', dtype=float)\n",
    "\n",
    "\n",
    "rewards=np.array(expert_rewards).reshape(-1,1)\n",
    "\n",
    "\n",
    "print(\"\\n\\tEstados reales: \\n\", converted_observations)\n",
    "print(\"\\tAcciones reales: \\n\", expert_actions)\n",
    "print(\"\\n\\t Estados siguientes: \\n\", converted_next_observations)\n",
    "print(\"\\n\\t Recompensas:\" ,expert_rewards)"
   ]
  },
  {
   "cell_type": "code",
   "execution_count": 67,
   "metadata": {},
   "outputs": [
    {
     "name": "stdout",
     "output_type": "stream",
     "text": [
      "3158\n"
     ]
    }
   ],
   "source": [
    "longitud_trayectoria += np.count_nonzero(expert_num_tray == 4)\n",
    "print(longitud_trayectoria)"
   ]
  },
  {
   "cell_type": "code",
   "execution_count": 68,
   "metadata": {},
   "outputs": [],
   "source": [
    "converted_observations=converted_observations[0:longitud_trayectoria]\n",
    "expert_actions=expert_actions[0:longitud_trayectoria]\n",
    "converted_next_observations=converted_next_observations[0:longitud_trayectoria]\n",
    "expert_rewards=expert_rewards[0:longitud_trayectoria]"
   ]
  },
  {
   "cell_type": "code",
   "execution_count": 69,
   "metadata": {},
   "outputs": [],
   "source": [
    "# Construimos el dataset [s,a,s',r] reales y lo dividimos en training y test\n",
    "expert_a_one_hot=np.eye(env.action_space.n)[expert_actions]\n",
    "expert_rewards = expert_rewards.reshape(-1, 1)\n",
    "\n",
    "dataset1=np.concatenate([converted_observations,expert_a_one_hot],axis=1)\n",
    "dataset2=np.concatenate([dataset1,converted_next_observations],axis=1)\n",
    "dataset=np.concatenate([dataset2,expert_rewards],axis=1)\n"
   ]
  },
  {
   "cell_type": "code",
   "execution_count": 70,
   "metadata": {},
   "outputs": [
    {
     "name": "stdout",
     "output_type": "stream",
     "text": [
      "Nº de (ESTADOS,ACCIONES) en el conjunto de entrenamiento: 2526\n",
      "Nº de (ESTADOS,ACCIONES) en el conjunto de prueba: 632\n"
     ]
    }
   ],
   "source": [
    "#############################################################################\n",
    "# DIVISIÓN TRAIN Y TEST\n",
    "##############################################################################\n",
    "\n",
    "# Divide los datos en conjuntos de entrenamiento y prueba\n",
    "X_train, X_test = train_test_split(dataset, test_size=0.2, random_state=0)\n",
    "\n",
    "\n",
    "#Imprime el número de elementos en el conjuntos de entrenamiento y prueba\n",
    "print('Nº de (ESTADOS,ACCIONES) en el conjunto de entrenamiento:', len(X_train))\n",
    "print('Nº de (ESTADOS,ACCIONES) en el conjunto de prueba:', len(X_test))"
   ]
  },
  {
   "cell_type": "code",
   "execution_count": 71,
   "metadata": {},
   "outputs": [],
   "source": [
    "env= gym.make('LunarLander-v2')\n",
    "obs,_= env.reset()\n",
    "\n",
    "# Generador\n",
    "generator=Policy_net( 'policy', env, obs)\n",
    "\n",
    "# Generamos [s,a, s', r] falsas y las políticas theta_i y theta_i+1\n",
    "observations, actions, next_observations, rewards, Old_Policy, Policy=generator.generate_fakes()\n",
    "\n",
    "# Discriminador\n",
    "discriminator=Discriminator(env, discriminator_net, converted_observations, expert_actions, converted_next_observations, expert_rewards, observations, actions, next_observations, rewards)"
   ]
  },
  {
   "cell_type": "markdown",
   "metadata": {},
   "source": [
    "### Definición de GAIL"
   ]
  },
  {
   "cell_type": "code",
   "execution_count": 72,
   "metadata": {},
   "outputs": [],
   "source": [
    "gan5=GAN(discriminator=discriminator,generator=generator)"
   ]
  },
  {
   "cell_type": "markdown",
   "metadata": {},
   "source": [
    "### Compilación de GAIL"
   ]
  },
  {
   "cell_type": "code",
   "execution_count": 73,
   "metadata": {},
   "outputs": [],
   "source": [
    "tf.config.run_functions_eagerly(True)\n",
    "gan5.compile(\n",
    "    d_optimizer=tf.keras.optimizers.Adam(learning_rate=LEARNING_RATE),\n",
    "    loss_fn_D=loss_fn_D\n",
    ")"
   ]
  },
  {
   "cell_type": "markdown",
   "metadata": {},
   "source": [
    "### Entrenamiento de GAIL"
   ]
  },
  {
   "cell_type": "code",
   "execution_count": 74,
   "metadata": {},
   "outputs": [
    {
     "name": "stdout",
     "output_type": "stream",
     "text": [
      "316/316 [==============================] - 6472s 20s/step - d_loss: 1.9002 - g_loss: 2.4204\n"
     ]
    }
   ],
   "source": [
    "# Deshabilitar los mensajes de información de TensorFlow\n",
    "os.environ['TF_CPP_MIN_LOG_LEVEL'] = '3'\n",
    "\n",
    "# Deshabilitar los mensajes de información de OpenAI Gym\n",
    "gym.logger.set_level(40)\n",
    "\n",
    "BATCH_SIZE= round(len(X_train)/300)\n",
    "\n",
    "history=gan5.fit(X_train,\n",
    "    epochs=EPOCHS, batch_size=BATCH_SIZE)\n"
   ]
  },
  {
   "cell_type": "markdown",
   "metadata": {},
   "source": [
    "### Evaluación de GAIL"
   ]
  },
  {
   "cell_type": "code",
   "execution_count": 75,
   "metadata": {},
   "outputs": [
    {
     "name": "stdout",
     "output_type": "stream",
     "text": [
      "1/1 [==============================] - 0s 21ms/step - loss: 2.8293e-09 - accuracy: 0.0000e+00\n",
      "1/1 [==============================] - 0s 19ms/step - loss: 0.0000e+00 - accuracy: 0.0000e+00\n",
      ">Loss real: \n",
      "2.8293349885188945e-09\n",
      ">Loss fake: \n",
      "0.0\n"
     ]
    }
   ],
   "source": [
    "# Evaluamos el Discriminador de GAIL en el TEST\n",
    "gan5.evaluate_D(X_test)\n"
   ]
  },
  {
   "cell_type": "code",
   "execution_count": 76,
   "metadata": {},
   "outputs": [
    {
     "name": "stdout",
     "output_type": "stream",
     "text": [
      "Episode  0 Total reward: -171.423767033876\n",
      "Episode  1 Total reward: -228.53443927161845\n",
      "Episode  2 Total reward: -333.0128657510836\n",
      "Episode  3 Total reward: -77.18597437612044\n",
      "Episode  4 Total reward: -151.7730637524791\n",
      "Episode  5 Total reward: -109.75458357519962\n",
      "Episode  6 Total reward: -111.73552535366375\n",
      "Episode  7 Total reward: -106.44103221223385\n",
      "Episode  8 Total reward: -101.77824990473407\n",
      "Episode  9 Total reward: -206.23835078000735\n",
      "Episode  10 Total reward: -147.5329603014613\n",
      "Episode  11 Total reward: -418.3755946097829\n",
      "Episode  12 Total reward: -414.53031962779903\n",
      "Episode  13 Total reward: -275.95114021424024\n",
      "Episode  14 Total reward: -167.65446806185423\n",
      "Episode  15 Total reward: -150.1072373756763\n",
      "Episode  16 Total reward: -255.43534876323793\n",
      "Episode  17 Total reward: -165.32198542186194\n",
      "Episode  18 Total reward: -287.63512480998827\n",
      "Episode  19 Total reward: -265.8927006405074\n",
      "Episode  20 Total reward: -126.80617660134689\n",
      "Episode  21 Total reward: -101.29724928152001\n",
      "Episode  22 Total reward: -88.3972419307128\n",
      "Episode  23 Total reward: 46.90727755382679\n",
      "Episode  24 Total reward: -51.71526371592083\n",
      "Episode  25 Total reward: -123.2757062639235\n",
      "Episode  26 Total reward: -85.66636639900644\n",
      "Episode  27 Total reward: -93.40949227211354\n",
      "Episode  28 Total reward: -94.49813018713687\n",
      "Episode  29 Total reward: -222.43744581574046\n",
      "Episode  30 Total reward: -258.9677867878871\n",
      "Episode  31 Total reward: -52.05895586238819\n",
      "Episode  32 Total reward: -105.9437428588495\n",
      "Episode  33 Total reward: -120.82677230690751\n",
      "Episode  34 Total reward: -164.47445394367563\n",
      "Episode  35 Total reward: -35.53016069469301\n",
      "Episode  36 Total reward: -121.46944139168643\n",
      "Episode  37 Total reward: -103.24753483775527\n",
      "Episode  38 Total reward: -121.90824918886469\n",
      "Episode  39 Total reward: -96.80059883620676\n",
      "Episode  40 Total reward: -298.5085156196854\n",
      "Episode  41 Total reward: -422.0152355997277\n",
      "Episode  42 Total reward: -94.37133866602855\n",
      "Episode  43 Total reward: -130.48109717726084\n",
      "Episode  44 Total reward: -70.99638020540691\n",
      "Episode  45 Total reward: -314.7905939131\n",
      "Episode  46 Total reward: -282.2148651377313\n",
      "Episode  47 Total reward: -235.50367961449834\n",
      "Episode  48 Total reward: -205.69960655474506\n",
      "Episode  49 Total reward: -60.39891158247259\n"
     ]
    },
    {
     "data": {
      "image/png": "[encoded data removed]",
      "text/plain": [
       "<Figure size 640x480 with 1 Axes>"
      ]
     },
     "metadata": {},
     "output_type": "display_data"
    },
    {
     "name": "stdout",
     "output_type": "stream",
     "text": [
      "\n",
      "Recompensa de Media: -167.6623689506118 \n",
      "\n"
     ]
    }
   ],
   "source": [
    "# Evaluamos al Generador \n",
    "rewardMean=gan5.evaluate_G()\n",
    "print('\\nRecompensa de Media:', rewardMean, '\\n')"
   ]
  },
  {
   "cell_type": "markdown",
   "metadata": {},
   "source": [
    "## Experimento 6"
   ]
  },
  {
   "cell_type": "markdown",
   "metadata": {},
   "source": [
    "### Construcción de base de datos experta con 6 trayectoria "
   ]
  },
  {
   "cell_type": "code",
   "execution_count": 77,
   "metadata": {},
   "outputs": [
    {
     "name": "stdout",
     "output_type": "stream",
     "text": [
      "\n",
      "\tEstados reales: \n",
      " [[-0.00655632  1.412633   -0.6640952  ...  0.15042743  0.\n",
      "   0.        ]\n",
      " [-0.01301994  1.4137701  -0.65149987 ...  0.1017526   0.\n",
      "   0.        ]\n",
      " [-0.01941118  1.414314   -0.6424104  ...  0.06514421  0.\n",
      "   0.        ]\n",
      " ...\n",
      " [-0.46665245 -0.0082029   0.03071342 ...  0.67170596  1.\n",
      "   1.        ]\n",
      " [-0.4661541  -0.01350838  0.02066027 ...  0.635882    1.\n",
      "   1.        ]\n",
      " [-0.46567154 -0.01838761  0.02184356 ...  0.58443296  1.\n",
      "   1.        ]]\n",
      "\tAcciones reales: \n",
      " [3 3 3 ... 0 3 3]\n",
      "\n",
      "\t Estados siguientes: \n",
      " [[-0.00655632  1.412633   -0.6640952  ...  0.15042743  0.\n",
      "   0.        ]\n",
      " [-0.01301994  1.4137701  -0.65149987 ...  0.1017526   0.\n",
      "   0.        ]\n",
      " [-0.01941118  1.414314   -0.6424104  ...  0.06514421  0.\n",
      "   0.        ]\n",
      " ...\n",
      " [-0.46665245 -0.0082029   0.03071342 ...  0.67170596  1.\n",
      "   1.        ]\n",
      " [-0.4661541  -0.01350838  0.02066027 ...  0.635882    1.\n",
      "   1.        ]\n",
      " [-0.46567154 -0.01838761  0.02184356 ...  0.58443296  1.\n",
      "   1.        ]]\n",
      "\n",
      "\t Recompensas: [   0    0    0 ...   -1   -1 -100]\n"
     ]
    }
   ],
   "source": [
    "expert_observations = np.genfromtxt(\"observations_LunarLander.csv\",delimiter=\"\\t\",dtype=str)\n",
    "expert_actions = np.genfromtxt('actions_LunarLander.csv', dtype=np.int32)\n",
    "expert_next_observations = np.genfromtxt('next_observations_LunarLander.csv',delimiter=\"\\t\",dtype=str)\n",
    "expert_rewards = np.genfromtxt('rewards_LunarLander.csv', dtype=np.int32)\n",
    "expert_num_tray=np.genfromtxt('n_trayectoria_LunarLander.csv', dtype=np.int32)\n",
    "\n",
    "# Reemplazar las comas\n",
    "expert_observations = np.core.defchararray.replace(expert_observations, ',', ' ')\n",
    "\n",
    "# Reemplazar las comas\n",
    "expert_next_observations = np.core.defchararray.replace(expert_next_observations, ',', ' ')\n",
    "\n",
    "# Crear un nuevo array para almacenar los datos convertidos\n",
    "converted_observations = np.genfromtxt(expert_observations, delimiter=' ', dtype=float)\n",
    "# Crear un nuevo array para almacenar los datos convertidos\n",
    "converted_next_observations = np.genfromtxt(expert_observations, delimiter=' ', dtype=float)\n",
    "\n",
    "\n",
    "rewards=np.array(expert_rewards).reshape(-1,1)\n",
    "\n",
    "\n",
    "print(\"\\n\\tEstados reales: \\n\", converted_observations)\n",
    "print(\"\\tAcciones reales: \\n\", expert_actions)\n",
    "print(\"\\n\\t Estados siguientes: \\n\", converted_next_observations)\n",
    "print(\"\\n\\t Recompensas:\" ,expert_rewards)"
   ]
  },
  {
   "cell_type": "code",
   "execution_count": 78,
   "metadata": {},
   "outputs": [
    {
     "name": "stdout",
     "output_type": "stream",
     "text": [
      "4158\n"
     ]
    }
   ],
   "source": [
    "longitud_trayectoria += np.count_nonzero(expert_num_tray == 5)\n",
    "print(longitud_trayectoria)"
   ]
  },
  {
   "cell_type": "code",
   "execution_count": 79,
   "metadata": {},
   "outputs": [],
   "source": [
    "converted_observations=converted_observations[0:longitud_trayectoria]\n",
    "expert_actions=expert_actions[0:longitud_trayectoria]\n",
    "converted_next_observations=converted_next_observations[0:longitud_trayectoria]\n",
    "expert_rewards=expert_rewards[0:longitud_trayectoria]"
   ]
  },
  {
   "cell_type": "code",
   "execution_count": 80,
   "metadata": {},
   "outputs": [],
   "source": [
    "# Construimos el dataset [s,a,s',r] reales y lo dividimos en training y test\n",
    "expert_a_one_hot=np.eye(env.action_space.n)[expert_actions]\n",
    "expert_rewards = expert_rewards.reshape(-1, 1)\n",
    "\n",
    "dataset1=np.concatenate([converted_observations,expert_a_one_hot],axis=1)\n",
    "dataset2=np.concatenate([dataset1,converted_next_observations],axis=1)\n",
    "dataset=np.concatenate([dataset2,expert_rewards],axis=1)\n"
   ]
  },
  {
   "cell_type": "code",
   "execution_count": 81,
   "metadata": {},
   "outputs": [
    {
     "name": "stdout",
     "output_type": "stream",
     "text": [
      "Nº de (ESTADOS,ACCIONES) en el conjunto de entrenamiento: 3326\n",
      "Nº de (ESTADOS,ACCIONES) en el conjunto de prueba: 832\n"
     ]
    }
   ],
   "source": [
    "#############################################################################\n",
    "# DIVISIÓN TRAIN Y TEST\n",
    "##############################################################################\n",
    "\n",
    "# Divide los datos en conjuntos de entrenamiento y prueba\n",
    "X_train, X_test = train_test_split(dataset, test_size=0.2, random_state=0)\n",
    "\n",
    "\n",
    "#Imprime el número de elementos en el conjuntos de entrenamiento y prueba\n",
    "print('Nº de (ESTADOS,ACCIONES) en el conjunto de entrenamiento:', len(X_train))\n",
    "print('Nº de (ESTADOS,ACCIONES) en el conjunto de prueba:', len(X_test))"
   ]
  },
  {
   "cell_type": "code",
   "execution_count": 82,
   "metadata": {},
   "outputs": [],
   "source": [
    "env= gym.make('LunarLander-v2')\n",
    "obs,_= env.reset()\n",
    "\n",
    "# Generador\n",
    "generator=Policy_net( 'policy', env, obs)\n",
    "\n",
    "# Generamos [s,a, s', r] falsas y las políticas theta_i y theta_i+1\n",
    "observations, actions, next_observations, rewards, Old_Policy, Policy=generator.generate_fakes()\n",
    "\n",
    "# Discriminador\n",
    "discriminator=Discriminator(env, discriminator_net, converted_observations, expert_actions, converted_next_observations, expert_rewards, observations, actions, next_observations, rewards)"
   ]
  },
  {
   "cell_type": "markdown",
   "metadata": {},
   "source": [
    "### Definición de GAIL"
   ]
  },
  {
   "cell_type": "code",
   "execution_count": 83,
   "metadata": {},
   "outputs": [],
   "source": [
    "gan6=GAN(discriminator=discriminator,generator=generator)"
   ]
  },
  {
   "cell_type": "markdown",
   "metadata": {},
   "source": [
    "### Compilación de GAIL"
   ]
  },
  {
   "cell_type": "code",
   "execution_count": 84,
   "metadata": {},
   "outputs": [],
   "source": [
    "tf.config.run_functions_eagerly(True)\n",
    "gan6.compile(\n",
    "    d_optimizer=tf.keras.optimizers.Adam(learning_rate=LEARNING_RATE),\n",
    "    loss_fn_D=loss_fn_D\n",
    ")"
   ]
  },
  {
   "cell_type": "markdown",
   "metadata": {},
   "source": [
    "### Entrenamiento de GAIL"
   ]
  },
  {
   "cell_type": "code",
   "execution_count": 85,
   "metadata": {},
   "outputs": [
    {
     "name": "stdout",
     "output_type": "stream",
     "text": [
      "303/303 [==============================] - 6204s 20s/step - d_loss: 1.9006 - g_loss: 3.3962\n"
     ]
    }
   ],
   "source": [
    "# Deshabilitar los mensajes de información de TensorFlow\n",
    "os.environ['TF_CPP_MIN_LOG_LEVEL'] = '3'\n",
    "\n",
    "# Deshabilitar los mensajes de información de OpenAI Gym\n",
    "gym.logger.set_level(40)\n",
    "\n",
    "BATCH_SIZE= round(len(X_train)/300)\n",
    "\n",
    "history=gan6.fit(X_train,\n",
    "    epochs=EPOCHS, batch_size=BATCH_SIZE)\n"
   ]
  },
  {
   "cell_type": "markdown",
   "metadata": {},
   "source": [
    "### Evaluación de GAIL"
   ]
  },
  {
   "cell_type": "code",
   "execution_count": 86,
   "metadata": {},
   "outputs": [
    {
     "name": "stdout",
     "output_type": "stream",
     "text": [
      "1/1 [==============================] - 0s 21ms/step - loss: 0.0000e+00 - accuracy: 0.0000e+00\n",
      "1/1 [==============================] - 0s 20ms/step - loss: 0.0000e+00 - accuracy: 0.0000e+00\n",
      ">Loss real: \n",
      "0.0\n",
      ">Loss fake: \n",
      "0.0\n"
     ]
    }
   ],
   "source": [
    "# Evaluamos el Discriminador de GAIL en el TEST\n",
    "gan6.evaluate_D(X_test)\n"
   ]
  },
  {
   "cell_type": "code",
   "execution_count": 87,
   "metadata": {},
   "outputs": [
    {
     "name": "stdout",
     "output_type": "stream",
     "text": [
      "Episode  0 Total reward: -88.28110324262758\n",
      "Episode  1 Total reward: -103.84420947308858\n",
      "Episode  2 Total reward: -125.08746335297118\n",
      "Episode  3 Total reward: -134.99404832687708\n",
      "Episode  4 Total reward: -111.42092426938153\n",
      "Episode  5 Total reward: -119.37321846320279\n",
      "Episode  6 Total reward: -148.20238531462843\n",
      "Episode  7 Total reward: -116.92023423775936\n",
      "Episode  8 Total reward: -213.2973271736064\n",
      "Episode  9 Total reward: -182.52343906452904\n",
      "Episode  10 Total reward: -192.2273426224919\n",
      "Episode  11 Total reward: -192.34554996316632\n",
      "Episode  12 Total reward: -115.42545567152771\n",
      "Episode  13 Total reward: -68.62195971837833\n",
      "Episode  14 Total reward: -145.846167371545\n",
      "Episode  15 Total reward: -418.8727014765741\n",
      "Episode  16 Total reward: -230.5230067915688\n",
      "Episode  17 Total reward: -63.83506650496166\n",
      "Episode  18 Total reward: -208.39315323858528\n",
      "Episode  19 Total reward: -142.39494434429116\n",
      "Episode  20 Total reward: -228.3250178210822\n",
      "Episode  21 Total reward: -331.87801601043793\n",
      "Episode  22 Total reward: -8.11929267232017\n",
      "Episode  23 Total reward: -264.5522370020757\n",
      "Episode  24 Total reward: -288.169743345441\n",
      "Episode  25 Total reward: -79.25817147275022\n",
      "Episode  26 Total reward: -92.04578384679156\n",
      "Episode  27 Total reward: -124.84753667403663\n",
      "Episode  28 Total reward: -176.99556560216524\n",
      "Episode  29 Total reward: -163.671211389464\n",
      "Episode  30 Total reward: -69.46504585519787\n",
      "Episode  31 Total reward: -163.30529897855894\n",
      "Episode  32 Total reward: -85.2204250992941\n",
      "Episode  33 Total reward: -106.95027046954077\n",
      "Episode  34 Total reward: -207.15496600644897\n",
      "Episode  35 Total reward: -158.94331237812617\n",
      "Episode  36 Total reward: -94.11177669951829\n",
      "Episode  37 Total reward: -211.1922626903969\n",
      "Episode  38 Total reward: -142.39731771389745\n",
      "Episode  39 Total reward: -104.8218207765519\n",
      "Episode  40 Total reward: -138.36275082364523\n",
      "Episode  41 Total reward: -103.00428190575627\n",
      "Episode  42 Total reward: -156.0475085032101\n",
      "Episode  43 Total reward: -138.64452205950548\n",
      "Episode  44 Total reward: -274.2318273853906\n",
      "Episode  45 Total reward: -97.82800478571951\n",
      "Episode  46 Total reward: -144.85179302779267\n",
      "Episode  47 Total reward: -102.62891937609433\n",
      "Episode  48 Total reward: -126.13378326687032\n",
      "Episode  49 Total reward: -84.49579624049866\n"
     ]
    },
    {
     "data": {
      "image/png": "[encoded data removed]",
      "text/plain": [
       "<Figure size 640x480 with 1 Axes>"
      ]
     },
     "metadata": {},
     "output_type": "display_data"
    },
    {
     "name": "stdout",
     "output_type": "stream",
     "text": [
      "\n",
      "Recompensa de Media: -151.80167921000685 \n",
      "\n"
     ]
    }
   ],
   "source": [
    "# Evaluamos al Generador \n",
    "rewardMean=gan6.evaluate_G()\n",
    "print('\\nRecompensa de Media:', rewardMean, '\\n')"
   ]
  },
  {
   "cell_type": "markdown",
   "metadata": {},
   "source": [
    "## Experimento 7"
   ]
  },
  {
   "cell_type": "markdown",
   "metadata": {},
   "source": [
    "### Construcción de base de datos experta con 7 trayectoria "
   ]
  },
  {
   "cell_type": "code",
   "execution_count": 88,
   "metadata": {},
   "outputs": [
    {
     "name": "stdout",
     "output_type": "stream",
     "text": [
      "\n",
      "\tEstados reales: \n",
      " [[-0.00655632  1.412633   -0.6640952  ...  0.15042743  0.\n",
      "   0.        ]\n",
      " [-0.01301994  1.4137701  -0.65149987 ...  0.1017526   0.\n",
      "   0.        ]\n",
      " [-0.01941118  1.414314   -0.6424104  ...  0.06514421  0.\n",
      "   0.        ]\n",
      " ...\n",
      " [-0.46665245 -0.0082029   0.03071342 ...  0.67170596  1.\n",
      "   1.        ]\n",
      " [-0.4661541  -0.01350838  0.02066027 ...  0.635882    1.\n",
      "   1.        ]\n",
      " [-0.46567154 -0.01838761  0.02184356 ...  0.58443296  1.\n",
      "   1.        ]]\n",
      "\tAcciones reales: \n",
      " [3 3 3 ... 0 3 3]\n",
      "\n",
      "\t Estados siguientes: \n",
      " [[-0.00655632  1.412633   -0.6640952  ...  0.15042743  0.\n",
      "   0.        ]\n",
      " [-0.01301994  1.4137701  -0.65149987 ...  0.1017526   0.\n",
      "   0.        ]\n",
      " [-0.01941118  1.414314   -0.6424104  ...  0.06514421  0.\n",
      "   0.        ]\n",
      " ...\n",
      " [-0.46665245 -0.0082029   0.03071342 ...  0.67170596  1.\n",
      "   1.        ]\n",
      " [-0.4661541  -0.01350838  0.02066027 ...  0.635882    1.\n",
      "   1.        ]\n",
      " [-0.46567154 -0.01838761  0.02184356 ...  0.58443296  1.\n",
      "   1.        ]]\n",
      "\n",
      "\t Recompensas: [   0    0    0 ...   -1   -1 -100]\n"
     ]
    }
   ],
   "source": [
    "expert_observations = np.genfromtxt(\"observations_LunarLander.csv\",delimiter=\"\\t\",dtype=str)\n",
    "expert_actions = np.genfromtxt('actions_LunarLander.csv', dtype=np.int32)\n",
    "expert_next_observations = np.genfromtxt('next_observations_LunarLander.csv',delimiter=\"\\t\",dtype=str)\n",
    "expert_rewards = np.genfromtxt('rewards_LunarLander.csv', dtype=np.int32)\n",
    "expert_num_tray=np.genfromtxt('n_trayectoria_LunarLander.csv', dtype=np.int32)\n",
    "\n",
    "# Reemplazar las comas\n",
    "expert_observations = np.core.defchararray.replace(expert_observations, ',', ' ')\n",
    "\n",
    "# Reemplazar las comas\n",
    "expert_next_observations = np.core.defchararray.replace(expert_next_observations, ',', ' ')\n",
    "\n",
    "# Crear un nuevo array para almacenar los datos convertidos\n",
    "converted_observations = np.genfromtxt(expert_observations, delimiter=' ', dtype=float)\n",
    "# Crear un nuevo array para almacenar los datos convertidos\n",
    "converted_next_observations = np.genfromtxt(expert_observations, delimiter=' ', dtype=float)\n",
    "\n",
    "\n",
    "rewards=np.array(expert_rewards).reshape(-1,1)\n",
    "\n",
    "\n",
    "print(\"\\n\\tEstados reales: \\n\", converted_observations)\n",
    "print(\"\\tAcciones reales: \\n\", expert_actions)\n",
    "print(\"\\n\\t Estados siguientes: \\n\", converted_next_observations)\n",
    "print(\"\\n\\t Recompensas:\" ,expert_rewards)"
   ]
  },
  {
   "cell_type": "code",
   "execution_count": 89,
   "metadata": {},
   "outputs": [
    {
     "name": "stdout",
     "output_type": "stream",
     "text": [
      "4680\n"
     ]
    }
   ],
   "source": [
    "longitud_trayectoria += np.count_nonzero(expert_num_tray == 6)\n",
    "print(longitud_trayectoria)"
   ]
  },
  {
   "cell_type": "code",
   "execution_count": 90,
   "metadata": {},
   "outputs": [],
   "source": [
    "converted_observations=converted_observations[0:longitud_trayectoria]\n",
    "expert_actions=expert_actions[0:longitud_trayectoria]\n",
    "converted_next_observations=converted_next_observations[0:longitud_trayectoria]\n",
    "expert_rewards=expert_rewards[0:longitud_trayectoria]"
   ]
  },
  {
   "cell_type": "code",
   "execution_count": 91,
   "metadata": {},
   "outputs": [],
   "source": [
    "# Construimos el dataset [s,a,s',r] reales y lo dividimos en training y test\n",
    "expert_a_one_hot=np.eye(env.action_space.n)[expert_actions]\n",
    "expert_rewards = expert_rewards.reshape(-1, 1)\n",
    "\n",
    "dataset1=np.concatenate([converted_observations,expert_a_one_hot],axis=1)\n",
    "dataset2=np.concatenate([dataset1,converted_next_observations],axis=1)\n",
    "dataset=np.concatenate([dataset2,expert_rewards],axis=1)\n"
   ]
  },
  {
   "cell_type": "code",
   "execution_count": 92,
   "metadata": {},
   "outputs": [
    {
     "name": "stdout",
     "output_type": "stream",
     "text": [
      "Nº de (ESTADOS,ACCIONES) en el conjunto de entrenamiento: 3744\n",
      "Nº de (ESTADOS,ACCIONES) en el conjunto de prueba: 936\n"
     ]
    }
   ],
   "source": [
    "#############################################################################\n",
    "# DIVISIÓN TRAIN Y TEST\n",
    "##############################################################################\n",
    "\n",
    "# Divide los datos en conjuntos de entrenamiento y prueba\n",
    "X_train, X_test = train_test_split(dataset, test_size=0.2, random_state=0)\n",
    "\n",
    "\n",
    "#Imprime el número de elementos en el conjuntos de entrenamiento y prueba\n",
    "print('Nº de (ESTADOS,ACCIONES) en el conjunto de entrenamiento:', len(X_train))\n",
    "print('Nº de (ESTADOS,ACCIONES) en el conjunto de prueba:', len(X_test))"
   ]
  },
  {
   "cell_type": "code",
   "execution_count": 93,
   "metadata": {},
   "outputs": [],
   "source": [
    "env= gym.make('LunarLander-v2')\n",
    "obs,_= env.reset()\n",
    "\n",
    "# Generador\n",
    "generator=Policy_net( 'policy', env, obs)\n",
    "\n",
    "# Generamos [s,a, s', r] falsas y las políticas theta_i y theta_i+1\n",
    "observations, actions, next_observations, rewards, Old_Policy, Policy=generator.generate_fakes()\n",
    "\n",
    "# Discriminador\n",
    "discriminator=Discriminator(env, discriminator_net, converted_observations, expert_actions, converted_next_observations, expert_rewards, observations, actions, next_observations, rewards)"
   ]
  },
  {
   "cell_type": "markdown",
   "metadata": {},
   "source": [
    "### Definición de GAIL"
   ]
  },
  {
   "cell_type": "code",
   "execution_count": 94,
   "metadata": {},
   "outputs": [],
   "source": [
    "gan7=GAN(discriminator=discriminator,generator=generator)"
   ]
  },
  {
   "cell_type": "markdown",
   "metadata": {},
   "source": [
    "### Compilación de GAIL"
   ]
  },
  {
   "cell_type": "code",
   "execution_count": 95,
   "metadata": {},
   "outputs": [],
   "source": [
    "tf.config.run_functions_eagerly(True)\n",
    "gan7.compile(\n",
    "    d_optimizer=tf.keras.optimizers.Adam(learning_rate=LEARNING_RATE),\n",
    "    loss_fn_D=loss_fn_D\n",
    ")"
   ]
  },
  {
   "cell_type": "markdown",
   "metadata": {},
   "source": [
    "### Entrenamiento de GAIL"
   ]
  },
  {
   "cell_type": "code",
   "execution_count": 96,
   "metadata": {},
   "outputs": [
    {
     "name": "stdout",
     "output_type": "stream",
     "text": [
      "312/312 [==============================] - 6402s 21s/step - d_loss: 1.8992 - g_loss: 2.3110\n"
     ]
    }
   ],
   "source": [
    "# Deshabilitar los mensajes de información de TensorFlow\n",
    "os.environ['TF_CPP_MIN_LOG_LEVEL'] = '3'\n",
    "\n",
    "# Deshabilitar los mensajes de información de OpenAI Gym\n",
    "gym.logger.set_level(40)\n",
    "\n",
    "BATCH_SIZE= round(len(X_train)/300)\n",
    "\n",
    "history=gan7.fit(X_train,\n",
    "    epochs=EPOCHS, batch_size=BATCH_SIZE)\n"
   ]
  },
  {
   "cell_type": "markdown",
   "metadata": {},
   "source": [
    "### Evaluación de GAIL"
   ]
  },
  {
   "cell_type": "code",
   "execution_count": 97,
   "metadata": {},
   "outputs": [
    {
     "name": "stdout",
     "output_type": "stream",
     "text": [
      "1/1 [==============================] - 0s 20ms/step - loss: 0.0000e+00 - accuracy: 0.0000e+00\n",
      "1/1 [==============================] - 0s 20ms/step - loss: 0.0000e+00 - accuracy: 0.0000e+00\n",
      ">Loss real: \n",
      "0.0\n",
      ">Loss fake: \n",
      "0.0\n"
     ]
    }
   ],
   "source": [
    "# Evaluamos el Discriminador de GAIL en el TEST\n",
    "gan7.evaluate_D(X_test)\n"
   ]
  },
  {
   "cell_type": "code",
   "execution_count": 98,
   "metadata": {},
   "outputs": [
    {
     "name": "stdout",
     "output_type": "stream",
     "text": [
      "Episode  0 Total reward: -101.16621429205497\n",
      "Episode  1 Total reward: -305.80839133704126\n",
      "Episode  2 Total reward: -136.18559613805542\n",
      "Episode  3 Total reward: -276.6688128900634\n",
      "Episode  4 Total reward: -298.2261301679698\n",
      "Episode  5 Total reward: -369.04527291040836\n",
      "Episode  6 Total reward: -169.67952046927724\n",
      "Episode  7 Total reward: -202.83542474262057\n",
      "Episode  8 Total reward: -368.0957920894822\n",
      "Episode  9 Total reward: -108.76104611020224\n",
      "Episode  10 Total reward: -185.23177030913138\n",
      "Episode  11 Total reward: -108.53277683537354\n",
      "Episode  12 Total reward: -132.15224127557212\n",
      "Episode  13 Total reward: -124.73710973163463\n",
      "Episode  14 Total reward: -131.22914049605976\n",
      "Episode  15 Total reward: -132.56063878030884\n",
      "Episode  16 Total reward: -201.89921275077205\n",
      "Episode  17 Total reward: -210.15758582096936\n",
      "Episode  18 Total reward: -134.48523798573282\n",
      "Episode  19 Total reward: -137.54586123333462\n",
      "Episode  20 Total reward: -242.09303336001386\n",
      "Episode  21 Total reward: -173.37483891193148\n",
      "Episode  22 Total reward: -221.26724421333273\n",
      "Episode  23 Total reward: -264.6677396300013\n",
      "Episode  24 Total reward: -263.63108227374846\n",
      "Episode  25 Total reward: -32.64609048456413\n",
      "Episode  26 Total reward: -107.6225416222018\n",
      "Episode  27 Total reward: -230.14732494829698\n",
      "Episode  28 Total reward: 48.7812098991851\n",
      "Episode  29 Total reward: -167.94798591864333\n",
      "Episode  30 Total reward: -128.48462541509508\n",
      "Episode  31 Total reward: -305.8734437226128\n",
      "Episode  32 Total reward: -151.45165003823325\n",
      "Episode  33 Total reward: -95.66520205008034\n",
      "Episode  34 Total reward: -239.72160314607387\n",
      "Episode  35 Total reward: -250.17860867020897\n",
      "Episode  36 Total reward: -153.073498127716\n",
      "Episode  37 Total reward: -145.81418414238075\n",
      "Episode  38 Total reward: -536.7773908884867\n",
      "Episode  39 Total reward: -320.3017019865192\n",
      "Episode  40 Total reward: -396.66883263226794\n",
      "Episode  41 Total reward: -67.28799223388293\n",
      "Episode  42 Total reward: -105.46964130274576\n",
      "Episode  43 Total reward: -204.10560328672113\n",
      "Episode  44 Total reward: -262.37136887957286\n",
      "Episode  45 Total reward: -160.2086897691102\n",
      "Episode  46 Total reward: -199.75372567722485\n",
      "Episode  47 Total reward: -29.689452425061845\n",
      "Episode  48 Total reward: -73.70426254140023\n",
      "Episode  49 Total reward: -107.01867405808501\n"
     ]
    },
    {
     "data": {
      "image/png": "[encoded data removed]",
      "text/plain": [
       "<Figure size 640x480 with 1 Axes>"
      ]
     },
     "metadata": {},
     "output_type": "display_data"
    },
    {
     "name": "stdout",
     "output_type": "stream",
     "text": [
      "\n",
      "Recompensa de Media: -188.46481197646182 \n",
      "\n"
     ]
    }
   ],
   "source": [
    "# Evaluamos al Generador \n",
    "rewardMean=gan7.evaluate_G()\n",
    "print('\\nRecompensa de Media:', rewardMean, '\\n')"
   ]
  },
  {
   "cell_type": "markdown",
   "metadata": {},
   "source": [
    "## Experimento 8"
   ]
  },
  {
   "cell_type": "markdown",
   "metadata": {},
   "source": [
    "### Construcción de base de datos experta con 8 trayectoria "
   ]
  },
  {
   "cell_type": "code",
   "execution_count": 99,
   "metadata": {},
   "outputs": [
    {
     "name": "stdout",
     "output_type": "stream",
     "text": [
      "\n",
      "\tEstados reales: \n",
      " [[-0.00655632  1.412633   -0.6640952  ...  0.15042743  0.\n",
      "   0.        ]\n",
      " [-0.01301994  1.4137701  -0.65149987 ...  0.1017526   0.\n",
      "   0.        ]\n",
      " [-0.01941118  1.414314   -0.6424104  ...  0.06514421  0.\n",
      "   0.        ]\n",
      " ...\n",
      " [-0.46665245 -0.0082029   0.03071342 ...  0.67170596  1.\n",
      "   1.        ]\n",
      " [-0.4661541  -0.01350838  0.02066027 ...  0.635882    1.\n",
      "   1.        ]\n",
      " [-0.46567154 -0.01838761  0.02184356 ...  0.58443296  1.\n",
      "   1.        ]]\n",
      "\tAcciones reales: \n",
      " [3 3 3 ... 0 3 3]\n",
      "\n",
      "\t Estados siguientes: \n",
      " [[-0.00655632  1.412633   -0.6640952  ...  0.15042743  0.\n",
      "   0.        ]\n",
      " [-0.01301994  1.4137701  -0.65149987 ...  0.1017526   0.\n",
      "   0.        ]\n",
      " [-0.01941118  1.414314   -0.6424104  ...  0.06514421  0.\n",
      "   0.        ]\n",
      " ...\n",
      " [-0.46665245 -0.0082029   0.03071342 ...  0.67170596  1.\n",
      "   1.        ]\n",
      " [-0.4661541  -0.01350838  0.02066027 ...  0.635882    1.\n",
      "   1.        ]\n",
      " [-0.46567154 -0.01838761  0.02184356 ...  0.58443296  1.\n",
      "   1.        ]]\n",
      "\n",
      "\t Recompensas: [   0    0    0 ...   -1   -1 -100]\n"
     ]
    }
   ],
   "source": [
    "expert_observations = np.genfromtxt(\"observations_LunarLander.csv\",delimiter=\"\\t\",dtype=str)\n",
    "expert_actions = np.genfromtxt('actions_LunarLander.csv', dtype=np.int32)\n",
    "expert_next_observations = np.genfromtxt('next_observations_LunarLander.csv',delimiter=\"\\t\",dtype=str)\n",
    "expert_rewards = np.genfromtxt('rewards_LunarLander.csv', dtype=np.int32)\n",
    "expert_num_tray=np.genfromtxt('n_trayectoria_LunarLander.csv', dtype=np.int32)\n",
    "\n",
    "# Reemplazar las comas\n",
    "expert_observations = np.core.defchararray.replace(expert_observations, ',', ' ')\n",
    "\n",
    "# Reemplazar las comas\n",
    "expert_next_observations = np.core.defchararray.replace(expert_next_observations, ',', ' ')\n",
    "\n",
    "# Crear un nuevo array para almacenar los datos convertidos\n",
    "converted_observations = np.genfromtxt(expert_observations, delimiter=' ', dtype=float)\n",
    "# Crear un nuevo array para almacenar los datos convertidos\n",
    "converted_next_observations = np.genfromtxt(expert_observations, delimiter=' ', dtype=float)\n",
    "\n",
    "\n",
    "rewards=np.array(expert_rewards).reshape(-1,1)\n",
    "\n",
    "\n",
    "print(\"\\n\\tEstados reales: \\n\", converted_observations)\n",
    "print(\"\\tAcciones reales: \\n\", expert_actions)\n",
    "print(\"\\n\\t Estados siguientes: \\n\", converted_next_observations)\n",
    "print(\"\\n\\t Recompensas:\" ,expert_rewards)"
   ]
  },
  {
   "cell_type": "code",
   "execution_count": 100,
   "metadata": {},
   "outputs": [
    {
     "name": "stdout",
     "output_type": "stream",
     "text": [
      "5314\n"
     ]
    }
   ],
   "source": [
    "longitud_trayectoria += np.count_nonzero(expert_num_tray == 7)\n",
    "print(longitud_trayectoria)"
   ]
  },
  {
   "cell_type": "code",
   "execution_count": 101,
   "metadata": {},
   "outputs": [],
   "source": [
    "converted_observations=converted_observations[0:longitud_trayectoria]\n",
    "expert_actions=expert_actions[0:longitud_trayectoria]\n",
    "converted_next_observations=converted_next_observations[0:longitud_trayectoria]\n",
    "expert_rewards=expert_rewards[0:longitud_trayectoria]"
   ]
  },
  {
   "cell_type": "code",
   "execution_count": 102,
   "metadata": {},
   "outputs": [],
   "source": [
    "# Construimos el dataset [s,a,s',r] reales y lo dividimos en training y test\n",
    "expert_a_one_hot=np.eye(env.action_space.n)[expert_actions]\n",
    "expert_rewards = expert_rewards.reshape(-1, 1)\n",
    "\n",
    "dataset1=np.concatenate([converted_observations,expert_a_one_hot],axis=1)\n",
    "dataset2=np.concatenate([dataset1,converted_next_observations],axis=1)\n",
    "dataset=np.concatenate([dataset2,expert_rewards],axis=1)\n"
   ]
  },
  {
   "cell_type": "code",
   "execution_count": 103,
   "metadata": {},
   "outputs": [
    {
     "name": "stdout",
     "output_type": "stream",
     "text": [
      "Nº de (ESTADOS,ACCIONES) en el conjunto de entrenamiento: 4251\n",
      "Nº de (ESTADOS,ACCIONES) en el conjunto de prueba: 1063\n"
     ]
    }
   ],
   "source": [
    "#############################################################################\n",
    "# DIVISIÓN TRAIN Y TEST\n",
    "##############################################################################\n",
    "\n",
    "# Divide los datos en conjuntos de entrenamiento y prueba\n",
    "X_train, X_test = train_test_split(dataset, test_size=0.2, random_state=0)\n",
    "\n",
    "\n",
    "#Imprime el número de elementos en el conjuntos de entrenamiento y prueba\n",
    "print('Nº de (ESTADOS,ACCIONES) en el conjunto de entrenamiento:', len(X_train))\n",
    "print('Nº de (ESTADOS,ACCIONES) en el conjunto de prueba:', len(X_test))"
   ]
  },
  {
   "cell_type": "code",
   "execution_count": 104,
   "metadata": {},
   "outputs": [],
   "source": [
    "env= gym.make('LunarLander-v2')\n",
    "obs,_= env.reset()\n",
    "\n",
    "# Generador\n",
    "generator=Policy_net( 'policy', env, obs)\n",
    "\n",
    "# Generamos [s,a, s', r] falsas y las políticas theta_i y theta_i+1\n",
    "observations, actions, next_observations, rewards, Old_Policy, Policy=generator.generate_fakes()\n",
    "\n",
    "# Discriminador\n",
    "discriminator=Discriminator(env, discriminator_net, converted_observations, expert_actions, converted_next_observations, expert_rewards, observations, actions, next_observations, rewards)"
   ]
  },
  {
   "cell_type": "markdown",
   "metadata": {},
   "source": [
    "### Definición de GAIL"
   ]
  },
  {
   "cell_type": "code",
   "execution_count": 105,
   "metadata": {},
   "outputs": [],
   "source": [
    "gan8=GAN(discriminator=discriminator,generator=generator)"
   ]
  },
  {
   "cell_type": "markdown",
   "metadata": {},
   "source": [
    "### Compilación de GAIL"
   ]
  },
  {
   "cell_type": "code",
   "execution_count": 106,
   "metadata": {},
   "outputs": [],
   "source": [
    "tf.config.run_functions_eagerly(True)\n",
    "gan8.compile(\n",
    "    d_optimizer=tf.keras.optimizers.Adam(learning_rate=LEARNING_RATE),\n",
    "    loss_fn_D=loss_fn_D\n",
    ")"
   ]
  },
  {
   "cell_type": "markdown",
   "metadata": {},
   "source": [
    "### Entrenamiento de GAIL"
   ]
  },
  {
   "cell_type": "code",
   "execution_count": 107,
   "metadata": {},
   "outputs": [
    {
     "name": "stdout",
     "output_type": "stream",
     "text": [
      "304/304 [==============================] - 6251s 21s/step - d_loss: 1.8975 - g_loss: 2.8720\n"
     ]
    }
   ],
   "source": [
    "# Deshabilitar los mensajes de información de TensorFlow\n",
    "os.environ['TF_CPP_MIN_LOG_LEVEL'] = '3'\n",
    "\n",
    "# Deshabilitar los mensajes de información de OpenAI Gym\n",
    "gym.logger.set_level(40)\n",
    "\n",
    "BATCH_SIZE= round(len(X_train)/300)\n",
    "\n",
    "history=gan8.fit(X_train,\n",
    "    epochs=EPOCHS, batch_size=BATCH_SIZE)\n"
   ]
  },
  {
   "cell_type": "markdown",
   "metadata": {},
   "source": [
    "### Evaluación de GAIL"
   ]
  },
  {
   "cell_type": "code",
   "execution_count": 108,
   "metadata": {},
   "outputs": [
    {
     "name": "stdout",
     "output_type": "stream",
     "text": [
      "1/1 [==============================] - 0s 21ms/step - loss: 0.0000e+00 - accuracy: 0.0000e+00\n",
      "1/1 [==============================] - 0s 19ms/step - loss: 0.0000e+00 - accuracy: 0.0000e+00\n",
      ">Loss real: \n",
      "0.0\n",
      ">Loss fake: \n",
      "0.0\n"
     ]
    }
   ],
   "source": [
    "# Evaluamos el Discriminador de GAIL en el TEST\n",
    "gan8.evaluate_D(X_test)\n"
   ]
  },
  {
   "cell_type": "code",
   "execution_count": 109,
   "metadata": {},
   "outputs": [
    {
     "name": "stdout",
     "output_type": "stream",
     "text": [
      "Episode  0 Total reward: -230.1161349436301\n",
      "Episode  1 Total reward: -117.37298032811974\n",
      "Episode  2 Total reward: -129.67266357459437\n",
      "Episode  3 Total reward: -230.70677602400974\n",
      "Episode  4 Total reward: -139.92302366852203\n",
      "Episode  5 Total reward: -110.84839017977252\n",
      "Episode  6 Total reward: -133.59834769323095\n",
      "Episode  7 Total reward: -203.1982855644315\n",
      "Episode  8 Total reward: -90.03100780543562\n",
      "Episode  9 Total reward: -157.50532433505987\n",
      "Episode  10 Total reward: -124.30561413294657\n",
      "Episode  11 Total reward: -81.33492308677106\n",
      "Episode  12 Total reward: -187.9081788587036\n",
      "Episode  13 Total reward: -103.4829873058678\n",
      "Episode  14 Total reward: -124.55920357752944\n",
      "Episode  15 Total reward: -111.68453387576105\n",
      "Episode  16 Total reward: -242.99232323472378\n",
      "Episode  17 Total reward: -285.93331197910373\n",
      "Episode  18 Total reward: -129.32842669966308\n",
      "Episode  19 Total reward: -224.93926249857807\n",
      "Episode  20 Total reward: -190.7059019047528\n",
      "Episode  21 Total reward: -104.6055997036372\n",
      "Episode  22 Total reward: -95.72500034010405\n",
      "Episode  23 Total reward: -172.88323901811418\n",
      "Episode  24 Total reward: -162.1439299448695\n",
      "Episode  25 Total reward: -282.7489883425578\n",
      "Episode  26 Total reward: -142.0470025036596\n",
      "Episode  27 Total reward: -101.23857510080757\n",
      "Episode  28 Total reward: -156.0085211649406\n",
      "Episode  29 Total reward: -122.17872138771727\n",
      "Episode  30 Total reward: -215.9757708046303\n",
      "Episode  31 Total reward: -95.5291652118736\n",
      "Episode  32 Total reward: -281.46599979398536\n",
      "Episode  33 Total reward: -182.26793934402667\n",
      "Episode  34 Total reward: -158.72062189280916\n",
      "Episode  35 Total reward: -250.34043975771212\n",
      "Episode  36 Total reward: -113.84757443579895\n",
      "Episode  37 Total reward: -222.48157693049393\n",
      "Episode  38 Total reward: -268.52673206721056\n",
      "Episode  39 Total reward: -115.65230276438986\n",
      "Episode  40 Total reward: -71.45548191066797\n",
      "Episode  41 Total reward: -199.28867040949643\n",
      "Episode  42 Total reward: -29.98718556171744\n",
      "Episode  43 Total reward: -122.64919803120156\n",
      "Episode  44 Total reward: -134.86606375065224\n",
      "Episode  45 Total reward: -5.48656731592034\n",
      "Episode  46 Total reward: -138.2871212151839\n",
      "Episode  47 Total reward: -39.559357256781084\n",
      "Episode  48 Total reward: -132.63783179897172\n",
      "Episode  49 Total reward: -106.32275015934282\n"
     ]
    },
    {
     "data": {
      "image/png": "[encoded data removed]",
      "text/plain": [
       "<Figure size 640x480 with 1 Axes>"
      ]
     },
     "metadata": {},
     "output_type": "display_data"
    },
    {
     "name": "stdout",
     "output_type": "stream",
     "text": [
      "\n",
      "Recompensa de Media: -151.50151058380962 \n",
      "\n"
     ]
    }
   ],
   "source": [
    "# Evaluamos al Generador \n",
    "rewardMean=gan8.evaluate_G()\n",
    "print('\\nRecompensa de Media:', rewardMean, '\\n')"
   ]
  },
  {
   "cell_type": "markdown",
   "metadata": {},
   "source": [
    "## Experimento 9"
   ]
  },
  {
   "cell_type": "markdown",
   "metadata": {},
   "source": [
    "### Construcción de base de datos experta con 9 trayectoria "
   ]
  },
  {
   "cell_type": "code",
   "execution_count": 110,
   "metadata": {},
   "outputs": [
    {
     "name": "stdout",
     "output_type": "stream",
     "text": [
      "\n",
      "\tEstados reales: \n",
      " [[-0.00655632  1.412633   -0.6640952  ...  0.15042743  0.\n",
      "   0.        ]\n",
      " [-0.01301994  1.4137701  -0.65149987 ...  0.1017526   0.\n",
      "   0.        ]\n",
      " [-0.01941118  1.414314   -0.6424104  ...  0.06514421  0.\n",
      "   0.        ]\n",
      " ...\n",
      " [-0.46665245 -0.0082029   0.03071342 ...  0.67170596  1.\n",
      "   1.        ]\n",
      " [-0.4661541  -0.01350838  0.02066027 ...  0.635882    1.\n",
      "   1.        ]\n",
      " [-0.46567154 -0.01838761  0.02184356 ...  0.58443296  1.\n",
      "   1.        ]]\n",
      "\tAcciones reales: \n",
      " [3 3 3 ... 0 3 3]\n",
      "\n",
      "\t Estados siguientes: \n",
      " [[-0.00655632  1.412633   -0.6640952  ...  0.15042743  0.\n",
      "   0.        ]\n",
      " [-0.01301994  1.4137701  -0.65149987 ...  0.1017526   0.\n",
      "   0.        ]\n",
      " [-0.01941118  1.414314   -0.6424104  ...  0.06514421  0.\n",
      "   0.        ]\n",
      " ...\n",
      " [-0.46665245 -0.0082029   0.03071342 ...  0.67170596  1.\n",
      "   1.        ]\n",
      " [-0.4661541  -0.01350838  0.02066027 ...  0.635882    1.\n",
      "   1.        ]\n",
      " [-0.46567154 -0.01838761  0.02184356 ...  0.58443296  1.\n",
      "   1.        ]]\n",
      "\n",
      "\t Recompensas: [   0    0    0 ...   -1   -1 -100]\n"
     ]
    }
   ],
   "source": [
    "expert_observations = np.genfromtxt(\"observations_LunarLander.csv\",delimiter=\"\\t\",dtype=str)\n",
    "expert_actions = np.genfromtxt('actions_LunarLander.csv', dtype=np.int32)\n",
    "expert_next_observations = np.genfromtxt('next_observations_LunarLander.csv',delimiter=\"\\t\",dtype=str)\n",
    "expert_rewards = np.genfromtxt('rewards_LunarLander.csv', dtype=np.int32)\n",
    "expert_num_tray=np.genfromtxt('n_trayectoria_LunarLander.csv', dtype=np.int32)\n",
    "\n",
    "# Reemplazar las comas\n",
    "expert_observations = np.core.defchararray.replace(expert_observations, ',', ' ')\n",
    "\n",
    "# Reemplazar las comas\n",
    "expert_next_observations = np.core.defchararray.replace(expert_next_observations, ',', ' ')\n",
    "\n",
    "# Crear un nuevo array para almacenar los datos convertidos\n",
    "converted_observations = np.genfromtxt(expert_observations, delimiter=' ', dtype=float)\n",
    "# Crear un nuevo array para almacenar los datos convertidos\n",
    "converted_next_observations = np.genfromtxt(expert_observations, delimiter=' ', dtype=float)\n",
    "\n",
    "\n",
    "rewards=np.array(expert_rewards).reshape(-1,1)\n",
    "\n",
    "\n",
    "print(\"\\n\\tEstados reales: \\n\", converted_observations)\n",
    "print(\"\\tAcciones reales: \\n\", expert_actions)\n",
    "print(\"\\n\\t Estados siguientes: \\n\", converted_next_observations)\n",
    "print(\"\\n\\t Recompensas:\" ,expert_rewards)"
   ]
  },
  {
   "cell_type": "code",
   "execution_count": 111,
   "metadata": {},
   "outputs": [
    {
     "name": "stdout",
     "output_type": "stream",
     "text": [
      "5799\n"
     ]
    }
   ],
   "source": [
    "longitud_trayectoria += np.count_nonzero(expert_num_tray == 8)\n",
    "print(longitud_trayectoria)"
   ]
  },
  {
   "cell_type": "code",
   "execution_count": 112,
   "metadata": {},
   "outputs": [],
   "source": [
    "converted_observations=converted_observations[0:longitud_trayectoria]\n",
    "expert_actions=expert_actions[0:longitud_trayectoria]\n",
    "converted_next_observations=converted_next_observations[0:longitud_trayectoria]\n",
    "expert_rewards=expert_rewards[0:longitud_trayectoria]"
   ]
  },
  {
   "cell_type": "code",
   "execution_count": 113,
   "metadata": {},
   "outputs": [],
   "source": [
    "# Construimos el dataset [s,a,s',r] reales y lo dividimos en training y test\n",
    "expert_a_one_hot=np.eye(env.action_space.n)[expert_actions]\n",
    "expert_rewards = expert_rewards.reshape(-1, 1)\n",
    "\n",
    "dataset1=np.concatenate([converted_observations,expert_a_one_hot],axis=1)\n",
    "dataset2=np.concatenate([dataset1,converted_next_observations],axis=1)\n",
    "dataset=np.concatenate([dataset2,expert_rewards],axis=1)\n"
   ]
  },
  {
   "cell_type": "code",
   "execution_count": 114,
   "metadata": {},
   "outputs": [
    {
     "name": "stdout",
     "output_type": "stream",
     "text": [
      "Nº de (ESTADOS,ACCIONES) en el conjunto de entrenamiento: 4639\n",
      "Nº de (ESTADOS,ACCIONES) en el conjunto de prueba: 1160\n"
     ]
    }
   ],
   "source": [
    "#############################################################################\n",
    "# DIVISIÓN TRAIN Y TEST\n",
    "##############################################################################\n",
    "\n",
    "# Divide los datos en conjuntos de entrenamiento y prueba\n",
    "X_train, X_test = train_test_split(dataset, test_size=0.2, random_state=0)\n",
    "\n",
    "\n",
    "#Imprime el número de elementos en el conjuntos de entrenamiento y prueba\n",
    "print('Nº de (ESTADOS,ACCIONES) en el conjunto de entrenamiento:', len(X_train))\n",
    "print('Nº de (ESTADOS,ACCIONES) en el conjunto de prueba:', len(X_test))"
   ]
  },
  {
   "cell_type": "code",
   "execution_count": 115,
   "metadata": {},
   "outputs": [],
   "source": [
    "env= gym.make('LunarLander-v2')\n",
    "obs,_= env.reset()\n",
    "\n",
    "# Generador\n",
    "generator=Policy_net( 'policy', env, obs)\n",
    "\n",
    "# Generamos [s,a, s', r] falsas y las políticas theta_i y theta_i+1\n",
    "observations, actions, next_observations, rewards, Old_Policy, Policy=generator.generate_fakes()\n",
    "\n",
    "# Discriminador\n",
    "discriminator=Discriminator(env, discriminator_net, converted_observations, expert_actions, converted_next_observations, expert_rewards, observations, actions, next_observations, rewards)"
   ]
  },
  {
   "cell_type": "markdown",
   "metadata": {},
   "source": [
    "### Definición de GAIL"
   ]
  },
  {
   "cell_type": "code",
   "execution_count": 116,
   "metadata": {},
   "outputs": [],
   "source": [
    "gan9=GAN(discriminator=discriminator,generator=generator)"
   ]
  },
  {
   "cell_type": "markdown",
   "metadata": {},
   "source": [
    "### Compilación de GAIL"
   ]
  },
  {
   "cell_type": "code",
   "execution_count": 117,
   "metadata": {},
   "outputs": [],
   "source": [
    "tf.config.run_functions_eagerly(True)\n",
    "gan9.compile(\n",
    "    d_optimizer=tf.keras.optimizers.Adam(learning_rate=LEARNING_RATE),\n",
    "    loss_fn_D=loss_fn_D\n",
    ")"
   ]
  },
  {
   "cell_type": "markdown",
   "metadata": {},
   "source": [
    "### Entrenamiento de GAIL"
   ]
  },
  {
   "cell_type": "code",
   "execution_count": 118,
   "metadata": {},
   "outputs": [
    {
     "name": "stdout",
     "output_type": "stream",
     "text": [
      "310/310 [==============================] - 6430s 21s/step - d_loss: 1.9006 - g_loss: 2.3335\n"
     ]
    }
   ],
   "source": [
    "# Deshabilitar los mensajes de información de TensorFlow\n",
    "os.environ['TF_CPP_MIN_LOG_LEVEL'] = '3'\n",
    "\n",
    "# Deshabilitar los mensajes de información de OpenAI Gym\n",
    "gym.logger.set_level(40)\n",
    "\n",
    "BATCH_SIZE= round(len(X_train)/300)\n",
    "\n",
    "history=gan9.fit(X_train,\n",
    "    epochs=EPOCHS, batch_size=BATCH_SIZE)\n"
   ]
  },
  {
   "cell_type": "markdown",
   "metadata": {},
   "source": [
    "### Evaluación de GAIL"
   ]
  },
  {
   "cell_type": "code",
   "execution_count": 119,
   "metadata": {},
   "outputs": [
    {
     "name": "stdout",
     "output_type": "stream",
     "text": [
      "1/1 [==============================] - 0s 21ms/step - loss: 0.0000e+00 - accuracy: 0.0000e+00\n",
      "1/1 [==============================] - 0s 22ms/step - loss: 0.0000e+00 - accuracy: 0.0000e+00\n",
      ">Loss real: \n",
      "0.0\n",
      ">Loss fake: \n",
      "0.0\n"
     ]
    }
   ],
   "source": [
    "# Evaluamos el Discriminador de GAIL en el TEST\n",
    "gan9.evaluate_D(X_test)\n"
   ]
  },
  {
   "cell_type": "code",
   "execution_count": 120,
   "metadata": {},
   "outputs": [
    {
     "name": "stdout",
     "output_type": "stream",
     "text": [
      "Episode  0 Total reward: -306.36375188909176\n",
      "Episode  1 Total reward: -258.8947114661341\n",
      "Episode  2 Total reward: -351.6150902107332\n",
      "Episode  3 Total reward: -182.39331468021442\n",
      "Episode  4 Total reward: -78.40464897268545\n",
      "Episode  5 Total reward: -121.40299104049953\n",
      "Episode  6 Total reward: -230.70908230871055\n",
      "Episode  7 Total reward: -314.4433423552421\n",
      "Episode  8 Total reward: -148.546978292681\n",
      "Episode  9 Total reward: -301.6177013260552\n",
      "Episode  10 Total reward: -186.35790415032326\n",
      "Episode  11 Total reward: -489.83607398696523\n",
      "Episode  12 Total reward: -291.879497476012\n",
      "Episode  13 Total reward: -76.2381076220236\n",
      "Episode  14 Total reward: -54.14226842208534\n",
      "Episode  15 Total reward: -250.30889393869\n",
      "Episode  16 Total reward: -9.077299880558272\n",
      "Episode  17 Total reward: -202.35598874976347\n",
      "Episode  18 Total reward: -132.23878270184997\n",
      "Episode  19 Total reward: -94.60510317345668\n",
      "Episode  20 Total reward: -232.80038287770122\n",
      "Episode  21 Total reward: -123.27922921135188\n",
      "Episode  22 Total reward: -122.16867506327468\n",
      "Episode  23 Total reward: -186.43699344925744\n",
      "Episode  24 Total reward: -164.53472489944215\n",
      "Episode  25 Total reward: -149.11344375809284\n",
      "Episode  26 Total reward: -79.30763475272092\n",
      "Episode  27 Total reward: -209.2068400664956\n",
      "Episode  28 Total reward: -437.8731503298052\n",
      "Episode  29 Total reward: -96.34401132100493\n",
      "Episode  30 Total reward: -173.87692160373922\n",
      "Episode  31 Total reward: -157.69478189608907\n",
      "Episode  32 Total reward: -56.38223728675676\n",
      "Episode  33 Total reward: -284.3193440814212\n",
      "Episode  34 Total reward: -245.91179553476303\n",
      "Episode  35 Total reward: -270.33812718466004\n",
      "Episode  36 Total reward: -88.50113243335306\n",
      "Episode  37 Total reward: -108.9406406669533\n",
      "Episode  38 Total reward: -309.78287043401997\n",
      "Episode  39 Total reward: -80.01488729150154\n",
      "Episode  40 Total reward: -176.68192395375343\n",
      "Episode  41 Total reward: -259.7434608608515\n",
      "Episode  42 Total reward: -79.96721622547832\n",
      "Episode  43 Total reward: -510.83389953840185\n",
      "Episode  44 Total reward: -167.47061575583365\n",
      "Episode  45 Total reward: -280.92366650549883\n",
      "Episode  46 Total reward: -197.35807397319002\n",
      "Episode  47 Total reward: -318.4481440227478\n",
      "Episode  48 Total reward: -103.5299801882272\n",
      "Episode  49 Total reward: -453.28941258807265\n"
     ]
    },
    {
     "data": {
      "image/png": "[encoded data removed]",
      "text/plain": [
       "<Figure size 640x480 with 1 Axes>"
      ]
     },
     "metadata": {},
     "output_type": "display_data"
    },
    {
     "name": "stdout",
     "output_type": "stream",
     "text": [
      "\n",
      "Recompensa de Media: -204.13011500796463 \n",
      "\n"
     ]
    }
   ],
   "source": [
    "# Evaluamos al Generador \n",
    "rewardMean=gan9.evaluate_G()\n",
    "print('\\nRecompensa de Media:', rewardMean, '\\n')"
   ]
  },
  {
   "cell_type": "markdown",
   "metadata": {},
   "source": [
    "## Experimento 10"
   ]
  },
  {
   "cell_type": "markdown",
   "metadata": {},
   "source": [
    "### Construcción de base de datos experta con 10 trayectoria "
   ]
  },
  {
   "cell_type": "code",
   "execution_count": 121,
   "metadata": {},
   "outputs": [
    {
     "name": "stdout",
     "output_type": "stream",
     "text": [
      "\n",
      "\tEstados reales: \n",
      " [[-0.00655632  1.412633   -0.6640952  ...  0.15042743  0.\n",
      "   0.        ]\n",
      " [-0.01301994  1.4137701  -0.65149987 ...  0.1017526   0.\n",
      "   0.        ]\n",
      " [-0.01941118  1.414314   -0.6424104  ...  0.06514421  0.\n",
      "   0.        ]\n",
      " ...\n",
      " [-0.46665245 -0.0082029   0.03071342 ...  0.67170596  1.\n",
      "   1.        ]\n",
      " [-0.4661541  -0.01350838  0.02066027 ...  0.635882    1.\n",
      "   1.        ]\n",
      " [-0.46567154 -0.01838761  0.02184356 ...  0.58443296  1.\n",
      "   1.        ]]\n",
      "\tAcciones reales: \n",
      " [3 3 3 ... 0 3 3]\n",
      "\n",
      "\t Estados siguientes: \n",
      " [[-0.00655632  1.412633   -0.6640952  ...  0.15042743  0.\n",
      "   0.        ]\n",
      " [-0.01301994  1.4137701  -0.65149987 ...  0.1017526   0.\n",
      "   0.        ]\n",
      " [-0.01941118  1.414314   -0.6424104  ...  0.06514421  0.\n",
      "   0.        ]\n",
      " ...\n",
      " [-0.46665245 -0.0082029   0.03071342 ...  0.67170596  1.\n",
      "   1.        ]\n",
      " [-0.4661541  -0.01350838  0.02066027 ...  0.635882    1.\n",
      "   1.        ]\n",
      " [-0.46567154 -0.01838761  0.02184356 ...  0.58443296  1.\n",
      "   1.        ]]\n",
      "\n",
      "\t Recompensas: [   0    0    0 ...   -1   -1 -100]\n"
     ]
    }
   ],
   "source": [
    "expert_observations = np.genfromtxt(\"observations_LunarLander.csv\",delimiter=\"\\t\",dtype=str)\n",
    "expert_actions = np.genfromtxt('actions_LunarLander.csv', dtype=np.int32)\n",
    "expert_next_observations = np.genfromtxt('next_observations_LunarLander.csv',delimiter=\"\\t\",dtype=str)\n",
    "expert_rewards = np.genfromtxt('rewards_LunarLander.csv', dtype=np.int32)\n",
    "expert_num_tray=np.genfromtxt('n_trayectoria_LunarLander.csv', dtype=np.int32)\n",
    "\n",
    "# Reemplazar las comas\n",
    "expert_observations = np.core.defchararray.replace(expert_observations, ',', ' ')\n",
    "\n",
    "# Reemplazar las comas\n",
    "expert_next_observations = np.core.defchararray.replace(expert_next_observations, ',', ' ')\n",
    "\n",
    "# Crear un nuevo array para almacenar los datos convertidos\n",
    "converted_observations = np.genfromtxt(expert_observations, delimiter=' ', dtype=float)\n",
    "# Crear un nuevo array para almacenar los datos convertidos\n",
    "converted_next_observations = np.genfromtxt(expert_observations, delimiter=' ', dtype=float)\n",
    "\n",
    "\n",
    "rewards=np.array(expert_rewards).reshape(-1,1)\n",
    "\n",
    "\n",
    "print(\"\\n\\tEstados reales: \\n\", converted_observations)\n",
    "print(\"\\tAcciones reales: \\n\", expert_actions)\n",
    "print(\"\\n\\t Estados siguientes: \\n\", converted_next_observations)\n",
    "print(\"\\n\\t Recompensas:\" ,expert_rewards)"
   ]
  },
  {
   "cell_type": "code",
   "execution_count": 122,
   "metadata": {},
   "outputs": [
    {
     "name": "stdout",
     "output_type": "stream",
     "text": [
      "6310\n"
     ]
    }
   ],
   "source": [
    "longitud_trayectoria += np.count_nonzero(expert_num_tray == 9)\n",
    "print(longitud_trayectoria)"
   ]
  },
  {
   "cell_type": "code",
   "execution_count": 123,
   "metadata": {},
   "outputs": [],
   "source": [
    "converted_observations=converted_observations[0:longitud_trayectoria]\n",
    "expert_actions=expert_actions[0:longitud_trayectoria]\n",
    "converted_next_observations=converted_next_observations[0:longitud_trayectoria]\n",
    "expert_rewards=expert_rewards[0:longitud_trayectoria]"
   ]
  },
  {
   "cell_type": "code",
   "execution_count": 124,
   "metadata": {},
   "outputs": [],
   "source": [
    "# Construimos el dataset [s,a,s',r] reales y lo dividimos en training y test\n",
    "expert_a_one_hot=np.eye(env.action_space.n)[expert_actions]\n",
    "expert_rewards = expert_rewards.reshape(-1, 1)\n",
    "\n",
    "dataset1=np.concatenate([converted_observations,expert_a_one_hot],axis=1)\n",
    "dataset2=np.concatenate([dataset1,converted_next_observations],axis=1)\n",
    "dataset=np.concatenate([dataset2,expert_rewards],axis=1)\n"
   ]
  },
  {
   "cell_type": "code",
   "execution_count": 125,
   "metadata": {},
   "outputs": [
    {
     "name": "stdout",
     "output_type": "stream",
     "text": [
      "Nº de (ESTADOS,ACCIONES) en el conjunto de entrenamiento: 5048\n",
      "Nº de (ESTADOS,ACCIONES) en el conjunto de prueba: 1262\n"
     ]
    }
   ],
   "source": [
    "#############################################################################\n",
    "# DIVISIÓN TRAIN Y TEST\n",
    "##############################################################################\n",
    "\n",
    "# Divide los datos en conjuntos de entrenamiento y prueba\n",
    "X_train, X_test = train_test_split(dataset, test_size=0.2, random_state=0)\n",
    "\n",
    "\n",
    "#Imprime el número de elementos en el conjuntos de entrenamiento y prueba\n",
    "print('Nº de (ESTADOS,ACCIONES) en el conjunto de entrenamiento:', len(X_train))\n",
    "print('Nº de (ESTADOS,ACCIONES) en el conjunto de prueba:', len(X_test))"
   ]
  },
  {
   "cell_type": "code",
   "execution_count": 126,
   "metadata": {},
   "outputs": [],
   "source": [
    "env= gym.make('LunarLander-v2')\n",
    "obs,_= env.reset()\n",
    "\n",
    "# Generador\n",
    "generator=Policy_net( 'policy', env, obs)\n",
    "\n",
    "# Generamos [s,a, s', r] falsas y las políticas theta_i y theta_i+1\n",
    "observations, actions, next_observations, rewards, Old_Policy, Policy=generator.generate_fakes()\n",
    "\n",
    "# Discriminador\n",
    "discriminator=Discriminator(env, discriminator_net, converted_observations, expert_actions, converted_next_observations, expert_rewards, observations, actions, next_observations, rewards)"
   ]
  },
  {
   "cell_type": "markdown",
   "metadata": {},
   "source": [
    "### Definición de GAIL"
   ]
  },
  {
   "cell_type": "code",
   "execution_count": 127,
   "metadata": {},
   "outputs": [],
   "source": [
    "gan10=GAN(discriminator=discriminator,generator=generator)"
   ]
  },
  {
   "cell_type": "markdown",
   "metadata": {},
   "source": [
    "### Compilación de GAIL"
   ]
  },
  {
   "cell_type": "code",
   "execution_count": 128,
   "metadata": {},
   "outputs": [],
   "source": [
    "tf.config.run_functions_eagerly(True)\n",
    "gan10.compile(\n",
    "    d_optimizer=tf.keras.optimizers.Adam(learning_rate=LEARNING_RATE),\n",
    "    loss_fn_D=loss_fn_D\n",
    ")"
   ]
  },
  {
   "cell_type": "markdown",
   "metadata": {},
   "source": [
    "### Entrenamiento de GAIL"
   ]
  },
  {
   "cell_type": "code",
   "execution_count": 129,
   "metadata": {},
   "outputs": [
    {
     "name": "stdout",
     "output_type": "stream",
     "text": [
      "297/297 [==============================] - 6378s 21s/step - d_loss: 1.8925 - g_loss: 1.9388\n"
     ]
    }
   ],
   "source": [
    "# Deshabilitar los mensajes de información de TensorFlow\n",
    "os.environ['TF_CPP_MIN_LOG_LEVEL'] = '3'\n",
    "\n",
    "# Deshabilitar los mensajes de información de OpenAI Gym\n",
    "gym.logger.set_level(40)\n",
    "\n",
    "BATCH_SIZE= round(len(X_train)/300)\n",
    "\n",
    "history=gan10.fit(X_train,\n",
    "    epochs=EPOCHS, batch_size=BATCH_SIZE)\n"
   ]
  },
  {
   "cell_type": "markdown",
   "metadata": {},
   "source": [
    "### Evaluación de GAIL"
   ]
  },
  {
   "cell_type": "code",
   "execution_count": 130,
   "metadata": {},
   "outputs": [
    {
     "name": "stdout",
     "output_type": "stream",
     "text": [
      "1/1 [==============================] - 0s 22ms/step - loss: 0.0000e+00 - accuracy: 0.0000e+00\n",
      "1/1 [==============================] - 0s 22ms/step - loss: 0.0000e+00 - accuracy: 0.0000e+00\n",
      ">Loss real: \n",
      "0.0\n",
      ">Loss fake: \n",
      "0.0\n"
     ]
    }
   ],
   "source": [
    "# Evaluamos el Discriminador de GAIL en el TEST\n",
    "gan10.evaluate_D(X_test)\n"
   ]
  },
  {
   "cell_type": "code",
   "execution_count": 131,
   "metadata": {},
   "outputs": [
    {
     "name": "stdout",
     "output_type": "stream",
     "text": [
      "Episode  0 Total reward: -96.60530979103294\n",
      "Episode  1 Total reward: -322.72626856095565\n",
      "Episode  2 Total reward: -207.49585738247885\n",
      "Episode  3 Total reward: -113.93612730227393\n",
      "Episode  4 Total reward: -116.19026047853303\n",
      "Episode  5 Total reward: -197.8051587952449\n",
      "Episode  6 Total reward: -116.62362740529855\n",
      "Episode  7 Total reward: -317.9933518542166\n",
      "Episode  8 Total reward: -171.20528284453897\n",
      "Episode  9 Total reward: -134.05440984737936\n",
      "Episode  10 Total reward: -117.6586701972669\n",
      "Episode  11 Total reward: -143.4317097301528\n",
      "Episode  12 Total reward: -146.37356671683557\n",
      "Episode  13 Total reward: -125.20059286613869\n",
      "Episode  14 Total reward: -156.19924392151825\n",
      "Episode  15 Total reward: -69.91167260801974\n",
      "Episode  16 Total reward: -74.57811474484491\n",
      "Episode  17 Total reward: -125.9218161311873\n",
      "Episode  18 Total reward: -115.84439131591272\n",
      "Episode  19 Total reward: -73.19731594409244\n",
      "Episode  20 Total reward: -86.16123771276817\n",
      "Episode  21 Total reward: -113.61847842579661\n",
      "Episode  22 Total reward: -92.21031359544367\n",
      "Episode  23 Total reward: -184.84061040311042\n",
      "Episode  24 Total reward: -364.39828096413135\n",
      "Episode  25 Total reward: -144.991144485966\n",
      "Episode  26 Total reward: -342.8013290165934\n",
      "Episode  27 Total reward: -369.6199004666584\n",
      "Episode  28 Total reward: 13.60873111019717\n",
      "Episode  29 Total reward: -167.69481308740205\n",
      "Episode  30 Total reward: -125.60948361462769\n",
      "Episode  31 Total reward: -341.78519111597814\n",
      "Episode  32 Total reward: -295.93729749008924\n",
      "Episode  33 Total reward: -90.65807366194599\n",
      "Episode  34 Total reward: -267.8480042501202\n",
      "Episode  35 Total reward: -146.60501832628583\n",
      "Episode  36 Total reward: -160.4169401684798\n",
      "Episode  37 Total reward: -134.0516750959286\n",
      "Episode  38 Total reward: -255.60949154562945\n",
      "Episode  39 Total reward: -169.17120366271575\n",
      "Episode  40 Total reward: 8.216372885788473\n",
      "Episode  41 Total reward: -398.4524764125261\n",
      "Episode  42 Total reward: -111.10665853362079\n",
      "Episode  43 Total reward: -146.06807044208597\n",
      "Episode  44 Total reward: -222.45892846235722\n",
      "Episode  45 Total reward: -200.3722076260671\n",
      "Episode  46 Total reward: -169.87163170823254\n",
      "Episode  47 Total reward: -112.45752136081421\n",
      "Episode  48 Total reward: -90.63513133233049\n",
      "Episode  49 Total reward: -316.83826020278934\n"
     ]
    },
    {
     "data": {
      "image/png": "[encoded data removed]",
      "text/plain": [
       "<Figure size 640x480 with 1 Axes>"
      ]
     },
     "metadata": {},
     "output_type": "display_data"
    },
    {
     "name": "stdout",
     "output_type": "stream",
     "text": [
      "\n",
      "Recompensa de Media: -170.8683403522486 \n",
      "\n"
     ]
    }
   ],
   "source": [
    "# Evaluamos al Generador \n",
    "rewardMean=gan10.evaluate_G()\n",
    "print('\\nRecompensa de Media:', rewardMean, '\\n')"
   ]
  }
 ],
 "metadata": {
  "kernelspec": {
   "display_name": "Python 3",
   "language": "python",
   "name": "python3"
  },
  "language_info": {
   "codemirror_mode": {
    "name": "ipython",
    "version": 3
   },
   "file_extension": ".py",
   "mimetype": "text/x-python",
   "name": "python",
   "nbconvert_exporter": "python",
   "pygments_lexer": "ipython3",
   "version": "3.10.12"
  }
 },
 "nbformat": 4,
 "nbformat_minor": 2
}
