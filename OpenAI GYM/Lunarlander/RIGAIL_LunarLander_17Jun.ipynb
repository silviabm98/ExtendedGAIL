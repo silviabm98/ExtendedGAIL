{
 "cells": [
  {
   "cell_type": "code",
   "execution_count": 1,
   "metadata": {},
   "outputs": [
    {
     "name": "stdout",
     "output_type": "stream",
     "text": [
      "Sun Jun 30 14:30:04 2024       \n",
      "+-----------------------------------------------------------------------------------------+\n",
      "| NVIDIA-SMI 555.52.04              Driver Version: 555.52.04      CUDA Version: 12.5     |\n",
      "|-----------------------------------------+------------------------+----------------------+\n",
      "| GPU  Name                 Persistence-M | Bus-Id          Disp.A | Volatile Uncorr. ECC |\n",
      "| Fan  Temp   Perf          Pwr:Usage/Cap |           Memory-Usage | GPU-Util  Compute M. |\n",
      "|                                         |                        |               MIG M. |\n",
      "|=========================================+========================+======================|\n",
      "|   0  NVIDIA GeForce RTX 3060 ...    Off |   00000000:01:00.0  On |                  N/A |\n",
      "| N/A   63C    P5             20W /  100W |      64MiB /   6144MiB |      4%      Default |\n",
      "|                                         |                        |                  N/A |\n",
      "+-----------------------------------------+------------------------+----------------------+\n",
      "                                                                                         \n",
      "+-----------------------------------------------------------------------------------------+\n",
      "| Processes:                                                                              |\n",
      "|  GPU   GI   CI        PID   Type   Process name                              GPU Memory |\n",
      "|        ID   ID                                                               Usage      |\n",
      "|=========================================================================================|\n",
      "|    0   N/A  N/A      3279      G   /usr/lib/xorg/Xorg                             53MiB |\n",
      "+-----------------------------------------------------------------------------------------+\n"
     ]
    }
   ],
   "source": [
    "#########################################################################\n",
    "## COMPROBAR GPU ASIGNADA EN COLABORATORY\n",
    "#########################################################################\n",
    "gpu_info = !nvidia-smi\n",
    "gpu_info = '\\n'.join(gpu_info)\n",
    "if gpu_info.find('failed') >= 0:\n",
    "  print('Not connected to a GPU')\n",
    "else:\n",
    "  print(gpu_info)"
   ]
  },
  {
   "cell_type": "code",
   "execution_count": 2,
   "metadata": {},
   "outputs": [
    {
     "name": "stderr",
     "output_type": "stream",
     "text": [
      "2024-06-30 14:30:04.389722: I tensorflow/stream_executor/platform/default/dso_loader.cc:49] Successfully opened dynamic library libcudart.so.10.1\n"
     ]
    }
   ],
   "source": [
    "#########################################################################\n",
    "## LIBRERIAS NECESARIAS\n",
    "#########################################################################\n",
    "import tensorflow as tf\n",
    "import gymnasium as gym\n",
    "from stable_baselines3 import PPO\n",
    "from tensorflow.keras.layers import concatenate\n",
    "import numpy as np\n",
    "import keras\n",
    "import matplotlib.pyplot as plt\n",
    "from keras import layers\n",
    "from sklearn.model_selection import train_test_split\n",
    "\n",
    "import os\n",
    "from stable_baselines3.common.vec_env import DummyVecEnv"
   ]
  },
  {
   "cell_type": "code",
   "execution_count": 3,
   "metadata": {},
   "outputs": [
    {
     "name": "stdout",
     "output_type": "stream",
     "text": [
      "Num GPUs Available:  1\n"
     ]
    },
    {
     "name": "stderr",
     "output_type": "stream",
     "text": [
      "2024-06-30 14:30:06.520073: I tensorflow/compiler/jit/xla_cpu_device.cc:41] Not creating XLA devices, tf_xla_enable_xla_devices not set\n",
      "2024-06-30 14:30:06.520151: I tensorflow/stream_executor/platform/default/dso_loader.cc:49] Successfully opened dynamic library libcuda.so.1\n",
      "2024-06-30 14:30:06.656179: I tensorflow/stream_executor/cuda/cuda_gpu_executor.cc:941] successful NUMA node read from SysFS had negative value (-1), but there must be at least one NUMA node, so returning NUMA node zero\n",
      "2024-06-30 14:30:06.662980: I tensorflow/core/common_runtime/gpu/gpu_device.cc:1720] Found device 0 with properties: \n",
      "pciBusID: 0000:01:00.0 name: NVIDIA GeForce RTX 3060 Laptop GPU computeCapability: 8.6\n",
      "coreClock: 1.605GHz coreCount: 30 deviceMemorySize: 5.70GiB deviceMemoryBandwidth: 312.97GiB/s\n",
      "2024-06-30 14:30:06.662999: I tensorflow/stream_executor/platform/default/dso_loader.cc:49] Successfully opened dynamic library libcudart.so.10.1\n",
      "2024-06-30 14:30:06.664035: I tensorflow/stream_executor/platform/default/dso_loader.cc:49] Successfully opened dynamic library libcublas.so.10\n",
      "2024-06-30 14:30:06.664093: I tensorflow/stream_executor/platform/default/dso_loader.cc:49] Successfully opened dynamic library libcublasLt.so.10\n",
      "2024-06-30 14:30:06.665140: I tensorflow/stream_executor/platform/default/dso_loader.cc:49] Successfully opened dynamic library libcufft.so.10\n",
      "2024-06-30 14:30:06.665192: I tensorflow/stream_executor/platform/default/dso_loader.cc:49] Successfully opened dynamic library libcurand.so.10\n",
      "2024-06-30 14:30:06.666224: I tensorflow/stream_executor/platform/default/dso_loader.cc:49] Successfully opened dynamic library libcusolver.so.10\n",
      "2024-06-30 14:30:06.666860: I tensorflow/stream_executor/platform/default/dso_loader.cc:49] Successfully opened dynamic library libcusparse.so.10\n",
      "2024-06-30 14:30:06.669164: I tensorflow/stream_executor/platform/default/dso_loader.cc:49] Successfully opened dynamic library libcudnn.so.7\n",
      "2024-06-30 14:30:06.669298: I tensorflow/stream_executor/cuda/cuda_gpu_executor.cc:941] successful NUMA node read from SysFS had negative value (-1), but there must be at least one NUMA node, so returning NUMA node zero\n",
      "2024-06-30 14:30:06.677382: I tensorflow/stream_executor/cuda/cuda_gpu_executor.cc:941] successful NUMA node read from SysFS had negative value (-1), but there must be at least one NUMA node, so returning NUMA node zero\n",
      "2024-06-30 14:30:06.682675: I tensorflow/core/common_runtime/gpu/gpu_device.cc:1862] Adding visible gpu devices: 0\n"
     ]
    }
   ],
   "source": [
    "print(\"Num GPUs Available: \", len(tf.config.experimental.list_physical_devices('GPU')))"
   ]
  },
  {
   "cell_type": "code",
   "execution_count": 4,
   "metadata": {},
   "outputs": [],
   "source": [
    "############################################################################\n",
    "## Variables globales (hiperparámetros)\n",
    "###########################################################################\n",
    "EPOCHS=1\n",
    "BATCH_SIZE=140 # Regla de tres: Tamaño del dataset experto----batch size\n",
    "\n",
    "EPISODES=10\n",
    "EPISODES_EVALUATE_G=50\n",
    "\n",
    "TOTAL_TIMESTEPS_PPO_GENERATOR=40000  # El experto en vez de 250000 tiene 20000 \n",
    "LEARNING_RATE=0.001"
   ]
  },
  {
   "cell_type": "markdown",
   "metadata": {},
   "source": [
    "# GYM Lunar Lander\n",
    "\n",
    "\n",
    "* **Entorno**:\n",
    "\n",
    "  Este entorno es un **problema clásico de optimización de trayectoria de un COHETE**. Según el principio del máximo de Pontryagin, es óptimo encender el motor a máxima potencia o apagarlo. Esta es la razón por la cual este entorno tiene acciones discretas: encender el motor o apagarlo.\n",
    "\n",
    " Existen dos versiones del entorno: discreta o continua. La plataforma de aterrizaje siempre se encuentra en las coordenadas (0,0). Las coordenadas son los primeros dos números en el vector de estado. Es posible aterrizar fuera de la plataforma de aterrizaje. El combustible es infinito, por lo que un agente puede aprender a volar y luego aterrizar en su primer intento.\n",
    "\n",
    "* **Acciones**: tenemos cuatro acciones discretas:\n",
    "\n",
    "  * **0**:No hacer nada\n",
    "  * **1**: Encender motor de orientación izquierdo\n",
    "  * **2**: Encender motor principal\n",
    "  * **3**: Encender motor de orientación derecho\n",
    "* **Observaciones**: es un vector de 8 dimensiones donde se almacenan las coordenadas (x,y), las velocidades lineales en x e y, su ángulo, su velocidad angular, y dos booleanos que representan si cada pata está en contacto con el suelo o no.\n"
   ]
  },
  {
   "cell_type": "code",
   "execution_count": 5,
   "metadata": {},
   "outputs": [],
   "source": [
    "#!cd pybox2d && python setup.py build && python setup.py install"
   ]
  },
  {
   "cell_type": "code",
   "execution_count": 6,
   "metadata": {},
   "outputs": [
    {
     "name": "stdout",
     "output_type": "stream",
     "text": [
      "4\n",
      "8\n"
     ]
    }
   ],
   "source": [
    "# Definimos el entorno\n",
    "env = gym.make(\"LunarLander-v2\")\n",
    "\n",
    "# Obtenemos el espacio de estados y acciones del entorno\n",
    "ob_space=env.observation_space\n",
    "ac_space=env.action_space\n",
    "\n",
    "# Mostramos el número de acciones del entorno\n",
    "print(env.action_space.n)\n",
    "# Mostramos el número de observaciones del entorno\n",
    "print(ob_space.shape[0])"
   ]
  },
  {
   "cell_type": "markdown",
   "metadata": {},
   "source": [
    "# Discriminador"
   ]
  },
  {
   "cell_type": "markdown",
   "metadata": {},
   "source": [
    "## Red neuronal del Discriminador"
   ]
  },
  {
   "cell_type": "code",
   "execution_count": 7,
   "metadata": {},
   "outputs": [
    {
     "name": "stderr",
     "output_type": "stream",
     "text": [
      "2024-06-30 14:30:06.740244: I tensorflow/core/platform/cpu_feature_guard.cc:142] This TensorFlow binary is optimized with oneAPI Deep Neural Network Library (oneDNN) to use the following CPU instructions in performance-critical operations:  SSE4.1 SSE4.2 AVX AVX2 FMA\n",
      "To enable them in other operations, rebuild TensorFlow with the appropriate compiler flags.\n",
      "2024-06-30 14:30:06.741062: I tensorflow/compiler/jit/xla_gpu_device.cc:99] Not creating XLA devices, tf_xla_enable_xla_devices not set\n",
      "2024-06-30 14:30:06.741223: I tensorflow/stream_executor/cuda/cuda_gpu_executor.cc:941] successful NUMA node read from SysFS had negative value (-1), but there must be at least one NUMA node, so returning NUMA node zero\n",
      "2024-06-30 14:30:06.746424: I tensorflow/core/common_runtime/gpu/gpu_device.cc:1720] Found device 0 with properties: \n",
      "pciBusID: 0000:01:00.0 name: NVIDIA GeForce RTX 3060 Laptop GPU computeCapability: 8.6\n",
      "coreClock: 1.605GHz coreCount: 30 deviceMemorySize: 5.70GiB deviceMemoryBandwidth: 312.97GiB/s\n",
      "2024-06-30 14:30:06.746474: I tensorflow/stream_executor/platform/default/dso_loader.cc:49] Successfully opened dynamic library libcudart.so.10.1\n",
      "2024-06-30 14:30:06.746543: I tensorflow/stream_executor/platform/default/dso_loader.cc:49] Successfully opened dynamic library libcublas.so.10\n",
      "2024-06-30 14:30:06.746552: I tensorflow/stream_executor/platform/default/dso_loader.cc:49] Successfully opened dynamic library libcublasLt.so.10\n",
      "2024-06-30 14:30:06.746560: I tensorflow/stream_executor/platform/default/dso_loader.cc:49] Successfully opened dynamic library libcufft.so.10\n",
      "2024-06-30 14:30:06.746565: I tensorflow/stream_executor/platform/default/dso_loader.cc:49] Successfully opened dynamic library libcurand.so.10\n",
      "2024-06-30 14:30:06.746573: I tensorflow/stream_executor/platform/default/dso_loader.cc:49] Successfully opened dynamic library libcusolver.so.10\n",
      "2024-06-30 14:30:06.746579: I tensorflow/stream_executor/platform/default/dso_loader.cc:49] Successfully opened dynamic library libcusparse.so.10\n",
      "2024-06-30 14:30:06.746585: I tensorflow/stream_executor/platform/default/dso_loader.cc:49] Successfully opened dynamic library libcudnn.so.7\n",
      "2024-06-30 14:30:06.746721: I tensorflow/stream_executor/cuda/cuda_gpu_executor.cc:941] successful NUMA node read from SysFS had negative value (-1), but there must be at least one NUMA node, so returning NUMA node zero\n",
      "2024-06-30 14:30:06.749621: I tensorflow/stream_executor/cuda/cuda_gpu_executor.cc:941] successful NUMA node read from SysFS had negative value (-1), but there must be at least one NUMA node, so returning NUMA node zero\n",
      "2024-06-30 14:30:06.752612: I tensorflow/core/common_runtime/gpu/gpu_device.cc:1862] Adding visible gpu devices: 0\n",
      "2024-06-30 14:30:06.752647: I tensorflow/stream_executor/platform/default/dso_loader.cc:49] Successfully opened dynamic library libcudart.so.10.1\n",
      "2024-06-30 14:30:07.904702: I tensorflow/core/common_runtime/gpu/gpu_device.cc:1261] Device interconnect StreamExecutor with strength 1 edge matrix:\n",
      "2024-06-30 14:30:07.904727: I tensorflow/core/common_runtime/gpu/gpu_device.cc:1267]      0 \n",
      "2024-06-30 14:30:07.904731: I tensorflow/core/common_runtime/gpu/gpu_device.cc:1280] 0:   N \n",
      "2024-06-30 14:30:07.905063: I tensorflow/stream_executor/cuda/cuda_gpu_executor.cc:941] successful NUMA node read from SysFS had negative value (-1), but there must be at least one NUMA node, so returning NUMA node zero\n",
      "2024-06-30 14:30:07.906998: I tensorflow/stream_executor/cuda/cuda_gpu_executor.cc:941] successful NUMA node read from SysFS had negative value (-1), but there must be at least one NUMA node, so returning NUMA node zero\n",
      "2024-06-30 14:30:07.908843: I tensorflow/stream_executor/cuda/cuda_gpu_executor.cc:941] successful NUMA node read from SysFS had negative value (-1), but there must be at least one NUMA node, so returning NUMA node zero\n",
      "2024-06-30 14:30:07.910304: I tensorflow/core/common_runtime/gpu/gpu_device.cc:1406] Created TensorFlow device (/job:localhost/replica:0/task:0/device:GPU:0 with 5187 MB memory) -> physical GPU (device: 0, name: NVIDIA GeForce RTX 3060 Laptop GPU, pci bus id: 0000:01:00.0, compute capability: 8.6)\n"
     ]
    },
    {
     "name": "stdout",
     "output_type": "stream",
     "text": [
      "Model: \"discriminator_net\"\n",
      "_________________________________________________________________\n",
      "Layer (type)                 Output Shape              Param #   \n",
      "=================================================================\n",
      "layer1 (Dense)               (None, None, 10)          220       \n",
      "_________________________________________________________________\n",
      "layer2 (Dense)               (None, None, 10)          110       \n",
      "_________________________________________________________________\n",
      "layer3 (Dense)               (None, None, 10)          110       \n",
      "_________________________________________________________________\n",
      "prob (Dense)                 (None, None, 1)           11        \n",
      "=================================================================\n",
      "Total params: 451\n",
      "Trainable params: 451\n",
      "Non-trainable params: 0\n",
      "_________________________________________________________________\n"
     ]
    }
   ],
   "source": [
    "################################################################################################################################################\n",
    "# Red neuronal del Discriminador\n",
    "################################################################################################################################################\n",
    "\n",
    "# Input: secuencias [s,a,s',r] reales o sintéticas, de longitud 2*ob_space.shape[0] + ac_space.n+1.\n",
    "# Output: probabilidad de que la secuencia sea real, valor perteneciente al intervalo [0,1]\n",
    "discriminator_net=keras.Sequential(\n",
    "    [\n",
    "        keras.Input(shape=(None, 2*ob_space.shape[0] + ac_space.n+1)),\n",
    "        layers.Dense(units=10,activation=tf.nn.relu, name='layer1'),\n",
    "        layers.Dense(units=10,activation=tf.nn.relu, name='layer2'),\n",
    "        layers.Dense(units=10, activation=tf.nn.relu, name='layer3'),\n",
    "        layers.Dense(units=1, activation=tf.sigmoid, name='prob'),\n",
    "\n",
    "    ],\n",
    "    name=\"discriminator_net\"\n",
    "\n",
    ")\n",
    "discriminator_net.summary()"
   ]
  },
  {
   "cell_type": "markdown",
   "metadata": {},
   "source": [
    "## Función de pérdida del Discriminador"
   ]
  },
  {
   "cell_type": "code",
   "execution_count": 8,
   "metadata": {},
   "outputs": [],
   "source": [
    "#########################################################################################################\n",
    "# Función de pérdida del Discriminador\n",
    "#########################################################################################################\n",
    "\n",
    "# prob1=> output de la red neuronal del Discriminador cuando recibe como entrada una secuencia REAL [s,a, s', r] de la base de datos\n",
    "# prob2=> output de la red neuronal del Discriminador cuando recibe como entrada una secuencia FALSA [s,a, s', r]\n",
    "def loss_fn_D(prob1, prob2):\n",
    "\n",
    "    # Esperanza del logaritmo de la D(x)=salida de la red neuronal cuando x=entrada REAL\n",
    "    loss_expert = tf.reduce_mean(tf.math.log(tf.clip_by_value(prob1, 0.01, 1)))\n",
    "\n",
    "    # Esperanza del logaritmo de 1-D(x) donde D(x)=salida de la red neuronal cuando x=entrada FALSA\n",
    "    loss_agent = tf.reduce_mean(tf.math.log(tf.clip_by_value(1 - prob2, 0.01,1)))\n",
    "\n",
    "    loss_expert = tf.cast(loss_expert, dtype=tf.float32)\n",
    "    loss_agent = tf.cast(loss_agent, dtype=tf.float32)\n",
    "\n",
    "    loss = loss_expert + loss_agent\n",
    "\n",
    "    loss = -loss\n",
    "\n",
    "    return loss"
   ]
  },
  {
   "cell_type": "markdown",
   "metadata": {},
   "source": [
    "## Clase del Discriminador"
   ]
  },
  {
   "cell_type": "code",
   "execution_count": 9,
   "metadata": {},
   "outputs": [],
   "source": [
    "# Clase DISCRIMINADOR\n",
    "class Discriminator:\n",
    "    def __init__(self, env, discriminator_net, expert_s, expert_a, expert_s_prima, expert_r, agent_s, agent_a, agent_s_prima, agent_r):\n",
    "        # -Red neuronal del Discriminador\n",
    "        self.discriminator_net=discriminator_net\n",
    "\n",
    "        # -Experto: [s,a,s',r]\n",
    "        self.expert_s=expert_s\n",
    "        self.expert_a=expert_a\n",
    "        self.expert_s_prima=expert_s_prima\n",
    "        self.expert_r= np.array(expert_r)\n",
    "\n",
    "\n",
    "        expert_a_one_hot=tf.one_hot(self.expert_a,depth=env.action_space.n)\n",
    "        # Añadimos ruido para estabilizar el entrenamiento\n",
    "        expert_a_one_hot+= tf.random.normal(tf.shape(expert_a_one_hot), mean=0.2, stddev=0.1, dtype=tf.float32)/1.2\n",
    "        expert_s_a=tf.concat([self.expert_s,expert_a_one_hot],axis=1)\n",
    "        expert_s_a_s=tf.concat([expert_s_a, self.expert_s_prima], axis=1)\n",
    "        expert_r=self.expert_r.reshape(-1, 1)\n",
    "\n",
    "        # expert_s_a_s_r=>secuencia experta=>[s,a,s',r]\n",
    "        self.expert_s_a_s_r=tf.concat([expert_s_a_s, expert_r], axis=1)\n",
    "\n",
    "        # -Agente:  [s,a,s',r]\n",
    "        self.agent_s=agent_s\n",
    "        self.agent_a=agent_a\n",
    "        self.agent_s_prima=agent_s_prima\n",
    "        self.agent_r=np.array(agent_r)\n",
    "\n",
    "        agent_a_one_hot=tf.one_hot(self.agent_a,depth=env.action_space.n)\n",
    "        agent_a_one_hot+= tf.random.normal(tf.shape(agent_a_one_hot), mean=0.2, stddev=0.1, dtype=tf.float32)/1.2\n",
    "        agent_s_a=tf.concat([self.agent_s,agent_a_one_hot],axis=1)\n",
    "        agent_s_a_s=tf.concat([agent_s_a, self.agent_s_prima], axis=1)\n",
    "        agent_r=self.agent_r.reshape(-1, 1)\n",
    "\n",
    "        # agent_s_a_s_r=>secuencia agente=>[s,a,s',r]\n",
    "        self.agent_s_a_s_r=tf.concat([agent_s_a_s, agent_r], axis=1)\n",
    "\n",
    "        # Calculamos la salida de la red para [s,a,s',r] del experto y del agente ya que lo necesitamos para reward\n",
    "\n",
    "        # -Salida de la red neuronal Discriminador para [s,a,s',r] expertos(verdaderos)\n",
    "        self.prob_expert=self.discriminator_net(self.expert_s_a_s_r)\n",
    "\n",
    "        # -Salida  de la red neuronal Discrimiinador para [s,a,s',r] Agente(falsos)\n",
    "        self.prob_agent=self.discriminator_net(self.agent_s_a_s_r)\n",
    "\n",
    "        #-Recompensa obtenida cuando el Agente realiza [s,a,s',r] falsas\n",
    "        self.rewards=tf.math.log(tf.clip_by_value(self.prob_agent,1e-10,1)) #log(P(expert|s,a)) cuando mas grande es mejor el agente\n",
    "\n",
    "\n",
    "    def getNet(self):\n",
    "        return self.discriminator_net\n",
    "\n",
    "    def getAgent_S_A(self):\n",
    "        return self.agent_s_a\n",
    "\n",
    "    def getExpert_S_A(self):\n",
    "        return self.expert_s_a\n",
    "\n",
    "    def getProb(self):\n",
    "        return self.prob_expert, self.prob_agent\n",
    "\n",
    "    def getRewards(self):\n",
    "        return self.rewards\n"
   ]
  },
  {
   "cell_type": "markdown",
   "metadata": {},
   "source": [
    "# Generador"
   ]
  },
  {
   "cell_type": "markdown",
   "metadata": {},
   "source": [
    "## Redes neuronales del Generador"
   ]
  },
  {
   "cell_type": "code",
   "execution_count": 10,
   "metadata": {},
   "outputs": [
    {
     "name": "stdout",
     "output_type": "stream",
     "text": [
      "Model: \"generator_net_Act\"\n",
      "_________________________________________________________________\n",
      "Layer (type)                 Output Shape              Param #   \n",
      "=================================================================\n",
      "layer1 (Dense)               (None, None, 6)           54        \n",
      "_________________________________________________________________\n",
      "layer2 (Dense)               (None, None, 6)           42        \n",
      "_________________________________________________________________\n",
      "layer3 (Dense)               (None, None, 4)           28        \n",
      "_________________________________________________________________\n",
      "layer4 (Dense)               (None, None, 4)           20        \n",
      "=================================================================\n",
      "Total params: 144\n",
      "Trainable params: 144\n",
      "Non-trainable params: 0\n",
      "_________________________________________________________________\n"
     ]
    }
   ],
   "source": [
    "#####################################################################################################\n",
    "# Red neuronal del Generador donde se producen acciones\n",
    "####################################################################################################\n",
    "\n",
    "# Input: estados, listas de tamaño 8, s=[s1,s2,s3,s4,...,s8]\n",
    "# Output: acciones, listas de tamaño 4, a=[a1,a2,a3,a4]\n",
    "generator_net_Act = keras.Sequential(\n",
    "    [\n",
    "        keras.Input(shape=(None, ob_space.shape[0])),\n",
    "        layers.Dense(units=6, activation=\"sigmoid\",name='layer1'),\n",
    "        layers.Dense(units=6, activation=\"sigmoid\", name='layer2'),\n",
    "        layers.Dense(units=4, activation=\"sigmoid\", name='layer3'),\n",
    "        layers.Dense(units=ac_space.n, activation=tf.nn.softmax, name='layer4')\n",
    "\n",
    "    ],\n",
    "    name=\"generator_net_Act\"\n",
    ")\n",
    "\n",
    "generator_net_Act.summary()"
   ]
  },
  {
   "cell_type": "code",
   "execution_count": 11,
   "metadata": {},
   "outputs": [
    {
     "name": "stdout",
     "output_type": "stream",
     "text": [
      "Model: \"generator_v_preds\"\n",
      "_________________________________________________________________\n",
      "Layer (type)                 Output Shape              Param #   \n",
      "=================================================================\n",
      "layer1 (Dense)               (None, None, 6)           54        \n",
      "_________________________________________________________________\n",
      "layer2 (Dense)               (None, None, 6)           42        \n",
      "_________________________________________________________________\n",
      "layer3 (Dense)               (None, None, 1)           7         \n",
      "=================================================================\n",
      "Total params: 103\n",
      "Trainable params: 103\n",
      "Non-trainable params: 0\n",
      "_________________________________________________________________\n"
     ]
    }
   ],
   "source": [
    "#############################################################################################################\n",
    "# Red neuronal del Generador donde se producen v_pred\n",
    "#############################################################################################################\n",
    "\n",
    "# Input: estados, listas de tamaño 8, s=[s1,s2,s3,..,s8]\n",
    "# Output: v_pred, listas de tamaño 1, v_pred\n",
    "\n",
    "generator_net_v_preds=keras.Sequential(\n",
    "    [\n",
    "            keras.Input(shape=(None,ob_space.shape[0])),\n",
    "            layers.Dense(units=6, activation=\"sigmoid\",name='layer1'),\n",
    "            layers.Dense(units=6, activation=\"sigmoid\", name='layer2'),\n",
    "            layers.Dense(units=1, activation=None, name='layer3'),\n",
    "        ],\n",
    "    name=\"generator_v_preds\"\n",
    ")\n",
    "\n",
    "generator_net_v_preds.summary()"
   ]
  },
  {
   "cell_type": "markdown",
   "metadata": {},
   "source": [
    "## Función de pérdida del Generador"
   ]
  },
  {
   "cell_type": "code",
   "execution_count": 12,
   "metadata": {},
   "outputs": [],
   "source": [
    "##################################################################################################################\n",
    "# Función de pérdida del Generador: función objetivo de PPO \"clipped surrogated\"\n",
    "#################################################################################################################\n",
    "\n",
    "def loss_fn_ppo(act_probs,act_probs_old,gaes,clip_value=0.2):\n",
    "    ratios = tf.exp(tf.math.log(tf.clip_by_value(act_probs, 1e-10, 1.0))\n",
    "                    - tf.math.log(tf.clip_by_value(act_probs_old, 1e-10, 1.0)))\n",
    "\n",
    "    clipped_ratios = tf.clip_by_value(ratios,clip_value_min=1 -clip_value,clip_value_max=1 +clip_value)\n",
    "    loss_clip = tf.minimum( tf.multiply(gaes, ratios), tf.multiply(gaes, clipped_ratios))\n",
    "    loss_clip = tf.reduce_mean(loss_clip)\n",
    "\n",
    "    loss = -loss_clip\n",
    "    tf.summary.scalar('total', loss)\n",
    "\n",
    "    return loss"
   ]
  },
  {
   "cell_type": "markdown",
   "metadata": {},
   "source": [
    "## Clase del Generador"
   ]
  },
  {
   "cell_type": "code",
   "execution_count": 13,
   "metadata": {},
   "outputs": [],
   "source": [
    "#################################################################################################################\n",
    "# Clase del GENERADOR: política con su optimizador PPO\n",
    "################################################################################################################\n",
    "\n",
    "# Observesé que cada generador implementa una política distinta, por tanto, se ha decidido llamar a la clase Policy_net en lugar de generator\n",
    "class Policy_net:\n",
    "    def __init__(self, name: str, env, obs):\n",
    "        \"\"\"\n",
    "        name: string\n",
    "        env: gym env\n",
    "        obs:\n",
    "        \"\"\"\n",
    "\n",
    "        # -Entorno\n",
    "        self.env=env\n",
    "        env.reset()\n",
    "\n",
    "        # -Modelo PPO: algoritmo de Optimización de Política Proximal\n",
    "        self.model=PPO(policy=\"MlpPolicy\", env=env, verbose=0)\n",
    "\n",
    "\n",
    "        self.model.learn(total_timesteps=TOTAL_TIMESTEPS_PPO_GENERATOR)\n",
    "\n",
    "        # -Observación inicial a partir de la cual se crean las acciones iniciales haciendo uso de las redes neuronales del generador\n",
    "        self.obs=np.reshape(np.array(obs),(1,ob_space.shape[0]))\n",
    "\n",
    "        # Utilizamos las dos redes neuronales que hemos creado : generator_net_Act y generator_net_v_preds\n",
    "        # V_pred=>recompensa media de que un agente ejecute una acción\n",
    "\n",
    "        # -Acción inicial generada con red neuronal y v_pred con red neuronal\n",
    "        self.act_probs =generator_net_Act(self.obs)\n",
    "        self.v_preds = generator_net_v_preds(self.obs)\n",
    "\n",
    "        # -Accion estocástica inicial\n",
    "        self.act_stochastic = tf.random.categorical(tf.math.log(self.act_probs), num_samples=1)\n",
    "\n",
    "        # -Acción determinística inicial\n",
    "        self.act_deterministic = tf.argmax(self.act_probs, axis=1)\n",
    "\n",
    "\n",
    "\n",
    "    # Para cada estado obs me dice la acción que el agente va a ejecutar sobre el entorno junto con v_pred\n",
    "    # La elección de la acción puede ser estocástica o determinística\n",
    "    def act(self, stochastic=True):\n",
    "        if stochastic:\n",
    "            return self.act_stochastic, self.v_preds\n",
    "        else:\n",
    "            return self.act_deterministic, self.v_preds\n",
    "\n",
    "    def get_action_prob(self):\n",
    "        return self.act_probs\n",
    "\n",
    "    def get_v_preds(self):\n",
    "        return self.v_preds\n",
    "\n",
    "    def get_obs(self):\n",
    "        return self.obs\n",
    "\n",
    "    def get_model(self):\n",
    "        return self.model\n",
    "\n",
    "    # Devuelve los parámetros \\theta de la política \\pi\n",
    "    def get_trainable_variables(self):\n",
    "        return self.model.get_parameters()\n",
    "\n",
    "    # Generar [s,a,s',r] sinteticos\n",
    "    def generate_fakes(self):\n",
    "\n",
    "        ob_space = env.observation_space\n",
    "        reward = 0\n",
    "\n",
    "        # Por cada episodio\n",
    "        for iteration in range(EPISODES):\n",
    "            # Inicializo todas las variables\n",
    "            observations = []\n",
    "            actions = []\n",
    "            rewards = []\n",
    "            next_observations=[]\n",
    "\n",
    "            run_policy_steps = 0\n",
    "\n",
    "            truncated=False\n",
    "            terminated=False\n",
    "\n",
    "\n",
    "            # La primera acción de cada episodio se crea con la red neuronal\n",
    "            obs,_=env.reset()\n",
    "\n",
    "            Old_Policy = Policy_net('old_policy', env, obs=obs)\n",
    "\n",
    "            act, v_pred = Old_Policy.act(stochastic=True)\n",
    "\n",
    "            #Convertir de tensor a array\n",
    "            if type(act)=='Tensor':\n",
    "                # Crear una sesión de TensorFlow\n",
    "                sess = tf.compat.v1.Session()\n",
    "\n",
    "                # Evaluar el tensor dentro de la sesión y obtener el resultado como un objeto NumPy ndarray\n",
    "                act = sess.run(act)\n",
    "\n",
    "                # Cerrar la sesión\n",
    "                sess.close()\n",
    "\n",
    "            if isinstance(act, tf.Tensor):\n",
    "                act=act.numpy()\n",
    "\n",
    "            elif isinstance(act, np.ndarray):\n",
    "                act=act\n",
    "\n",
    "\n",
    "            action=int(act)\n",
    "\n",
    "            next_obs,reward,terminated,truncated, info=env.step(action)\n",
    "\n",
    "            truncated=False\n",
    "            terminated=False\n",
    "\n",
    "            # Tenemos una política entrenada\n",
    "            Policy = Policy_net('policy',env, obs=[next_obs])\n",
    "\n",
    "            # Por cada steps en cada episodio, mientras no se llegue a un estado terminal o un estado malo\n",
    "            while terminated!= True and truncated!= True:\n",
    "                # --Aumentar el numero de steps\n",
    "                run_policy_steps += 1\n",
    "\n",
    "                # --Política para ver la acción asociada al estado\n",
    "                # Las observaciones son un de la forma [[s_1,s_2,s_3,...,s_8]] por eso su tamaño es (1,8)\n",
    "                observations.append(next_obs)  # S_i-1\n",
    "\n",
    "                action, states_oc = Policy.get_model().predict(next_obs)\n",
    "\n",
    "                action=int(action)\n",
    "\n",
    "                # --Muevo al Agente al siguiente estado\n",
    "                next_obs,reward,terminated,truncated,info=env.step(action)\n",
    "\n",
    "                # --Actualización de variables\n",
    "                actions.append(action) # A_i-1\n",
    "                rewards.append(reward) # R_i-1\n",
    "\n",
    "                # --Si llegamos a un estado final, el juego ha finalizado!!!\n",
    "                # --Se configura el tablero de nuevo\n",
    "                if terminated== True or truncated==True:\n",
    "                    next_observations.append(next_obs)  # S_i\n",
    "                    obs = env.reset()\n",
    "                    reward = -1\n",
    "                    break\n",
    "                else:\n",
    "                    next_observations.append(next_obs)  # S_i\n",
    "                    self.obs = next_obs\n",
    "\n",
    "\n",
    "\n",
    "        observations = np.reshape(observations, newshape=[-1] + list(ob_space.shape))\n",
    "        next_observations = np.reshape(next_observations, newshape=[-1] + list(ob_space.shape))\n",
    "        actions = np.array(actions).astype(dtype=np.int32)\n",
    "\n",
    "\n",
    "        # Devolvemos la secuencia (S,A,S',R) junto con la política anterior y la actual política,\n",
    "        return observations, actions, next_observations, rewards, Old_Policy, Policy"
   ]
  },
  {
   "cell_type": "code",
   "execution_count": 14,
   "metadata": {},
   "outputs": [],
   "source": [
    "##########################################################################################################\n",
    "# Clase PPOTrain\n",
    "##########################################################################################################\n",
    "# Tenemos dos politica theta_i y theta_i+1\n",
    "# Almacenamos dos políticas Policy_net(cada una de ella con su PPO) y calculamos el valor gaes a partir de valores gamma, clip_value, c_1, c_2\n",
    "# Realizamos aqui el entrenamiento, cálculo de gradiente y función de pérdida del PPO para después usarlo en el generador de la GAN\n",
    "\n",
    "class PPOTrain:\n",
    "\n",
    "    def __init__(self, Policy, Old_Policy, obs, actions, rewards, gamma=0.95, clip_value=0.2, c_1=1, c_2=0.01):\n",
    "        \"\"\"\n",
    "        arg:\n",
    "            Policy\n",
    "            Old_Policy\n",
    "            gamma\n",
    "            clip_value\n",
    "            c_1 parámetro para la diferencia de valores\n",
    "            c_2 parámetro para el bonus de entropía\n",
    "        \"\"\"\n",
    "        self.Policy = Policy\n",
    "        self.Old_Policy = Old_Policy\n",
    "        self.gamma = gamma\n",
    "        self.obs=obs\n",
    "\n",
    "        self.pi_trainable = self.Policy.get_trainable_variables()\n",
    "        self.old_pi_trainable = self.Old_Policy.get_trainable_variables()\n",
    "\n",
    "\n",
    "        policy_name = \"policy\"\n",
    "        old_policy_name=\"policy\"\n",
    "\n",
    "        policy_dict_ = self.pi_trainable[policy_name]\n",
    "        old_policy_dict_=self.old_pi_trainable[old_policy_name]\n",
    "\n",
    "        self.pi=[]\n",
    "        if policy_name in self.pi_trainable and old_policy_name in self.old_pi_trainable:\n",
    "            for param_name, param_value in policy_dict_.items():\n",
    "                # Elimino los pesos que hay en old_policy\n",
    "                del old_policy_dict_[param_name]\n",
    "                # Introduzco los pesos de old_policy en policy\n",
    "                old_policy_dict_[param_name] = param_value\n",
    "                self.pi.append(param_value)\n",
    "        else:\n",
    "            print(f\"No se encontró la política con el nombre: {policy_name}\")\n",
    "\n",
    "\n",
    "        # Le asignamos old_pi_trainable=pi_trainable ya que ajustaremos unos nuevos pi_trainable\n",
    "\n",
    "\n",
    "        self.actions = actions\n",
    "        self.rewards=rewards\n",
    "        self.v_preds=self.Old_Policy.get_v_preds()\n",
    "        self.v_preds_next=self.Policy.get_v_preds()\n",
    "\n",
    "        #  generative advantage estimator(lambda = 1), ver ppo paper eq(11)\n",
    "        self.gaes =self.get_gaes(self.rewards, self.v_preds, self.v_preds_next)\n",
    "\n",
    "        act_probs =self.Policy.get_action_prob()\n",
    "        act_probs_old =self.Old_Policy.get_action_prob()\n",
    "\n",
    "        # la probabilidad de las acciones del agente cuando toma la actual política\n",
    "        act_probs = act_probs * tf.one_hot(indices=self.actions, depth=act_probs.shape[1])\n",
    "        self.act_probs = tf.reduce_sum(act_probs, axis=1)\n",
    "\n",
    "        # la probabilidad de las acciones del agente cuando toma la antigua política\n",
    "        act_probs_old = act_probs_old * tf.one_hot(indices=self.actions, depth=act_probs_old.shape[1])\n",
    "        self.act_probs_old = tf.reduce_sum(act_probs_old, axis=1)\n",
    "\n",
    "        self.loss=loss_fn_ppo(self.act_probs, self.act_probs_old, self.gaes)\n",
    "\n",
    "        self.optimizer =tf.keras.optimizers.Adam(learning_rate=LEARNING_RATE)\n",
    "\n",
    "    def loss_fn_G(self):\n",
    "        return loss_fn_ppo(self.act_probs, self.act_probs_old, self.gaes)\n",
    "\n",
    "    def get_pi_trainable(self):\n",
    "        return self.pi\n",
    "\n",
    "    def get_optimizer(self):\n",
    "        return self.optimizer\n",
    "\n",
    "    def get_OldPolicy(self):\n",
    "        return self.Old_Policy\n",
    "\n",
    "    def get_Policy(self):\n",
    "        return self.Policy\n",
    "\n",
    "    def get_gaes(self, rewards, v_preds, v_preds_next):\n",
    "        deltas = [r_t + self.gamma * v_next - v for r_t, v_next, v in zip(rewards, v_preds_next, v_preds)]\n",
    "        # calcular la estimación generative advantage (lambda = 1), ver ppo paper eq(11)\n",
    "        gaes = copy.deepcopy(deltas)\n",
    "        for t in reversed(range(len(gaes) - 1)):  # es T-1, donde T es timestep con el que se ejecuta la política\n",
    "            gaes[t] = gaes[t] + self.gamma * gaes[t + 1]\n",
    "        return gaes"
   ]
  },
  {
   "cell_type": "markdown",
   "metadata": {},
   "source": [
    "# GAIL"
   ]
  },
  {
   "cell_type": "code",
   "execution_count": 15,
   "metadata": {},
   "outputs": [],
   "source": [
    "####################################################################################################################\n",
    "# CLASE GAIL\n",
    "####################################################################################################################\n",
    "class GAN(keras.Model):\n",
    "    # Constructor\n",
    "    def __init__(self, discriminator, generator):\n",
    "        super().__init__()\n",
    "        self.discriminator = discriminator\n",
    "        self.generator=generator\n",
    "        self.i=0\n",
    "        self.d_loss_metric = keras.metrics.Mean(name=\"d_loss\")\n",
    "        self.g_loss_metric = keras.metrics.Mean(name=\"g_loss\")\n",
    "\n",
    "    # Compila el modelo GAN inicializando los optimizadores y la función de pérdida del modelo GAN\n",
    "    def compile(self,d_optimizer, loss_fn_D ):\n",
    "        super(GAN, self).compile(run_eagerly=True)\n",
    "        self.d_optimizer = d_optimizer\n",
    "        self.loss_fn_D=  loss_fn_D\n",
    "\n",
    "    # Devuelve las métricas obtenidas con el generador y discriminador\n",
    "    @property\n",
    "    def metrics(self):\n",
    "        return [self.d_loss_metric,self.g_loss_metric]\n",
    "\n",
    "    # Evaluación del Discriminador\n",
    "    def evaluate_D(self, X_test):\n",
    "        len_real = X_test.shape[0]\n",
    "\n",
    "        generate_observations, generate_actions, generate_next_observations, rewards, Old_Policy, Policy=self.generator.generate_fakes()\n",
    "\n",
    "        generate_a_one_hot=np.eye(env.action_space.n)[generate_actions]\n",
    "\n",
    "        dataset_gen1=np.concatenate([generate_observations,generate_a_one_hot],axis=1)\n",
    "\n",
    "        dataset_gen2= np.concatenate([dataset_gen1,generate_next_observations], axis=1)\n",
    "\n",
    "        rewards=np.array(rewards).reshape(-1, 1)\n",
    "\n",
    "        dataset_gen= np.concatenate([dataset_gen2,rewards], axis=1)\n",
    "\n",
    "\n",
    "        len_fakes=dataset_gen.shape[0]\n",
    "\n",
    "        # Compilamos el discriminador como CNN\n",
    "        self.discriminator.discriminator_net.compile(optimizer=self.d_optimizer, loss=self.loss_fn_D, metrics=['accuracy'])\n",
    "\n",
    "        # Evaluamos como CNN\n",
    "        loss_real, acc_real=self.discriminator.discriminator_net.evaluate(X_test, tf.ones((len_real,1)), batch_size=len_real, verbose=1)\n",
    "\n",
    "        loss_fake, acc_fake=self.discriminator.discriminator_net.evaluate(dataset_gen,tf.ones((len_fakes,1)), batch_size=len_fakes, verbose=1)\n",
    "\n",
    "        print('>Loss real: ')\n",
    "        print(loss_real)\n",
    "        print('>Loss fake: ')\n",
    "        print(loss_fake)\n",
    "\n",
    "\n",
    "    # Evaluación del generador\n",
    "    def evaluate_G(self):\n",
    "        # Definimos el entorno\n",
    "        env= gym.make('LunarLander-v2')\n",
    "\n",
    "        # Lista donde amacenaremos la recompensa acumulada de cada episodio.\n",
    "        # NUESTRO OBJETIVO: Agente aprenda a tomar las acciones que maximicen la recompensa\n",
    "        rewards=[]\n",
    "\n",
    "        # Para cada episodio, el Agente se mueve por el Entorno mediante acciones hasta llegar a un estado final\n",
    "        # siguiendo la política que se ha aprendido en el entrenamiento de la GAN\n",
    "        for episode in range(EPISODES_EVALUATE_G):\n",
    "            truncated=False\n",
    "            terminated=False\n",
    "            R=0.0\n",
    "            reward=0.0\n",
    "\n",
    "            # Estado inicial del juego\n",
    "            obs,_=env.reset()\n",
    "\n",
    "            #Interactuamos con el Entorno hasta que lleguemos a un estado final\n",
    "            while terminated!= True and truncated!=True:\n",
    "                action, _=self.generator.get_model().predict(obs)\n",
    "                obs,reward,terminated,truncated, info=env.step(int(action))\n",
    "\n",
    "                # Incremento la recompensa del episodio i al haber ejecutado el step\n",
    "                R+=reward\n",
    "\n",
    "            rewards.append(R)\n",
    "\n",
    "            # Vemos para el episodio, su recompensa acumulada que es lo que se trata de maximizar\n",
    "            print(\"Episode  {} Total reward: {}\".format(episode,R))\n",
    "\n",
    "        # Cierro el entorno\n",
    "        env.close()\n",
    "\n",
    "        # Muestro las recompensas obtenidas en cada episodio\n",
    "        indices = range(0, EPISODES_EVALUATE_G)\n",
    "        plt.plot(indices,rewards)\n",
    "        plt.show()\n",
    "\n",
    "        return np.mean(rewards)\n",
    "\n",
    "    def train_step(self, X_train):\n",
    "\n",
    "        # 1) Generamos secuencias falsas [s,a,s',r]\n",
    "        generate_observations, generate_actions, generate_next_observations, rewards, Old_Policy, Policy=self.generator.generate_fakes()\n",
    "\n",
    "        generate_a_one_hot=np.eye(env.action_space.n)[generate_actions]\n",
    "\n",
    "        if generate_observations.shape[0] == generate_a_one_hot.shape[0]:\n",
    "          dataset_gen1 = np.concatenate([generate_observations, generate_a_one_hot], axis=1)\n",
    "        else:\n",
    "          generate_a_one_hot_resized = np.resize(generate_a_one_hot, generate_observations.shape)\n",
    "          dataset_gen1 = np.concatenate([generate_observations, generate_a_one_hot_resized], axis=1)\n",
    "\n",
    "        if generate_next_observations.shape[0] == generate_a_one_hot.shape[0]:\n",
    "          dataset_gen2=np.concatenate([dataset_gen1, generate_next_observations], axis=1)\n",
    "        else:\n",
    "           generate_next_observations_new= np.resize(generate_next_observations, generate_observations.shape)\n",
    "           dataset_gen2=np.concatenate([dataset_gen1, generate_next_observations_new], axis=1)\n",
    "\n",
    "        rewards=np.array(rewards).reshape(-1,1)\n",
    "\n",
    "        dataset_gen=np.concatenate([dataset_gen2, rewards], axis=1)\n",
    "\n",
    "        # 2) Seleccionamos la muestra de datos generador con la que vamos a trabajar en este  batch de entrenamiento \n",
    "        #if len(dataset_gen) >= BATCH_SIZE: \n",
    "        random_indices = np.random.choice(len(dataset_gen), size=min(BATCH_SIZE,len(dataset_gen)), replace=False)\n",
    "        dataset_gen= dataset_gen[random_indices[0]]\n",
    "\n",
    "\n",
    "        # 3) Obtenemos las secuencias reales [s,a,s',r] de los datos de entrenamiento y las combinamos\n",
    "        dataset_gen=dataset_gen.reshape(1,-1)\n",
    "        combined_images = tf.concat([X_train, dataset_gen], axis=0)\n",
    "\n",
    "        # 4) Las etiquetas de las imagenes combinadas las tenemos que crear nosotros introduciendo algo de ruido con tf.random.uniform\n",
    "        labels = tf.concat( [tf.ones((BATCH_SIZE, 1)), tf.zeros((BATCH_SIZE, 1))], axis=0 )\n",
    "        labels += 0.05 * tf.random.uniform(tf.shape(labels))\n",
    "\n",
    "        ##############################################################################################################################################################\n",
    "        # PASO 1:  ENTRENAMIENTO DEL DISCRIMINADOR\n",
    "        #############################################################################################################################################################\n",
    "\n",
    "\n",
    "        # Entrenamiento del discriminador con las [s,a, s', r] del agente(falsas o sintéticas) y del experto (reales) combinadas, esto es,\n",
    "        # le pasamos un conjunto que tiene tanto secuencias reales como secuencias sintéticas\n",
    "        with tf.GradientTape() as tape:\n",
    "            predictions=np.zeros((2*BATCH_SIZE,6))\n",
    "            # Predicciones obtenidas con el discriminador\n",
    "            predictions = self.discriminator.discriminator_net(combined_images)\n",
    "            # Valor de la función de pérdida al comparar las predicciones con las etiquetas reales\n",
    "            d_loss = self.loss_fn_D(labels, predictions)\n",
    "\n",
    "        # Calculo del gradiente y actualización del gradiente\n",
    "        grads = tape.gradient(d_loss, self.discriminator.getNet().trainable_weights)\n",
    "\n",
    "        self.d_optimizer.apply_gradients(\n",
    "          zip(grads, self.discriminator.getNet().trainable_weights)\n",
    "        )\n",
    "\n",
    "\n",
    "\n",
    "        ################################################################################################################################################################\n",
    "        # PASO 2: ENTRENAMIENTO DEL GENERADOR=POLÍTICA\n",
    "        ###############################################################################################################################################################\n",
    "\n",
    "\n",
    "        ppotrain=PPOTrain(Policy,Old_Policy,actions=generate_actions,rewards=rewards, obs=generate_observations) #       generate_observations[0])\n",
    "\n",
    "\n",
    "        with tf.GradientTape() as tape:\n",
    "            g_loss = ppotrain.loss_fn_G()\n",
    "\n",
    "\n",
    "        g_loss = tf.cast(g_loss, dtype=tf.float32)\n",
    "\n",
    "         ############################################################################################################################################################\n",
    "\n",
    "        # Actualización de métricas del discriminador y generador\n",
    "        self.d_loss_metric.update_state(d_loss)\n",
    "        self.g_loss_metric.update_state(g_loss)\n",
    "        print(\"\\n\")\n",
    "        print(\"\\nd_loss=\",d_loss.numpy())\n",
    "        print(\"\\ng_loss=\",g_loss.numpy())\n",
    "\n",
    "        return {\"d_loss\": self.d_loss_metric.result(),\n",
    "                    \"g_loss\": self.g_loss_metric.result()}\n",
    "\n"
   ]
  },
  {
   "cell_type": "markdown",
   "metadata": {},
   "source": [
    "# Experimentación de GAIL con LunarLander"
   ]
  },
  {
   "cell_type": "markdown",
   "metadata": {},
   "source": [
    "## Experimento 1"
   ]
  },
  {
   "cell_type": "markdown",
   "metadata": {},
   "source": [
    "### Construcción de base de datos experta con 1 trayectoria "
   ]
  },
  {
   "cell_type": "code",
   "execution_count": 16,
   "metadata": {},
   "outputs": [
    {
     "name": "stdout",
     "output_type": "stream",
     "text": [
      "\n",
      "\tEstados reales: \n",
      " [[-0.00655632  1.412633   -0.6640952  ...  0.15042743  0.\n",
      "   0.        ]\n",
      " [-0.01301994  1.4137701  -0.65149987 ...  0.1017526   0.\n",
      "   0.        ]\n",
      " [-0.01941118  1.414314   -0.6424104  ...  0.06514421  0.\n",
      "   0.        ]\n",
      " ...\n",
      " [-0.46665245 -0.0082029   0.03071342 ...  0.67170596  1.\n",
      "   1.        ]\n",
      " [-0.4661541  -0.01350838  0.02066027 ...  0.635882    1.\n",
      "   1.        ]\n",
      " [-0.46567154 -0.01838761  0.02184356 ...  0.58443296  1.\n",
      "   1.        ]]\n",
      "\tAcciones reales: \n",
      " [3 3 3 ... 0 3 3]\n",
      "\n",
      "\t Estados siguientes: \n",
      " [[-0.00655632  1.412633   -0.6640952  ...  0.15042743  0.\n",
      "   0.        ]\n",
      " [-0.01301994  1.4137701  -0.65149987 ...  0.1017526   0.\n",
      "   0.        ]\n",
      " [-0.01941118  1.414314   -0.6424104  ...  0.06514421  0.\n",
      "   0.        ]\n",
      " ...\n",
      " [-0.46665245 -0.0082029   0.03071342 ...  0.67170596  1.\n",
      "   1.        ]\n",
      " [-0.4661541  -0.01350838  0.02066027 ...  0.635882    1.\n",
      "   1.        ]\n",
      " [-0.46567154 -0.01838761  0.02184356 ...  0.58443296  1.\n",
      "   1.        ]]\n",
      "\n",
      "\t Recompensas: [   0    0    0 ...   -1   -1 -100]\n"
     ]
    }
   ],
   "source": [
    "expert_observations = np.genfromtxt(\"observations_LunarLander.csv\",delimiter=\"\\t\",dtype=str)\n",
    "expert_actions = np.genfromtxt('actions_LunarLander.csv', dtype=np.int32)\n",
    "expert_next_observations = np.genfromtxt('next_observations_LunarLander.csv',delimiter=\"\\t\",dtype=str)\n",
    "expert_rewards = np.genfromtxt('rewards_LunarLander.csv', dtype=np.int32)\n",
    "expert_num_tray=np.genfromtxt('n_trayectoria_LunarLander.csv', dtype=np.int32)\n",
    "\n",
    "# Reemplazar las comas\n",
    "expert_observations = np.core.defchararray.replace(expert_observations, ',', ' ')\n",
    "\n",
    "# Reemplazar las comas\n",
    "expert_next_observations = np.core.defchararray.replace(expert_next_observations, ',', ' ')\n",
    "\n",
    "# Crear un nuevo array para almacenar los datos convertidos\n",
    "converted_observations = np.genfromtxt(expert_observations, delimiter=' ', dtype=float)\n",
    "# Crear un nuevo array para almacenar los datos convertidos\n",
    "converted_next_observations = np.genfromtxt(expert_observations, delimiter=' ', dtype=float)\n",
    "\n",
    "\n",
    "rewards=np.array(expert_rewards).reshape(-1,1)\n",
    "\n",
    "\n",
    "print(\"\\n\\tEstados reales: \\n\", converted_observations)\n",
    "print(\"\\tAcciones reales: \\n\", expert_actions)\n",
    "print(\"\\n\\t Estados siguientes: \\n\", converted_next_observations)\n",
    "print(\"\\n\\t Recompensas:\" ,expert_rewards)"
   ]
  },
  {
   "cell_type": "code",
   "execution_count": 17,
   "metadata": {},
   "outputs": [
    {
     "name": "stdout",
     "output_type": "stream",
     "text": [
      "547\n"
     ]
    }
   ],
   "source": [
    "longitud_trayectoria = np.count_nonzero(expert_num_tray == 0)\n",
    "print(longitud_trayectoria)"
   ]
  },
  {
   "cell_type": "code",
   "execution_count": 18,
   "metadata": {},
   "outputs": [],
   "source": [
    "converted_observations=converted_observations[0:longitud_trayectoria]\n",
    "expert_actions=expert_actions[0:longitud_trayectoria]\n",
    "converted_next_observations=converted_next_observations[0:longitud_trayectoria]\n",
    "expert_rewards=expert_rewards[0:longitud_trayectoria]"
   ]
  },
  {
   "cell_type": "code",
   "execution_count": 19,
   "metadata": {},
   "outputs": [],
   "source": [
    "# Construimos el dataset [s,a,s',r] reales y lo dividimos en training y test\n",
    "expert_a_one_hot=np.eye(env.action_space.n)[expert_actions]\n",
    "expert_rewards = expert_rewards.reshape(-1, 1)\n",
    "\n",
    "dataset1=np.concatenate([converted_observations,expert_a_one_hot],axis=1)\n",
    "dataset2=np.concatenate([dataset1,converted_next_observations],axis=1)\n",
    "dataset=np.concatenate([dataset2,expert_rewards],axis=1)\n"
   ]
  },
  {
   "cell_type": "code",
   "execution_count": 20,
   "metadata": {},
   "outputs": [
    {
     "name": "stdout",
     "output_type": "stream",
     "text": [
      "Nº de (ESTADOS,ACCIONES) en el conjunto de entrenamiento: 437\n",
      "Nº de (ESTADOS,ACCIONES) en el conjunto de prueba: 110\n"
     ]
    }
   ],
   "source": [
    "#############################################################################\n",
    "# DIVISIÓN TRAIN Y TEST\n",
    "##############################################################################\n",
    "\n",
    "# Divide los datos en conjuntos de entrenamiento y prueba\n",
    "X_train, X_test = train_test_split(dataset, test_size=0.2, random_state=0)\n",
    "\n",
    "\n",
    "#Imprime el número de elementos en el conjuntos de entrenamiento y prueba\n",
    "print('Nº de (ESTADOS,ACCIONES) en el conjunto de entrenamiento:', len(X_train))\n",
    "print('Nº de (ESTADOS,ACCIONES) en el conjunto de prueba:', len(X_test))"
   ]
  },
  {
   "cell_type": "code",
   "execution_count": 21,
   "metadata": {},
   "outputs": [
    {
     "name": "stderr",
     "output_type": "stream",
     "text": [
      "2024-06-30 14:30:47.074233: I tensorflow/stream_executor/platform/default/dso_loader.cc:49] Successfully opened dynamic library libcublas.so.10\n"
     ]
    }
   ],
   "source": [
    "env= gym.make('LunarLander-v2')\n",
    "obs,_= env.reset()\n",
    "\n",
    "# Generador\n",
    "generator=Policy_net( 'policy', env, obs)\n",
    "\n",
    "# Generamos [s,a, s', r] falsas y las políticas theta_i y theta_i+1\n",
    "observations, actions, next_observations, rewards, Old_Policy, Policy=generator.generate_fakes()\n",
    "\n",
    "# Discriminador\n",
    "discriminator=Discriminator(env, discriminator_net, converted_observations, expert_actions, converted_next_observations, expert_rewards, observations, actions, next_observations, rewards)"
   ]
  },
  {
   "cell_type": "markdown",
   "metadata": {},
   "source": [
    "### Definición de GAIL"
   ]
  },
  {
   "cell_type": "code",
   "execution_count": 22,
   "metadata": {},
   "outputs": [],
   "source": [
    "gan1=GAN(discriminator=discriminator,generator=generator)"
   ]
  },
  {
   "cell_type": "markdown",
   "metadata": {},
   "source": [
    "### Compilación de GAIL"
   ]
  },
  {
   "cell_type": "code",
   "execution_count": 23,
   "metadata": {},
   "outputs": [],
   "source": [
    "tf.config.run_functions_eagerly(True)\n",
    "gan1.compile(\n",
    "    d_optimizer=tf.keras.optimizers.Adam(learning_rate=LEARNING_RATE),\n",
    "    loss_fn_D=loss_fn_D\n",
    ")"
   ]
  },
  {
   "cell_type": "markdown",
   "metadata": {},
   "source": [
    "### Entrenamiento de GAIL"
   ]
  },
  {
   "cell_type": "code",
   "execution_count": 25,
   "metadata": {},
   "outputs": [],
   "source": [
    "import copy"
   ]
  },
  {
   "cell_type": "code",
   "execution_count": 26,
   "metadata": {},
   "outputs": [
    {
     "name": "stderr",
     "output_type": "stream",
     "text": [
      "/home/usuario/miniconda3/envs/luna/lib/python3.9/site-packages/tensorflow/python/data/ops/dataset_ops.py:3503: UserWarning: Even though the tf.config.experimental_run_functions_eagerly option is set, this option does not apply to tf.data functions. tf.data functions are still traced and executed as graphs.\n",
      "  warnings.warn(\n"
     ]
    },
    {
     "name": "stdout",
     "output_type": "stream",
     "text": [
      "\n",
      "\n",
      "\n",
      "d_loss= 2.6523206\n",
      "\n",
      "g_loss= 12.188827\n",
      "1/4 [======>.......................] - ETA: 31:49 - d_loss: 2.6523 - g_loss: 12.1888\n",
      "\n",
      "\n",
      "d_loss= 2.6103354\n",
      "\n",
      "g_loss= 2.1239977\n",
      "2/4 [==============>...............] - ETA: 20:48 - d_loss: 2.6313 - g_loss: 7.1564 \n",
      "\n",
      "\n",
      "d_loss= 2.6014752\n",
      "\n",
      "g_loss= 3.1145947\n",
      "3/4 [=====================>........] - ETA: 10:26 - d_loss: 2.6214 - g_loss: 5.8091\n",
      "\n",
      "\n",
      "d_loss= 2.6100564\n",
      "\n",
      "g_loss= -0.7078649\n",
      "4/4 [==============================] - 2512s 625s/step - d_loss: 2.6185 - g_loss: 4.1799\n"
     ]
    }
   ],
   "source": [
    "# Deshabilitar los mensajes de información de TensorFlow\n",
    "os.environ['TF_CPP_MIN_LOG_LEVEL'] = '3'\n",
    "\n",
    "# Deshabilitar los mensajes de información de OpenAI Gym\n",
    "gym.logger.set_level(40)\n",
    "\n",
    "BATCH_SIZE=140\n",
    "\n",
    "history=gan1.fit(X_train,\n",
    "    epochs=EPOCHS, batch_size=BATCH_SIZE)\n"
   ]
  },
  {
   "cell_type": "markdown",
   "metadata": {},
   "source": [
    "### Evaluación de GAIL"
   ]
  },
  {
   "cell_type": "code",
   "execution_count": 27,
   "metadata": {},
   "outputs": [
    {
     "name": "stdout",
     "output_type": "stream",
     "text": [
      "1/1 [==============================] - 0s 53ms/step - loss: 0.6949 - accuracy: 0.5455\n",
      "1/1 [==============================] - 0s 16ms/step - loss: 0.7535 - accuracy: 0.6556\n",
      ">Loss real: \n",
      "0.6949352025985718\n",
      ">Loss fake: \n",
      "0.753487765789032\n"
     ]
    }
   ],
   "source": [
    "# Evaluamos el Discriminador de GAIL en el TEST\n",
    "gan1.evaluate_D(X_test)\n"
   ]
  },
  {
   "cell_type": "code",
   "execution_count": 28,
   "metadata": {},
   "outputs": [
    {
     "name": "stdout",
     "output_type": "stream",
     "text": [
      "Episode  0 Total reward: -65.7771318149868\n",
      "Episode  1 Total reward: -69.11403330440373\n",
      "Episode  2 Total reward: -6.62966651550819\n",
      "Episode  3 Total reward: -110.27551078957575\n",
      "Episode  4 Total reward: -17.13488093176433\n",
      "Episode  5 Total reward: -99.35392320693079\n",
      "Episode  6 Total reward: 114.74406917334476\n",
      "Episode  7 Total reward: -122.61525200420188\n",
      "Episode  8 Total reward: -21.656260281118207\n",
      "Episode  9 Total reward: 1.5861528605596362\n",
      "Episode  10 Total reward: 115.59498097490633\n",
      "Episode  11 Total reward: 139.630547558069\n",
      "Episode  12 Total reward: -118.54064767354019\n",
      "Episode  13 Total reward: -35.722233939569875\n",
      "Episode  14 Total reward: -76.74243831910235\n",
      "Episode  15 Total reward: -109.44244541462133\n",
      "Episode  16 Total reward: -69.10217827208449\n",
      "Episode  17 Total reward: -25.447395538106946\n",
      "Episode  18 Total reward: -0.3650377157206748\n",
      "Episode  19 Total reward: 99.51985875043604\n",
      "Episode  20 Total reward: -50.75989652901815\n",
      "Episode  21 Total reward: -100.94366001644754\n",
      "Episode  22 Total reward: -57.001895203896545\n",
      "Episode  23 Total reward: 138.91150087408016\n",
      "Episode  24 Total reward: 106.36672556990551\n",
      "Episode  25 Total reward: -69.87690620980214\n",
      "Episode  26 Total reward: 115.9886504546457\n",
      "Episode  27 Total reward: 98.76787478471903\n",
      "Episode  28 Total reward: 9.525054247668374\n",
      "Episode  29 Total reward: 95.8990921734783\n",
      "Episode  30 Total reward: 142.64085962947908\n",
      "Episode  31 Total reward: -28.63626865184345\n",
      "Episode  32 Total reward: -55.42017755816117\n",
      "Episode  33 Total reward: 10.462757753030978\n",
      "Episode  34 Total reward: 97.46494824761815\n",
      "Episode  35 Total reward: -130.4105809731784\n",
      "Episode  36 Total reward: 85.95971051850202\n",
      "Episode  37 Total reward: 98.17549502035877\n",
      "Episode  38 Total reward: -142.75214063416104\n",
      "Episode  39 Total reward: -75.45187255550665\n",
      "Episode  40 Total reward: 16.66613832403145\n",
      "Episode  41 Total reward: -66.27855776999031\n",
      "Episode  42 Total reward: 98.95245063092625\n",
      "Episode  43 Total reward: -43.65194972544314\n",
      "Episode  44 Total reward: -133.4207802495775\n",
      "Episode  45 Total reward: -46.81014175499692\n",
      "Episode  46 Total reward: 77.95465126182955\n",
      "Episode  47 Total reward: 65.53331178319159\n",
      "Episode  48 Total reward: 92.85154148734529\n",
      "Episode  49 Total reward: -112.46646815835682\n"
     ]
    },
    {
     "data": {
      "image/png": "[encoded data removed]",
      "text/plain": [
       "<Figure size 640x480 with 1 Axes>"
      ]
     },
     "metadata": {},
     "output_type": "display_data"
    },
    {
     "name": "stdout",
     "output_type": "stream",
     "text": [
      "\n",
      "Recompensa de Media: -4.772079192669785 \n",
      "\n"
     ]
    }
   ],
   "source": [
    "# Evaluamos al Generador \n",
    "rewardMean=gan1.evaluate_G()\n",
    "print('\\nRecompensa de Media:', rewardMean, '\\n')"
   ]
  },
  {
   "cell_type": "markdown",
   "metadata": {},
   "source": [
    "## Experimento 2"
   ]
  },
  {
   "cell_type": "markdown",
   "metadata": {},
   "source": [
    "### Construcción de base de datos experta con 2 trayectoria "
   ]
  },
  {
   "cell_type": "code",
   "execution_count": 29,
   "metadata": {},
   "outputs": [
    {
     "name": "stdout",
     "output_type": "stream",
     "text": [
      "\n",
      "\tEstados reales: \n",
      " [[-0.00655632  1.412633   -0.6640952  ...  0.15042743  0.\n",
      "   0.        ]\n",
      " [-0.01301994  1.4137701  -0.65149987 ...  0.1017526   0.\n",
      "   0.        ]\n",
      " [-0.01941118  1.414314   -0.6424104  ...  0.06514421  0.\n",
      "   0.        ]\n",
      " ...\n",
      " [-0.46665245 -0.0082029   0.03071342 ...  0.67170596  1.\n",
      "   1.        ]\n",
      " [-0.4661541  -0.01350838  0.02066027 ...  0.635882    1.\n",
      "   1.        ]\n",
      " [-0.46567154 -0.01838761  0.02184356 ...  0.58443296  1.\n",
      "   1.        ]]\n",
      "\tAcciones reales: \n",
      " [3 3 3 ... 0 3 3]\n",
      "\n",
      "\t Estados siguientes: \n",
      " [[-0.00655632  1.412633   -0.6640952  ...  0.15042743  0.\n",
      "   0.        ]\n",
      " [-0.01301994  1.4137701  -0.65149987 ...  0.1017526   0.\n",
      "   0.        ]\n",
      " [-0.01941118  1.414314   -0.6424104  ...  0.06514421  0.\n",
      "   0.        ]\n",
      " ...\n",
      " [-0.46665245 -0.0082029   0.03071342 ...  0.67170596  1.\n",
      "   1.        ]\n",
      " [-0.4661541  -0.01350838  0.02066027 ...  0.635882    1.\n",
      "   1.        ]\n",
      " [-0.46567154 -0.01838761  0.02184356 ...  0.58443296  1.\n",
      "   1.        ]]\n",
      "\n",
      "\t Recompensas: [   0    0    0 ...   -1   -1 -100]\n"
     ]
    }
   ],
   "source": [
    "expert_observations = np.genfromtxt(\"observations_LunarLander.csv\",delimiter=\"\\t\",dtype=str)\n",
    "expert_actions = np.genfromtxt('actions_LunarLander.csv', dtype=np.int32)\n",
    "expert_next_observations = np.genfromtxt('next_observations_LunarLander.csv',delimiter=\"\\t\",dtype=str)\n",
    "expert_rewards = np.genfromtxt('rewards_LunarLander.csv', dtype=np.int32)\n",
    "expert_num_tray=np.genfromtxt('n_trayectoria_LunarLander.csv', dtype=np.int32)\n",
    "\n",
    "# Reemplazar las comas\n",
    "expert_observations = np.core.defchararray.replace(expert_observations, ',', ' ')\n",
    "\n",
    "# Reemplazar las comas\n",
    "expert_next_observations = np.core.defchararray.replace(expert_next_observations, ',', ' ')\n",
    "\n",
    "# Crear un nuevo array para almacenar los datos convertidos\n",
    "converted_observations = np.genfromtxt(expert_observations, delimiter=' ', dtype=float)\n",
    "# Crear un nuevo array para almacenar los datos convertidos\n",
    "converted_next_observations = np.genfromtxt(expert_observations, delimiter=' ', dtype=float)\n",
    "\n",
    "\n",
    "rewards=np.array(expert_rewards).reshape(-1,1)\n",
    "\n",
    "\n",
    "print(\"\\n\\tEstados reales: \\n\", converted_observations)\n",
    "print(\"\\tAcciones reales: \\n\", expert_actions)\n",
    "print(\"\\n\\t Estados siguientes: \\n\", converted_next_observations)\n",
    "print(\"\\n\\t Recompensas:\" ,expert_rewards)"
   ]
  },
  {
   "cell_type": "code",
   "execution_count": 30,
   "metadata": {},
   "outputs": [
    {
     "name": "stdout",
     "output_type": "stream",
     "text": [
      "1127\n"
     ]
    }
   ],
   "source": [
    "longitud_trayectoria += np.count_nonzero(expert_num_tray == 1)\n",
    "print(longitud_trayectoria)"
   ]
  },
  {
   "cell_type": "code",
   "execution_count": 31,
   "metadata": {},
   "outputs": [],
   "source": [
    "converted_observations=converted_observations[0:longitud_trayectoria]\n",
    "expert_actions=expert_actions[0:longitud_trayectoria]\n",
    "converted_next_observations=converted_next_observations[0:longitud_trayectoria]\n",
    "expert_rewards=expert_rewards[0:longitud_trayectoria]"
   ]
  },
  {
   "cell_type": "code",
   "execution_count": 32,
   "metadata": {},
   "outputs": [],
   "source": [
    "# Construimos el dataset [s,a,s',r] reales y lo dividimos en training y test\n",
    "expert_a_one_hot=np.eye(env.action_space.n)[expert_actions]\n",
    "expert_rewards = expert_rewards.reshape(-1, 1)\n",
    "\n",
    "dataset1=np.concatenate([converted_observations,expert_a_one_hot],axis=1)\n",
    "dataset2=np.concatenate([dataset1,converted_next_observations],axis=1)\n",
    "dataset=np.concatenate([dataset2,expert_rewards],axis=1)\n"
   ]
  },
  {
   "cell_type": "code",
   "execution_count": 33,
   "metadata": {},
   "outputs": [
    {
     "name": "stdout",
     "output_type": "stream",
     "text": [
      "Nº de (ESTADOS,ACCIONES) en el conjunto de entrenamiento: 901\n",
      "Nº de (ESTADOS,ACCIONES) en el conjunto de prueba: 226\n"
     ]
    }
   ],
   "source": [
    "#############################################################################\n",
    "# DIVISIÓN TRAIN Y TEST\n",
    "##############################################################################\n",
    "\n",
    "# Divide los datos en conjuntos de entrenamiento y prueba\n",
    "X_train, X_test = train_test_split(dataset, test_size=0.2, random_state=0)\n",
    "\n",
    "\n",
    "#Imprime el número de elementos en el conjuntos de entrenamiento y prueba\n",
    "print('Nº de (ESTADOS,ACCIONES) en el conjunto de entrenamiento:', len(X_train))\n",
    "print('Nº de (ESTADOS,ACCIONES) en el conjunto de prueba:', len(X_test))"
   ]
  },
  {
   "cell_type": "code",
   "execution_count": 34,
   "metadata": {},
   "outputs": [],
   "source": [
    "env= gym.make('LunarLander-v2')\n",
    "obs,_= env.reset()\n",
    "\n",
    "# Generador\n",
    "generator=Policy_net( 'policy', env, obs)\n",
    "\n",
    "# Generamos [s,a, s', r] falsas y las políticas theta_i y theta_i+1\n",
    "observations, actions, next_observations, rewards, Old_Policy, Policy=generator.generate_fakes()\n",
    "\n",
    "# Discriminador\n",
    "discriminator=Discriminator(env, discriminator_net, converted_observations, expert_actions, converted_next_observations, expert_rewards, observations, actions, next_observations, rewards)"
   ]
  },
  {
   "cell_type": "markdown",
   "metadata": {},
   "source": [
    "### Definición de GAIL"
   ]
  },
  {
   "cell_type": "code",
   "execution_count": 35,
   "metadata": {},
   "outputs": [],
   "source": [
    "gan2=GAN(discriminator=discriminator,generator=generator)"
   ]
  },
  {
   "cell_type": "markdown",
   "metadata": {},
   "source": [
    "### Compilación de GAIL"
   ]
  },
  {
   "cell_type": "code",
   "execution_count": 36,
   "metadata": {},
   "outputs": [],
   "source": [
    "tf.config.run_functions_eagerly(True)\n",
    "gan2.compile(\n",
    "    d_optimizer=tf.keras.optimizers.Adam(learning_rate=LEARNING_RATE),\n",
    "    loss_fn_D=loss_fn_D\n",
    ")"
   ]
  },
  {
   "cell_type": "markdown",
   "metadata": {},
   "source": [
    "### Entrenamiento de GAIL"
   ]
  },
  {
   "cell_type": "code",
   "execution_count": 37,
   "metadata": {},
   "outputs": [
    {
     "name": "stdout",
     "output_type": "stream",
     "text": [
      "\n",
      "\n",
      "\n",
      "d_loss= 2.6126106\n",
      "\n",
      "g_loss= 0.28688005\n",
      "1/7 [===>..........................] - ETA: 1:02:40 - d_loss: 2.6126 - g_loss: 0.2869\n",
      "\n",
      "\n",
      "d_loss= 2.5637934\n",
      "\n",
      "g_loss= 0.2744208\n",
      "2/7 [=======>......................] - ETA: 52:17 - d_loss: 2.5882 - g_loss: 0.2807  \n",
      "\n",
      "\n",
      "d_loss= 2.6233482\n",
      "\n",
      "g_loss= 0.65300083\n",
      "3/7 [===========>..................] - ETA: 41:51 - d_loss: 2.5999 - g_loss: 0.4048\n",
      "\n",
      "\n",
      "d_loss= 2.5651226\n",
      "\n",
      "g_loss= -1.5215373\n",
      "4/7 [================>.............] - ETA: 31:24 - d_loss: 2.5912 - g_loss: -0.0768\n",
      "\n",
      "\n",
      "d_loss= 2.600709\n",
      "\n",
      "g_loss= 1.4750057\n",
      "5/7 [====================>.........] - ETA: 20:56 - d_loss: 2.5931 - g_loss: 0.2336 \n",
      "\n",
      "\n",
      "d_loss= 2.6092846\n",
      "\n",
      "g_loss= 0.5497137\n",
      "6/7 [========================>.....] - ETA: 10:31 - d_loss: 2.5958 - g_loss: 0.2862\n",
      "\n",
      "\n",
      "d_loss= 2.591103\n",
      "\n",
      "g_loss= 1.1361111\n",
      "7/7 [==============================] - 4414s 631s/step - d_loss: 2.5951 - g_loss: 0.4077\n"
     ]
    }
   ],
   "source": [
    "# Deshabilitar los mensajes de información de TensorFlow\n",
    "os.environ['TF_CPP_MIN_LOG_LEVEL'] = '3'\n",
    "\n",
    "# Deshabilitar los mensajes de información de OpenAI Gym\n",
    "gym.logger.set_level(40)\n",
    "\n",
    "BATCH_SIZE=140\n",
    "\n",
    "history=gan2.fit(X_train,\n",
    "    epochs=EPOCHS, batch_size=BATCH_SIZE)\n"
   ]
  },
  {
   "cell_type": "markdown",
   "metadata": {},
   "source": [
    "### Evaluación de GAIL"
   ]
  },
  {
   "cell_type": "code",
   "execution_count": 38,
   "metadata": {},
   "outputs": [
    {
     "name": "stdout",
     "output_type": "stream",
     "text": [
      "1/1 [==============================] - 0s 20ms/step - loss: 0.7064 - accuracy: 0.4292\n",
      "1/1 [==============================] - 0s 18ms/step - loss: 0.6447 - accuracy: 0.1667\n",
      ">Loss real: \n",
      "0.706373393535614\n",
      ">Loss fake: \n",
      "0.6446850299835205\n"
     ]
    }
   ],
   "source": [
    "# Evaluamos el Discriminador de GAIL en el TEST\n",
    "gan2.evaluate_D(X_test)\n"
   ]
  },
  {
   "cell_type": "code",
   "execution_count": 39,
   "metadata": {},
   "outputs": [
    {
     "name": "stdout",
     "output_type": "stream",
     "text": [
      "Episode  0 Total reward: 71.85572613323642\n",
      "Episode  1 Total reward: 15.837036654502285\n",
      "Episode  2 Total reward: -136.2993725393409\n",
      "Episode  3 Total reward: -60.682250799936405\n",
      "Episode  4 Total reward: 56.34106943939117\n",
      "Episode  5 Total reward: -88.13253155931835\n",
      "Episode  6 Total reward: 6.345599641538826\n",
      "Episode  7 Total reward: -1.041510638060501\n",
      "Episode  8 Total reward: 113.15960910654351\n",
      "Episode  9 Total reward: -58.46466281997603\n",
      "Episode  10 Total reward: -64.10196624195075\n",
      "Episode  11 Total reward: -217.22695854402994\n",
      "Episode  12 Total reward: -234.92092755684277\n",
      "Episode  13 Total reward: -11.611082862340524\n",
      "Episode  14 Total reward: 17.90190638358571\n",
      "Episode  15 Total reward: 27.948966187535667\n",
      "Episode  16 Total reward: 2.9793351873499887\n",
      "Episode  17 Total reward: -21.32607850053516\n",
      "Episode  18 Total reward: 14.141006896301938\n",
      "Episode  19 Total reward: 48.892853516847865\n",
      "Episode  20 Total reward: 129.58451146764915\n",
      "Episode  21 Total reward: -38.75449071239643\n",
      "Episode  22 Total reward: -86.08619579014415\n",
      "Episode  23 Total reward: -112.60508179813712\n",
      "Episode  24 Total reward: -183.5751789298015\n",
      "Episode  25 Total reward: 50.60764576523047\n",
      "Episode  26 Total reward: 4.00676546016399\n",
      "Episode  27 Total reward: 62.41988138051904\n",
      "Episode  28 Total reward: 5.676172423753949\n",
      "Episode  29 Total reward: 28.318854113603432\n",
      "Episode  30 Total reward: -177.61067936076694\n",
      "Episode  31 Total reward: 15.592590560114516\n",
      "Episode  32 Total reward: -68.68052068246375\n",
      "Episode  33 Total reward: -3.0450652537119565\n",
      "Episode  34 Total reward: 40.32838625349846\n",
      "Episode  35 Total reward: -36.6473574547482\n",
      "Episode  36 Total reward: 104.44684478784127\n",
      "Episode  37 Total reward: 35.140652827394035\n",
      "Episode  38 Total reward: 92.26761242382953\n",
      "Episode  39 Total reward: -85.34296594749296\n",
      "Episode  40 Total reward: 13.480804302683254\n",
      "Episode  41 Total reward: 7.151191394956342\n",
      "Episode  42 Total reward: -42.00557796791186\n",
      "Episode  43 Total reward: -222.33094651573333\n",
      "Episode  44 Total reward: -256.3467496364124\n",
      "Episode  45 Total reward: -39.65162590053373\n",
      "Episode  46 Total reward: -40.014704678555695\n",
      "Episode  47 Total reward: 69.92959837066972\n",
      "Episode  48 Total reward: 56.59204565529326\n",
      "Episode  49 Total reward: -32.694722275295376\n"
     ]
    },
    {
     "data": {
      "image/png": "[encoded data removed]",
      "text/plain": [
       "<Figure size 640x480 with 1 Axes>"
      ]
     },
     "metadata": {},
     "output_type": "display_data"
    },
    {
     "name": "stdout",
     "output_type": "stream",
     "text": [
      "\n",
      "Recompensa de Media: -24.565050772648057 \n",
      "\n"
     ]
    }
   ],
   "source": [
    "# Evaluamos al Generador \n",
    "rewardMean=gan2.evaluate_G()\n",
    "print('\\nRecompensa de Media:', rewardMean, '\\n')"
   ]
  },
  {
   "cell_type": "markdown",
   "metadata": {},
   "source": [
    "## Experimento 3"
   ]
  },
  {
   "cell_type": "markdown",
   "metadata": {},
   "source": [
    "### Construcción de base de datos experta con 3 trayectoria "
   ]
  },
  {
   "cell_type": "code",
   "execution_count": 40,
   "metadata": {},
   "outputs": [
    {
     "name": "stdout",
     "output_type": "stream",
     "text": [
      "\n",
      "\tEstados reales: \n",
      " [[-0.00655632  1.412633   -0.6640952  ...  0.15042743  0.\n",
      "   0.        ]\n",
      " [-0.01301994  1.4137701  -0.65149987 ...  0.1017526   0.\n",
      "   0.        ]\n",
      " [-0.01941118  1.414314   -0.6424104  ...  0.06514421  0.\n",
      "   0.        ]\n",
      " ...\n",
      " [-0.46665245 -0.0082029   0.03071342 ...  0.67170596  1.\n",
      "   1.        ]\n",
      " [-0.4661541  -0.01350838  0.02066027 ...  0.635882    1.\n",
      "   1.        ]\n",
      " [-0.46567154 -0.01838761  0.02184356 ...  0.58443296  1.\n",
      "   1.        ]]\n",
      "\tAcciones reales: \n",
      " [3 3 3 ... 0 3 3]\n",
      "\n",
      "\t Estados siguientes: \n",
      " [[-0.00655632  1.412633   -0.6640952  ...  0.15042743  0.\n",
      "   0.        ]\n",
      " [-0.01301994  1.4137701  -0.65149987 ...  0.1017526   0.\n",
      "   0.        ]\n",
      " [-0.01941118  1.414314   -0.6424104  ...  0.06514421  0.\n",
      "   0.        ]\n",
      " ...\n",
      " [-0.46665245 -0.0082029   0.03071342 ...  0.67170596  1.\n",
      "   1.        ]\n",
      " [-0.4661541  -0.01350838  0.02066027 ...  0.635882    1.\n",
      "   1.        ]\n",
      " [-0.46567154 -0.01838761  0.02184356 ...  0.58443296  1.\n",
      "   1.        ]]\n",
      "\n",
      "\t Recompensas: [   0    0    0 ...   -1   -1 -100]\n"
     ]
    }
   ],
   "source": [
    "expert_observations = np.genfromtxt(\"observations_LunarLander.csv\",delimiter=\"\\t\",dtype=str)\n",
    "expert_actions = np.genfromtxt('actions_LunarLander.csv', dtype=np.int32)\n",
    "expert_next_observations = np.genfromtxt('next_observations_LunarLander.csv',delimiter=\"\\t\",dtype=str)\n",
    "expert_rewards = np.genfromtxt('rewards_LunarLander.csv', dtype=np.int32)\n",
    "expert_num_tray=np.genfromtxt('n_trayectoria_LunarLander.csv', dtype=np.int32)\n",
    "\n",
    "# Reemplazar las comas\n",
    "expert_observations = np.core.defchararray.replace(expert_observations, ',', ' ')\n",
    "\n",
    "# Reemplazar las comas\n",
    "expert_next_observations = np.core.defchararray.replace(expert_next_observations, ',', ' ')\n",
    "\n",
    "# Crear un nuevo array para almacenar los datos convertidos\n",
    "converted_observations = np.genfromtxt(expert_observations, delimiter=' ', dtype=float)\n",
    "# Crear un nuevo array para almacenar los datos convertidos\n",
    "converted_next_observations = np.genfromtxt(expert_observations, delimiter=' ', dtype=float)\n",
    "\n",
    "\n",
    "rewards=np.array(expert_rewards).reshape(-1,1)\n",
    "\n",
    "\n",
    "print(\"\\n\\tEstados reales: \\n\", converted_observations)\n",
    "print(\"\\tAcciones reales: \\n\", expert_actions)\n",
    "print(\"\\n\\t Estados siguientes: \\n\", converted_next_observations)\n",
    "print(\"\\n\\t Recompensas:\" ,expert_rewards)"
   ]
  },
  {
   "cell_type": "code",
   "execution_count": 41,
   "metadata": {},
   "outputs": [
    {
     "name": "stdout",
     "output_type": "stream",
     "text": [
      "1572\n"
     ]
    }
   ],
   "source": [
    "longitud_trayectoria += np.count_nonzero(expert_num_tray == 2)\n",
    "print(longitud_trayectoria)"
   ]
  },
  {
   "cell_type": "code",
   "execution_count": 42,
   "metadata": {},
   "outputs": [],
   "source": [
    "converted_observations=converted_observations[0:longitud_trayectoria]\n",
    "expert_actions=expert_actions[0:longitud_trayectoria]\n",
    "converted_next_observations=converted_next_observations[0:longitud_trayectoria]\n",
    "expert_rewards=expert_rewards[0:longitud_trayectoria]"
   ]
  },
  {
   "cell_type": "code",
   "execution_count": 43,
   "metadata": {},
   "outputs": [],
   "source": [
    "# Construimos el dataset [s,a,s',r] reales y lo dividimos en training y test\n",
    "expert_a_one_hot=np.eye(env.action_space.n)[expert_actions]\n",
    "expert_rewards = expert_rewards.reshape(-1, 1)\n",
    "\n",
    "dataset1=np.concatenate([converted_observations,expert_a_one_hot],axis=1)\n",
    "dataset2=np.concatenate([dataset1,converted_next_observations],axis=1)\n",
    "dataset=np.concatenate([dataset2,expert_rewards],axis=1)\n"
   ]
  },
  {
   "cell_type": "code",
   "execution_count": 44,
   "metadata": {},
   "outputs": [
    {
     "name": "stdout",
     "output_type": "stream",
     "text": [
      "Nº de (ESTADOS,ACCIONES) en el conjunto de entrenamiento: 1257\n",
      "Nº de (ESTADOS,ACCIONES) en el conjunto de prueba: 315\n"
     ]
    }
   ],
   "source": [
    "#############################################################################\n",
    "# DIVISIÓN TRAIN Y TEST\n",
    "##############################################################################\n",
    "\n",
    "# Divide los datos en conjuntos de entrenamiento y prueba\n",
    "X_train, X_test = train_test_split(dataset, test_size=0.2, random_state=0)\n",
    "\n",
    "\n",
    "#Imprime el número de elementos en el conjuntos de entrenamiento y prueba\n",
    "print('Nº de (ESTADOS,ACCIONES) en el conjunto de entrenamiento:', len(X_train))\n",
    "print('Nº de (ESTADOS,ACCIONES) en el conjunto de prueba:', len(X_test))"
   ]
  },
  {
   "cell_type": "code",
   "execution_count": 45,
   "metadata": {},
   "outputs": [],
   "source": [
    "env= gym.make('LunarLander-v2')\n",
    "obs,_= env.reset()\n",
    "\n",
    "# Generador\n",
    "generator=Policy_net( 'policy', env, obs)\n",
    "\n",
    "# Generamos [s,a, s', r] falsas y las políticas theta_i y theta_i+1\n",
    "observations, actions, next_observations, rewards, Old_Policy, Policy=generator.generate_fakes()\n",
    "\n",
    "# Discriminador\n",
    "discriminator=Discriminator(env, discriminator_net, converted_observations, expert_actions, converted_next_observations, expert_rewards, observations, actions, next_observations, rewards)"
   ]
  },
  {
   "cell_type": "markdown",
   "metadata": {},
   "source": [
    "### Definición de GAIL"
   ]
  },
  {
   "cell_type": "code",
   "execution_count": 46,
   "metadata": {},
   "outputs": [],
   "source": [
    "gan3=GAN(discriminator=discriminator,generator=generator)"
   ]
  },
  {
   "cell_type": "markdown",
   "metadata": {},
   "source": [
    "### Compilación de GAIL"
   ]
  },
  {
   "cell_type": "code",
   "execution_count": 47,
   "metadata": {},
   "outputs": [],
   "source": [
    "tf.config.run_functions_eagerly(True)\n",
    "gan3.compile(\n",
    "    d_optimizer=tf.keras.optimizers.Adam(learning_rate=LEARNING_RATE),\n",
    "    loss_fn_D=loss_fn_D\n",
    ")"
   ]
  },
  {
   "cell_type": "markdown",
   "metadata": {},
   "source": [
    "### Entrenamiento de GAIL"
   ]
  },
  {
   "cell_type": "code",
   "execution_count": 48,
   "metadata": {},
   "outputs": [
    {
     "name": "stdout",
     "output_type": "stream",
     "text": [
      "\n",
      "\n",
      "\n",
      "d_loss= 2.5642962\n",
      "\n",
      "g_loss= 3.6984348\n",
      "1/9 [==>...........................] - ETA: 1:23:00 - d_loss: 2.5643 - g_loss: 3.6984\n",
      "\n",
      "\n",
      "d_loss= 2.5794773\n",
      "\n",
      "g_loss= -2.0148838\n",
      "2/9 [=====>........................] - ETA: 1:13:13 - d_loss: 2.5719 - g_loss: 0.8418\n",
      "\n",
      "\n",
      "d_loss= 2.5617425\n",
      "\n",
      "g_loss= 0.4959279\n",
      "3/9 [=========>....................] - ETA: 1:02:43 - d_loss: 2.5685 - g_loss: 0.7265\n",
      "\n",
      "\n",
      "d_loss= 2.5827143\n",
      "\n",
      "g_loss= -1.7060982\n",
      "4/9 [============>.................] - ETA: 52:15 - d_loss: 2.5721 - g_loss: 0.1183  \n",
      "\n",
      "\n",
      "d_loss= 2.5795329\n",
      "\n",
      "g_loss= 2.1425328\n",
      "5/9 [===============>..............] - ETA: 41:52 - d_loss: 2.5736 - g_loss: 0.5232\n",
      "\n",
      "\n",
      "d_loss= 2.5457685\n",
      "\n",
      "g_loss= 1.5198834\n",
      "6/9 [===================>..........] - ETA: 31:25 - d_loss: 2.5689 - g_loss: 0.6893\n",
      "\n",
      "\n",
      "d_loss= 2.566185\n",
      "\n",
      "g_loss= 0.36242062\n",
      "7/9 [======================>.......] - ETA: 20:57 - d_loss: 2.5685 - g_loss: 0.6426\n",
      "\n",
      "\n",
      "d_loss= 2.5601072\n",
      "\n",
      "g_loss= 1.7800821\n",
      "8/9 [=========================>....] - ETA: 10:29 - d_loss: 2.5675 - g_loss: 0.7848\n",
      "\n",
      "\n",
      "d_loss= 2.5730524\n",
      "\n",
      "g_loss= 6.594729\n",
      "9/9 [==============================] - 5657s 629s/step - d_loss: 2.5681 - g_loss: 1.4303\n"
     ]
    }
   ],
   "source": [
    "# Deshabilitar los mensajes de información de TensorFlow\n",
    "os.environ['TF_CPP_MIN_LOG_LEVEL'] = '3'\n",
    "\n",
    "# Deshabilitar los mensajes de información de OpenAI Gym\n",
    "gym.logger.set_level(40)\n",
    "\n",
    "\n",
    "BATCH_SIZE=140\n",
    "\n",
    "history=gan3.fit(X_train,\n",
    "    epochs=EPOCHS, batch_size=BATCH_SIZE)\n"
   ]
  },
  {
   "cell_type": "markdown",
   "metadata": {},
   "source": [
    "### Evaluación de GAIL"
   ]
  },
  {
   "cell_type": "code",
   "execution_count": 49,
   "metadata": {},
   "outputs": [
    {
     "name": "stdout",
     "output_type": "stream",
     "text": [
      "1/1 [==============================] - 0s 28ms/step - loss: 0.6565 - accuracy: 0.0317\n",
      "1/1 [==============================] - 0s 18ms/step - loss: 0.6508 - accuracy: 0.0699\n",
      ">Loss real: \n",
      "0.6565201282501221\n",
      ">Loss fake: \n",
      "0.650819718837738\n"
     ]
    }
   ],
   "source": [
    "# Evaluamos el Discriminador de GAIL en el TEST\n",
    "gan3.evaluate_D(X_test)\n"
   ]
  },
  {
   "cell_type": "code",
   "execution_count": 50,
   "metadata": {},
   "outputs": [
    {
     "name": "stdout",
     "output_type": "stream",
     "text": [
      "Episode  0 Total reward: -72.31402062749942\n",
      "Episode  1 Total reward: -72.82635372634434\n",
      "Episode  2 Total reward: -236.43177683947314\n",
      "Episode  3 Total reward: -46.96037022409062\n",
      "Episode  4 Total reward: -200.28283863625387\n",
      "Episode  5 Total reward: -106.77415451676441\n",
      "Episode  6 Total reward: 39.72989431036487\n",
      "Episode  7 Total reward: 17.6938150233697\n",
      "Episode  8 Total reward: -142.23441596348565\n",
      "Episode  9 Total reward: -28.167648988671132\n",
      "Episode  10 Total reward: -49.51776226407644\n",
      "Episode  11 Total reward: -63.11072387901616\n",
      "Episode  12 Total reward: 6.061000612241415\n",
      "Episode  13 Total reward: -258.91956189520795\n",
      "Episode  14 Total reward: 47.30874252226526\n",
      "Episode  15 Total reward: -156.00352161997262\n",
      "Episode  16 Total reward: 23.256810344482602\n",
      "Episode  17 Total reward: -36.346343071287606\n",
      "Episode  18 Total reward: -54.00286859789475\n",
      "Episode  19 Total reward: -18.906079928189826\n",
      "Episode  20 Total reward: -39.38868636603286\n",
      "Episode  21 Total reward: -25.6849429397039\n",
      "Episode  22 Total reward: -242.71711198429261\n",
      "Episode  23 Total reward: -112.58393682791379\n",
      "Episode  24 Total reward: -49.16281991149604\n",
      "Episode  25 Total reward: 1.7272249047952926\n",
      "Episode  26 Total reward: -110.9308052236445\n",
      "Episode  27 Total reward: -37.70171110926752\n",
      "Episode  28 Total reward: 60.60116015054018\n",
      "Episode  29 Total reward: -15.226819552359103\n",
      "Episode  30 Total reward: 62.79026651999405\n",
      "Episode  31 Total reward: -114.92924605862622\n",
      "Episode  32 Total reward: -29.12206763391967\n",
      "Episode  33 Total reward: 73.25682800433609\n",
      "Episode  34 Total reward: 8.446528228930106\n",
      "Episode  35 Total reward: -69.1034006421787\n",
      "Episode  36 Total reward: 30.805010631011555\n",
      "Episode  37 Total reward: 96.9336941718144\n",
      "Episode  38 Total reward: -48.13845707613311\n",
      "Episode  39 Total reward: -8.129613909520256\n",
      "Episode  40 Total reward: -80.4644018731271\n",
      "Episode  41 Total reward: -69.72598140056775\n",
      "Episode  42 Total reward: 38.864464251483355\n",
      "Episode  43 Total reward: -92.0634242320626\n",
      "Episode  44 Total reward: 91.91308285274759\n",
      "Episode  45 Total reward: -13.13318953803126\n",
      "Episode  46 Total reward: -114.71224917444084\n",
      "Episode  47 Total reward: -316.30759975546596\n",
      "Episode  48 Total reward: 40.14363395947433\n",
      "Episode  49 Total reward: -50.573347268838354\n"
     ]
    },
    {
     "data": {
      "image/png": "[encoded data removed]",
      "text/plain": [
       "<Figure size 640x480 with 1 Axes>"
      ]
     },
     "metadata": {},
     "output_type": "display_data"
    },
    {
     "name": "stdout",
     "output_type": "stream",
     "text": [
      "\n",
      "Recompensa de Media: -50.861321935359996 \n",
      "\n"
     ]
    }
   ],
   "source": [
    "# Evaluamos al Generador \n",
    "rewardMean=gan3.evaluate_G()\n",
    "print('\\nRecompensa de Media:', rewardMean, '\\n')"
   ]
  },
  {
   "cell_type": "markdown",
   "metadata": {},
   "source": [
    "## Experimento 4"
   ]
  },
  {
   "cell_type": "markdown",
   "metadata": {},
   "source": [
    "### Construcción de base de datos experta con 4 trayectoria "
   ]
  },
  {
   "cell_type": "code",
   "execution_count": 51,
   "metadata": {},
   "outputs": [
    {
     "name": "stdout",
     "output_type": "stream",
     "text": [
      "\n",
      "\tEstados reales: \n",
      " [[-0.00655632  1.412633   -0.6640952  ...  0.15042743  0.\n",
      "   0.        ]\n",
      " [-0.01301994  1.4137701  -0.65149987 ...  0.1017526   0.\n",
      "   0.        ]\n",
      " [-0.01941118  1.414314   -0.6424104  ...  0.06514421  0.\n",
      "   0.        ]\n",
      " ...\n",
      " [-0.46665245 -0.0082029   0.03071342 ...  0.67170596  1.\n",
      "   1.        ]\n",
      " [-0.4661541  -0.01350838  0.02066027 ...  0.635882    1.\n",
      "   1.        ]\n",
      " [-0.46567154 -0.01838761  0.02184356 ...  0.58443296  1.\n",
      "   1.        ]]\n",
      "\tAcciones reales: \n",
      " [3 3 3 ... 0 3 3]\n",
      "\n",
      "\t Estados siguientes: \n",
      " [[-0.00655632  1.412633   -0.6640952  ...  0.15042743  0.\n",
      "   0.        ]\n",
      " [-0.01301994  1.4137701  -0.65149987 ...  0.1017526   0.\n",
      "   0.        ]\n",
      " [-0.01941118  1.414314   -0.6424104  ...  0.06514421  0.\n",
      "   0.        ]\n",
      " ...\n",
      " [-0.46665245 -0.0082029   0.03071342 ...  0.67170596  1.\n",
      "   1.        ]\n",
      " [-0.4661541  -0.01350838  0.02066027 ...  0.635882    1.\n",
      "   1.        ]\n",
      " [-0.46567154 -0.01838761  0.02184356 ...  0.58443296  1.\n",
      "   1.        ]]\n",
      "\n",
      "\t Recompensas: [   0    0    0 ...   -1   -1 -100]\n"
     ]
    }
   ],
   "source": [
    "expert_observations = np.genfromtxt(\"observations_LunarLander.csv\",delimiter=\"\\t\",dtype=str)\n",
    "expert_actions = np.genfromtxt('actions_LunarLander.csv', dtype=np.int32)\n",
    "expert_next_observations = np.genfromtxt('next_observations_LunarLander.csv',delimiter=\"\\t\",dtype=str)\n",
    "expert_rewards = np.genfromtxt('rewards_LunarLander.csv', dtype=np.int32)\n",
    "expert_num_tray=np.genfromtxt('n_trayectoria_LunarLander.csv', dtype=np.int32)\n",
    "\n",
    "# Reemplazar las comas\n",
    "expert_observations = np.core.defchararray.replace(expert_observations, ',', ' ')\n",
    "\n",
    "# Reemplazar las comas\n",
    "expert_next_observations = np.core.defchararray.replace(expert_next_observations, ',', ' ')\n",
    "\n",
    "# Crear un nuevo array para almacenar los datos convertidos\n",
    "converted_observations = np.genfromtxt(expert_observations, delimiter=' ', dtype=float)\n",
    "# Crear un nuevo array para almacenar los datos convertidos\n",
    "converted_next_observations = np.genfromtxt(expert_observations, delimiter=' ', dtype=float)\n",
    "\n",
    "\n",
    "rewards=np.array(expert_rewards).reshape(-1,1)\n",
    "\n",
    "\n",
    "print(\"\\n\\tEstados reales: \\n\", converted_observations)\n",
    "print(\"\\tAcciones reales: \\n\", expert_actions)\n",
    "print(\"\\n\\t Estados siguientes: \\n\", converted_next_observations)\n",
    "print(\"\\n\\t Recompensas:\" ,expert_rewards)"
   ]
  },
  {
   "cell_type": "code",
   "execution_count": 52,
   "metadata": {},
   "outputs": [
    {
     "name": "stdout",
     "output_type": "stream",
     "text": [
      "2168\n"
     ]
    }
   ],
   "source": [
    "longitud_trayectoria += np.count_nonzero(expert_num_tray == 3)\n",
    "print(longitud_trayectoria)"
   ]
  },
  {
   "cell_type": "code",
   "execution_count": 53,
   "metadata": {},
   "outputs": [],
   "source": [
    "converted_observations=converted_observations[0:longitud_trayectoria]\n",
    "expert_actions=expert_actions[0:longitud_trayectoria]\n",
    "converted_next_observations=converted_next_observations[0:longitud_trayectoria]\n",
    "expert_rewards=expert_rewards[0:longitud_trayectoria]"
   ]
  },
  {
   "cell_type": "code",
   "execution_count": 54,
   "metadata": {},
   "outputs": [],
   "source": [
    "# Construimos el dataset [s,a,s',r] reales y lo dividimos en training y test\n",
    "expert_a_one_hot=np.eye(env.action_space.n)[expert_actions]\n",
    "expert_rewards = expert_rewards.reshape(-1, 1)\n",
    "\n",
    "dataset1=np.concatenate([converted_observations,expert_a_one_hot],axis=1)\n",
    "dataset2=np.concatenate([dataset1,converted_next_observations],axis=1)\n",
    "dataset=np.concatenate([dataset2,expert_rewards],axis=1)\n"
   ]
  },
  {
   "cell_type": "code",
   "execution_count": 55,
   "metadata": {},
   "outputs": [
    {
     "name": "stdout",
     "output_type": "stream",
     "text": [
      "Nº de (ESTADOS,ACCIONES) en el conjunto de entrenamiento: 1734\n",
      "Nº de (ESTADOS,ACCIONES) en el conjunto de prueba: 434\n"
     ]
    }
   ],
   "source": [
    "#############################################################################\n",
    "# DIVISIÓN TRAIN Y TEST\n",
    "##############################################################################\n",
    "\n",
    "# Divide los datos en conjuntos de entrenamiento y prueba\n",
    "X_train, X_test = train_test_split(dataset, test_size=0.2, random_state=0)\n",
    "\n",
    "\n",
    "#Imprime el número de elementos en el conjuntos de entrenamiento y prueba\n",
    "print('Nº de (ESTADOS,ACCIONES) en el conjunto de entrenamiento:', len(X_train))\n",
    "print('Nº de (ESTADOS,ACCIONES) en el conjunto de prueba:', len(X_test))"
   ]
  },
  {
   "cell_type": "code",
   "execution_count": 56,
   "metadata": {},
   "outputs": [],
   "source": [
    "env= gym.make('LunarLander-v2')\n",
    "obs,_= env.reset()\n",
    "\n",
    "# Generador\n",
    "generator=Policy_net( 'policy', env, obs)\n",
    "\n",
    "# Generamos [s,a, s', r] falsas y las políticas theta_i y theta_i+1\n",
    "observations, actions, next_observations, rewards, Old_Policy, Policy=generator.generate_fakes()\n",
    "\n",
    "# Discriminador\n",
    "discriminator=Discriminator(env, discriminator_net, converted_observations, expert_actions, converted_next_observations, expert_rewards, observations, actions, next_observations, rewards)"
   ]
  },
  {
   "cell_type": "markdown",
   "metadata": {},
   "source": [
    "### Definición de GAIL"
   ]
  },
  {
   "cell_type": "code",
   "execution_count": 57,
   "metadata": {},
   "outputs": [],
   "source": [
    "gan4=GAN(discriminator=discriminator,generator=generator)"
   ]
  },
  {
   "cell_type": "markdown",
   "metadata": {},
   "source": [
    "### Compilación de GAIL"
   ]
  },
  {
   "cell_type": "code",
   "execution_count": 58,
   "metadata": {},
   "outputs": [],
   "source": [
    "tf.config.run_functions_eagerly(True)\n",
    "gan4.compile(\n",
    "    d_optimizer=tf.keras.optimizers.Adam(learning_rate=LEARNING_RATE),\n",
    "    loss_fn_D=loss_fn_D\n",
    ")"
   ]
  },
  {
   "cell_type": "markdown",
   "metadata": {},
   "source": [
    "### Entrenamiento de GAIL"
   ]
  },
  {
   "cell_type": "code",
   "execution_count": 59,
   "metadata": {},
   "outputs": [
    {
     "name": "stdout",
     "output_type": "stream",
     "text": [
      "\n",
      "\n",
      "\n",
      "d_loss= 2.5474615\n",
      "\n",
      "g_loss= -1.3547312\n",
      " 1/13 [=>............................] - ETA: 2:04:47 - d_loss: 2.5475 - g_loss: -1.3547\n",
      "\n",
      "\n",
      "d_loss= 2.5195522\n",
      "\n",
      "g_loss= 1.358638\n",
      " 2/13 [===>..........................] - ETA: 1:55:17 - d_loss: 2.5335 - g_loss: 0.0020 \n",
      "\n",
      "\n",
      "d_loss= 2.5349505\n",
      "\n",
      "g_loss= 3.3267617\n",
      " 3/13 [=====>........................] - ETA: 1:44:50 - d_loss: 2.5340 - g_loss: 1.1102\n",
      "\n",
      "\n",
      "d_loss= 2.5660439\n",
      "\n",
      "g_loss= 2.1828837\n",
      " 4/13 [========>.....................] - ETA: 1:34:28 - d_loss: 2.5420 - g_loss: 1.3784\n",
      "\n",
      "\n",
      "d_loss= 2.6124744\n",
      "\n",
      "g_loss= -0.51852167\n",
      " 5/13 [==========>...................] - ETA: 1:24:07 - d_loss: 2.5561 - g_loss: 0.9990\n",
      "\n",
      "\n",
      "d_loss= 2.532445\n",
      "\n",
      "g_loss= 1.0698951\n",
      " 6/13 [============>.................] - ETA: 1:13:36 - d_loss: 2.5522 - g_loss: 1.0108\n",
      "\n",
      "\n",
      "d_loss= 2.5527377\n",
      "\n",
      "g_loss= 3.062141\n",
      " 7/13 [===============>..............] - ETA: 1:03:07 - d_loss: 2.5522 - g_loss: 1.3039\n",
      "\n",
      "\n",
      "d_loss= 2.554758\n",
      "\n",
      "g_loss= 0.7253308\n",
      " 8/13 [=================>............] - ETA: 52:38 - d_loss: 2.5526 - g_loss: 1.2315  \n",
      "\n",
      "\n",
      "d_loss= 2.4933846\n",
      "\n",
      "g_loss= 1.5238409\n",
      " 9/13 [===================>..........] - ETA: 42:06 - d_loss: 2.5460 - g_loss: 1.2640\n",
      "\n",
      "\n",
      "d_loss= 2.5220323\n",
      "\n",
      "g_loss= -0.03597986\n",
      "10/13 [======================>.......] - ETA: 31:35 - d_loss: 2.5436 - g_loss: 1.1340\n",
      "\n",
      "\n",
      "d_loss= 2.5183425\n",
      "\n",
      "g_loss= 2.0266\n",
      "11/13 [========================>.....] - ETA: 21:03 - d_loss: 2.5413 - g_loss: 1.2152\n",
      "\n",
      "\n",
      "d_loss= 2.4876063\n",
      "\n",
      "g_loss= -0.4792659\n",
      "12/13 [==========================>...] - ETA: 10:31 - d_loss: 2.5368 - g_loss: 1.0740\n",
      "\n",
      "\n",
      "d_loss= 2.503951\n",
      "\n",
      "g_loss= 2.2909946\n",
      "13/13 [==============================] - 8203s 632s/step - d_loss: 2.5343 - g_loss: 1.1676\n"
     ]
    }
   ],
   "source": [
    "# Deshabilitar los mensajes de información de TensorFlow\n",
    "os.environ['TF_CPP_MIN_LOG_LEVEL'] = '3'\n",
    "\n",
    "# Deshabilitar los mensajes de información de OpenAI Gym\n",
    "gym.logger.set_level(40)\n",
    "\n",
    "BATCH_SIZE=140\n",
    "\n",
    "history=gan4.fit(X_train,\n",
    "    epochs=EPOCHS, batch_size=BATCH_SIZE)\n"
   ]
  },
  {
   "cell_type": "markdown",
   "metadata": {},
   "source": [
    "### Evaluación de GAIL"
   ]
  },
  {
   "cell_type": "code",
   "execution_count": 60,
   "metadata": {},
   "outputs": [
    {
     "name": "stdout",
     "output_type": "stream",
     "text": [
      "1/1 [==============================] - 0s 28ms/step - loss: 0.6223 - accuracy: 0.0046\n",
      "1/1 [==============================] - 0s 18ms/step - loss: 0.6076 - accuracy: 0.0000e+00\n",
      ">Loss real: \n",
      "0.6223491430282593\n",
      ">Loss fake: \n",
      "0.607596218585968\n"
     ]
    }
   ],
   "source": [
    "# Evaluamos el Discriminador de GAIL en el TEST\n",
    "gan4.evaluate_D(X_test)\n"
   ]
  },
  {
   "cell_type": "code",
   "execution_count": 61,
   "metadata": {},
   "outputs": [
    {
     "name": "stdout",
     "output_type": "stream",
     "text": [
      "Episode  0 Total reward: -20.55237690713666\n",
      "Episode  1 Total reward: 47.9567391225452\n",
      "Episode  2 Total reward: 58.5064429096731\n",
      "Episode  3 Total reward: -15.628172840705531\n",
      "Episode  4 Total reward: -99.7808453416373\n",
      "Episode  5 Total reward: -89.48992180962732\n",
      "Episode  6 Total reward: 37.740649038773455\n",
      "Episode  7 Total reward: 12.041819503110375\n",
      "Episode  8 Total reward: -98.33723785052321\n",
      "Episode  9 Total reward: -131.2450373513612\n",
      "Episode  10 Total reward: -83.98167122828004\n",
      "Episode  11 Total reward: -122.60738207164309\n",
      "Episode  12 Total reward: -47.17594622994296\n",
      "Episode  13 Total reward: -106.67931472938511\n",
      "Episode  14 Total reward: -61.652991766106226\n",
      "Episode  15 Total reward: 12.177032890975124\n",
      "Episode  16 Total reward: -20.404166144709322\n",
      "Episode  17 Total reward: 21.520434150083247\n",
      "Episode  18 Total reward: -84.78149726922621\n",
      "Episode  19 Total reward: -144.33790224129802\n",
      "Episode  20 Total reward: 51.15857670300004\n",
      "Episode  21 Total reward: -251.85607848924718\n",
      "Episode  22 Total reward: -0.2908672202253637\n",
      "Episode  23 Total reward: -16.778367446788607\n",
      "Episode  24 Total reward: -106.08573078188394\n",
      "Episode  25 Total reward: -7.040872670599754\n",
      "Episode  26 Total reward: -44.97966882483937\n",
      "Episode  27 Total reward: -105.87583571263123\n",
      "Episode  28 Total reward: -84.91515816684493\n",
      "Episode  29 Total reward: -214.97647276890683\n",
      "Episode  30 Total reward: -77.49530755766291\n",
      "Episode  31 Total reward: -193.5142818670249\n",
      "Episode  32 Total reward: 20.462176091503622\n",
      "Episode  33 Total reward: -59.45192032415119\n",
      "Episode  34 Total reward: -6.0927191685257185\n",
      "Episode  35 Total reward: -21.87783122008453\n",
      "Episode  36 Total reward: -12.646546617150648\n",
      "Episode  37 Total reward: -50.369750728410395\n",
      "Episode  38 Total reward: -54.89245217773929\n",
      "Episode  39 Total reward: -34.696886114230665\n",
      "Episode  40 Total reward: -30.69668503900273\n",
      "Episode  41 Total reward: 15.817984825699272\n",
      "Episode  42 Total reward: -216.58160389127448\n",
      "Episode  43 Total reward: -21.251867738088876\n",
      "Episode  44 Total reward: -123.20277840641181\n",
      "Episode  45 Total reward: -21.099770441773543\n",
      "Episode  46 Total reward: -34.602842864498996\n",
      "Episode  47 Total reward: 9.11569483843968\n",
      "Episode  48 Total reward: -11.962347551469875\n",
      "Episode  49 Total reward: -135.39048229399089\n"
     ]
    },
    {
     "data": {
      "image/png": "[encoded data removed]",
      "text/plain": [
       "<Figure size 640x480 with 1 Axes>"
      ]
     },
     "metadata": {},
     "output_type": "display_data"
    },
    {
     "name": "stdout",
     "output_type": "stream",
     "text": [
      "\n",
      "Recompensa de Media: -55.575640795824754 \n",
      "\n"
     ]
    }
   ],
   "source": [
    "# Evaluamos al Generador \n",
    "rewardMean=gan4.evaluate_G()\n",
    "print('\\nRecompensa de Media:', rewardMean, '\\n')"
   ]
  },
  {
   "cell_type": "markdown",
   "metadata": {},
   "source": [
    "## Experimento 5"
   ]
  },
  {
   "cell_type": "markdown",
   "metadata": {},
   "source": [
    "### Construcción de base de datos experta con 2 trayectoria "
   ]
  },
  {
   "cell_type": "code",
   "execution_count": 62,
   "metadata": {},
   "outputs": [
    {
     "name": "stdout",
     "output_type": "stream",
     "text": [
      "\n",
      "\tEstados reales: \n",
      " [[-0.00655632  1.412633   -0.6640952  ...  0.15042743  0.\n",
      "   0.        ]\n",
      " [-0.01301994  1.4137701  -0.65149987 ...  0.1017526   0.\n",
      "   0.        ]\n",
      " [-0.01941118  1.414314   -0.6424104  ...  0.06514421  0.\n",
      "   0.        ]\n",
      " ...\n",
      " [-0.46665245 -0.0082029   0.03071342 ...  0.67170596  1.\n",
      "   1.        ]\n",
      " [-0.4661541  -0.01350838  0.02066027 ...  0.635882    1.\n",
      "   1.        ]\n",
      " [-0.46567154 -0.01838761  0.02184356 ...  0.58443296  1.\n",
      "   1.        ]]\n",
      "\tAcciones reales: \n",
      " [3 3 3 ... 0 3 3]\n",
      "\n",
      "\t Estados siguientes: \n",
      " [[-0.00655632  1.412633   -0.6640952  ...  0.15042743  0.\n",
      "   0.        ]\n",
      " [-0.01301994  1.4137701  -0.65149987 ...  0.1017526   0.\n",
      "   0.        ]\n",
      " [-0.01941118  1.414314   -0.6424104  ...  0.06514421  0.\n",
      "   0.        ]\n",
      " ...\n",
      " [-0.46665245 -0.0082029   0.03071342 ...  0.67170596  1.\n",
      "   1.        ]\n",
      " [-0.4661541  -0.01350838  0.02066027 ...  0.635882    1.\n",
      "   1.        ]\n",
      " [-0.46567154 -0.01838761  0.02184356 ...  0.58443296  1.\n",
      "   1.        ]]\n",
      "\n",
      "\t Recompensas: [   0    0    0 ...   -1   -1 -100]\n"
     ]
    }
   ],
   "source": [
    "expert_observations = np.genfromtxt(\"observations_LunarLander.csv\",delimiter=\"\\t\",dtype=str)\n",
    "expert_actions = np.genfromtxt('actions_LunarLander.csv', dtype=np.int32)\n",
    "expert_next_observations = np.genfromtxt('next_observations_LunarLander.csv',delimiter=\"\\t\",dtype=str)\n",
    "expert_rewards = np.genfromtxt('rewards_LunarLander.csv', dtype=np.int32)\n",
    "expert_num_tray=np.genfromtxt('n_trayectoria_LunarLander.csv', dtype=np.int32)\n",
    "\n",
    "# Reemplazar las comas\n",
    "expert_observations = np.core.defchararray.replace(expert_observations, ',', ' ')\n",
    "\n",
    "# Reemplazar las comas\n",
    "expert_next_observations = np.core.defchararray.replace(expert_next_observations, ',', ' ')\n",
    "\n",
    "# Crear un nuevo array para almacenar los datos convertidos\n",
    "converted_observations = np.genfromtxt(expert_observations, delimiter=' ', dtype=float)\n",
    "# Crear un nuevo array para almacenar los datos convertidos\n",
    "converted_next_observations = np.genfromtxt(expert_observations, delimiter=' ', dtype=float)\n",
    "\n",
    "\n",
    "rewards=np.array(expert_rewards).reshape(-1,1)\n",
    "\n",
    "\n",
    "print(\"\\n\\tEstados reales: \\n\", converted_observations)\n",
    "print(\"\\tAcciones reales: \\n\", expert_actions)\n",
    "print(\"\\n\\t Estados siguientes: \\n\", converted_next_observations)\n",
    "print(\"\\n\\t Recompensas:\" ,expert_rewards)"
   ]
  },
  {
   "cell_type": "code",
   "execution_count": 63,
   "metadata": {},
   "outputs": [
    {
     "name": "stdout",
     "output_type": "stream",
     "text": [
      "3158\n"
     ]
    }
   ],
   "source": [
    "longitud_trayectoria += np.count_nonzero(expert_num_tray == 4)\n",
    "print(longitud_trayectoria)"
   ]
  },
  {
   "cell_type": "code",
   "execution_count": 64,
   "metadata": {},
   "outputs": [],
   "source": [
    "converted_observations=converted_observations[0:longitud_trayectoria]\n",
    "expert_actions=expert_actions[0:longitud_trayectoria]\n",
    "converted_next_observations=converted_next_observations[0:longitud_trayectoria]\n",
    "expert_rewards=expert_rewards[0:longitud_trayectoria]"
   ]
  },
  {
   "cell_type": "code",
   "execution_count": 65,
   "metadata": {},
   "outputs": [],
   "source": [
    "# Construimos el dataset [s,a,s',r] reales y lo dividimos en training y test\n",
    "expert_a_one_hot=np.eye(env.action_space.n)[expert_actions]\n",
    "expert_rewards = expert_rewards.reshape(-1, 1)\n",
    "\n",
    "dataset1=np.concatenate([converted_observations,expert_a_one_hot],axis=1)\n",
    "dataset2=np.concatenate([dataset1,converted_next_observations],axis=1)\n",
    "dataset=np.concatenate([dataset2,expert_rewards],axis=1)\n"
   ]
  },
  {
   "cell_type": "code",
   "execution_count": 66,
   "metadata": {},
   "outputs": [
    {
     "name": "stdout",
     "output_type": "stream",
     "text": [
      "Nº de (ESTADOS,ACCIONES) en el conjunto de entrenamiento: 2526\n",
      "Nº de (ESTADOS,ACCIONES) en el conjunto de prueba: 632\n"
     ]
    }
   ],
   "source": [
    "#############################################################################\n",
    "# DIVISIÓN TRAIN Y TEST\n",
    "##############################################################################\n",
    "\n",
    "# Divide los datos en conjuntos de entrenamiento y prueba\n",
    "X_train, X_test = train_test_split(dataset, test_size=0.2, random_state=0)\n",
    "\n",
    "\n",
    "#Imprime el número de elementos en el conjuntos de entrenamiento y prueba\n",
    "print('Nº de (ESTADOS,ACCIONES) en el conjunto de entrenamiento:', len(X_train))\n",
    "print('Nº de (ESTADOS,ACCIONES) en el conjunto de prueba:', len(X_test))"
   ]
  },
  {
   "cell_type": "code",
   "execution_count": 67,
   "metadata": {},
   "outputs": [],
   "source": [
    "env= gym.make('LunarLander-v2')\n",
    "obs,_= env.reset()\n",
    "\n",
    "# Generador\n",
    "generator=Policy_net( 'policy', env, obs)\n",
    "\n",
    "# Generamos [s,a, s', r] falsas y las políticas theta_i y theta_i+1\n",
    "observations, actions, next_observations, rewards, Old_Policy, Policy=generator.generate_fakes()\n",
    "\n",
    "# Discriminador\n",
    "discriminator=Discriminator(env, discriminator_net, converted_observations, expert_actions, converted_next_observations, expert_rewards, observations, actions, next_observations, rewards)"
   ]
  },
  {
   "cell_type": "markdown",
   "metadata": {},
   "source": [
    "### Definición de GAIL"
   ]
  },
  {
   "cell_type": "code",
   "execution_count": 68,
   "metadata": {},
   "outputs": [],
   "source": [
    "gan5=GAN(discriminator=discriminator,generator=generator)"
   ]
  },
  {
   "cell_type": "markdown",
   "metadata": {},
   "source": [
    "### Compilación de GAIL"
   ]
  },
  {
   "cell_type": "code",
   "execution_count": 69,
   "metadata": {},
   "outputs": [],
   "source": [
    "tf.config.run_functions_eagerly(True)\n",
    "gan5.compile(\n",
    "    d_optimizer=tf.keras.optimizers.Adam(learning_rate=LEARNING_RATE),\n",
    "    loss_fn_D=loss_fn_D\n",
    ")"
   ]
  },
  {
   "cell_type": "markdown",
   "metadata": {},
   "source": [
    "### Entrenamiento de GAIL"
   ]
  },
  {
   "cell_type": "code",
   "execution_count": 70,
   "metadata": {},
   "outputs": [
    {
     "name": "stdout",
     "output_type": "stream",
     "text": [
      "\n",
      "\n",
      "\n",
      "d_loss= 2.543023\n",
      "\n",
      "g_loss= 9.461582\n",
      " 1/19 [>.............................] - ETA: 3:11:42 - d_loss: 2.5430 - g_loss: 9.4616\n",
      "\n",
      "\n",
      "d_loss= 2.5063343\n",
      "\n",
      "g_loss= -0.32061815\n",
      " 2/19 [==>...........................] - ETA: 3:02:12 - d_loss: 2.5247 - g_loss: 4.5705\n",
      "\n",
      "\n",
      "d_loss= 2.5188394\n",
      "\n",
      "g_loss= -0.26085111\n",
      " 3/19 [===>..........................] - ETA: 2:53:09 - d_loss: 2.5227 - g_loss: 2.9600\n",
      "\n",
      "\n",
      "d_loss= 2.4777339\n",
      "\n",
      "g_loss= 1.2249987\n",
      " 4/19 [=====>........................] - ETA: 2:40:55 - d_loss: 2.5115 - g_loss: 2.5263\n",
      "\n",
      "\n",
      "d_loss= 2.490281\n",
      "\n",
      "g_loss= 1.1914097\n",
      " 5/19 [======>.......................] - ETA: 2:29:33 - d_loss: 2.5072 - g_loss: 2.2593\n",
      "\n",
      "\n",
      "d_loss= 2.5513465\n",
      "\n",
      "g_loss= 0.35121116\n",
      " 6/19 [========>.....................] - ETA: 2:18:38 - d_loss: 2.5146 - g_loss: 1.9413\n",
      "\n",
      "\n",
      "d_loss= 2.4919071\n",
      "\n",
      "g_loss= 0.3636564\n",
      " 7/19 [==========>...................] - ETA: 2:08:09 - d_loss: 2.5114 - g_loss: 1.7159\n",
      "\n",
      "\n",
      "d_loss= 2.461596\n",
      "\n",
      "g_loss= -2.8018882\n",
      " 8/19 [===========>..................] - ETA: 1:57:17 - d_loss: 2.5051 - g_loss: 1.1512\n",
      "\n",
      "\n",
      "d_loss= 2.4815402\n",
      "\n",
      "g_loss= -1.2613772\n",
      " 9/19 [=============>................] - ETA: 1:46:27 - d_loss: 2.5025 - g_loss: 0.8831\n",
      "\n",
      "\n",
      "d_loss= 2.470623\n",
      "\n",
      "g_loss= -2.6950586\n",
      "10/19 [==============>...............] - ETA: 1:35:43 - d_loss: 2.4993 - g_loss: 0.5253\n",
      "\n",
      "\n",
      "d_loss= 2.4698005\n",
      "\n",
      "g_loss= -3.8457248\n",
      "11/19 [================>.............] - ETA: 1:25:05 - d_loss: 2.4966 - g_loss: 0.1279\n",
      "\n",
      "\n",
      "d_loss= 2.4398453\n",
      "\n",
      "g_loss= 0.7489219\n",
      "12/19 [=================>............] - ETA: 1:14:23 - d_loss: 2.4919 - g_loss: 0.1797\n",
      "\n",
      "\n",
      "d_loss= 2.4679487\n",
      "\n",
      "g_loss= 0.029602824\n",
      "13/19 [===================>..........] - ETA: 1:03:45 - d_loss: 2.4901 - g_loss: 0.1681\n",
      "\n",
      "\n",
      "d_loss= 2.4863966\n",
      "\n",
      "g_loss= 0.8408669\n",
      "14/19 [=====================>........] - ETA: 53:05 - d_loss: 2.4898 - g_loss: 0.2162  \n",
      "\n",
      "\n",
      "d_loss= 2.4578748\n",
      "\n",
      "g_loss= -0.9319912\n",
      "15/19 [======================>.......] - ETA: 42:25 - d_loss: 2.4877 - g_loss: 0.1396\n",
      "\n",
      "\n",
      "d_loss= 2.4972143\n",
      "\n",
      "g_loss= 1.1807557\n",
      "16/19 [========================>.....] - ETA: 31:48 - d_loss: 2.4883 - g_loss: 0.2047\n",
      "\n",
      "\n",
      "d_loss= 2.470806\n",
      "\n",
      "g_loss= 0.22897743\n",
      "17/19 [=========================>....] - ETA: 21:11 - d_loss: 2.4872 - g_loss: 0.2061\n",
      "\n",
      "\n",
      "d_loss= 2.4378493\n",
      "\n",
      "g_loss= 0.9230817\n",
      "18/19 [===========================>..] - ETA: 10:35 - d_loss: 2.4845 - g_loss: 0.2460\n",
      "\n",
      "\n",
      "d_loss= 2.4740827\n",
      "\n",
      "g_loss= 1.5621034\n",
      "19/19 [==============================] - 12077s 635s/step - d_loss: 2.4839 - g_loss: 0.3152\n"
     ]
    }
   ],
   "source": [
    "# Deshabilitar los mensajes de información de TensorFlow\n",
    "os.environ['TF_CPP_MIN_LOG_LEVEL'] = '3'\n",
    "\n",
    "# Deshabilitar los mensajes de información de OpenAI Gym\n",
    "gym.logger.set_level(40)\n",
    "\n",
    "\n",
    "BATCH_SIZE=140\n",
    "\n",
    "history=gan5.fit(X_train,\n",
    "    epochs=EPOCHS, batch_size=BATCH_SIZE)\n"
   ]
  },
  {
   "cell_type": "markdown",
   "metadata": {},
   "source": [
    "### Evaluación de GAIL"
   ]
  },
  {
   "cell_type": "code",
   "execution_count": 71,
   "metadata": {},
   "outputs": [
    {
     "name": "stdout",
     "output_type": "stream",
     "text": [
      "1/1 [==============================] - 0s 19ms/step - loss: 0.5465 - accuracy: 0.0000e+00\n",
      "1/1 [==============================] - 0s 17ms/step - loss: 0.5134 - accuracy: 0.0108\n",
      ">Loss real: \n",
      "0.5465038418769836\n",
      ">Loss fake: \n",
      "0.5134280323982239\n"
     ]
    }
   ],
   "source": [
    "# Evaluamos el Discriminador de GAIL en el TEST\n",
    "gan5.evaluate_D(X_test)\n"
   ]
  },
  {
   "cell_type": "code",
   "execution_count": 72,
   "metadata": {},
   "outputs": [
    {
     "name": "stdout",
     "output_type": "stream",
     "text": [
      "Episode  0 Total reward: -16.13181339793954\n",
      "Episode  1 Total reward: -93.80931841089297\n",
      "Episode  2 Total reward: 53.37433571564671\n",
      "Episode  3 Total reward: 37.582747422396025\n",
      "Episode  4 Total reward: -129.81237240774828\n",
      "Episode  5 Total reward: 18.256581101320748\n",
      "Episode  6 Total reward: -256.09825130575086\n",
      "Episode  7 Total reward: -48.44766617676753\n",
      "Episode  8 Total reward: -133.35684643159053\n",
      "Episode  9 Total reward: -105.05256590022681\n",
      "Episode  10 Total reward: -216.82672840393508\n",
      "Episode  11 Total reward: -76.57865906882549\n",
      "Episode  12 Total reward: -45.584877979371626\n",
      "Episode  13 Total reward: -160.0981900307321\n",
      "Episode  14 Total reward: -48.83170261540934\n",
      "Episode  15 Total reward: -260.20531335818055\n",
      "Episode  16 Total reward: 14.681675062523283\n",
      "Episode  17 Total reward: -77.12215418796131\n",
      "Episode  18 Total reward: 38.86937880121204\n",
      "Episode  19 Total reward: -226.1263339270816\n",
      "Episode  20 Total reward: -56.29886584342557\n",
      "Episode  21 Total reward: -187.15609409034857\n",
      "Episode  22 Total reward: 78.89286083225316\n",
      "Episode  23 Total reward: 0.1689903735582421\n",
      "Episode  24 Total reward: 44.07324538207493\n",
      "Episode  25 Total reward: -238.0302921765124\n",
      "Episode  26 Total reward: -113.98883515945525\n",
      "Episode  27 Total reward: -218.3240964989528\n",
      "Episode  28 Total reward: 64.56508620067088\n",
      "Episode  29 Total reward: -99.67262365524228\n",
      "Episode  30 Total reward: -23.65222474302901\n",
      "Episode  31 Total reward: -154.4224376865314\n",
      "Episode  32 Total reward: 61.62858219490042\n",
      "Episode  33 Total reward: -62.221639331313064\n",
      "Episode  34 Total reward: 65.49125626921337\n",
      "Episode  35 Total reward: -26.23651555748178\n",
      "Episode  36 Total reward: 2.244876067465867\n",
      "Episode  37 Total reward: -61.00841365945145\n",
      "Episode  38 Total reward: -124.2352268876744\n",
      "Episode  39 Total reward: -243.63895944625764\n",
      "Episode  40 Total reward: -85.1108887979587\n",
      "Episode  41 Total reward: -113.72105683542674\n",
      "Episode  42 Total reward: 56.869077958491815\n",
      "Episode  43 Total reward: -245.19855934442512\n",
      "Episode  44 Total reward: -137.12068199298488\n",
      "Episode  45 Total reward: 19.989211305619463\n",
      "Episode  46 Total reward: -22.460754621248114\n",
      "Episode  47 Total reward: -47.691963928912756\n",
      "Episode  48 Total reward: -202.38108363917223\n",
      "Episode  49 Total reward: 62.69975126263195\n"
     ]
    },
    {
     "data": {
      "image/png": "[encoded data removed]",
      "text/plain": [
       "<Figure size 640x480 with 1 Axes>"
      ]
     },
     "metadata": {},
     "output_type": "display_data"
    },
    {
     "name": "stdout",
     "output_type": "stream",
     "text": [
      "\n",
      "Recompensa de Media: -74.74532703096477 \n",
      "\n"
     ]
    }
   ],
   "source": [
    "# Evaluamos al Generador \n",
    "rewardMean=gan5.evaluate_G()\n",
    "print('\\nRecompensa de Media:', rewardMean, '\\n')"
   ]
  },
  {
   "cell_type": "markdown",
   "metadata": {},
   "source": [
    "## Experimento 6"
   ]
  },
  {
   "cell_type": "markdown",
   "metadata": {},
   "source": [
    "### Construcción de base de datos experta con 6 trayectoria "
   ]
  },
  {
   "cell_type": "code",
   "execution_count": 73,
   "metadata": {},
   "outputs": [
    {
     "name": "stdout",
     "output_type": "stream",
     "text": [
      "\n",
      "\tEstados reales: \n",
      " [[-0.00655632  1.412633   -0.6640952  ...  0.15042743  0.\n",
      "   0.        ]\n",
      " [-0.01301994  1.4137701  -0.65149987 ...  0.1017526   0.\n",
      "   0.        ]\n",
      " [-0.01941118  1.414314   -0.6424104  ...  0.06514421  0.\n",
      "   0.        ]\n",
      " ...\n",
      " [-0.46665245 -0.0082029   0.03071342 ...  0.67170596  1.\n",
      "   1.        ]\n",
      " [-0.4661541  -0.01350838  0.02066027 ...  0.635882    1.\n",
      "   1.        ]\n",
      " [-0.46567154 -0.01838761  0.02184356 ...  0.58443296  1.\n",
      "   1.        ]]\n",
      "\tAcciones reales: \n",
      " [3 3 3 ... 0 3 3]\n",
      "\n",
      "\t Estados siguientes: \n",
      " [[-0.00655632  1.412633   -0.6640952  ...  0.15042743  0.\n",
      "   0.        ]\n",
      " [-0.01301994  1.4137701  -0.65149987 ...  0.1017526   0.\n",
      "   0.        ]\n",
      " [-0.01941118  1.414314   -0.6424104  ...  0.06514421  0.\n",
      "   0.        ]\n",
      " ...\n",
      " [-0.46665245 -0.0082029   0.03071342 ...  0.67170596  1.\n",
      "   1.        ]\n",
      " [-0.4661541  -0.01350838  0.02066027 ...  0.635882    1.\n",
      "   1.        ]\n",
      " [-0.46567154 -0.01838761  0.02184356 ...  0.58443296  1.\n",
      "   1.        ]]\n",
      "\n",
      "\t Recompensas: [   0    0    0 ...   -1   -1 -100]\n"
     ]
    }
   ],
   "source": [
    "expert_observations = np.genfromtxt(\"observations_LunarLander.csv\",delimiter=\"\\t\",dtype=str)\n",
    "expert_actions = np.genfromtxt('actions_LunarLander.csv', dtype=np.int32)\n",
    "expert_next_observations = np.genfromtxt('next_observations_LunarLander.csv',delimiter=\"\\t\",dtype=str)\n",
    "expert_rewards = np.genfromtxt('rewards_LunarLander.csv', dtype=np.int32)\n",
    "expert_num_tray=np.genfromtxt('n_trayectoria_LunarLander.csv', dtype=np.int32)\n",
    "\n",
    "# Reemplazar las comas\n",
    "expert_observations = np.core.defchararray.replace(expert_observations, ',', ' ')\n",
    "\n",
    "# Reemplazar las comas\n",
    "expert_next_observations = np.core.defchararray.replace(expert_next_observations, ',', ' ')\n",
    "\n",
    "# Crear un nuevo array para almacenar los datos convertidos\n",
    "converted_observations = np.genfromtxt(expert_observations, delimiter=' ', dtype=float)\n",
    "# Crear un nuevo array para almacenar los datos convertidos\n",
    "converted_next_observations = np.genfromtxt(expert_observations, delimiter=' ', dtype=float)\n",
    "\n",
    "\n",
    "rewards=np.array(expert_rewards).reshape(-1,1)\n",
    "\n",
    "\n",
    "print(\"\\n\\tEstados reales: \\n\", converted_observations)\n",
    "print(\"\\tAcciones reales: \\n\", expert_actions)\n",
    "print(\"\\n\\t Estados siguientes: \\n\", converted_next_observations)\n",
    "print(\"\\n\\t Recompensas:\" ,expert_rewards)"
   ]
  },
  {
   "cell_type": "code",
   "execution_count": 74,
   "metadata": {},
   "outputs": [
    {
     "name": "stdout",
     "output_type": "stream",
     "text": [
      "4158\n"
     ]
    }
   ],
   "source": [
    "longitud_trayectoria += np.count_nonzero(expert_num_tray == 5)\n",
    "print(longitud_trayectoria)"
   ]
  },
  {
   "cell_type": "code",
   "execution_count": 75,
   "metadata": {},
   "outputs": [],
   "source": [
    "converted_observations=converted_observations[0:longitud_trayectoria]\n",
    "expert_actions=expert_actions[0:longitud_trayectoria]\n",
    "converted_next_observations=converted_next_observations[0:longitud_trayectoria]\n",
    "expert_rewards=expert_rewards[0:longitud_trayectoria]"
   ]
  },
  {
   "cell_type": "code",
   "execution_count": 76,
   "metadata": {},
   "outputs": [],
   "source": [
    "# Construimos el dataset [s,a,s',r] reales y lo dividimos en training y test\n",
    "expert_a_one_hot=np.eye(env.action_space.n)[expert_actions]\n",
    "expert_rewards = expert_rewards.reshape(-1, 1)\n",
    "\n",
    "dataset1=np.concatenate([converted_observations,expert_a_one_hot],axis=1)\n",
    "dataset2=np.concatenate([dataset1,converted_next_observations],axis=1)\n",
    "dataset=np.concatenate([dataset2,expert_rewards],axis=1)\n"
   ]
  },
  {
   "cell_type": "code",
   "execution_count": 77,
   "metadata": {},
   "outputs": [
    {
     "name": "stdout",
     "output_type": "stream",
     "text": [
      "Nº de (ESTADOS,ACCIONES) en el conjunto de entrenamiento: 3326\n",
      "Nº de (ESTADOS,ACCIONES) en el conjunto de prueba: 832\n"
     ]
    }
   ],
   "source": [
    "#############################################################################\n",
    "# DIVISIÓN TRAIN Y TEST\n",
    "##############################################################################\n",
    "\n",
    "# Divide los datos en conjuntos de entrenamiento y prueba\n",
    "X_train, X_test = train_test_split(dataset, test_size=0.2, random_state=0)\n",
    "\n",
    "\n",
    "#Imprime el número de elementos en el conjuntos de entrenamiento y prueba\n",
    "print('Nº de (ESTADOS,ACCIONES) en el conjunto de entrenamiento:', len(X_train))\n",
    "print('Nº de (ESTADOS,ACCIONES) en el conjunto de prueba:', len(X_test))"
   ]
  },
  {
   "cell_type": "code",
   "execution_count": 78,
   "metadata": {},
   "outputs": [],
   "source": [
    "env= gym.make('LunarLander-v2')\n",
    "obs,_= env.reset()\n",
    "\n",
    "# Generador\n",
    "generator=Policy_net( 'policy', env, obs)\n",
    "\n",
    "# Generamos [s,a, s', r] falsas y las políticas theta_i y theta_i+1\n",
    "observations, actions, next_observations, rewards, Old_Policy, Policy=generator.generate_fakes()\n",
    "\n",
    "# Discriminador\n",
    "discriminator=Discriminator(env, discriminator_net, converted_observations, expert_actions, converted_next_observations, expert_rewards, observations, actions, next_observations, rewards)"
   ]
  },
  {
   "cell_type": "markdown",
   "metadata": {},
   "source": [
    "### Definición de GAIL"
   ]
  },
  {
   "cell_type": "code",
   "execution_count": 79,
   "metadata": {},
   "outputs": [],
   "source": [
    "gan6=GAN(discriminator=discriminator,generator=generator)"
   ]
  },
  {
   "cell_type": "markdown",
   "metadata": {},
   "source": [
    "### Compilación de GAIL"
   ]
  },
  {
   "cell_type": "code",
   "execution_count": 80,
   "metadata": {},
   "outputs": [],
   "source": [
    "tf.config.run_functions_eagerly(True)\n",
    "gan6.compile(\n",
    "    d_optimizer=tf.keras.optimizers.Adam(learning_rate=LEARNING_RATE),\n",
    "    loss_fn_D=loss_fn_D\n",
    ")"
   ]
  },
  {
   "cell_type": "markdown",
   "metadata": {},
   "source": [
    "### Entrenamiento de GAIL"
   ]
  },
  {
   "cell_type": "code",
   "execution_count": 81,
   "metadata": {},
   "outputs": [
    {
     "name": "stdout",
     "output_type": "stream",
     "text": [
      "\n",
      "\n",
      "\n",
      "d_loss= 2.465796\n",
      "\n",
      "g_loss= 3.412959\n",
      " 1/24 [>.............................] - ETA: 4:02:13 - d_loss: 2.4658 - g_loss: 3.4130\n",
      "\n",
      "\n",
      "d_loss= 2.4340496\n",
      "\n",
      "g_loss= 1.7210047\n",
      " 2/24 [=>............................] - ETA: 3:50:36 - d_loss: 2.4499 - g_loss: 2.5670\n",
      "\n",
      "\n",
      "d_loss= 2.463148\n",
      "\n",
      "g_loss= -8.109693\n",
      " 3/24 [==>...........................] - ETA: 3:40:18 - d_loss: 2.4543 - g_loss: -0.9919\n",
      "\n",
      "\n",
      "d_loss= 2.4646087\n",
      "\n",
      "g_loss= 3.50794\n",
      " 4/24 [====>.........................] - ETA: 3:29:59 - d_loss: 2.4569 - g_loss: 0.1331 \n",
      "\n",
      "\n",
      "d_loss= 2.4482203\n",
      "\n",
      "g_loss= 1.6177206\n",
      " 5/24 [=====>........................] - ETA: 3:19:43 - d_loss: 2.4552 - g_loss: 0.4300\n",
      "\n",
      "\n",
      "d_loss= 2.3968487\n",
      "\n",
      "g_loss= -2.7182665\n",
      " 6/24 [======>.......................] - ETA: 3:09:23 - d_loss: 2.4454 - g_loss: -0.0947\n",
      "\n",
      "\n",
      "d_loss= 2.4437656\n",
      "\n",
      "g_loss= -0.18237545\n",
      " 7/24 [=======>......................] - ETA: 2:58:54 - d_loss: 2.4452 - g_loss: -0.1072\n",
      "\n",
      "\n",
      "d_loss= 2.4387355\n",
      "\n",
      "g_loss= 1.130614\n",
      " 8/24 [=========>....................] - ETA: 2:48:22 - d_loss: 2.4444 - g_loss: 0.0475 \n",
      "\n",
      "\n",
      "d_loss= 2.3952916\n",
      "\n",
      "g_loss= 0.28435877\n",
      " 9/24 [==========>...................] - ETA: 2:37:57 - d_loss: 2.4389 - g_loss: 0.0738\n",
      "\n",
      "\n",
      "d_loss= 2.4194052\n",
      "\n",
      "g_loss= -2.8495977\n",
      "10/24 [===========>..................] - ETA: 2:27:27 - d_loss: 2.4370 - g_loss: -0.2185\n",
      "\n",
      "\n",
      "d_loss= 2.3986826\n",
      "\n",
      "g_loss= 0.4619931\n",
      "11/24 [============>.................] - ETA: 2:16:57 - d_loss: 2.4335 - g_loss: -0.1567\n",
      "\n",
      "\n",
      "d_loss= 2.4166086\n",
      "\n",
      "g_loss= -1.2678777\n",
      "12/24 [==============>...............] - ETA: 2:06:26 - d_loss: 2.4321 - g_loss: -0.2493\n",
      "\n",
      "\n",
      "d_loss= 2.4235878\n",
      "\n",
      "g_loss= 0.06616317\n",
      "13/24 [===============>..............] - ETA: 1:55:55 - d_loss: 2.4314 - g_loss: -0.2250\n",
      "\n",
      "\n",
      "d_loss= 2.413566\n",
      "\n",
      "g_loss= -0.22405472\n",
      "14/24 [================>.............] - ETA: 1:45:24 - d_loss: 2.4302 - g_loss: -0.2249\n",
      "\n",
      "\n",
      "d_loss= 2.3872232\n",
      "\n",
      "g_loss= 0.6541224\n",
      "15/24 [=================>............] - ETA: 1:34:53 - d_loss: 2.4273 - g_loss: -0.1663\n",
      "\n",
      "\n",
      "d_loss= 2.3937728\n",
      "\n",
      "g_loss= 1.7897166\n",
      "16/24 [===================>..........] - ETA: 1:24:21 - d_loss: 2.4252 - g_loss: -0.0441\n",
      "\n",
      "\n",
      "d_loss= 2.4365413\n",
      "\n",
      "g_loss= 4.853927\n",
      "17/24 [====================>.........] - ETA: 1:13:49 - d_loss: 2.4259 - g_loss: 0.2440 \n",
      "\n",
      "\n",
      "d_loss= 2.3708377\n",
      "\n",
      "g_loss= -1.9968407\n",
      "18/24 [=====================>........] - ETA: 1:03:16 - d_loss: 2.4228 - g_loss: 0.1195\n",
      "\n",
      "\n",
      "d_loss= 2.332144\n",
      "\n",
      "g_loss= -0.6558223\n",
      "19/24 [======================>.......] - ETA: 52:44 - d_loss: 2.4180 - g_loss: 0.0787  \n",
      "\n",
      "\n",
      "d_loss= 2.3536427\n",
      "\n",
      "g_loss= 1.1352496\n",
      "20/24 [========================>.....] - ETA: 42:11 - d_loss: 2.4148 - g_loss: 0.1316\n",
      "\n",
      "\n",
      "d_loss= 2.3801122\n",
      "\n",
      "g_loss= -3.1728737\n",
      "21/24 [=========================>....] - ETA: 31:38 - d_loss: 2.4132 - g_loss: -0.0258\n",
      "\n",
      "\n",
      "d_loss= 2.380417\n",
      "\n",
      "g_loss= 3.3238273\n",
      "22/24 [==========================>...] - ETA: 21:06 - d_loss: 2.4117 - g_loss: 0.1265 \n",
      "\n",
      "\n",
      "d_loss= 2.3438466\n",
      "\n",
      "g_loss= -0.9256882\n",
      "23/24 [===========================>..] - ETA: 10:33 - d_loss: 2.4087 - g_loss: 0.0807\n",
      "\n",
      "\n",
      "d_loss= 2.3756726\n",
      "\n",
      "g_loss= -3.0908954\n",
      "24/24 [==============================] - 15197s 633s/step - d_loss: 2.4074 - g_loss: -0.0514\n"
     ]
    }
   ],
   "source": [
    "# Deshabilitar los mensajes de información de TensorFlow\n",
    "os.environ['TF_CPP_MIN_LOG_LEVEL'] = '3'\n",
    "\n",
    "# Deshabilitar los mensajes de información de OpenAI Gym\n",
    "gym.logger.set_level(40)\n",
    "\n",
    "\n",
    "BATCH_SIZE=140\n",
    "\n",
    "history=gan6.fit(X_train,\n",
    "    epochs=EPOCHS, batch_size=BATCH_SIZE)\n"
   ]
  },
  {
   "cell_type": "markdown",
   "metadata": {},
   "source": [
    "### Evaluación de GAIL"
   ]
  },
  {
   "cell_type": "code",
   "execution_count": 82,
   "metadata": {},
   "outputs": [
    {
     "name": "stdout",
     "output_type": "stream",
     "text": [
      "1/1 [==============================] - 0s 28ms/step - loss: 0.4553 - accuracy: 0.0000e+00\n",
      "1/1 [==============================] - 0s 18ms/step - loss: 0.4649 - accuracy: 0.0000e+00\n",
      ">Loss real: \n",
      "0.45526251196861267\n",
      ">Loss fake: \n",
      "0.46493685245513916\n"
     ]
    }
   ],
   "source": [
    "# Evaluamos el Discriminador de GAIL en el TEST\n",
    "gan6.evaluate_D(X_test)\n"
   ]
  },
  {
   "cell_type": "code",
   "execution_count": 83,
   "metadata": {},
   "outputs": [
    {
     "name": "stdout",
     "output_type": "stream",
     "text": [
      "Episode  0 Total reward: 49.614992887832585\n",
      "Episode  1 Total reward: -72.26972885802738\n",
      "Episode  2 Total reward: -1.1400129929320286\n",
      "Episode  3 Total reward: -18.385077194727202\n",
      "Episode  4 Total reward: -6.995822928518521\n",
      "Episode  5 Total reward: 110.92016951295429\n",
      "Episode  6 Total reward: -130.3635086843739\n",
      "Episode  7 Total reward: -0.7858132460605276\n",
      "Episode  8 Total reward: -40.41473685176731\n",
      "Episode  9 Total reward: -31.581267810599783\n",
      "Episode  10 Total reward: 15.34487932624259\n",
      "Episode  11 Total reward: 3.698089874608799\n",
      "Episode  12 Total reward: -79.15635246836943\n",
      "Episode  13 Total reward: -39.23973735684007\n",
      "Episode  14 Total reward: -58.13214965139417\n",
      "Episode  15 Total reward: -49.57215285686158\n",
      "Episode  16 Total reward: -20.478109492987286\n",
      "Episode  17 Total reward: 27.165625215278084\n",
      "Episode  18 Total reward: -36.00916876077777\n",
      "Episode  19 Total reward: 13.0681604512951\n",
      "Episode  20 Total reward: -133.57523008968556\n",
      "Episode  21 Total reward: -1.746934585387628\n",
      "Episode  22 Total reward: -12.795349605328468\n",
      "Episode  23 Total reward: 102.63388090127653\n",
      "Episode  24 Total reward: 87.87059865732633\n",
      "Episode  25 Total reward: -57.14341801909505\n",
      "Episode  26 Total reward: 64.17137943354663\n",
      "Episode  27 Total reward: 66.7166699614238\n",
      "Episode  28 Total reward: -10.024555970938465\n",
      "Episode  29 Total reward: 111.987266805772\n",
      "Episode  30 Total reward: -158.06181981014515\n",
      "Episode  31 Total reward: -64.22207820310568\n",
      "Episode  32 Total reward: -55.31604335928439\n",
      "Episode  33 Total reward: -5.687500312828561\n",
      "Episode  34 Total reward: -40.243493229762706\n",
      "Episode  35 Total reward: -10.716237049844736\n",
      "Episode  36 Total reward: -36.383398937356745\n",
      "Episode  37 Total reward: 6.349701585589457\n",
      "Episode  38 Total reward: -2.294233547784799\n",
      "Episode  39 Total reward: -28.13744178529187\n",
      "Episode  40 Total reward: -24.89637428716479\n",
      "Episode  41 Total reward: 41.16293197638896\n",
      "Episode  42 Total reward: 19.325013570828176\n",
      "Episode  43 Total reward: -130.23964079666248\n",
      "Episode  44 Total reward: -54.68818673190492\n",
      "Episode  45 Total reward: 6.558922292638569\n",
      "Episode  46 Total reward: -7.415878312438792\n",
      "Episode  47 Total reward: 1.3979242082820207\n",
      "Episode  48 Total reward: -210.8710478170494\n",
      "Episode  49 Total reward: -31.083383203309296\n"
     ]
    },
    {
     "data": {
      "image/png": "[encoded data removed]",
      "text/plain": [
       "<Figure size 640x480 with 1 Axes>"
      ]
     },
     "metadata": {},
     "output_type": "display_data"
    },
    {
     "name": "stdout",
     "output_type": "stream",
     "text": [
      "\n",
      "Recompensa de Media: -18.64159356294645 \n",
      "\n"
     ]
    }
   ],
   "source": [
    "# Evaluamos al Generador \n",
    "rewardMean=gan6.evaluate_G()\n",
    "print('\\nRecompensa de Media:', rewardMean, '\\n')"
   ]
  },
  {
   "cell_type": "markdown",
   "metadata": {},
   "source": [
    "## Experimento 7"
   ]
  },
  {
   "cell_type": "markdown",
   "metadata": {},
   "source": [
    "### Construcción de base de datos experta con 7 trayectoria "
   ]
  },
  {
   "cell_type": "code",
   "execution_count": 84,
   "metadata": {},
   "outputs": [
    {
     "name": "stdout",
     "output_type": "stream",
     "text": [
      "\n",
      "\tEstados reales: \n",
      " [[-0.00655632  1.412633   -0.6640952  ...  0.15042743  0.\n",
      "   0.        ]\n",
      " [-0.01301994  1.4137701  -0.65149987 ...  0.1017526   0.\n",
      "   0.        ]\n",
      " [-0.01941118  1.414314   -0.6424104  ...  0.06514421  0.\n",
      "   0.        ]\n",
      " ...\n",
      " [-0.46665245 -0.0082029   0.03071342 ...  0.67170596  1.\n",
      "   1.        ]\n",
      " [-0.4661541  -0.01350838  0.02066027 ...  0.635882    1.\n",
      "   1.        ]\n",
      " [-0.46567154 -0.01838761  0.02184356 ...  0.58443296  1.\n",
      "   1.        ]]\n",
      "\tAcciones reales: \n",
      " [3 3 3 ... 0 3 3]\n",
      "\n",
      "\t Estados siguientes: \n",
      " [[-0.00655632  1.412633   -0.6640952  ...  0.15042743  0.\n",
      "   0.        ]\n",
      " [-0.01301994  1.4137701  -0.65149987 ...  0.1017526   0.\n",
      "   0.        ]\n",
      " [-0.01941118  1.414314   -0.6424104  ...  0.06514421  0.\n",
      "   0.        ]\n",
      " ...\n",
      " [-0.46665245 -0.0082029   0.03071342 ...  0.67170596  1.\n",
      "   1.        ]\n",
      " [-0.4661541  -0.01350838  0.02066027 ...  0.635882    1.\n",
      "   1.        ]\n",
      " [-0.46567154 -0.01838761  0.02184356 ...  0.58443296  1.\n",
      "   1.        ]]\n",
      "\n",
      "\t Recompensas: [   0    0    0 ...   -1   -1 -100]\n"
     ]
    }
   ],
   "source": [
    "expert_observations = np.genfromtxt(\"observations_LunarLander.csv\",delimiter=\"\\t\",dtype=str)\n",
    "expert_actions = np.genfromtxt('actions_LunarLander.csv', dtype=np.int32)\n",
    "expert_next_observations = np.genfromtxt('next_observations_LunarLander.csv',delimiter=\"\\t\",dtype=str)\n",
    "expert_rewards = np.genfromtxt('rewards_LunarLander.csv', dtype=np.int32)\n",
    "expert_num_tray=np.genfromtxt('n_trayectoria_LunarLander.csv', dtype=np.int32)\n",
    "\n",
    "# Reemplazar las comas\n",
    "expert_observations = np.core.defchararray.replace(expert_observations, ',', ' ')\n",
    "\n",
    "# Reemplazar las comas\n",
    "expert_next_observations = np.core.defchararray.replace(expert_next_observations, ',', ' ')\n",
    "\n",
    "# Crear un nuevo array para almacenar los datos convertidos\n",
    "converted_observations = np.genfromtxt(expert_observations, delimiter=' ', dtype=float)\n",
    "# Crear un nuevo array para almacenar los datos convertidos\n",
    "converted_next_observations = np.genfromtxt(expert_observations, delimiter=' ', dtype=float)\n",
    "\n",
    "\n",
    "rewards=np.array(expert_rewards).reshape(-1,1)\n",
    "\n",
    "\n",
    "print(\"\\n\\tEstados reales: \\n\", converted_observations)\n",
    "print(\"\\tAcciones reales: \\n\", expert_actions)\n",
    "print(\"\\n\\t Estados siguientes: \\n\", converted_next_observations)\n",
    "print(\"\\n\\t Recompensas:\" ,expert_rewards)"
   ]
  },
  {
   "cell_type": "code",
   "execution_count": 85,
   "metadata": {},
   "outputs": [
    {
     "name": "stdout",
     "output_type": "stream",
     "text": [
      "4680\n"
     ]
    }
   ],
   "source": [
    "longitud_trayectoria += np.count_nonzero(expert_num_tray == 6)\n",
    "print(longitud_trayectoria)"
   ]
  },
  {
   "cell_type": "code",
   "execution_count": 86,
   "metadata": {},
   "outputs": [],
   "source": [
    "converted_observations=converted_observations[0:longitud_trayectoria]\n",
    "expert_actions=expert_actions[0:longitud_trayectoria]\n",
    "converted_next_observations=converted_next_observations[0:longitud_trayectoria]\n",
    "expert_rewards=expert_rewards[0:longitud_trayectoria]"
   ]
  },
  {
   "cell_type": "code",
   "execution_count": 87,
   "metadata": {},
   "outputs": [],
   "source": [
    "# Construimos el dataset [s,a,s',r] reales y lo dividimos en training y test\n",
    "expert_a_one_hot=np.eye(env.action_space.n)[expert_actions]\n",
    "expert_rewards = expert_rewards.reshape(-1, 1)\n",
    "\n",
    "dataset1=np.concatenate([converted_observations,expert_a_one_hot],axis=1)\n",
    "dataset2=np.concatenate([dataset1,converted_next_observations],axis=1)\n",
    "dataset=np.concatenate([dataset2,expert_rewards],axis=1)\n"
   ]
  },
  {
   "cell_type": "code",
   "execution_count": 88,
   "metadata": {},
   "outputs": [
    {
     "name": "stdout",
     "output_type": "stream",
     "text": [
      "Nº de (ESTADOS,ACCIONES) en el conjunto de entrenamiento: 3744\n",
      "Nº de (ESTADOS,ACCIONES) en el conjunto de prueba: 936\n"
     ]
    }
   ],
   "source": [
    "#############################################################################\n",
    "# DIVISIÓN TRAIN Y TEST\n",
    "##############################################################################\n",
    "\n",
    "# Divide los datos en conjuntos de entrenamiento y prueba\n",
    "X_train, X_test = train_test_split(dataset, test_size=0.2, random_state=0)\n",
    "\n",
    "\n",
    "#Imprime el número de elementos en el conjuntos de entrenamiento y prueba\n",
    "print('Nº de (ESTADOS,ACCIONES) en el conjunto de entrenamiento:', len(X_train))\n",
    "print('Nº de (ESTADOS,ACCIONES) en el conjunto de prueba:', len(X_test))"
   ]
  },
  {
   "cell_type": "code",
   "execution_count": 89,
   "metadata": {},
   "outputs": [],
   "source": [
    "env= gym.make('LunarLander-v2')\n",
    "obs,_= env.reset()\n",
    "\n",
    "# Generador\n",
    "generator=Policy_net( 'policy', env, obs)\n",
    "\n",
    "# Generamos [s,a, s', r] falsas y las políticas theta_i y theta_i+1\n",
    "observations, actions, next_observations, rewards, Old_Policy, Policy=generator.generate_fakes()\n",
    "\n",
    "# Discriminador\n",
    "discriminator=Discriminator(env, discriminator_net, converted_observations, expert_actions, converted_next_observations, expert_rewards, observations, actions, next_observations, rewards)"
   ]
  },
  {
   "cell_type": "markdown",
   "metadata": {},
   "source": [
    "### Definición de GAIL"
   ]
  },
  {
   "cell_type": "code",
   "execution_count": 90,
   "metadata": {},
   "outputs": [],
   "source": [
    "gan7=GAN(discriminator=discriminator,generator=generator)"
   ]
  },
  {
   "cell_type": "markdown",
   "metadata": {},
   "source": [
    "### Compilación de GAIL"
   ]
  },
  {
   "cell_type": "code",
   "execution_count": 91,
   "metadata": {},
   "outputs": [],
   "source": [
    "tf.config.run_functions_eagerly(True)\n",
    "gan7.compile(\n",
    "    d_optimizer=tf.keras.optimizers.Adam(learning_rate=LEARNING_RATE),\n",
    "    loss_fn_D=loss_fn_D\n",
    ")"
   ]
  },
  {
   "cell_type": "markdown",
   "metadata": {},
   "source": [
    "### Entrenamiento de GAIL"
   ]
  },
  {
   "cell_type": "code",
   "execution_count": 92,
   "metadata": {},
   "outputs": [
    {
     "name": "stdout",
     "output_type": "stream",
     "text": [
      "\n",
      "\n",
      "\n",
      "d_loss= 2.3759208\n",
      "\n",
      "g_loss= 0.41692293\n",
      " 1/27 [>.............................] - ETA: 4:35:48 - d_loss: 2.3759 - g_loss: 0.4169\n",
      "\n",
      "\n",
      "d_loss= 2.3713899\n",
      "\n",
      "g_loss= 0.061330676\n",
      " 2/27 [=>............................] - ETA: 4:26:13 - d_loss: 2.3737 - g_loss: 0.2391\n",
      "\n",
      "\n",
      "d_loss= 2.3411994\n",
      "\n",
      "g_loss= -4.24168\n",
      " 3/27 [==>...........................] - ETA: 4:16:53 - d_loss: 2.3628 - g_loss: -1.2545\n",
      "\n",
      "\n",
      "d_loss= 2.3650389\n",
      "\n",
      "g_loss= -4.116773\n",
      " 4/27 [===>..........................] - ETA: 4:05:00 - d_loss: 2.3634 - g_loss: -1.9700\n",
      "\n",
      "\n",
      "d_loss= 2.344535\n",
      "\n",
      "g_loss= 2.0137851\n",
      " 5/27 [====>.........................] - ETA: 3:53:31 - d_loss: 2.3596 - g_loss: -1.1733\n",
      "\n",
      "\n",
      "d_loss= 2.3445194\n",
      "\n",
      "g_loss= 0.23508817\n",
      " 6/27 [=====>........................] - ETA: 3:42:39 - d_loss: 2.3571 - g_loss: -0.9386\n",
      "\n",
      "\n",
      "d_loss= 2.3336897\n",
      "\n",
      "g_loss= -0.7506277\n",
      " 7/27 [======>.......................] - ETA: 3:31:55 - d_loss: 2.3538 - g_loss: -0.9117\n",
      "\n",
      "\n",
      "d_loss= 2.2907\n",
      "\n",
      "g_loss= 3.512479\n",
      " 8/27 [=======>......................] - ETA: 3:21:12 - d_loss: 2.3459 - g_loss: -0.3587\n",
      "\n",
      "\n",
      "d_loss= 2.317678\n",
      "\n",
      "g_loss= 0.7655899\n",
      " 9/27 [=========>....................] - ETA: 3:10:31 - d_loss: 2.3427 - g_loss: -0.2338\n",
      "\n",
      "\n",
      "d_loss= 2.3324642\n",
      "\n",
      "g_loss= 0.8238777\n",
      "10/27 [==========>...................] - ETA: 2:59:44 - d_loss: 2.3417 - g_loss: -0.1280\n",
      "\n",
      "\n",
      "d_loss= 2.3286567\n",
      "\n",
      "g_loss= -2.7294614\n",
      "11/27 [===========>..................] - ETA: 2:49:05 - d_loss: 2.3405 - g_loss: -0.3645\n",
      "\n",
      "\n",
      "d_loss= 2.3278036\n",
      "\n",
      "g_loss= 2.5015113\n",
      "12/27 [============>.................] - ETA: 2:38:25 - d_loss: 2.3395 - g_loss: -0.1257\n",
      "\n",
      "\n",
      "d_loss= 2.2478948\n",
      "\n",
      "g_loss= 2.8517458\n",
      "13/27 [=============>................] - ETA: 2:27:52 - d_loss: 2.3324 - g_loss: 0.1034 \n",
      "\n",
      "\n",
      "d_loss= 2.2959833\n",
      "\n",
      "g_loss= 0.86796\n",
      "14/27 [==============>...............] - ETA: 2:17:18 - d_loss: 2.3298 - g_loss: 0.1580\n",
      "\n",
      "\n",
      "d_loss= 2.2831597\n",
      "\n",
      "g_loss= 2.1189604\n",
      "15/27 [===============>..............] - ETA: 2:06:43 - d_loss: 2.3267 - g_loss: 0.2887\n",
      "\n",
      "\n",
      "d_loss= 2.260569\n",
      "\n",
      "g_loss= -3.866289\n",
      "16/27 [================>.............] - ETA: 1:56:09 - d_loss: 2.3226 - g_loss: 0.0290\n",
      "\n",
      "\n",
      "d_loss= 2.285569\n",
      "\n",
      "g_loss= 1.4198632\n",
      "17/27 [=================>............] - ETA: 1:45:30 - d_loss: 2.3204 - g_loss: 0.1108\n",
      "\n",
      "\n",
      "d_loss= 2.304225\n",
      "\n",
      "g_loss= -2.9237065\n",
      "18/27 [===================>..........] - ETA: 1:34:56 - d_loss: 2.3195 - g_loss: -0.0577\n",
      "\n",
      "\n",
      "d_loss= 2.2905085\n",
      "\n",
      "g_loss= -2.1169739\n",
      "19/27 [====================>.........] - ETA: 1:24:25 - d_loss: 2.3180 - g_loss: -0.1661\n",
      "\n",
      "\n",
      "d_loss= 2.302993\n",
      "\n",
      "g_loss= 1.85106\n",
      "20/27 [=====================>........] - ETA: 1:13:54 - d_loss: 2.3172 - g_loss: -0.0653\n",
      "\n",
      "\n",
      "d_loss= 2.2668467\n",
      "\n",
      "g_loss= 2.6205616\n",
      "21/27 [======================>.......] - ETA: 1:03:23 - d_loss: 2.3148 - g_loss: 0.0626 \n",
      "\n",
      "\n",
      "d_loss= 2.288165\n",
      "\n",
      "g_loss= 2.5829577\n",
      "22/27 [=======================>......] - ETA: 52:52 - d_loss: 2.3136 - g_loss: 0.1772  \n",
      "\n",
      "\n",
      "d_loss= 2.227671\n",
      "\n",
      "g_loss= -2.862917\n",
      "23/27 [========================>.....] - ETA: 42:20 - d_loss: 2.3099 - g_loss: 0.0450\n",
      "\n",
      "\n",
      "d_loss= 2.2487824\n",
      "\n",
      "g_loss= 2.3227499\n",
      "24/27 [=========================>....] - ETA: 31:45 - d_loss: 2.3073 - g_loss: 0.1399\n",
      "\n",
      "\n",
      "d_loss= 2.257882\n",
      "\n",
      "g_loss= 4.665134\n",
      "25/27 [==========================>...] - ETA: 21:10 - d_loss: 2.3054 - g_loss: 0.3209\n",
      "\n",
      "\n",
      "d_loss= 2.23868\n",
      "\n",
      "g_loss= 1.2694976\n",
      "26/27 [===========================>..] - ETA: 10:35 - d_loss: 2.3028 - g_loss: 0.3574\n",
      "\n",
      "\n",
      "d_loss= 2.2735837\n",
      "\n",
      "g_loss= 1.3839092\n",
      "27/27 [==============================] - 17149s 635s/step - d_loss: 2.3017 - g_loss: 0.3954\n"
     ]
    }
   ],
   "source": [
    "# Deshabilitar los mensajes de información de TensorFlow\n",
    "os.environ['TF_CPP_MIN_LOG_LEVEL'] = '3'\n",
    "\n",
    "# Deshabilitar los mensajes de información de OpenAI Gym\n",
    "gym.logger.set_level(40)\n",
    "\n",
    "\n",
    "BATCH_SIZE=140\n",
    "\n",
    "history=gan7.fit(X_train,\n",
    "    epochs=EPOCHS, batch_size=BATCH_SIZE)\n"
   ]
  },
  {
   "cell_type": "markdown",
   "metadata": {},
   "source": [
    "### Evaluación de GAIL"
   ]
  },
  {
   "cell_type": "code",
   "execution_count": 93,
   "metadata": {},
   "outputs": [
    {
     "name": "stdout",
     "output_type": "stream",
     "text": [
      "1/1 [==============================] - 0s 20ms/step - loss: 0.3339 - accuracy: 0.0000e+00\n",
      "1/1 [==============================] - 0s 18ms/step - loss: 0.2852 - accuracy: 0.0000e+00\n",
      ">Loss real: \n",
      "0.3338671028614044\n",
      ">Loss fake: \n",
      "0.2852312922477722\n"
     ]
    }
   ],
   "source": [
    "# Evaluamos el Discriminador de GAIL en el TEST\n",
    "gan7.evaluate_D(X_test)\n"
   ]
  },
  {
   "cell_type": "code",
   "execution_count": 94,
   "metadata": {},
   "outputs": [
    {
     "name": "stdout",
     "output_type": "stream",
     "text": [
      "Episode  0 Total reward: -88.370858572964\n",
      "Episode  1 Total reward: -117.04034467417604\n",
      "Episode  2 Total reward: -206.98803273041028\n",
      "Episode  3 Total reward: 45.75899463859486\n",
      "Episode  4 Total reward: -195.70597891581247\n",
      "Episode  5 Total reward: -128.09387532557156\n",
      "Episode  6 Total reward: -42.054682631027006\n",
      "Episode  7 Total reward: 9.743566555436402\n",
      "Episode  8 Total reward: -81.16957064721942\n",
      "Episode  9 Total reward: 20.720311756427513\n",
      "Episode  10 Total reward: 2.940022449135057\n",
      "Episode  11 Total reward: -198.82565477660802\n",
      "Episode  12 Total reward: -172.11147739860922\n",
      "Episode  13 Total reward: 65.68098756501541\n",
      "Episode  14 Total reward: -13.355258798637493\n",
      "Episode  15 Total reward: -216.89313806267484\n",
      "Episode  16 Total reward: 36.04001013991979\n",
      "Episode  17 Total reward: -227.5957654647936\n",
      "Episode  18 Total reward: -48.29967415450177\n",
      "Episode  19 Total reward: -58.25638654399516\n",
      "Episode  20 Total reward: -101.16685405719623\n",
      "Episode  21 Total reward: 31.453382569805864\n",
      "Episode  22 Total reward: -337.2802782632424\n",
      "Episode  23 Total reward: 17.608712228122727\n",
      "Episode  24 Total reward: -58.448158609382276\n",
      "Episode  25 Total reward: -9.814832489905783\n",
      "Episode  26 Total reward: -96.28407032588579\n",
      "Episode  27 Total reward: -6.5589395256707235\n",
      "Episode  28 Total reward: 111.73263578891633\n",
      "Episode  29 Total reward: 28.772977294513435\n",
      "Episode  30 Total reward: -61.142482328323226\n",
      "Episode  31 Total reward: 83.13915860564742\n",
      "Episode  32 Total reward: -50.39655767610655\n",
      "Episode  33 Total reward: -178.99652855538295\n",
      "Episode  34 Total reward: -32.99220013683711\n",
      "Episode  35 Total reward: -200.09239242927003\n",
      "Episode  36 Total reward: -12.250303641375254\n",
      "Episode  37 Total reward: 0.9884671531921612\n",
      "Episode  38 Total reward: -47.67373119527268\n",
      "Episode  39 Total reward: -70.49940475805704\n",
      "Episode  40 Total reward: -37.47123777170805\n",
      "Episode  41 Total reward: -50.20306291417151\n",
      "Episode  42 Total reward: -61.64269458983512\n",
      "Episode  43 Total reward: -15.963765647342655\n",
      "Episode  44 Total reward: -81.94013371340935\n",
      "Episode  45 Total reward: -54.68053353886772\n",
      "Episode  46 Total reward: -51.65141741673239\n",
      "Episode  47 Total reward: -162.05978896742494\n",
      "Episode  48 Total reward: -77.11814771807657\n",
      "Episode  49 Total reward: -93.43636666406329\n"
     ]
    },
    {
     "data": {
      "image/png": "[encoded data removed]",
      "text/plain": [
       "<Figure size 640x480 with 1 Axes>"
      ]
     },
     "metadata": {},
     "output_type": "display_data"
    },
    {
     "name": "stdout",
     "output_type": "stream",
     "text": [
      "\n",
      "Recompensa de Media: -65.79890709771627 \n",
      "\n"
     ]
    }
   ],
   "source": [
    "# Evaluamos al Generador \n",
    "rewardMean=gan7.evaluate_G()\n",
    "print('\\nRecompensa de Media:', rewardMean, '\\n')"
   ]
  },
  {
   "cell_type": "markdown",
   "metadata": {},
   "source": [
    "## Experimento 8"
   ]
  },
  {
   "cell_type": "markdown",
   "metadata": {},
   "source": [
    "### Construcción de base de datos experta con 8 trayectoria "
   ]
  },
  {
   "cell_type": "code",
   "execution_count": 95,
   "metadata": {},
   "outputs": [
    {
     "name": "stdout",
     "output_type": "stream",
     "text": [
      "\n",
      "\tEstados reales: \n",
      " [[-0.00655632  1.412633   -0.6640952  ...  0.15042743  0.\n",
      "   0.        ]\n",
      " [-0.01301994  1.4137701  -0.65149987 ...  0.1017526   0.\n",
      "   0.        ]\n",
      " [-0.01941118  1.414314   -0.6424104  ...  0.06514421  0.\n",
      "   0.        ]\n",
      " ...\n",
      " [-0.46665245 -0.0082029   0.03071342 ...  0.67170596  1.\n",
      "   1.        ]\n",
      " [-0.4661541  -0.01350838  0.02066027 ...  0.635882    1.\n",
      "   1.        ]\n",
      " [-0.46567154 -0.01838761  0.02184356 ...  0.58443296  1.\n",
      "   1.        ]]\n",
      "\tAcciones reales: \n",
      " [3 3 3 ... 0 3 3]\n",
      "\n",
      "\t Estados siguientes: \n",
      " [[-0.00655632  1.412633   -0.6640952  ...  0.15042743  0.\n",
      "   0.        ]\n",
      " [-0.01301994  1.4137701  -0.65149987 ...  0.1017526   0.\n",
      "   0.        ]\n",
      " [-0.01941118  1.414314   -0.6424104  ...  0.06514421  0.\n",
      "   0.        ]\n",
      " ...\n",
      " [-0.46665245 -0.0082029   0.03071342 ...  0.67170596  1.\n",
      "   1.        ]\n",
      " [-0.4661541  -0.01350838  0.02066027 ...  0.635882    1.\n",
      "   1.        ]\n",
      " [-0.46567154 -0.01838761  0.02184356 ...  0.58443296  1.\n",
      "   1.        ]]\n",
      "\n",
      "\t Recompensas: [   0    0    0 ...   -1   -1 -100]\n"
     ]
    }
   ],
   "source": [
    "expert_observations = np.genfromtxt(\"observations_LunarLander.csv\",delimiter=\"\\t\",dtype=str)\n",
    "expert_actions = np.genfromtxt('actions_LunarLander.csv', dtype=np.int32)\n",
    "expert_next_observations = np.genfromtxt('next_observations_LunarLander.csv',delimiter=\"\\t\",dtype=str)\n",
    "expert_rewards = np.genfromtxt('rewards_LunarLander.csv', dtype=np.int32)\n",
    "expert_num_tray=np.genfromtxt('n_trayectoria_LunarLander.csv', dtype=np.int32)\n",
    "\n",
    "# Reemplazar las comas\n",
    "expert_observations = np.core.defchararray.replace(expert_observations, ',', ' ')\n",
    "\n",
    "# Reemplazar las comas\n",
    "expert_next_observations = np.core.defchararray.replace(expert_next_observations, ',', ' ')\n",
    "\n",
    "# Crear un nuevo array para almacenar los datos convertidos\n",
    "converted_observations = np.genfromtxt(expert_observations, delimiter=' ', dtype=float)\n",
    "# Crear un nuevo array para almacenar los datos convertidos\n",
    "converted_next_observations = np.genfromtxt(expert_observations, delimiter=' ', dtype=float)\n",
    "\n",
    "\n",
    "rewards=np.array(expert_rewards).reshape(-1,1)\n",
    "\n",
    "\n",
    "print(\"\\n\\tEstados reales: \\n\", converted_observations)\n",
    "print(\"\\tAcciones reales: \\n\", expert_actions)\n",
    "print(\"\\n\\t Estados siguientes: \\n\", converted_next_observations)\n",
    "print(\"\\n\\t Recompensas:\" ,expert_rewards)"
   ]
  },
  {
   "cell_type": "code",
   "execution_count": 96,
   "metadata": {},
   "outputs": [
    {
     "name": "stdout",
     "output_type": "stream",
     "text": [
      "5314\n"
     ]
    }
   ],
   "source": [
    "longitud_trayectoria += np.count_nonzero(expert_num_tray == 7)\n",
    "print(longitud_trayectoria)"
   ]
  },
  {
   "cell_type": "code",
   "execution_count": 97,
   "metadata": {},
   "outputs": [],
   "source": [
    "converted_observations=converted_observations[0:longitud_trayectoria]\n",
    "expert_actions=expert_actions[0:longitud_trayectoria]\n",
    "converted_next_observations=converted_next_observations[0:longitud_trayectoria]\n",
    "expert_rewards=expert_rewards[0:longitud_trayectoria]"
   ]
  },
  {
   "cell_type": "code",
   "execution_count": 98,
   "metadata": {},
   "outputs": [],
   "source": [
    "# Construimos el dataset [s,a,s',r] reales y lo dividimos en training y test\n",
    "expert_a_one_hot=np.eye(env.action_space.n)[expert_actions]\n",
    "expert_rewards = expert_rewards.reshape(-1, 1)\n",
    "\n",
    "dataset1=np.concatenate([converted_observations,expert_a_one_hot],axis=1)\n",
    "dataset2=np.concatenate([dataset1,converted_next_observations],axis=1)\n",
    "dataset=np.concatenate([dataset2,expert_rewards],axis=1)\n"
   ]
  },
  {
   "cell_type": "code",
   "execution_count": 99,
   "metadata": {},
   "outputs": [
    {
     "name": "stdout",
     "output_type": "stream",
     "text": [
      "Nº de (ESTADOS,ACCIONES) en el conjunto de entrenamiento: 4251\n",
      "Nº de (ESTADOS,ACCIONES) en el conjunto de prueba: 1063\n"
     ]
    }
   ],
   "source": [
    "#############################################################################\n",
    "# DIVISIÓN TRAIN Y TEST\n",
    "##############################################################################\n",
    "\n",
    "# Divide los datos en conjuntos de entrenamiento y prueba\n",
    "X_train, X_test = train_test_split(dataset, test_size=0.2, random_state=0)\n",
    "\n",
    "\n",
    "#Imprime el número de elementos en el conjuntos de entrenamiento y prueba\n",
    "print('Nº de (ESTADOS,ACCIONES) en el conjunto de entrenamiento:', len(X_train))\n",
    "print('Nº de (ESTADOS,ACCIONES) en el conjunto de prueba:', len(X_test))"
   ]
  },
  {
   "cell_type": "code",
   "execution_count": 100,
   "metadata": {},
   "outputs": [],
   "source": [
    "env= gym.make('LunarLander-v2')\n",
    "obs,_= env.reset()\n",
    "\n",
    "# Generador\n",
    "generator=Policy_net( 'policy', env, obs)\n",
    "\n",
    "# Generamos [s,a, s', r] falsas y las políticas theta_i y theta_i+1\n",
    "observations, actions, next_observations, rewards, Old_Policy, Policy=generator.generate_fakes()\n",
    "\n",
    "# Discriminador\n",
    "discriminator=Discriminator(env, discriminator_net, converted_observations, expert_actions, converted_next_observations, expert_rewards, observations, actions, next_observations, rewards)"
   ]
  },
  {
   "cell_type": "markdown",
   "metadata": {},
   "source": [
    "### Definición de GAIL"
   ]
  },
  {
   "cell_type": "code",
   "execution_count": 101,
   "metadata": {},
   "outputs": [],
   "source": [
    "gan8=GAN(discriminator=discriminator,generator=generator)"
   ]
  },
  {
   "cell_type": "markdown",
   "metadata": {},
   "source": [
    "### Compilación de GAIL"
   ]
  },
  {
   "cell_type": "code",
   "execution_count": 102,
   "metadata": {},
   "outputs": [],
   "source": [
    "tf.config.run_functions_eagerly(True)\n",
    "gan8.compile(\n",
    "    d_optimizer=tf.keras.optimizers.Adam(learning_rate=LEARNING_RATE),\n",
    "    loss_fn_D=loss_fn_D\n",
    ")"
   ]
  },
  {
   "cell_type": "markdown",
   "metadata": {},
   "source": [
    "### Entrenamiento de GAIL"
   ]
  },
  {
   "cell_type": "code",
   "execution_count": 103,
   "metadata": {},
   "outputs": [
    {
     "name": "stdout",
     "output_type": "stream",
     "text": [
      "\n",
      "\n",
      "\n",
      "d_loss= 2.248061\n",
      "\n",
      "g_loss= 4.7266197\n",
      " 1/31 [..............................] - ETA: 5:27:47 - d_loss: 2.2481 - g_loss: 4.7266\n",
      "\n",
      "\n",
      "d_loss= 2.2078488\n",
      "\n",
      "g_loss= -3.3087802\n",
      " 2/31 [>.............................] - ETA: 5:14:08 - d_loss: 2.2280 - g_loss: 0.7089\n",
      "\n",
      "\n",
      "d_loss= 2.2051404\n",
      "\n",
      "g_loss= 1.3656416\n",
      " 3/31 [=>............................] - ETA: 5:03:58 - d_loss: 2.2204 - g_loss: 0.9278\n",
      "\n",
      "\n",
      "d_loss= 2.223616\n",
      "\n",
      "g_loss= -1.7462369\n",
      " 4/31 [==>...........................] - ETA: 4:50:31 - d_loss: 2.2212 - g_loss: 0.2593\n",
      "\n",
      "\n",
      "d_loss= 2.1938946\n",
      "\n",
      "g_loss= 0.17841457\n",
      " 5/31 [===>..........................] - ETA: 4:38:08 - d_loss: 2.2157 - g_loss: 0.2431\n",
      "\n",
      "\n",
      "d_loss= 2.2232392\n",
      "\n",
      "g_loss= 0.4615737\n",
      " 6/31 [====>.........................] - ETA: 4:26:26 - d_loss: 2.2170 - g_loss: 0.2795\n",
      "\n",
      "\n",
      "d_loss= 2.241694\n",
      "\n",
      "g_loss= 1.7781186\n",
      " 7/31 [=====>........................] - ETA: 4:15:10 - d_loss: 2.2205 - g_loss: 0.4936\n",
      "\n",
      "\n",
      "d_loss= 2.1758153\n",
      "\n",
      "g_loss= 2.5593588\n",
      " 8/31 [======>.......................] - ETA: 4:04:04 - d_loss: 2.2149 - g_loss: 0.7518\n",
      "\n",
      "\n",
      "d_loss= 2.1497488\n",
      "\n",
      "g_loss= 3.942395\n",
      " 9/31 [=======>......................] - ETA: 3:52:51 - d_loss: 2.2077 - g_loss: 1.1063\n",
      "\n",
      "\n",
      "d_loss= 2.1988873\n",
      "\n",
      "g_loss= -1.8832308\n",
      "10/31 [========>.....................] - ETA: 3:42:25 - d_loss: 2.2068 - g_loss: 0.8074\n",
      "\n",
      "\n",
      "d_loss= 2.1744263\n",
      "\n",
      "g_loss= -1.7272464\n",
      "11/31 [=========>....................] - ETA: 3:31:43 - d_loss: 2.2039 - g_loss: 0.5770\n",
      "\n",
      "\n",
      "d_loss= 2.1615326\n",
      "\n",
      "g_loss= -8.537651\n",
      "12/31 [==========>...................] - ETA: 3:21:06 - d_loss: 2.2003 - g_loss: -0.1826\n",
      "\n",
      "\n",
      "d_loss= 2.1896937\n",
      "\n",
      "g_loss= 2.3611796\n",
      "13/31 [===========>..................] - ETA: 3:10:29 - d_loss: 2.1995 - g_loss: 0.0131 \n",
      "\n",
      "\n",
      "d_loss= 2.166688\n",
      "\n",
      "g_loss= 0.45672435\n",
      "14/31 [============>.................] - ETA: 2:59:50 - d_loss: 2.1972 - g_loss: 0.0448\n",
      "\n",
      "\n",
      "d_loss= 2.1601384\n",
      "\n",
      "g_loss= 1.4498754\n",
      "15/31 [=============>................] - ETA: 2:49:16 - d_loss: 2.1947 - g_loss: 0.1385\n",
      "\n",
      "\n",
      "d_loss= 2.1922493\n",
      "\n",
      "g_loss= -0.88120216\n",
      "16/31 [==============>...............] - ETA: 2:38:36 - d_loss: 2.1945 - g_loss: 0.0747\n",
      "\n",
      "\n",
      "d_loss= 2.1826982\n",
      "\n",
      "g_loss= -1.0234725\n",
      "17/31 [===============>..............] - ETA: 2:27:58 - d_loss: 2.1938 - g_loss: 0.0101\n",
      "\n",
      "\n",
      "d_loss= 2.19265\n",
      "\n",
      "g_loss= 3.4101799\n",
      "18/31 [================>.............] - ETA: 2:17:25 - d_loss: 2.1938 - g_loss: 0.1990\n",
      "\n",
      "\n",
      "d_loss= 2.1353395\n",
      "\n",
      "g_loss= 3.8754213\n",
      "19/31 [=================>............] - ETA: 2:07:03 - d_loss: 2.1907 - g_loss: 0.3925\n",
      "\n",
      "\n",
      "d_loss= 2.166442\n",
      "\n",
      "g_loss= 0.019092428\n",
      "20/31 [==================>...........] - ETA: 1:56:37 - d_loss: 2.1895 - g_loss: 0.3738\n",
      "\n",
      "\n",
      "d_loss= 2.1452603\n",
      "\n",
      "g_loss= 2.1240103\n",
      "21/31 [===================>..........] - ETA: 1:46:00 - d_loss: 2.1874 - g_loss: 0.4572\n",
      "\n",
      "\n",
      "d_loss= 2.1404083\n",
      "\n",
      "g_loss= 0.81741387\n",
      "22/31 [====================>.........] - ETA: 1:35:21 - d_loss: 2.1852 - g_loss: 0.4736\n",
      "\n",
      "\n",
      "d_loss= 2.146093\n",
      "\n",
      "g_loss= 100.99784\n",
      "23/31 [=====================>........] - ETA: 1:24:56 - d_loss: 2.1835 - g_loss: 4.8442\n",
      "\n",
      "\n",
      "d_loss= 2.1545048\n",
      "\n",
      "g_loss= 1.8829161\n",
      "24/31 [======================>.......] - ETA: 1:14:22 - d_loss: 2.1823 - g_loss: 4.7208\n",
      "\n",
      "\n",
      "d_loss= 2.1404452\n",
      "\n",
      "g_loss= -2.1857376\n",
      "25/31 [=======================>......] - ETA: 1:03:45 - d_loss: 2.1807 - g_loss: 4.4445\n",
      "\n",
      "\n",
      "d_loss= 2.1115375\n",
      "\n",
      "g_loss= -3.416032\n",
      "26/31 [========================>.....] - ETA: 53:09 - d_loss: 2.1780 - g_loss: 4.1422  \n",
      "\n",
      "\n",
      "d_loss= 2.1937282\n",
      "\n",
      "g_loss= 3.2481108\n",
      "27/31 [=========================>....] - ETA: 42:32 - d_loss: 2.1786 - g_loss: 4.1091\n",
      "\n",
      "\n",
      "d_loss= 2.1296818\n",
      "\n",
      "g_loss= 0.73981184\n",
      "28/31 [==========================>...] - ETA: 31:56 - d_loss: 2.1768 - g_loss: 3.9888\n",
      "\n",
      "\n",
      "d_loss= 2.0713038\n",
      "\n",
      "g_loss= 0.0067794356\n",
      "29/31 [===========================>..] - ETA: 21:17 - d_loss: 2.1732 - g_loss: 3.8514\n",
      "\n",
      "\n",
      "d_loss= 2.1183672\n",
      "\n",
      "g_loss= 1.8256999\n",
      "30/31 [============================>.] - ETA: 10:39 - d_loss: 2.1714 - g_loss: 3.7839\n",
      "\n",
      "\n",
      "d_loss= 2.1015992\n",
      "\n",
      "g_loss= 1.9628183\n",
      "31/31 [==============================] - 19852s 640s/step - d_loss: 2.1691 - g_loss: 3.7252\n"
     ]
    }
   ],
   "source": [
    "# Deshabilitar los mensajes de información de TensorFlow\n",
    "os.environ['TF_CPP_MIN_LOG_LEVEL'] = '3'\n",
    "\n",
    "# Deshabilitar los mensajes de información de OpenAI Gym\n",
    "gym.logger.set_level(40)\n",
    "\n",
    "\n",
    "BATCH_SIZE=140\n",
    "\n",
    "history=gan8.fit(X_train,\n",
    "    epochs=EPOCHS, batch_size=BATCH_SIZE)\n"
   ]
  },
  {
   "cell_type": "markdown",
   "metadata": {},
   "source": [
    "### Evaluación de GAIL"
   ]
  },
  {
   "cell_type": "code",
   "execution_count": 104,
   "metadata": {},
   "outputs": [
    {
     "name": "stdout",
     "output_type": "stream",
     "text": [
      "1/1 [==============================] - 0s 28ms/step - loss: 0.1989 - accuracy: 0.0000e+00\n",
      "1/1 [==============================] - 0s 18ms/step - loss: 0.1579 - accuracy: 0.0000e+00\n",
      ">Loss real: \n",
      "0.19892017543315887\n",
      ">Loss fake: \n",
      "0.15790076553821564\n"
     ]
    }
   ],
   "source": [
    "# Evaluamos el Discriminador de GAIL en el TEST\n",
    "gan8.evaluate_D(X_test)\n"
   ]
  },
  {
   "cell_type": "code",
   "execution_count": 105,
   "metadata": {},
   "outputs": [
    {
     "name": "stdout",
     "output_type": "stream",
     "text": [
      "Episode  0 Total reward: -13.761561552140403\n",
      "Episode  1 Total reward: -47.53269582455425\n",
      "Episode  2 Total reward: -215.98041765896144\n",
      "Episode  3 Total reward: 91.40428488750565\n",
      "Episode  4 Total reward: -46.32231014442836\n",
      "Episode  5 Total reward: -297.0352495265773\n",
      "Episode  6 Total reward: -80.03753948613965\n",
      "Episode  7 Total reward: -41.38495225931935\n",
      "Episode  8 Total reward: 99.16289276110065\n",
      "Episode  9 Total reward: -246.6269219552378\n",
      "Episode  10 Total reward: 21.445958273059517\n",
      "Episode  11 Total reward: 22.531202594726054\n",
      "Episode  12 Total reward: -128.62085156646475\n",
      "Episode  13 Total reward: 62.80160345707594\n",
      "Episode  14 Total reward: 71.5012775994457\n",
      "Episode  15 Total reward: -254.52996840826512\n",
      "Episode  16 Total reward: -60.46902874391471\n",
      "Episode  17 Total reward: -157.01955040684038\n",
      "Episode  18 Total reward: -185.85116851035508\n",
      "Episode  19 Total reward: -10.308644012413154\n",
      "Episode  20 Total reward: 75.7092171616949\n",
      "Episode  21 Total reward: 2.42017257503592\n",
      "Episode  22 Total reward: -0.6567621970353628\n",
      "Episode  23 Total reward: -27.383139155070054\n",
      "Episode  24 Total reward: -76.41234426274804\n",
      "Episode  25 Total reward: -71.06529500530591\n",
      "Episode  26 Total reward: -9.139519463186332\n",
      "Episode  27 Total reward: 48.04752116811274\n",
      "Episode  28 Total reward: -73.37924646811209\n",
      "Episode  29 Total reward: 44.69450941420216\n",
      "Episode  30 Total reward: -88.67896021720748\n",
      "Episode  31 Total reward: 113.2708983564223\n",
      "Episode  32 Total reward: -187.14834506132064\n",
      "Episode  33 Total reward: -73.75085205956191\n",
      "Episode  34 Total reward: 45.06723481208232\n",
      "Episode  35 Total reward: -160.26327702013785\n",
      "Episode  36 Total reward: 6.1466040978545164\n",
      "Episode  37 Total reward: -147.24826215897838\n",
      "Episode  38 Total reward: -203.50022995832185\n",
      "Episode  39 Total reward: -129.17696137877107\n",
      "Episode  40 Total reward: -168.65624058069855\n",
      "Episode  41 Total reward: 114.78469595828071\n",
      "Episode  42 Total reward: 18.507928450691058\n",
      "Episode  43 Total reward: -22.2878978609276\n",
      "Episode  44 Total reward: 47.06216786176982\n",
      "Episode  45 Total reward: -24.229889613557816\n",
      "Episode  46 Total reward: 11.876758342929179\n",
      "Episode  47 Total reward: 51.835358459167225\n",
      "Episode  48 Total reward: 58.121109283599075\n",
      "Episode  49 Total reward: -175.43914111101435\n"
     ]
    },
    {
     "data": {
      "image/png": "[encoded data removed]",
      "text/plain": [
       "<Figure size 640x480 with 1 Axes>"
      ]
     },
     "metadata": {},
     "output_type": "display_data"
    },
    {
     "name": "stdout",
     "output_type": "stream",
     "text": [
      "\n",
      "Recompensa de Media: -48.350116562256225 \n",
      "\n"
     ]
    }
   ],
   "source": [
    "# Evaluamos al Generador \n",
    "rewardMean=gan8.evaluate_G()\n",
    "print('\\nRecompensa de Media:', rewardMean, '\\n')"
   ]
  },
  {
   "cell_type": "markdown",
   "metadata": {},
   "source": [
    "## Experimento 9"
   ]
  },
  {
   "cell_type": "markdown",
   "metadata": {},
   "source": [
    "### Construcción de base de datos experta con 9 trayectoria "
   ]
  },
  {
   "cell_type": "code",
   "execution_count": 106,
   "metadata": {},
   "outputs": [
    {
     "name": "stdout",
     "output_type": "stream",
     "text": [
      "\n",
      "\tEstados reales: \n",
      " [[-0.00655632  1.412633   -0.6640952  ...  0.15042743  0.\n",
      "   0.        ]\n",
      " [-0.01301994  1.4137701  -0.65149987 ...  0.1017526   0.\n",
      "   0.        ]\n",
      " [-0.01941118  1.414314   -0.6424104  ...  0.06514421  0.\n",
      "   0.        ]\n",
      " ...\n",
      " [-0.46665245 -0.0082029   0.03071342 ...  0.67170596  1.\n",
      "   1.        ]\n",
      " [-0.4661541  -0.01350838  0.02066027 ...  0.635882    1.\n",
      "   1.        ]\n",
      " [-0.46567154 -0.01838761  0.02184356 ...  0.58443296  1.\n",
      "   1.        ]]\n",
      "\tAcciones reales: \n",
      " [3 3 3 ... 0 3 3]\n",
      "\n",
      "\t Estados siguientes: \n",
      " [[-0.00655632  1.412633   -0.6640952  ...  0.15042743  0.\n",
      "   0.        ]\n",
      " [-0.01301994  1.4137701  -0.65149987 ...  0.1017526   0.\n",
      "   0.        ]\n",
      " [-0.01941118  1.414314   -0.6424104  ...  0.06514421  0.\n",
      "   0.        ]\n",
      " ...\n",
      " [-0.46665245 -0.0082029   0.03071342 ...  0.67170596  1.\n",
      "   1.        ]\n",
      " [-0.4661541  -0.01350838  0.02066027 ...  0.635882    1.\n",
      "   1.        ]\n",
      " [-0.46567154 -0.01838761  0.02184356 ...  0.58443296  1.\n",
      "   1.        ]]\n",
      "\n",
      "\t Recompensas: [   0    0    0 ...   -1   -1 -100]\n"
     ]
    }
   ],
   "source": [
    "expert_observations = np.genfromtxt(\"observations_LunarLander.csv\",delimiter=\"\\t\",dtype=str)\n",
    "expert_actions = np.genfromtxt('actions_LunarLander.csv', dtype=np.int32)\n",
    "expert_next_observations = np.genfromtxt('next_observations_LunarLander.csv',delimiter=\"\\t\",dtype=str)\n",
    "expert_rewards = np.genfromtxt('rewards_LunarLander.csv', dtype=np.int32)\n",
    "expert_num_tray=np.genfromtxt('n_trayectoria_LunarLander.csv', dtype=np.int32)\n",
    "\n",
    "# Reemplazar las comas\n",
    "expert_observations = np.core.defchararray.replace(expert_observations, ',', ' ')\n",
    "\n",
    "# Reemplazar las comas\n",
    "expert_next_observations = np.core.defchararray.replace(expert_next_observations, ',', ' ')\n",
    "\n",
    "# Crear un nuevo array para almacenar los datos convertidos\n",
    "converted_observations = np.genfromtxt(expert_observations, delimiter=' ', dtype=float)\n",
    "# Crear un nuevo array para almacenar los datos convertidos\n",
    "converted_next_observations = np.genfromtxt(expert_observations, delimiter=' ', dtype=float)\n",
    "\n",
    "\n",
    "rewards=np.array(expert_rewards).reshape(-1,1)\n",
    "\n",
    "\n",
    "print(\"\\n\\tEstados reales: \\n\", converted_observations)\n",
    "print(\"\\tAcciones reales: \\n\", expert_actions)\n",
    "print(\"\\n\\t Estados siguientes: \\n\", converted_next_observations)\n",
    "print(\"\\n\\t Recompensas:\" ,expert_rewards)"
   ]
  },
  {
   "cell_type": "code",
   "execution_count": 107,
   "metadata": {},
   "outputs": [
    {
     "name": "stdout",
     "output_type": "stream",
     "text": [
      "5799\n"
     ]
    }
   ],
   "source": [
    "longitud_trayectoria += np.count_nonzero(expert_num_tray == 8)\n",
    "print(longitud_trayectoria)"
   ]
  },
  {
   "cell_type": "code",
   "execution_count": 108,
   "metadata": {},
   "outputs": [],
   "source": [
    "converted_observations=converted_observations[0:longitud_trayectoria]\n",
    "expert_actions=expert_actions[0:longitud_trayectoria]\n",
    "converted_next_observations=converted_next_observations[0:longitud_trayectoria]\n",
    "expert_rewards=expert_rewards[0:longitud_trayectoria]"
   ]
  },
  {
   "cell_type": "code",
   "execution_count": 109,
   "metadata": {},
   "outputs": [],
   "source": [
    "# Construimos el dataset [s,a,s',r] reales y lo dividimos en training y test\n",
    "expert_a_one_hot=np.eye(env.action_space.n)[expert_actions]\n",
    "expert_rewards = expert_rewards.reshape(-1, 1)\n",
    "\n",
    "dataset1=np.concatenate([converted_observations,expert_a_one_hot],axis=1)\n",
    "dataset2=np.concatenate([dataset1,converted_next_observations],axis=1)\n",
    "dataset=np.concatenate([dataset2,expert_rewards],axis=1)\n"
   ]
  },
  {
   "cell_type": "code",
   "execution_count": 110,
   "metadata": {},
   "outputs": [
    {
     "name": "stdout",
     "output_type": "stream",
     "text": [
      "Nº de (ESTADOS,ACCIONES) en el conjunto de entrenamiento: 4639\n",
      "Nº de (ESTADOS,ACCIONES) en el conjunto de prueba: 1160\n"
     ]
    }
   ],
   "source": [
    "#############################################################################\n",
    "# DIVISIÓN TRAIN Y TEST\n",
    "##############################################################################\n",
    "\n",
    "# Divide los datos en conjuntos de entrenamiento y prueba\n",
    "X_train, X_test = train_test_split(dataset, test_size=0.2, random_state=0)\n",
    "\n",
    "\n",
    "#Imprime el número de elementos en el conjuntos de entrenamiento y prueba\n",
    "print('Nº de (ESTADOS,ACCIONES) en el conjunto de entrenamiento:', len(X_train))\n",
    "print('Nº de (ESTADOS,ACCIONES) en el conjunto de prueba:', len(X_test))"
   ]
  },
  {
   "cell_type": "code",
   "execution_count": 111,
   "metadata": {},
   "outputs": [],
   "source": [
    "env= gym.make('LunarLander-v2')\n",
    "obs,_= env.reset()\n",
    "\n",
    "# Generador\n",
    "generator=Policy_net( 'policy', env, obs)\n",
    "\n",
    "# Generamos [s,a, s', r] falsas y las políticas theta_i y theta_i+1\n",
    "observations, actions, next_observations, rewards, Old_Policy, Policy=generator.generate_fakes()\n",
    "\n",
    "# Discriminador\n",
    "discriminator=Discriminator(env, discriminator_net, converted_observations, expert_actions, converted_next_observations, expert_rewards, observations, actions, next_observations, rewards)"
   ]
  },
  {
   "cell_type": "markdown",
   "metadata": {},
   "source": [
    "### Definición de GAIL"
   ]
  },
  {
   "cell_type": "code",
   "execution_count": 112,
   "metadata": {},
   "outputs": [],
   "source": [
    "gan9=GAN(discriminator=discriminator,generator=generator)"
   ]
  },
  {
   "cell_type": "markdown",
   "metadata": {},
   "source": [
    "### Compilación de GAIL"
   ]
  },
  {
   "cell_type": "code",
   "execution_count": 113,
   "metadata": {},
   "outputs": [],
   "source": [
    "tf.config.run_functions_eagerly(True)\n",
    "gan9.compile(\n",
    "    d_optimizer=tf.keras.optimizers.Adam(learning_rate=LEARNING_RATE),\n",
    "    loss_fn_D=loss_fn_D\n",
    ")"
   ]
  },
  {
   "cell_type": "markdown",
   "metadata": {},
   "source": [
    "### Entrenamiento de GAIL"
   ]
  },
  {
   "cell_type": "code",
   "execution_count": 114,
   "metadata": {},
   "outputs": [
    {
     "name": "stdout",
     "output_type": "stream",
     "text": [
      "\n",
      "\n",
      "\n",
      "d_loss= 2.124025\n",
      "\n",
      "g_loss= 0.28816265\n",
      " 1/34 [..............................] - ETA: 5:55:17 - d_loss: 2.1240 - g_loss: 0.2882\n",
      "\n",
      "\n",
      "d_loss= 2.1034985\n",
      "\n",
      "g_loss= 2.4307163\n",
      " 2/34 [>.............................] - ETA: 5:44:01 - d_loss: 2.1138 - g_loss: 1.3594\n",
      "\n",
      "\n",
      "d_loss= 2.0511787\n",
      "\n",
      "g_loss= 1.5543396\n",
      " 3/34 [=>............................] - ETA: 5:32:00 - d_loss: 2.0929 - g_loss: 1.4244\n",
      "\n",
      "\n",
      "d_loss= 2.1163745\n",
      "\n",
      "g_loss= 0.64371765\n",
      " 4/34 [==>...........................] - ETA: 5:20:46 - d_loss: 2.0988 - g_loss: 1.2292\n",
      "\n",
      "\n",
      "d_loss= 2.102485\n",
      "\n",
      "g_loss= -0.043194193\n",
      " 5/34 [===>..........................] - ETA: 5:11:36 - d_loss: 2.0995 - g_loss: 0.9747\n",
      "\n",
      "\n",
      "d_loss= 2.065818\n",
      "\n",
      "g_loss= 2.3824124\n",
      " 6/34 [====>.........................] - ETA: 5:01:53 - d_loss: 2.0939 - g_loss: 1.2094\n",
      "\n",
      "\n",
      "d_loss= 2.0884707\n",
      "\n",
      "g_loss= 2.5593297\n",
      " 7/34 [=====>........................] - ETA: 4:51:21 - d_loss: 2.0931 - g_loss: 1.4022\n",
      "\n",
      "\n",
      "d_loss= 2.0788853\n",
      "\n",
      "g_loss= -0.9396035\n",
      " 8/34 [======>.......................] - ETA: 4:40:37 - d_loss: 2.0913 - g_loss: 1.1095\n",
      "\n",
      "\n",
      "d_loss= 2.057901\n",
      "\n",
      "g_loss= -0.02753197\n",
      " 9/34 [======>.......................] - ETA: 4:29:58 - d_loss: 2.0876 - g_loss: 0.9831\n",
      "\n",
      "\n",
      "d_loss= 2.0422137\n",
      "\n",
      "g_loss= -0.4338756\n",
      "10/34 [=======>......................] - ETA: 4:18:58 - d_loss: 2.0831 - g_loss: 0.8414\n",
      "\n",
      "\n",
      "d_loss= 2.0754526\n",
      "\n",
      "g_loss= 0.089141466\n",
      "11/34 [========>.....................] - ETA: 4:08:14 - d_loss: 2.0824 - g_loss: 0.7731\n",
      "\n",
      "\n",
      "d_loss= 2.0503557\n",
      "\n",
      "g_loss= -15.712077\n",
      "12/34 [=========>....................] - ETA: 3:57:30 - d_loss: 2.0797 - g_loss: -0.6007\n",
      "\n",
      "\n",
      "d_loss= 2.0550907\n",
      "\n",
      "g_loss= -2.4680195\n",
      "13/34 [==========>...................] - ETA: 3:46:51 - d_loss: 2.0778 - g_loss: -0.7443\n",
      "\n",
      "\n",
      "d_loss= 2.0127769\n",
      "\n",
      "g_loss= 0.47479075\n",
      "14/34 [===========>..................] - ETA: 3:36:20 - d_loss: 2.0732 - g_loss: -0.6573\n",
      "\n",
      "\n",
      "d_loss= 2.0341823\n",
      "\n",
      "g_loss= 1.5240264\n",
      "15/34 [============>.................] - ETA: 3:25:30 - d_loss: 2.0706 - g_loss: -0.5118\n",
      "\n",
      "\n",
      "d_loss= 2.0439951\n",
      "\n",
      "g_loss= 0.04215986\n",
      "16/34 [=============>................] - ETA: 3:14:38 - d_loss: 2.0689 - g_loss: -0.4772\n",
      "\n",
      "\n",
      "d_loss= 2.0328414\n",
      "\n",
      "g_loss= -4.444429\n",
      "17/34 [==============>...............] - ETA: 3:03:48 - d_loss: 2.0668 - g_loss: -0.7106\n",
      "\n",
      "\n",
      "d_loss= 2.0279815\n",
      "\n",
      "g_loss= -11.622172\n",
      "18/34 [==============>...............] - ETA: 2:52:43 - d_loss: 2.0646 - g_loss: -1.3168\n",
      "\n",
      "\n",
      "d_loss= 2.0273056\n",
      "\n",
      "g_loss= -0.23062848\n",
      "19/34 [===============>..............] - ETA: 2:41:43 - d_loss: 2.0627 - g_loss: -1.2596\n",
      "\n",
      "\n",
      "d_loss= 1.9902356\n",
      "\n",
      "g_loss= 2.7396958\n",
      "20/34 [================>.............] - ETA: 2:30:46 - d_loss: 2.0591 - g_loss: -1.0597\n",
      "\n",
      "\n",
      "d_loss= 2.0203207\n",
      "\n",
      "g_loss= -0.26462814\n",
      "21/34 [=================>............] - ETA: 2:19:49 - d_loss: 2.0572 - g_loss: -1.0218\n",
      "\n",
      "\n",
      "d_loss= 2.0561879\n",
      "\n",
      "g_loss= -0.7353615\n",
      "22/34 [==================>...........] - ETA: 2:08:55 - d_loss: 2.0572 - g_loss: -1.0088\n",
      "\n",
      "\n",
      "d_loss= 1.9758389\n",
      "\n",
      "g_loss= 2.284886\n",
      "23/34 [===================>..........] - ETA: 1:58:04 - d_loss: 2.0536 - g_loss: -0.8656\n",
      "\n",
      "\n",
      "d_loss= 1.9783962\n",
      "\n",
      "g_loss= 2.672988\n",
      "24/34 [====================>.........] - ETA: 1:47:13 - d_loss: 2.0505 - g_loss: -0.7181\n",
      "\n",
      "\n",
      "d_loss= 1.9862187\n",
      "\n",
      "g_loss= 1.9047462\n",
      "25/34 [=====================>........] - ETA: 1:36:25 - d_loss: 2.0479 - g_loss: -0.6132\n",
      "\n",
      "\n",
      "d_loss= 2.020626\n",
      "\n",
      "g_loss= 1.8529594\n",
      "26/34 [=====================>........] - ETA: 1:25:40 - d_loss: 2.0469 - g_loss: -0.5184\n",
      "\n",
      "\n",
      "d_loss= 2.0006063\n",
      "\n",
      "g_loss= 1.5705225\n",
      "27/34 [======================>.......] - ETA: 1:14:55 - d_loss: 2.0452 - g_loss: -0.4410\n",
      "\n",
      "\n",
      "d_loss= 1.986514\n",
      "\n",
      "g_loss= 1.5137688\n",
      "28/34 [=======================>......] - ETA: 1:04:10 - d_loss: 2.0431 - g_loss: -0.3712\n",
      "\n",
      "\n",
      "d_loss= 2.0106847\n",
      "\n",
      "g_loss= 0.5484388\n",
      "29/34 [========================>.....] - ETA: 53:27 - d_loss: 2.0419 - g_loss: -0.3395  \n",
      "\n",
      "\n",
      "d_loss= 1.9816011\n",
      "\n",
      "g_loss= -0.47660825\n",
      "30/34 [=========================>....] - ETA: 42:44 - d_loss: 2.0399 - g_loss: -0.3440\n",
      "\n",
      "\n",
      "d_loss= 2.0023048\n",
      "\n",
      "g_loss= 0.19864923\n",
      "31/34 [==========================>...] - ETA: 32:02 - d_loss: 2.0387 - g_loss: -0.3265\n",
      "\n",
      "\n",
      "d_loss= 1.9907104\n",
      "\n",
      "g_loss= -3.8019118\n",
      "32/34 [===========================>..] - ETA: 21:21 - d_loss: 2.0372 - g_loss: -0.4351\n",
      "\n",
      "\n",
      "d_loss= 2.001029\n",
      "\n",
      "g_loss= -0.7379938\n",
      "33/34 [============================>.] - ETA: 10:40 - d_loss: 2.0361 - g_loss: -0.4443\n",
      "\n",
      "\n",
      "d_loss= 1.9742085\n",
      "\n",
      "g_loss= 2.439185\n",
      "34/34 [==============================] - 21773s 640s/step - d_loss: 2.0343 - g_loss: -0.3595\n"
     ]
    }
   ],
   "source": [
    "# Deshabilitar los mensajes de información de TensorFlow\n",
    "os.environ['TF_CPP_MIN_LOG_LEVEL'] = '3'\n",
    "\n",
    "# Deshabilitar los mensajes de información de OpenAI Gym\n",
    "gym.logger.set_level(40)\n",
    "\n",
    "\n",
    "BATCH_SIZE=140\n",
    "\n",
    "history=gan9.fit(X_train,\n",
    "    epochs=EPOCHS, batch_size=BATCH_SIZE)\n"
   ]
  },
  {
   "cell_type": "markdown",
   "metadata": {},
   "source": [
    "### Evaluación de GAIL"
   ]
  },
  {
   "cell_type": "code",
   "execution_count": 115,
   "metadata": {},
   "outputs": [
    {
     "name": "stdout",
     "output_type": "stream",
     "text": [
      "1/1 [==============================] - 0s 20ms/step - loss: 0.0854 - accuracy: 0.0000e+00\n",
      "1/1 [==============================] - 0s 18ms/step - loss: 0.0627 - accuracy: 0.0000e+00\n",
      ">Loss real: \n",
      "0.08535801619291306\n",
      ">Loss fake: \n",
      "0.06273077428340912\n"
     ]
    }
   ],
   "source": [
    "# Evaluamos el Discriminador de GAIL en el TEST\n",
    "gan9.evaluate_D(X_test)\n"
   ]
  },
  {
   "cell_type": "code",
   "execution_count": 116,
   "metadata": {},
   "outputs": [
    {
     "name": "stdout",
     "output_type": "stream",
     "text": [
      "Episode  0 Total reward: -176.32281844857607\n",
      "Episode  1 Total reward: -46.57658499256178\n",
      "Episode  2 Total reward: -98.41151142594204\n",
      "Episode  3 Total reward: -24.270210490864404\n",
      "Episode  4 Total reward: -37.611496613321044\n",
      "Episode  5 Total reward: -82.18980509758322\n",
      "Episode  6 Total reward: -37.35703946691674\n",
      "Episode  7 Total reward: -55.44536238726768\n",
      "Episode  8 Total reward: -69.79560368106424\n",
      "Episode  9 Total reward: 48.98902068517353\n",
      "Episode  10 Total reward: -42.99314865525378\n",
      "Episode  11 Total reward: -43.13733042719538\n",
      "Episode  12 Total reward: -206.49067595611754\n",
      "Episode  13 Total reward: -117.2679796747916\n",
      "Episode  14 Total reward: 21.093277601675084\n",
      "Episode  15 Total reward: -125.75721519447487\n",
      "Episode  16 Total reward: -58.52604795079196\n",
      "Episode  17 Total reward: 48.58778289449566\n",
      "Episode  18 Total reward: -62.798097491528324\n",
      "Episode  19 Total reward: 30.18009317957936\n",
      "Episode  20 Total reward: -33.170172103976\n",
      "Episode  21 Total reward: -32.2768002288673\n",
      "Episode  22 Total reward: -27.0991273504473\n",
      "Episode  23 Total reward: -63.155477971864485\n",
      "Episode  24 Total reward: -39.308089147576126\n",
      "Episode  25 Total reward: 22.193823991765356\n",
      "Episode  26 Total reward: -52.41107727393491\n",
      "Episode  27 Total reward: -45.649621319638015\n",
      "Episode  28 Total reward: 14.244829309373984\n",
      "Episode  29 Total reward: -62.086243488797436\n",
      "Episode  30 Total reward: -90.8791236697947\n",
      "Episode  31 Total reward: -137.54404967925436\n",
      "Episode  32 Total reward: -98.77431565545552\n",
      "Episode  33 Total reward: 34.56155452882999\n",
      "Episode  34 Total reward: 7.508892225141011\n",
      "Episode  35 Total reward: 28.39696511375945\n",
      "Episode  36 Total reward: 11.677297002559385\n",
      "Episode  37 Total reward: -168.3766303806504\n",
      "Episode  38 Total reward: -34.814492953355\n",
      "Episode  39 Total reward: -6.7401319927515715\n",
      "Episode  40 Total reward: -172.03562567952645\n",
      "Episode  41 Total reward: 44.38033089163466\n",
      "Episode  42 Total reward: -138.80336713079942\n",
      "Episode  43 Total reward: 9.47083767198886\n",
      "Episode  44 Total reward: -88.20135130833329\n",
      "Episode  45 Total reward: -36.464773027843236\n",
      "Episode  46 Total reward: -35.52558015607952\n",
      "Episode  47 Total reward: -123.88580039297277\n",
      "Episode  48 Total reward: -26.860505169208047\n",
      "Episode  49 Total reward: -46.185935237659976\n"
     ]
    },
    {
     "data": {
      "image/png": "[encoded data removed]",
      "text/plain": [
       "<Figure size 640x480 with 1 Axes>"
      ]
     },
     "metadata": {},
     "output_type": "display_data"
    },
    {
     "name": "stdout",
     "output_type": "stream",
     "text": [
      "\n",
      "Recompensa de Media: -50.4782902835412 \n",
      "\n"
     ]
    }
   ],
   "source": [
    "# Evaluamos al Generador \n",
    "rewardMean=gan9.evaluate_G()\n",
    "print('\\nRecompensa de Media:', rewardMean, '\\n')"
   ]
  },
  {
   "cell_type": "markdown",
   "metadata": {},
   "source": [
    "## Experimento 10"
   ]
  },
  {
   "cell_type": "markdown",
   "metadata": {},
   "source": [
    "### Construcción de base de datos experta con 10 trayectoria "
   ]
  },
  {
   "cell_type": "code",
   "execution_count": 117,
   "metadata": {},
   "outputs": [
    {
     "name": "stdout",
     "output_type": "stream",
     "text": [
      "\n",
      "\tEstados reales: \n",
      " [[-0.00655632  1.412633   -0.6640952  ...  0.15042743  0.\n",
      "   0.        ]\n",
      " [-0.01301994  1.4137701  -0.65149987 ...  0.1017526   0.\n",
      "   0.        ]\n",
      " [-0.01941118  1.414314   -0.6424104  ...  0.06514421  0.\n",
      "   0.        ]\n",
      " ...\n",
      " [-0.46665245 -0.0082029   0.03071342 ...  0.67170596  1.\n",
      "   1.        ]\n",
      " [-0.4661541  -0.01350838  0.02066027 ...  0.635882    1.\n",
      "   1.        ]\n",
      " [-0.46567154 -0.01838761  0.02184356 ...  0.58443296  1.\n",
      "   1.        ]]\n",
      "\tAcciones reales: \n",
      " [3 3 3 ... 0 3 3]\n",
      "\n",
      "\t Estados siguientes: \n",
      " [[-0.00655632  1.412633   -0.6640952  ...  0.15042743  0.\n",
      "   0.        ]\n",
      " [-0.01301994  1.4137701  -0.65149987 ...  0.1017526   0.\n",
      "   0.        ]\n",
      " [-0.01941118  1.414314   -0.6424104  ...  0.06514421  0.\n",
      "   0.        ]\n",
      " ...\n",
      " [-0.46665245 -0.0082029   0.03071342 ...  0.67170596  1.\n",
      "   1.        ]\n",
      " [-0.4661541  -0.01350838  0.02066027 ...  0.635882    1.\n",
      "   1.        ]\n",
      " [-0.46567154 -0.01838761  0.02184356 ...  0.58443296  1.\n",
      "   1.        ]]\n",
      "\n",
      "\t Recompensas: [   0    0    0 ...   -1   -1 -100]\n"
     ]
    }
   ],
   "source": [
    "expert_observations = np.genfromtxt(\"observations_LunarLander.csv\",delimiter=\"\\t\",dtype=str)\n",
    "expert_actions = np.genfromtxt('actions_LunarLander.csv', dtype=np.int32)\n",
    "expert_next_observations = np.genfromtxt('next_observations_LunarLander.csv',delimiter=\"\\t\",dtype=str)\n",
    "expert_rewards = np.genfromtxt('rewards_LunarLander.csv', dtype=np.int32)\n",
    "expert_num_tray=np.genfromtxt('n_trayectoria_LunarLander.csv', dtype=np.int32)\n",
    "\n",
    "# Reemplazar las comas\n",
    "expert_observations = np.core.defchararray.replace(expert_observations, ',', ' ')\n",
    "\n",
    "# Reemplazar las comas\n",
    "expert_next_observations = np.core.defchararray.replace(expert_next_observations, ',', ' ')\n",
    "\n",
    "# Crear un nuevo array para almacenar los datos convertidos\n",
    "converted_observations = np.genfromtxt(expert_observations, delimiter=' ', dtype=float)\n",
    "# Crear un nuevo array para almacenar los datos convertidos\n",
    "converted_next_observations = np.genfromtxt(expert_observations, delimiter=' ', dtype=float)\n",
    "\n",
    "\n",
    "rewards=np.array(expert_rewards).reshape(-1,1)\n",
    "\n",
    "\n",
    "print(\"\\n\\tEstados reales: \\n\", converted_observations)\n",
    "print(\"\\tAcciones reales: \\n\", expert_actions)\n",
    "print(\"\\n\\t Estados siguientes: \\n\", converted_next_observations)\n",
    "print(\"\\n\\t Recompensas:\" ,expert_rewards)"
   ]
  },
  {
   "cell_type": "code",
   "execution_count": 118,
   "metadata": {},
   "outputs": [
    {
     "name": "stdout",
     "output_type": "stream",
     "text": [
      "6310\n"
     ]
    }
   ],
   "source": [
    "longitud_trayectoria += np.count_nonzero(expert_num_tray == 9)\n",
    "print(longitud_trayectoria)"
   ]
  },
  {
   "cell_type": "code",
   "execution_count": 119,
   "metadata": {},
   "outputs": [],
   "source": [
    "converted_observations=converted_observations[0:longitud_trayectoria]\n",
    "expert_actions=expert_actions[0:longitud_trayectoria]\n",
    "converted_next_observations=converted_next_observations[0:longitud_trayectoria]\n",
    "expert_rewards=expert_rewards[0:longitud_trayectoria]"
   ]
  },
  {
   "cell_type": "code",
   "execution_count": 120,
   "metadata": {},
   "outputs": [],
   "source": [
    "# Construimos el dataset [s,a,s',r] reales y lo dividimos en training y test\n",
    "expert_a_one_hot=np.eye(env.action_space.n)[expert_actions]\n",
    "expert_rewards = expert_rewards.reshape(-1, 1)\n",
    "\n",
    "dataset1=np.concatenate([converted_observations,expert_a_one_hot],axis=1)\n",
    "dataset2=np.concatenate([dataset1,converted_next_observations],axis=1)\n",
    "dataset=np.concatenate([dataset2,expert_rewards],axis=1)\n"
   ]
  },
  {
   "cell_type": "code",
   "execution_count": 121,
   "metadata": {},
   "outputs": [
    {
     "name": "stdout",
     "output_type": "stream",
     "text": [
      "Nº de (ESTADOS,ACCIONES) en el conjunto de entrenamiento: 5048\n",
      "Nº de (ESTADOS,ACCIONES) en el conjunto de prueba: 1262\n"
     ]
    }
   ],
   "source": [
    "#############################################################################\n",
    "# DIVISIÓN TRAIN Y TEST\n",
    "##############################################################################\n",
    "\n",
    "# Divide los datos en conjuntos de entrenamiento y prueba\n",
    "X_train, X_test = train_test_split(dataset, test_size=0.2, random_state=0)\n",
    "\n",
    "\n",
    "#Imprime el número de elementos en el conjuntos de entrenamiento y prueba\n",
    "print('Nº de (ESTADOS,ACCIONES) en el conjunto de entrenamiento:', len(X_train))\n",
    "print('Nº de (ESTADOS,ACCIONES) en el conjunto de prueba:', len(X_test))"
   ]
  },
  {
   "cell_type": "code",
   "execution_count": 122,
   "metadata": {},
   "outputs": [],
   "source": [
    "env= gym.make('LunarLander-v2')\n",
    "obs,_= env.reset()\n",
    "\n",
    "# Generador\n",
    "generator=Policy_net( 'policy', env, obs)\n",
    "\n",
    "# Generamos [s,a, s', r] falsas y las políticas theta_i y theta_i+1\n",
    "observations, actions, next_observations, rewards, Old_Policy, Policy=generator.generate_fakes()\n",
    "\n",
    "# Discriminador\n",
    "discriminator=Discriminator(env, discriminator_net, converted_observations, expert_actions, converted_next_observations, expert_rewards, observations, actions, next_observations, rewards)"
   ]
  },
  {
   "cell_type": "markdown",
   "metadata": {},
   "source": [
    "### Definición de GAIL"
   ]
  },
  {
   "cell_type": "code",
   "execution_count": 123,
   "metadata": {},
   "outputs": [],
   "source": [
    "gan10=GAN(discriminator=discriminator,generator=generator)"
   ]
  },
  {
   "cell_type": "markdown",
   "metadata": {},
   "source": [
    "### Compilación de GAIL"
   ]
  },
  {
   "cell_type": "code",
   "execution_count": 124,
   "metadata": {},
   "outputs": [],
   "source": [
    "tf.config.run_functions_eagerly(True)\n",
    "gan10.compile(\n",
    "    d_optimizer=tf.keras.optimizers.Adam(learning_rate=LEARNING_RATE),\n",
    "    loss_fn_D=loss_fn_D\n",
    ")"
   ]
  },
  {
   "cell_type": "markdown",
   "metadata": {},
   "source": [
    "### Entrenamiento de GAIL"
   ]
  },
  {
   "cell_type": "code",
   "execution_count": 125,
   "metadata": {},
   "outputs": [
    {
     "name": "stdout",
     "output_type": "stream",
     "text": [
      "\n",
      "\n",
      "\n",
      "d_loss= 1.9984837\n",
      "\n",
      "g_loss= 1.7866338\n",
      " 1/37 [..............................] - ETA: 6:17:08 - d_loss: 1.9985 - g_loss: 1.7866\n",
      "\n",
      "\n",
      "d_loss= 1.9873598\n",
      "\n",
      "g_loss= 0.6421348\n",
      " 2/37 [>.............................] - ETA: 6:10:20 - d_loss: 1.9929 - g_loss: 1.2144\n",
      "\n",
      "\n",
      "d_loss= 2.0418377\n",
      "\n",
      "g_loss= -4.203281\n",
      " 3/37 [=>............................] - ETA: 5:59:05 - d_loss: 2.0092 - g_loss: -0.5915\n",
      "\n",
      "\n",
      "d_loss= 1.9265338\n",
      "\n",
      "g_loss= 1.676593\n",
      " 4/37 [==>...........................] - ETA: 5:48:45 - d_loss: 1.9886 - g_loss: -0.0245\n",
      "\n",
      "\n",
      "d_loss= 1.9729661\n",
      "\n",
      "g_loss= 5.337543\n",
      " 5/37 [===>..........................] - ETA: 5:37:52 - d_loss: 1.9854 - g_loss: 1.0479 \n",
      "\n",
      "\n",
      "d_loss= 1.9692521\n",
      "\n",
      "g_loss= 0.66150916\n",
      " 6/37 [===>..........................] - ETA: 5:27:40 - d_loss: 1.9827 - g_loss: 0.9835\n",
      "\n",
      "\n",
      "d_loss= 1.9301258\n",
      "\n",
      "g_loss= 1.0141371\n",
      " 7/37 [====>.........................] - ETA: 5:16:59 - d_loss: 1.9752 - g_loss: 0.9879\n",
      "\n",
      "\n",
      "d_loss= 1.9888688\n",
      "\n",
      "g_loss= -2.9833286\n",
      " 8/37 [=====>........................] - ETA: 5:06:35 - d_loss: 1.9769 - g_loss: 0.4915\n",
      "\n",
      "\n",
      "d_loss= 1.9548761\n",
      "\n",
      "g_loss= 0.60837245\n",
      " 9/37 [======>.......................] - ETA: 4:56:12 - d_loss: 1.9745 - g_loss: 0.5045\n",
      "\n",
      "\n",
      "d_loss= 1.9878579\n",
      "\n",
      "g_loss= 0.3058768\n",
      "10/37 [=======>......................] - ETA: 4:45:30 - d_loss: 1.9758 - g_loss: 0.4846\n",
      "\n",
      "\n",
      "d_loss= 2.0278351\n",
      "\n",
      "g_loss= 1.5485649\n",
      "11/37 [=======>......................] - ETA: 4:35:01 - d_loss: 1.9805 - g_loss: 0.5813\n",
      "\n",
      "\n",
      "d_loss= 1.9975146\n",
      "\n",
      "g_loss= -3.0207407\n",
      "12/37 [========>.....................] - ETA: 4:24:25 - d_loss: 1.9820 - g_loss: 0.2812\n",
      "\n",
      "\n",
      "d_loss= 1.9518043\n",
      "\n",
      "g_loss= 0.10497219\n",
      "13/37 [=========>....................] - ETA: 4:13:52 - d_loss: 1.9796 - g_loss: 0.2676\n",
      "\n",
      "\n",
      "d_loss= 1.9693185\n",
      "\n",
      "g_loss= -0.7317386\n",
      "14/37 [==========>...................] - ETA: 4:03:17 - d_loss: 1.9789 - g_loss: 0.1962\n",
      "\n",
      "\n",
      "d_loss= 1.9523194\n",
      "\n",
      "g_loss= -1.5053982\n",
      "15/37 [===========>..................] - ETA: 3:52:39 - d_loss: 1.9771 - g_loss: 0.0828\n",
      "\n",
      "\n",
      "d_loss= 1.9544333\n",
      "\n",
      "g_loss= 0.81066006\n",
      "16/37 [===========>..................] - ETA: 3:42:01 - d_loss: 1.9757 - g_loss: 0.1283\n",
      "\n",
      "\n",
      "d_loss= 1.9726685\n",
      "\n",
      "g_loss= -23.337954\n",
      "17/37 [============>.................] - ETA: 3:31:31 - d_loss: 1.9755 - g_loss: -1.2521\n",
      "\n",
      "\n",
      "d_loss= 1.9607164\n",
      "\n",
      "g_loss= 0.185729\n",
      "18/37 [=============>................] - ETA: 3:20:57 - d_loss: 1.9747 - g_loss: -1.1722\n",
      "\n",
      "\n",
      "d_loss= 1.9353913\n",
      "\n",
      "g_loss= 0.9704948\n",
      "19/37 [==============>...............] - ETA: 3:10:22 - d_loss: 1.9726 - g_loss: -1.0594\n",
      "\n",
      "\n",
      "d_loss= 1.9338177\n",
      "\n",
      "g_loss= -2.1677582\n",
      "20/37 [===============>..............] - ETA: 2:59:51 - d_loss: 1.9707 - g_loss: -1.1148\n",
      "\n",
      "\n",
      "d_loss= 1.9422067\n",
      "\n",
      "g_loss= -0.04151427\n",
      "21/37 [================>.............] - ETA: 2:49:18 - d_loss: 1.9693 - g_loss: -1.0637\n",
      "\n",
      "\n",
      "d_loss= 1.9102213\n",
      "\n",
      "g_loss= -2.0786858\n",
      "22/37 [================>.............] - ETA: 2:38:46 - d_loss: 1.9667 - g_loss: -1.1099\n",
      "\n",
      "\n",
      "d_loss= 1.9436386\n",
      "\n",
      "g_loss= -2.6974645\n",
      "23/37 [=================>............] - ETA: 2:28:12 - d_loss: 1.9657 - g_loss: -1.1789\n",
      "\n",
      "\n",
      "d_loss= 1.9153564\n",
      "\n",
      "g_loss= -0.5030397\n",
      "24/37 [==================>...........] - ETA: 2:17:37 - d_loss: 1.9636 - g_loss: -1.1507\n",
      "\n",
      "\n",
      "d_loss= 1.932644\n",
      "\n",
      "g_loss= 2.822489\n",
      "25/37 [===================>..........] - ETA: 2:07:04 - d_loss: 1.9623 - g_loss: -0.9918\n",
      "\n",
      "\n",
      "d_loss= 1.9190675\n",
      "\n",
      "g_loss= -1.3885255\n",
      "26/37 [====================>.........] - ETA: 1:56:28 - d_loss: 1.9607 - g_loss: -1.0071\n",
      "\n",
      "\n",
      "d_loss= 1.9117185\n",
      "\n",
      "g_loss= -1.8024714\n",
      "27/37 [====================>.........] - ETA: 1:45:52 - d_loss: 1.9588 - g_loss: -1.0365\n",
      "\n",
      "\n",
      "d_loss= 1.9948078\n",
      "\n",
      "g_loss= 1.6216826\n",
      "28/37 [=====================>........] - ETA: 1:35:17 - d_loss: 1.9601 - g_loss: -0.9416\n",
      "\n",
      "\n",
      "d_loss= 1.9153626\n",
      "\n",
      "g_loss= -0.040533513\n",
      "29/37 [======================>.......] - ETA: 1:24:42 - d_loss: 1.9586 - g_loss: -0.9105\n",
      "\n",
      "\n",
      "d_loss= 1.9310956\n",
      "\n",
      "g_loss= -2.6106095\n",
      "30/37 [=======================>......] - ETA: 1:14:07 - d_loss: 1.9577 - g_loss: -0.9672\n",
      "\n",
      "\n",
      "d_loss= 1.9228511\n",
      "\n",
      "g_loss= -21.422548\n",
      "31/37 [========================>.....] - ETA: 1:03:31 - d_loss: 1.9565 - g_loss: -1.6270\n",
      "\n",
      "\n",
      "d_loss= 1.9849153\n",
      "\n",
      "g_loss= 0.7684867\n",
      "32/37 [========================>.....] - ETA: 52:56 - d_loss: 1.9574 - g_loss: -1.5522  \n",
      "\n",
      "\n",
      "d_loss= 1.8986299\n",
      "\n",
      "g_loss= 2.268252\n",
      "33/37 [=========================>....] - ETA: 42:21 - d_loss: 1.9557 - g_loss: -1.4364\n",
      "\n",
      "\n",
      "d_loss= 1.9209015\n",
      "\n",
      "g_loss= 0.6542464\n",
      "34/37 [==========================>...] - ETA: 31:46 - d_loss: 1.9546 - g_loss: -1.3749\n",
      "\n",
      "\n",
      "d_loss= 1.9383779\n",
      "\n",
      "g_loss= 0.8491457\n",
      "35/37 [===========================>..] - ETA: 21:10 - d_loss: 1.9542 - g_loss: -1.3114\n",
      "\n",
      "\n",
      "d_loss= 1.9605625\n",
      "\n",
      "g_loss= -0.5286897\n",
      "36/37 [============================>.] - ETA: 10:35 - d_loss: 1.9543 - g_loss: -1.2896\n",
      "\n",
      "\n",
      "d_loss= 1.929846\n",
      "\n",
      "g_loss= 2.2332613\n",
      "37/37 [==============================] - 23507s 636s/step - d_loss: 1.9537 - g_loss: -1.1944\n"
     ]
    }
   ],
   "source": [
    "# Deshabilitar los mensajes de información de TensorFlow\n",
    "os.environ['TF_CPP_MIN_LOG_LEVEL'] = '3'\n",
    "\n",
    "# Deshabilitar los mensajes de información de OpenAI Gym\n",
    "gym.logger.set_level(40)\n",
    "\n",
    "\n",
    "BATCH_SIZE=140\n",
    "\n",
    "history=gan10.fit(X_train,\n",
    "    epochs=EPOCHS, batch_size=BATCH_SIZE)\n"
   ]
  },
  {
   "cell_type": "markdown",
   "metadata": {},
   "source": [
    "### Evaluación de GAIL"
   ]
  },
  {
   "cell_type": "code",
   "execution_count": 126,
   "metadata": {},
   "outputs": [
    {
     "name": "stdout",
     "output_type": "stream",
     "text": [
      "1/1 [==============================] - 0s 19ms/step - loss: 0.0268 - accuracy: 0.0000e+00\n",
      "1/1 [==============================] - 0s 18ms/step - loss: 0.0100 - accuracy: 0.0000e+00\n",
      ">Loss real: \n",
      "0.02682928554713726\n",
      ">Loss fake: \n",
      "0.009971534833312035\n"
     ]
    }
   ],
   "source": [
    "# Evaluamos el Discriminador de GAIL en el TEST\n",
    "gan10.evaluate_D(X_test)\n"
   ]
  },
  {
   "cell_type": "code",
   "execution_count": 127,
   "metadata": {},
   "outputs": [
    {
     "name": "stdout",
     "output_type": "stream",
     "text": [
      "Episode  0 Total reward: -145.12779922441956\n",
      "Episode  1 Total reward: 34.77909469453763\n",
      "Episode  2 Total reward: -156.9365348623307\n",
      "Episode  3 Total reward: -3.0430803208422503\n",
      "Episode  4 Total reward: -18.135955495962293\n",
      "Episode  5 Total reward: -93.54984317078959\n",
      "Episode  6 Total reward: -234.0998325792682\n",
      "Episode  7 Total reward: -184.14762538580572\n",
      "Episode  8 Total reward: 23.150688651745767\n",
      "Episode  9 Total reward: -116.40344880770112\n",
      "Episode  10 Total reward: 30.12397156497222\n",
      "Episode  11 Total reward: -213.90904863522059\n",
      "Episode  12 Total reward: -135.2581736234472\n",
      "Episode  13 Total reward: -107.53317413119368\n",
      "Episode  14 Total reward: -113.89783943565827\n",
      "Episode  15 Total reward: 12.803259220179086\n",
      "Episode  16 Total reward: 4.539011333393631\n",
      "Episode  17 Total reward: -57.79714178689339\n",
      "Episode  18 Total reward: -166.36978977417488\n",
      "Episode  19 Total reward: -29.269432443139195\n",
      "Episode  20 Total reward: -64.03738236142522\n",
      "Episode  21 Total reward: -163.153096351689\n",
      "Episode  22 Total reward: -105.55265887269373\n",
      "Episode  23 Total reward: 64.3869018840314\n",
      "Episode  24 Total reward: -54.49265118934727\n",
      "Episode  25 Total reward: -264.4020976166329\n",
      "Episode  26 Total reward: -39.32867141062742\n",
      "Episode  27 Total reward: -34.95989012611393\n",
      "Episode  28 Total reward: -76.48796410854123\n",
      "Episode  29 Total reward: -32.524609310129975\n",
      "Episode  30 Total reward: -91.49494119506538\n",
      "Episode  31 Total reward: -55.15959962427766\n",
      "Episode  32 Total reward: -0.7844447606529599\n",
      "Episode  33 Total reward: 20.285973671386287\n",
      "Episode  34 Total reward: -76.38319859718351\n",
      "Episode  35 Total reward: -88.29695181908889\n",
      "Episode  36 Total reward: -76.07211432101303\n",
      "Episode  37 Total reward: 4.185201347469871\n",
      "Episode  38 Total reward: -172.24862554172688\n",
      "Episode  39 Total reward: 2.9278948954195414\n",
      "Episode  40 Total reward: -204.45079819370108\n",
      "Episode  41 Total reward: -94.5352154720187\n",
      "Episode  42 Total reward: -88.46461296465398\n",
      "Episode  43 Total reward: -14.994625384440255\n",
      "Episode  44 Total reward: -60.331659491980346\n",
      "Episode  45 Total reward: -170.36900106933018\n",
      "Episode  46 Total reward: -31.552122459036823\n",
      "Episode  47 Total reward: -225.04544248585654\n",
      "Episode  48 Total reward: -28.711710930047474\n",
      "Episode  49 Total reward: -277.8458286243536\n"
     ]
    },
    {
     "data": {
      "image/png": "[encoded data removed]",
      "text/plain": [
       "<Figure size 640x480 with 1 Axes>"
      ]
     },
     "metadata": {},
     "output_type": "display_data"
    },
    {
     "name": "stdout",
     "output_type": "stream",
     "text": [
      "\n",
      "Recompensa de Media: -83.39953273390678 \n",
      "\n"
     ]
    }
   ],
   "source": [
    "# Evaluamos al Generador \n",
    "rewardMean=gan10.evaluate_G()\n",
    "print('\\nRecompensa de Media:', rewardMean, '\\n')"
   ]
  }
 ],
 "metadata": {
  "kernelspec": {
   "display_name": "luna",
   "language": "python",
   "name": "python3"
  },
  "language_info": {
   "codemirror_mode": {
    "name": "ipython",
    "version": 3
   },
   "file_extension": ".py",
   "mimetype": "text/x-python",
   "name": "python",
   "nbconvert_exporter": "python",
   "pygments_lexer": "ipython3",
   "version": "3.9.19"
  }
 },
 "nbformat": 4,
 "nbformat_minor": 2
}
