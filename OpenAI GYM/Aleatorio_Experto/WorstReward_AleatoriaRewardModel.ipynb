{
 "cells": [
  {
   "cell_type": "code",
   "execution_count": 2,
   "metadata": {},
   "outputs": [],
   "source": [
    "#########################################################################\n",
    "## LIBRERIAS NECESARIAS\n",
    "#########################################################################\n",
    "import gymnasium as gym\n",
    "import csv\n",
    "import numpy as np"
   ]
  },
  {
   "cell_type": "markdown",
   "metadata": {},
   "source": [
    "# CartPole"
   ]
  },
  {
   "cell_type": "code",
   "execution_count": 3,
   "metadata": {},
   "outputs": [],
   "source": [
    "# Definimos el entorno\n",
    "env= gym.make('CartPole-v1')"
   ]
  },
  {
   "cell_type": "markdown",
   "metadata": {},
   "source": [
    "## Peor Acción"
   ]
  },
  {
   "cell_type": "code",
   "execution_count": 3,
   "metadata": {},
   "outputs": [],
   "source": [
    "obs,_=env.reset()\n",
    "\n",
    "truncated=False\n",
    "terminated=False\n",
    "\n",
    "rewards=[]\n",
    "while terminated!= True and truncated!= True:\n",
    "    # La peor acción es siempre mover a la izquierda o derecha\n",
    "    action=1\n",
    "    # Muevo al Agente al siguiente estado\n",
    "    next_obs,reward,terminated,truncated,info=env.step(action)\n",
    "\n",
    "    rewards.append(reward)\n"
   ]
  },
  {
   "cell_type": "code",
   "execution_count": 4,
   "metadata": {},
   "outputs": [
    {
     "name": "stdout",
     "output_type": "stream",
     "text": [
      "\n",
      " Recompensa total:  9.0\n"
     ]
    }
   ],
   "source": [
    "print('\\n Recompensa total: ', sum(rewards))"
   ]
  },
  {
   "cell_type": "markdown",
   "metadata": {},
   "source": [
    "## Agente Aleatorio "
   ]
  },
  {
   "cell_type": "code",
   "execution_count": 4,
   "metadata": {},
   "outputs": [],
   "source": [
    "EPISODES=10"
   ]
  },
  {
   "cell_type": "code",
   "execution_count": 5,
   "metadata": {},
   "outputs": [],
   "source": [
    "expert_observations=[]\n",
    "expert_actions=[]\n",
    "expert_next_observations=[]\n",
    "expert_rewards=[]\n",
    "expert_n_trayectoria=[]\n",
    "\n",
    "env = gym.make('CartPole-v1')\n",
    "\n",
    "\n",
    "expert_observations = 'observations_Aleatorio_CartPole_.csv'\n",
    "expert_actions = 'actions_Aleatorio_CartPole_.csv'\n",
    "expert_next_observations='next_observations_Aleatorio_CartPole_.csv'\n",
    "expert_rewards='rewards_Aleatorio_CartPole_.csv'\n",
    "expert_n_trayectoria='n_trayectoria_Aleatorio_CartPole_.csv'\n",
    "\n",
    "with open(expert_observations, 'w', newline='') as expert_observations_csv:\n",
    "    # Crear el escritor CSV\n",
    "    escritor_csv_obs=csv.writer(expert_observations_csv)\n",
    "    with open(expert_actions, 'w', newline='') as expert_actions_csv:\n",
    "        escritor_csv_act=csv.writer(expert_actions_csv)\n",
    "        with open(expert_next_observations, 'w', newline='') as expert_next_observations_csv:\n",
    "            escritor_csv_next_obs=csv.writer(expert_next_observations_csv)\n",
    "            with open(expert_rewards, 'w', newline='') as expert_rewards_csv:\n",
    "                escritor_csv_reward=csv.writer(expert_rewards_csv)\n",
    "                with open(expert_n_trayectoria, 'w', newline='') as expert_n_trayectoria_csv:\n",
    "                  escritor_csv_n_tray=csv.writer(expert_n_trayectoria_csv)\n",
    "                  for i in range(EPISODES):\n",
    "                      obs, info = env.reset()\n",
    "                      terminated = False\n",
    "                      truncated=False\n",
    "                      while not terminated and not truncated:\n",
    "                          a=env.action_space.sample()   # ACCIÓN ALEATORIA\n",
    "                          obs2, reward, terminated, truncated, info = env.step(a)\n",
    "\n",
    "                          escritor_csv_obs.writerow(obs)\n",
    "\n",
    "                          escritor_csv_act.writerow([a])\n",
    "                          escritor_csv_next_obs.writerow(obs2)\n",
    "                          escritor_csv_reward.writerow([reward])\n",
    "                          escritor_csv_n_tray.writerow([i])\n",
    "                          obs=obs2\n",
    "\n",
    "env.close()"
   ]
  },
  {
   "cell_type": "code",
   "execution_count": 8,
   "metadata": {},
   "outputs": [],
   "source": [
    "expert_num_tray=np.genfromtxt('n_trayectoria_Aleatorio_CartPole_.csv', dtype=np.int32)"
   ]
  },
  {
   "cell_type": "code",
   "execution_count": 9,
   "metadata": {},
   "outputs": [
    {
     "name": "stdout",
     "output_type": "stream",
     "text": [
      "29\n",
      "53\n",
      "25\n",
      "17\n",
      "22\n",
      "14\n",
      "19\n",
      "17\n",
      "16\n",
      "14\n"
     ]
    }
   ],
   "source": [
    "import numpy as np\n",
    "\n",
    "longitud_trayectoria_0 = np.count_nonzero(expert_num_tray == 0)\n",
    "longitud_trayectoria_1 = np.count_nonzero(expert_num_tray == 1)\n",
    "longitud_trayectoria_2 = np.count_nonzero(expert_num_tray == 2)\n",
    "longitud_trayectoria_3 = np.count_nonzero(expert_num_tray == 3)\n",
    "longitud_trayectoria_4 = np.count_nonzero(expert_num_tray == 4)\n",
    "longitud_trayectoria_5 = np.count_nonzero(expert_num_tray == 5)\n",
    "longitud_trayectoria_6 = np.count_nonzero(expert_num_tray== 6)\n",
    "longitud_trayectoria_7 = np.count_nonzero(expert_num_tray == 7)\n",
    "longitud_trayectoria_8 = np.count_nonzero(expert_num_tray== 8)\n",
    "longitud_trayectoria_9 = np.count_nonzero(expert_num_tray== 9)\n",
    "\n",
    "\n",
    "print(longitud_trayectoria_0 )\n",
    "print(longitud_trayectoria_1 )\n",
    "print(longitud_trayectoria_2 )\n",
    "print(longitud_trayectoria_3 )\n",
    "print(longitud_trayectoria_4 )\n",
    "print(longitud_trayectoria_5 )\n",
    "print(longitud_trayectoria_6 )\n",
    "print(longitud_trayectoria_7 )\n",
    "print(longitud_trayectoria_8 )\n",
    "print(longitud_trayectoria_9 )"
   ]
  },
  {
   "cell_type": "code",
   "execution_count": 10,
   "metadata": {},
   "outputs": [
    {
     "name": "stdout",
     "output_type": "stream",
     "text": [
      "29\n",
      "53\n",
      "25\n",
      "17\n",
      "22\n",
      "14\n",
      "19\n",
      "17\n",
      "16\n",
      "14\n"
     ]
    }
   ],
   "source": [
    "expert_rewards=np.genfromtxt('rewards_Aleatorio_CartPole_.csv', dtype=np.int32)\n",
    "print(np.sum(expert_rewards[0:29]))\n",
    "print(np.sum(expert_rewards[29:82]))\n",
    "print(np.sum(expert_rewards[82:107]))\n",
    "print(np.sum(expert_rewards[107:124]))\n",
    "print(np.sum(expert_rewards[124:146]))\n",
    "print(np.sum(expert_rewards[146:160]))\n",
    "print(np.sum(expert_rewards[160: 179]))\n",
    "print(np.sum(expert_rewards[179:196]))\n",
    "print(np.sum(expert_rewards[196:212 ]))\n",
    "print(np.sum(expert_rewards[212 : 226  ]))"
   ]
  },
  {
   "cell_type": "markdown",
   "metadata": {},
   "source": [
    "# Acrobot"
   ]
  },
  {
   "cell_type": "markdown",
   "metadata": {},
   "source": [
    "## Peor acción "
   ]
  },
  {
   "cell_type": "code",
   "execution_count": 11,
   "metadata": {},
   "outputs": [],
   "source": [
    "env = gym.make('Acrobot-v1')"
   ]
  },
  {
   "cell_type": "code",
   "execution_count": 10,
   "metadata": {},
   "outputs": [],
   "source": [
    "obs,_=env.reset()\n",
    "\n",
    "truncated=False\n",
    "terminated=False\n",
    "\n",
    "rewards=[]\n",
    "while terminated!= True and truncated!= True:\n",
    "    # La peor acción es siempre mover a la izquierda o derecha\n",
    "    action=-1\n",
    "    # Muevo al Agente al siguiente estado\n",
    "    next_obs,reward,terminated,truncated,info=env.step(action)\n",
    "\n",
    "    rewards.append(reward)"
   ]
  },
  {
   "cell_type": "code",
   "execution_count": 11,
   "metadata": {},
   "outputs": [
    {
     "name": "stdout",
     "output_type": "stream",
     "text": [
      "\n",
      " Recompensa total:  -500.0\n"
     ]
    }
   ],
   "source": [
    "print('\\n Recompensa total: ', sum(rewards))"
   ]
  },
  {
   "cell_type": "markdown",
   "metadata": {},
   "source": [
    "## Agente Aleatorio "
   ]
  },
  {
   "cell_type": "code",
   "execution_count": 12,
   "metadata": {},
   "outputs": [],
   "source": [
    "EPISODES=10"
   ]
  },
  {
   "cell_type": "code",
   "execution_count": 13,
   "metadata": {},
   "outputs": [],
   "source": [
    "expert_observations=[]\n",
    "expert_actions=[]\n",
    "expert_next_observations=[]\n",
    "expert_rewards=[]\n",
    "expert_n_trayectoria=[]\n",
    "\n",
    "env = gym.make('Acrobot-v1')\n",
    "\n",
    "\n",
    "expert_observations = 'observations_Aleatorio_Acrobot_.csv'\n",
    "expert_actions = 'actions_Aleatorio_Acrobot_.csv'\n",
    "expert_next_observations='next_observations_Aleatorio_Acrobot_.csv'\n",
    "expert_rewards='rewards_Aleatorio_Acrobot_.csv'\n",
    "expert_n_trayectoria='n_trayectoria_Aleatorio_Acrobot_.csv'\n",
    "\n",
    "with open(expert_observations, 'w', newline='') as expert_observations_csv:\n",
    "    # Crear el escritor CSV\n",
    "    escritor_csv_obs=csv.writer(expert_observations_csv)\n",
    "    with open(expert_actions, 'w', newline='') as expert_actions_csv:\n",
    "        escritor_csv_act=csv.writer(expert_actions_csv)\n",
    "        with open(expert_next_observations, 'w', newline='') as expert_next_observations_csv:\n",
    "            escritor_csv_next_obs=csv.writer(expert_next_observations_csv)\n",
    "            with open(expert_rewards, 'w', newline='') as expert_rewards_csv:\n",
    "                escritor_csv_reward=csv.writer(expert_rewards_csv)\n",
    "                with open(expert_n_trayectoria, 'w', newline='') as expert_n_trayectoria_csv:\n",
    "                  escritor_csv_n_tray=csv.writer(expert_n_trayectoria_csv)\n",
    "                  for i in range(EPISODES):\n",
    "                      obs, info = env.reset()\n",
    "                      terminated = False\n",
    "                      truncated=False\n",
    "                      while not terminated and not truncated:\n",
    "                          a=env.action_space.sample()   # ACCIÓN ALEATORIA\n",
    "                          obs2, reward, terminated, truncated, info = env.step(a)\n",
    "\n",
    "                          escritor_csv_obs.writerow(obs)\n",
    "\n",
    "                          escritor_csv_act.writerow([a])\n",
    "                          escritor_csv_next_obs.writerow(obs2)\n",
    "                          escritor_csv_reward.writerow([reward])\n",
    "                          escritor_csv_n_tray.writerow([i])\n",
    "                          obs=obs2\n",
    "\n",
    "env.close()"
   ]
  },
  {
   "cell_type": "code",
   "execution_count": 14,
   "metadata": {},
   "outputs": [],
   "source": [
    "expert_num_tray=np.genfromtxt('n_trayectoria_Aleatorio_Acrobot_.csv', dtype=np.int32)"
   ]
  },
  {
   "cell_type": "code",
   "execution_count": 16,
   "metadata": {},
   "outputs": [
    {
     "name": "stdout",
     "output_type": "stream",
     "text": [
      "500\n",
      "500\n",
      "500\n",
      "500\n",
      "500\n",
      "500\n",
      "500\n",
      "500\n",
      "500\n",
      "500\n"
     ]
    }
   ],
   "source": [
    "import numpy as np\n",
    "\n",
    "longitud_trayectoria_0 = np.count_nonzero(expert_num_tray == 0)\n",
    "longitud_trayectoria_1 = np.count_nonzero(expert_num_tray == 1)\n",
    "longitud_trayectoria_2 = np.count_nonzero(expert_num_tray == 2)\n",
    "longitud_trayectoria_3 = np.count_nonzero(expert_num_tray == 3)\n",
    "longitud_trayectoria_4 = np.count_nonzero(expert_num_tray == 4)\n",
    "longitud_trayectoria_5 = np.count_nonzero(expert_num_tray == 5)\n",
    "longitud_trayectoria_6 = np.count_nonzero(expert_num_tray== 6)\n",
    "longitud_trayectoria_7 = np.count_nonzero(expert_num_tray == 7)\n",
    "longitud_trayectoria_8 = np.count_nonzero(expert_num_tray== 8)\n",
    "longitud_trayectoria_9 = np.count_nonzero(expert_num_tray== 9)\n",
    "\n",
    "\n",
    "print(longitud_trayectoria_0 )\n",
    "print(longitud_trayectoria_1 )\n",
    "print(longitud_trayectoria_2 )\n",
    "print(longitud_trayectoria_3 )\n",
    "print(longitud_trayectoria_4 )\n",
    "print(longitud_trayectoria_5 )\n",
    "print(longitud_trayectoria_6 )\n",
    "print(longitud_trayectoria_7 )\n",
    "print(longitud_trayectoria_8 )\n",
    "print(longitud_trayectoria_9 )"
   ]
  },
  {
   "cell_type": "code",
   "execution_count": 18,
   "metadata": {},
   "outputs": [
    {
     "name": "stdout",
     "output_type": "stream",
     "text": [
      "-500\n",
      "-500\n",
      "-500\n",
      "-500\n",
      "-500\n",
      "-500\n",
      "-500\n",
      "-500\n",
      "-500\n",
      "-500\n"
     ]
    }
   ],
   "source": [
    "expert_rewards=np.genfromtxt('rewards_Aleatorio_Acrobot_.csv', dtype=np.int32)\n",
    "print(np.sum(expert_rewards[0:500]))\n",
    "print(np.sum(expert_rewards[500:1000]))\n",
    "print(np.sum(expert_rewards[1000:1500]))\n",
    "print(np.sum(expert_rewards[1500:2000]))\n",
    "print(np.sum(expert_rewards[2000:2500]))\n",
    "print(np.sum(expert_rewards[2500:3000]))\n",
    "print(np.sum(expert_rewards[3000:3500]))\n",
    "print(np.sum(expert_rewards[3500:4000]))\n",
    "print(np.sum(expert_rewards[4000: 4500 ]))\n",
    "print(np.sum(expert_rewards[ 4500 : 5000  ]))\n"
   ]
  },
  {
   "cell_type": "markdown",
   "metadata": {},
   "source": [
    "# LunarLander"
   ]
  },
  {
   "cell_type": "markdown",
   "metadata": {},
   "source": [
    "## Peor acción: a base de prueba y error, no estoy segura"
   ]
  },
  {
   "cell_type": "code",
   "execution_count": 19,
   "metadata": {},
   "outputs": [],
   "source": [
    "env = gym.make('LunarLander-v2')"
   ]
  },
  {
   "cell_type": "code",
   "execution_count": 56,
   "metadata": {},
   "outputs": [],
   "source": [
    "obs,_=env.reset()\n",
    "\n",
    "truncated=False\n",
    "terminated=False\n",
    "\n",
    "rewards=[]\n",
    "while terminated!= True and truncated!= True:\n",
    "    # La peor acción es siempre mover a la izquierda o derecha\n",
    "    action=3\n",
    "    # Muevo al Agente al siguiente estado\n",
    "    next_obs,reward,terminated,truncated,info=env.step(action)\n",
    "\n",
    "    rewards.append(reward)"
   ]
  },
  {
   "cell_type": "code",
   "execution_count": 57,
   "metadata": {},
   "outputs": [
    {
     "name": "stdout",
     "output_type": "stream",
     "text": [
      "\n",
      " Recompensa total:  -896.2526169153888\n"
     ]
    }
   ],
   "source": [
    "print('\\n Recompensa total: ', sum(rewards))"
   ]
  },
  {
   "cell_type": "markdown",
   "metadata": {},
   "source": [
    "## Agente Aleatorio "
   ]
  },
  {
   "cell_type": "code",
   "execution_count": 20,
   "metadata": {},
   "outputs": [],
   "source": [
    "EPISODES=10"
   ]
  },
  {
   "cell_type": "code",
   "execution_count": 21,
   "metadata": {},
   "outputs": [],
   "source": [
    "expert_observations=[]\n",
    "expert_actions=[]\n",
    "expert_next_observations=[]\n",
    "expert_rewards=[]\n",
    "expert_n_trayectoria=[]\n",
    "\n",
    "env = gym.make('LunarLander-v2')\n",
    "\n",
    "\n",
    "expert_observations = 'observations_Aleatorio_LunarLander_.csv'\n",
    "expert_actions = 'actions_Aleatorio_LunarLander_.csv'\n",
    "expert_next_observations='next_observations_Aleatorio_LunarLander_.csv'\n",
    "expert_rewards='rewards_Aleatorio_LunarLander_.csv'\n",
    "expert_n_trayectoria='n_trayectoria_Aleatorio_LunarLander_.csv'\n",
    "\n",
    "with open(expert_observations, 'w', newline='') as expert_observations_csv:\n",
    "    # Crear el escritor CSV\n",
    "    escritor_csv_obs=csv.writer(expert_observations_csv)\n",
    "    with open(expert_actions, 'w', newline='') as expert_actions_csv:\n",
    "        escritor_csv_act=csv.writer(expert_actions_csv)\n",
    "        with open(expert_next_observations, 'w', newline='') as expert_next_observations_csv:\n",
    "            escritor_csv_next_obs=csv.writer(expert_next_observations_csv)\n",
    "            with open(expert_rewards, 'w', newline='') as expert_rewards_csv:\n",
    "                escritor_csv_reward=csv.writer(expert_rewards_csv)\n",
    "                with open(expert_n_trayectoria, 'w', newline='') as expert_n_trayectoria_csv:\n",
    "                  escritor_csv_n_tray=csv.writer(expert_n_trayectoria_csv)\n",
    "                  for i in range(EPISODES):\n",
    "                      obs, info = env.reset()\n",
    "                      terminated = False\n",
    "                      truncated=False\n",
    "                      while not terminated and not truncated:\n",
    "                          a=env.action_space.sample()   # ACCIÓN ALEATORIA\n",
    "                          obs2, reward, terminated, truncated, info = env.step(a)\n",
    "\n",
    "                          escritor_csv_obs.writerow(obs)\n",
    "\n",
    "                          escritor_csv_act.writerow([a])\n",
    "                          escritor_csv_next_obs.writerow(obs2)\n",
    "                          escritor_csv_reward.writerow([reward])\n",
    "                          escritor_csv_n_tray.writerow([i])\n",
    "                          obs=obs2\n",
    "\n",
    "env.close()"
   ]
  },
  {
   "cell_type": "code",
   "execution_count": 22,
   "metadata": {},
   "outputs": [],
   "source": [
    "expert_num_tray=np.genfromtxt('n_trayectoria_Aleatorio_LunarLander_.csv', dtype=np.int32)"
   ]
  },
  {
   "cell_type": "code",
   "execution_count": 24,
   "metadata": {},
   "outputs": [
    {
     "name": "stdout",
     "output_type": "stream",
     "text": [
      "76\n",
      "81\n",
      "90\n",
      "108\n",
      "98\n",
      "115\n",
      "132\n",
      "79\n",
      "91\n",
      "79\n"
     ]
    }
   ],
   "source": [
    "import numpy as np\n",
    "\n",
    "longitud_trayectoria_0 = np.count_nonzero(expert_num_tray == 0)\n",
    "longitud_trayectoria_1 = np.count_nonzero(expert_num_tray == 1)\n",
    "longitud_trayectoria_2 = np.count_nonzero(expert_num_tray == 2)\n",
    "longitud_trayectoria_3 = np.count_nonzero(expert_num_tray == 3)\n",
    "longitud_trayectoria_4 = np.count_nonzero(expert_num_tray == 4)\n",
    "longitud_trayectoria_5 = np.count_nonzero(expert_num_tray == 5)\n",
    "longitud_trayectoria_6 = np.count_nonzero(expert_num_tray== 6)\n",
    "longitud_trayectoria_7 = np.count_nonzero(expert_num_tray == 7)\n",
    "longitud_trayectoria_8 = np.count_nonzero(expert_num_tray== 8)\n",
    "longitud_trayectoria_9 = np.count_nonzero(expert_num_tray== 9)\n",
    "\n",
    "\n",
    "print(longitud_trayectoria_0 )\n",
    "print(longitud_trayectoria_1 )\n",
    "print(longitud_trayectoria_2 )\n",
    "print(longitud_trayectoria_3 )\n",
    "print(longitud_trayectoria_4 )\n",
    "print(longitud_trayectoria_5 )\n",
    "print(longitud_trayectoria_6 )\n",
    "print(longitud_trayectoria_7 )\n",
    "print(longitud_trayectoria_8 )\n",
    "print(longitud_trayectoria_9 )"
   ]
  },
  {
   "cell_type": "code",
   "execution_count": 25,
   "metadata": {},
   "outputs": [
    {
     "name": "stdout",
     "output_type": "stream",
     "text": [
      "-118\n",
      "-310\n",
      "-183\n",
      "-229\n",
      "-262\n",
      "-296\n",
      "-132\n",
      "-215\n",
      "-330\n",
      "-176\n"
     ]
    }
   ],
   "source": [
    "expert_rewards=np.genfromtxt('rewards_Aleatorio_LunarLander_.csv', dtype=np.int32)\n",
    "print(np.sum(expert_rewards[0:76]))\n",
    "print(np.sum(expert_rewards[76:157]))\n",
    "print(np.sum(expert_rewards[157: 247]))\n",
    "print(np.sum(expert_rewards[247:355]))\n",
    "print(np.sum(expert_rewards[355: 453]))\n",
    "print(np.sum(expert_rewards[453: 568]))\n",
    "print(np.sum(expert_rewards[568 : 700]))\n",
    "print(np.sum(expert_rewards[700 : 779]))\n",
    "print(np.sum(expert_rewards[779:  870 ]))\n",
    "print(np.sum(expert_rewards[ 870 : 949  ]))"
   ]
  }
 ],
 "metadata": {
  "kernelspec": {
   "display_name": "Python 3",
   "language": "python",
   "name": "python3"
  },
  "language_info": {
   "codemirror_mode": {
    "name": "ipython",
    "version": 3
   },
   "file_extension": ".py",
   "mimetype": "text/x-python",
   "name": "python",
   "nbconvert_exporter": "python",
   "pygments_lexer": "ipython3",
   "version": "3.10.12"
  }
 },
 "nbformat": 4,
 "nbformat_minor": 2
}
